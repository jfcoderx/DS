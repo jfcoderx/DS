{
  "nbformat": 4,
  "nbformat_minor": 0,
  "metadata": {
    "colab": {
      "provenance": [],
      "authorship_tag": "ABX9TyMAWKV+GevSWpaKoZXUVIeC",
      "include_colab_link": true
    },
    "kernelspec": {
      "name": "python3",
      "display_name": "Python 3"
    },
    "language_info": {
      "name": "python"
    }
  },
  "cells": [
    {
      "cell_type": "markdown",
      "metadata": {
        "id": "view-in-github",
        "colab_type": "text"
      },
      "source": [
        "<a href=\"https://colab.research.google.com/github/jfcoderx/Data-Sciense/blob/main/8_Mantiqiy_shart.ipynb\" target=\"_parent\"><img src=\"https://colab.research.google.com/assets/colab-badge.svg\" alt=\"Open In Colab\"/></a>"
      ]
    },
    {
      "cell_type": "markdown",
      "source": [
        "## Massivga yo'naltirilgan dasturlash\n",
        "\n",
        "### Mantiqiy shart operatorlarni massiv operator sifatida qollash"
      ],
      "metadata": {
        "id": "Jzgal08JItON"
      }
    },
    {
      "cell_type": "markdown",
      "source": [
        "### Shart operoti sifatida WHERE dan foydalanish\n",
        "\n",
        "### Misol\n",
        "Ikta malumotlar (massivlar) mavjud: XARR va YARR <br>\n",
        "Bizda shart mavjud, undagi elementlar soni XARR va YARR elementlar soni bilan bir xil <br>\n",
        "Agarda shart TRUE ni qanoatlantirsa XARR ni \n",
        "aksincha holda YARR elementlarini qabul qilgan yangi massiv hosil qilinsin"
      ],
      "metadata": {
        "id": "w7MLM5SUJDwG"
      }
    },
    {
      "cell_type": "code",
      "execution_count": 1,
      "metadata": {
        "id": "KmyAWfH0IfG5"
      },
      "outputs": [],
      "source": [
        "import numpy as np"
      ]
    },
    {
      "cell_type": "code",
      "source": [
        "# Massivlar\n",
        "xarr = np.array([1.1, 1.2, 1.3, 1.4, 1.5])\n",
        "yarr = np.array([2.1, 2.2, 2.3, 2.4, 2.5])"
      ],
      "metadata": {
        "id": "_dfgGRYpKny4"
      },
      "execution_count": 2,
      "outputs": []
    },
    {
      "cell_type": "code",
      "source": [
        "# Shart\n",
        "cond = np.array([True, False, True, True, False]) # o'zimiz shunday kiritganmiz\n",
        "# demak cond elementi True bolsa shu elementga mos xarr elementini qabul qilamiz\n",
        "# agar False bolsa shunga mos yarr elementini qabul qilamiz"
      ],
      "metadata": {
        "id": "8v-6af4oLOH5"
      },
      "execution_count": 3,
      "outputs": []
    },
    {
      "cell_type": "code",
      "source": [
        "# where\n",
        "arr_con = np.where(cond, xarr, yarr) # cond==True : xarr elementi, cond==False : yarr elementi\n",
        "arr_con"
      ],
      "metadata": {
        "colab": {
          "base_uri": "https://localhost:8080/"
        },
        "id": "qxW9CoIpLppC",
        "outputId": "8cc39aa4-b1be-4a32-e536-de4c4da79e95"
      },
      "execution_count": 7,
      "outputs": [
        {
          "output_type": "execute_result",
          "data": {
            "text/plain": [
              "array([1.1, 2.2, 1.3, 1.4, 2.5])"
            ]
          },
          "metadata": {},
          "execution_count": 7
        }
      ]
    },
    {
      "cell_type": "markdown",
      "source": [
        "Demak where uchun biz conditionlar yani shartlar toplami berdik va shu shartlar toplamiga mos massivlar berdik va yangi massiv hosil qilishimizda shu shartlar ketma ketligiga qara dedik, yani agar True bolsa xarr ni elementini ol dedik indeksiga mos ravishda, agar False bolsa yarr ni elementini ol dedik indeksiga mos ravishda, shunday saralab yangi massiv hosil qilib oldik"
      ],
      "metadata": {
        "id": "rRb91WsbOOyg"
      }
    },
    {
      "cell_type": "markdown",
      "source": [
        "Yanayam yaxshiroq tushunish uchun taxminiy massiv yaratib olamiz\n"
      ],
      "metadata": {
        "id": "HTUGV37pMhGi"
      }
    },
    {
      "cell_type": "code",
      "source": [
        "arr = np.random.randn(4, 4) # (4, 4) shakldagi taxminiy massivimiz\n",
        "arr"
      ],
      "metadata": {
        "colab": {
          "base_uri": "https://localhost:8080/"
        },
        "id": "eIvCcW7YMSyo",
        "outputId": "be7bb9d9-5d8e-4d26-9c1d-ed68649d9d7a"
      },
      "execution_count": 5,
      "outputs": [
        {
          "output_type": "execute_result",
          "data": {
            "text/plain": [
              "array([[ 0.31530286,  0.82880682,  1.34274546, -0.24864411],\n",
              "       [ 1.37945235, -0.17801993,  0.8760194 ,  1.35168082],\n",
              "       [-0.38186925, -0.04386819,  0.64249937,  0.31314123],\n",
              "       [-0.88864974, -0.35459929,  0.12660396,  0.53034137]])"
            ]
          },
          "metadata": {},
          "execution_count": 5
        }
      ]
    },
    {
      "cell_type": "markdown",
      "source": [
        "barcha manfiy elementlarini -2 ga, barcha musbat elementlarni 2ga tenglab qoyaylik, bundan where bilan ham bajarsak boladi"
      ],
      "metadata": {
        "id": "mf7MRSiBM2pg"
      }
    },
    {
      "cell_type": "code",
      "source": [
        "# where\n",
        "arr_wh = np.where(arr>0, 2, -2) # agar arr elementi musbat bolsa 2 olinadi arr_wh elementiga aylanadi, manfiy bolsa -2 elemtiga aylanadi joylari mos ravishda\n",
        "arr_wh"
      ],
      "metadata": {
        "colab": {
          "base_uri": "https://localhost:8080/"
        },
        "id": "IQRnl9UpMwfY",
        "outputId": "f7e25d84-03c7-4345-859d-af87a10a5a23"
      },
      "execution_count": 6,
      "outputs": [
        {
          "output_type": "execute_result",
          "data": {
            "text/plain": [
              "array([[ 2,  2,  2, -2],\n",
              "       [ 2, -2,  2,  2],\n",
              "       [-2, -2,  2,  2],\n",
              "       [-2, -2,  2,  2]])"
            ]
          },
          "metadata": {},
          "execution_count": 6
        }
      ]
    },
    {
      "cell_type": "markdown",
      "source": [
        "Bu holda ham bizdagi massivlar elementlarini ozgartirishda yani uni ustida amal bajarishda wheredan foydalandik, agar massivimiz elementi musbat bolsa unda biz birginga elementini korsatdik yani 2ni, shu elementi ol dedik, agar manfiy bolsa unda -2 elementni ol dedik va ular ketma ketligidan massiv hosil qildik"
      ],
      "metadata": {
        "id": "YJjWk0A_OoG_"
      }
    },
    {
      "cell_type": "markdown",
      "source": [
        "Xulosa qilib aytadigan bolsak shart operatorlarida WHERE funksiyasi juda qol keladi"
      ],
      "metadata": {
        "id": "9eRavYMSNy4Z"
      }
    },
    {
      "cell_type": "code",
      "source": [],
      "metadata": {
        "id": "bdEqaUfYNstb"
      },
      "execution_count": null,
      "outputs": []
    }
  ]
}
