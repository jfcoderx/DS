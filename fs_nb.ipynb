{
  "nbformat": 4,
  "nbformat_minor": 0,
  "metadata": {
    "colab": {
      "provenance": [],
      "collapsed_sections": [],
      "authorship_tag": "ABX9TyNbWY6OrnROfcgkeHvQP3uV",
      "include_colab_link": true
    },
    "kernelspec": {
      "name": "python3",
      "display_name": "Python 3"
    },
    "language_info": {
      "name": "python"
    },
    "accelerator": "GPU"
  },
  "cells": [
    {
      "cell_type": "markdown",
      "metadata": {
        "id": "view-in-github",
        "colab_type": "text"
      },
      "source": [
        "<a href=\"https://colab.research.google.com/github/jfcoderx/DS/blob/master/fs_nb.ipynb\" target=\"_parent\"><img src=\"https://colab.research.google.com/assets/colab-badge.svg\" alt=\"Open In Colab\"/></a>"
      ]
    },
    {
      "cell_type": "code",
      "execution_count": null,
      "metadata": {
        "colab": {
          "base_uri": "https://localhost:8080/"
        },
        "id": "pG2gyiJ1OEPO",
        "outputId": "037d4bde-829e-4e5f-ccae-8fab1c6eb441"
      },
      "outputs": [
        {
          "output_type": "stream",
          "name": "stdout",
          "text": [
            "Assalomu alaykum, birinchi ipynb\n"
          ]
        }
      ],
      "source": [
        "print('Assalomu alaykum, birinchi ipynb')"
      ]
    },
    {
      "cell_type": "markdown",
      "source": [
        "# Heading\n",
        "- Kirish\n",
        "- Muqaddima\n"
      ],
      "metadata": {
        "id": "N9CCh2hxQ4qm"
      }
    },
    {
      "cell_type": "code",
      "source": [
        "import numpy as nm\n",
        "import pandas as pd\n",
        "import sklearn\n",
        "import matplotlib.pyplot as plt\n",
        "import seaborn as sns\n",
        "import torch\n",
        "import tensorflow as tf\n",
        "import keras\n",
        "\n",
        "print(nm.__version__)\n",
        "print(pd.__version__)\n",
        "print(sklearn.__version__)\n",
        "print(torch.__version__)\n",
        "print(tf.__version__)\n",
        "print(keras.__version__)"
      ],
      "metadata": {
        "id": "mrlX0ow6Q_Xv",
        "colab": {
          "base_uri": "https://localhost:8080/"
        },
        "outputId": "11e3b98d-aeec-4a1f-aca9-f71b42f8fe76"
      },
      "execution_count": null,
      "outputs": [
        {
          "output_type": "stream",
          "name": "stdout",
          "text": [
            "1.21.6\n",
            "1.3.5\n",
            "1.0.2\n",
            "1.12.1+cu113\n",
            "2.8.2\n",
            "2.8.0\n"
          ]
        }
      ]
    },
    {
      "cell_type": "code",
      "source": [
        "!ls"
      ],
      "metadata": {
        "colab": {
          "base_uri": "https://localhost:8080/"
        },
        "id": "FkBgCgHvVnxh",
        "outputId": "fb7ea407-d80a-4e91-e9d9-be01a912370c"
      },
      "execution_count": null,
      "outputs": [
        {
          "output_type": "stream",
          "name": "stdout",
          "text": [
            "sample_data\n"
          ]
        }
      ]
    },
    {
      "cell_type": "code",
      "source": [
        "import pandas as pd\n",
        "files = pd.read_excel('/content/data/03_Tasks.xlsx')\n",
        "files.head() "
      ],
      "metadata": {
        "colab": {
          "base_uri": "https://localhost:8080/",
          "height": 409
        },
        "id": "zTb3rjo_WHdr",
        "outputId": "91056d33-301d-4824-c86b-fa3f787359a3"
      },
      "execution_count": null,
      "outputs": [
        {
          "output_type": "execute_result",
          "data": {
            "text/plain": [
              "  Unnamed: 0   Unnamed: 1    Unnamed: 2   Unnamed: 3   Unnamed: 4  \\\n",
              "0        NaN          NaN           NaN          NaN          NaN   \n",
              "1        NaN     Маҳсулот  Қолдиқ, дона  Кирим нарҳи  Сотиш нарҳи   \n",
              "2        NaN  Маҳсулот №1           400         5000         6000   \n",
              "3        NaN  Маҳсулот №2           350        60000        75000   \n",
              "4        NaN  Маҳсулот №3          5000         2000         2200   \n",
              "\n",
              "            Unnamed: 5     Unnamed: 6          Unnamed: 7   Unnamed: 8  \\\n",
              "0                  NaN            NaN                 NaN          NaN   \n",
              "1  Ўртача кунлик савдо  Норматив, кун  Умумий қолдиқ, сўм  Қолдиқ, кун   \n",
              "2                   20             10             2000000           20   \n",
              "3                    5             10            21000000           70   \n",
              "4                 2000             10            10000000          2.5   \n",
              "\n",
              "             Unnamed: 9             Unnamed: 10 Unnamed: 11 Unnamed: 12  \\\n",
              "0                   NaN                     NaN         NaN         NaN   \n",
              "1  Ялпи даромад, кунлик  Ялпи даромадда улушлар         MML       Маржа   \n",
              "2                 20000                0.018605         NaN    0.166667   \n",
              "3                 75000                0.069767         NaN         0.2   \n",
              "4                400000                0.372093    0.372093    0.090909   \n",
              "\n",
              "  Unnamed: 13          Unnamed: 14      Unnamed: 15  \\\n",
              "0         NaN                  NaN              NaN   \n",
              "1      Устама  OOS сабабли йўқотиш  Музлатилган пул   \n",
              "2         0.2                  NaN          1000000   \n",
              "3        0.25                  NaN         18000000   \n",
              "4         0.1              3000000              NaN   \n",
              "\n",
              "                                 Unnamed: 16  \n",
              "0                                        NaN  \n",
              "1  Музлатилган пул, қолдиққа нисбатан фоизда  \n",
              "2                                        NaN  \n",
              "3                                        NaN  \n",
              "4                                        NaN  "
            ],
            "text/html": [
              "\n",
              "  <div id=\"df-4e7088ef-c343-45a4-ab39-10381187b0a5\">\n",
              "    <div class=\"colab-df-container\">\n",
              "      <div>\n",
              "<style scoped>\n",
              "    .dataframe tbody tr th:only-of-type {\n",
              "        vertical-align: middle;\n",
              "    }\n",
              "\n",
              "    .dataframe tbody tr th {\n",
              "        vertical-align: top;\n",
              "    }\n",
              "\n",
              "    .dataframe thead th {\n",
              "        text-align: right;\n",
              "    }\n",
              "</style>\n",
              "<table border=\"1\" class=\"dataframe\">\n",
              "  <thead>\n",
              "    <tr style=\"text-align: right;\">\n",
              "      <th></th>\n",
              "      <th>Unnamed: 0</th>\n",
              "      <th>Unnamed: 1</th>\n",
              "      <th>Unnamed: 2</th>\n",
              "      <th>Unnamed: 3</th>\n",
              "      <th>Unnamed: 4</th>\n",
              "      <th>Unnamed: 5</th>\n",
              "      <th>Unnamed: 6</th>\n",
              "      <th>Unnamed: 7</th>\n",
              "      <th>Unnamed: 8</th>\n",
              "      <th>Unnamed: 9</th>\n",
              "      <th>Unnamed: 10</th>\n",
              "      <th>Unnamed: 11</th>\n",
              "      <th>Unnamed: 12</th>\n",
              "      <th>Unnamed: 13</th>\n",
              "      <th>Unnamed: 14</th>\n",
              "      <th>Unnamed: 15</th>\n",
              "      <th>Unnamed: 16</th>\n",
              "    </tr>\n",
              "  </thead>\n",
              "  <tbody>\n",
              "    <tr>\n",
              "      <th>0</th>\n",
              "      <td>NaN</td>\n",
              "      <td>NaN</td>\n",
              "      <td>NaN</td>\n",
              "      <td>NaN</td>\n",
              "      <td>NaN</td>\n",
              "      <td>NaN</td>\n",
              "      <td>NaN</td>\n",
              "      <td>NaN</td>\n",
              "      <td>NaN</td>\n",
              "      <td>NaN</td>\n",
              "      <td>NaN</td>\n",
              "      <td>NaN</td>\n",
              "      <td>NaN</td>\n",
              "      <td>NaN</td>\n",
              "      <td>NaN</td>\n",
              "      <td>NaN</td>\n",
              "      <td>NaN</td>\n",
              "    </tr>\n",
              "    <tr>\n",
              "      <th>1</th>\n",
              "      <td>NaN</td>\n",
              "      <td>Маҳсулот</td>\n",
              "      <td>Қолдиқ, дона</td>\n",
              "      <td>Кирим нарҳи</td>\n",
              "      <td>Сотиш нарҳи</td>\n",
              "      <td>Ўртача кунлик савдо</td>\n",
              "      <td>Норматив, кун</td>\n",
              "      <td>Умумий қолдиқ, сўм</td>\n",
              "      <td>Қолдиқ, кун</td>\n",
              "      <td>Ялпи даромад, кунлик</td>\n",
              "      <td>Ялпи даромадда улушлар</td>\n",
              "      <td>MML</td>\n",
              "      <td>Маржа</td>\n",
              "      <td>Устама</td>\n",
              "      <td>OOS сабабли йўқотиш</td>\n",
              "      <td>Музлатилган пул</td>\n",
              "      <td>Музлатилган пул, қолдиққа нисбатан фоизда</td>\n",
              "    </tr>\n",
              "    <tr>\n",
              "      <th>2</th>\n",
              "      <td>NaN</td>\n",
              "      <td>Маҳсулот №1</td>\n",
              "      <td>400</td>\n",
              "      <td>5000</td>\n",
              "      <td>6000</td>\n",
              "      <td>20</td>\n",
              "      <td>10</td>\n",
              "      <td>2000000</td>\n",
              "      <td>20</td>\n",
              "      <td>20000</td>\n",
              "      <td>0.018605</td>\n",
              "      <td>NaN</td>\n",
              "      <td>0.166667</td>\n",
              "      <td>0.2</td>\n",
              "      <td>NaN</td>\n",
              "      <td>1000000</td>\n",
              "      <td>NaN</td>\n",
              "    </tr>\n",
              "    <tr>\n",
              "      <th>3</th>\n",
              "      <td>NaN</td>\n",
              "      <td>Маҳсулот №2</td>\n",
              "      <td>350</td>\n",
              "      <td>60000</td>\n",
              "      <td>75000</td>\n",
              "      <td>5</td>\n",
              "      <td>10</td>\n",
              "      <td>21000000</td>\n",
              "      <td>70</td>\n",
              "      <td>75000</td>\n",
              "      <td>0.069767</td>\n",
              "      <td>NaN</td>\n",
              "      <td>0.2</td>\n",
              "      <td>0.25</td>\n",
              "      <td>NaN</td>\n",
              "      <td>18000000</td>\n",
              "      <td>NaN</td>\n",
              "    </tr>\n",
              "    <tr>\n",
              "      <th>4</th>\n",
              "      <td>NaN</td>\n",
              "      <td>Маҳсулот №3</td>\n",
              "      <td>5000</td>\n",
              "      <td>2000</td>\n",
              "      <td>2200</td>\n",
              "      <td>2000</td>\n",
              "      <td>10</td>\n",
              "      <td>10000000</td>\n",
              "      <td>2.5</td>\n",
              "      <td>400000</td>\n",
              "      <td>0.372093</td>\n",
              "      <td>0.372093</td>\n",
              "      <td>0.090909</td>\n",
              "      <td>0.1</td>\n",
              "      <td>3000000</td>\n",
              "      <td>NaN</td>\n",
              "      <td>NaN</td>\n",
              "    </tr>\n",
              "  </tbody>\n",
              "</table>\n",
              "</div>\n",
              "      <button class=\"colab-df-convert\" onclick=\"convertToInteractive('df-4e7088ef-c343-45a4-ab39-10381187b0a5')\"\n",
              "              title=\"Convert this dataframe to an interactive table.\"\n",
              "              style=\"display:none;\">\n",
              "        \n",
              "  <svg xmlns=\"http://www.w3.org/2000/svg\" height=\"24px\"viewBox=\"0 0 24 24\"\n",
              "       width=\"24px\">\n",
              "    <path d=\"M0 0h24v24H0V0z\" fill=\"none\"/>\n",
              "    <path d=\"M18.56 5.44l.94 2.06.94-2.06 2.06-.94-2.06-.94-.94-2.06-.94 2.06-2.06.94zm-11 1L8.5 8.5l.94-2.06 2.06-.94-2.06-.94L8.5 2.5l-.94 2.06-2.06.94zm10 10l.94 2.06.94-2.06 2.06-.94-2.06-.94-.94-2.06-.94 2.06-2.06.94z\"/><path d=\"M17.41 7.96l-1.37-1.37c-.4-.4-.92-.59-1.43-.59-.52 0-1.04.2-1.43.59L10.3 9.45l-7.72 7.72c-.78.78-.78 2.05 0 2.83L4 21.41c.39.39.9.59 1.41.59.51 0 1.02-.2 1.41-.59l7.78-7.78 2.81-2.81c.8-.78.8-2.07 0-2.86zM5.41 20L4 18.59l7.72-7.72 1.47 1.35L5.41 20z\"/>\n",
              "  </svg>\n",
              "      </button>\n",
              "      \n",
              "  <style>\n",
              "    .colab-df-container {\n",
              "      display:flex;\n",
              "      flex-wrap:wrap;\n",
              "      gap: 12px;\n",
              "    }\n",
              "\n",
              "    .colab-df-convert {\n",
              "      background-color: #E8F0FE;\n",
              "      border: none;\n",
              "      border-radius: 50%;\n",
              "      cursor: pointer;\n",
              "      display: none;\n",
              "      fill: #1967D2;\n",
              "      height: 32px;\n",
              "      padding: 0 0 0 0;\n",
              "      width: 32px;\n",
              "    }\n",
              "\n",
              "    .colab-df-convert:hover {\n",
              "      background-color: #E2EBFA;\n",
              "      box-shadow: 0px 1px 2px rgba(60, 64, 67, 0.3), 0px 1px 3px 1px rgba(60, 64, 67, 0.15);\n",
              "      fill: #174EA6;\n",
              "    }\n",
              "\n",
              "    [theme=dark] .colab-df-convert {\n",
              "      background-color: #3B4455;\n",
              "      fill: #D2E3FC;\n",
              "    }\n",
              "\n",
              "    [theme=dark] .colab-df-convert:hover {\n",
              "      background-color: #434B5C;\n",
              "      box-shadow: 0px 1px 3px 1px rgba(0, 0, 0, 0.15);\n",
              "      filter: drop-shadow(0px 1px 2px rgba(0, 0, 0, 0.3));\n",
              "      fill: #FFFFFF;\n",
              "    }\n",
              "  </style>\n",
              "\n",
              "      <script>\n",
              "        const buttonEl =\n",
              "          document.querySelector('#df-4e7088ef-c343-45a4-ab39-10381187b0a5 button.colab-df-convert');\n",
              "        buttonEl.style.display =\n",
              "          google.colab.kernel.accessAllowed ? 'block' : 'none';\n",
              "\n",
              "        async function convertToInteractive(key) {\n",
              "          const element = document.querySelector('#df-4e7088ef-c343-45a4-ab39-10381187b0a5');\n",
              "          const dataTable =\n",
              "            await google.colab.kernel.invokeFunction('convertToInteractive',\n",
              "                                                     [key], {});\n",
              "          if (!dataTable) return;\n",
              "\n",
              "          const docLinkHtml = 'Like what you see? Visit the ' +\n",
              "            '<a target=\"_blank\" href=https://colab.research.google.com/notebooks/data_table.ipynb>data table notebook</a>'\n",
              "            + ' to learn more about interactive tables.';\n",
              "          element.innerHTML = '';\n",
              "          dataTable['output_type'] = 'display_data';\n",
              "          await google.colab.output.renderOutput(dataTable, element);\n",
              "          const docLink = document.createElement('div');\n",
              "          docLink.innerHTML = docLinkHtml;\n",
              "          element.appendChild(docLink);\n",
              "        }\n",
              "      </script>\n",
              "    </div>\n",
              "  </div>\n",
              "  "
            ]
          },
          "metadata": {},
          "execution_count": 5
        }
      ]
    }
  ]
}