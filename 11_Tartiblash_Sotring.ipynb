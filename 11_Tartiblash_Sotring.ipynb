{
  "nbformat": 4,
  "nbformat_minor": 0,
  "metadata": {
    "colab": {
      "provenance": [],
      "authorship_tag": "ABX9TyNaDhkjBy7BXV2QsX1LZSUG",
      "include_colab_link": true
    },
    "kernelspec": {
      "name": "python3",
      "display_name": "Python 3"
    },
    "language_info": {
      "name": "python"
    }
  },
  "cells": [
    {
      "cell_type": "markdown",
      "metadata": {
        "id": "view-in-github",
        "colab_type": "text"
      },
      "source": [
        "<a href=\"https://colab.research.google.com/github/jfcoderx/Data-Sciense/blob/main/11_Tartiblash_Sotring.ipynb\" target=\"_parent\"><img src=\"https://colab.research.google.com/assets/colab-badge.svg\" alt=\"Open In Colab\"/></a>"
      ]
    },
    {
      "cell_type": "markdown",
      "source": [
        "## Massivga yonaltirilgan dasturlash\n",
        "\n",
        "### Sorting (tartiblash)"
      ],
      "metadata": {
        "id": "ohFabBngbfmM"
      }
    },
    {
      "cell_type": "code",
      "execution_count": 1,
      "metadata": {
        "id": "B-kfHNSvZ0dQ"
      },
      "outputs": [],
      "source": [
        "import numpy as np"
      ]
    },
    {
      "cell_type": "code",
      "source": [
        "# data\n",
        "arr = np.random.rand(4) # 4ta taxminiy elementlardan tashkil topgan massiv, rand (0 va 1) oraligidagi taxminiy elementlarni yaratib beradi\n",
        "arr"
      ],
      "metadata": {
        "colab": {
          "base_uri": "https://localhost:8080/"
        },
        "id": "kSyBsWA4b1RO",
        "outputId": "028c30df-ec24-4a29-a21f-97424686cc48"
      },
      "execution_count": 3,
      "outputs": [
        {
          "output_type": "execute_result",
          "data": {
            "text/plain": [
              "array([0.87954372, 0.83773378, 0.12896767, 0.74584831])"
            ]
          },
          "metadata": {},
          "execution_count": 3
        }
      ]
    },
    {
      "cell_type": "markdown",
      "source": [
        "SORT funksiyasi"
      ],
      "metadata": {
        "id": "NlmTr7eScfmR"
      }
    },
    {
      "cell_type": "code",
      "source": [
        "# asl arr ozgartimagan holda tartiblaymiz\n",
        "sorted_arr = np.sort(arr) # arr massivimizning tartiblangan versiyasi, defaul qiymatda osish holatida oladi\n",
        "sorted_arr"
      ],
      "metadata": {
        "colab": {
          "base_uri": "https://localhost:8080/"
        },
        "id": "ouTb3rDjcDvd",
        "outputId": "04a23cc4-cc05-4932-a495-7d69b99cc083"
      },
      "execution_count": 6,
      "outputs": [
        {
          "output_type": "execute_result",
          "data": {
            "text/plain": [
              "array([0.12896767, 0.74584831, 0.83773378, 0.87954372])"
            ]
          },
          "metadata": {},
          "execution_count": 6
        }
      ]
    },
    {
      "cell_type": "code",
      "source": [
        "# togridan togri asl arr ustida tartiblashni bajaramiz\n",
        "arr.sort()\n",
        "arr"
      ],
      "metadata": {
        "colab": {
          "base_uri": "https://localhost:8080/"
        },
        "id": "ryYi1tnVc2jX",
        "outputId": "7b0c5ca5-5ea6-4be5-8a4e-9dbe27e1131d"
      },
      "execution_count": 8,
      "outputs": [
        {
          "output_type": "execute_result",
          "data": {
            "text/plain": [
              "array([0.12896767, 0.74584831, 0.83773378, 0.87954372])"
            ]
          },
          "metadata": {},
          "execution_count": 8
        }
      ]
    },
    {
      "cell_type": "code",
      "source": [
        "# teskari tartiblash, numpyda teskari tartiblash uchun alohida funksiya yoq\n",
        "# lekin buni yoli bor\n",
        "\n",
        "rev_arr = -np.sort(-arr) # teskari tartibdagi arr\n",
        "rev_arr"
      ],
      "metadata": {
        "colab": {
          "base_uri": "https://localhost:8080/"
        },
        "id": "STJY2usNdMYQ",
        "outputId": "af925eee-38c5-4462-9868-769c0fa96126"
      },
      "execution_count": 10,
      "outputs": [
        {
          "output_type": "execute_result",
          "data": {
            "text/plain": [
              "array([0.87954372, 0.83773378, 0.74584831, 0.12896767])"
            ]
          },
          "metadata": {},
          "execution_count": 10
        }
      ]
    },
    {
      "cell_type": "markdown",
      "source": [
        "### Kop olchamli massivlarda tartiblash"
      ],
      "metadata": {
        "id": "UBgXN2VXdnTp"
      }
    },
    {
      "cell_type": "code",
      "source": [
        "# 2D array\n",
        "arr2d = np.random.randn(2, 4) # (2, 4) random massiv\n",
        "arr2d"
      ],
      "metadata": {
        "colab": {
          "base_uri": "https://localhost:8080/"
        },
        "id": "tty55XbxdjKS",
        "outputId": "a8bec9c6-fdac-4379-ecf2-2af64dc7f071"
      },
      "execution_count": 11,
      "outputs": [
        {
          "output_type": "execute_result",
          "data": {
            "text/plain": [
              "array([[-0.04976463,  2.07370205,  1.07166967, -1.40093821],\n",
              "       [-0.54037054,  0.81433049, -1.29298703,  0.8189118 ]])"
            ]
          },
          "metadata": {},
          "execution_count": 11
        }
      ]
    },
    {
      "cell_type": "code",
      "source": [
        "# axis = 0 --> Qator oqi\n",
        "row_srt = np.sort(arr2d, axis=0) # arr2d ning bir QATOR boyicha tartiblangan ko'rinishi\n",
        "row_srt"
      ],
      "metadata": {
        "colab": {
          "base_uri": "https://localhost:8080/"
        },
        "id": "Z_e_HVEVd583",
        "outputId": "ebc651d0-cf71-4342-db7e-1f48fac606bc"
      },
      "execution_count": 13,
      "outputs": [
        {
          "output_type": "execute_result",
          "data": {
            "text/plain": [
              "array([[-0.54037054,  0.81433049, -1.29298703, -1.40093821],\n",
              "       [-0.04976463,  2.07370205,  1.07166967,  0.8189118 ]])"
            ]
          },
          "metadata": {},
          "execution_count": 13
        }
      ]
    },
    {
      "cell_type": "code",
      "source": [
        "# axis = 1 --> Ustun oqi\n",
        "col_srt = np.sort(arr2d, axis=1) # arr2d ning bir QATOR boyicha tartiblangan ko'rinishi\n",
        "col_srt"
      ],
      "metadata": {
        "colab": {
          "base_uri": "https://localhost:8080/"
        },
        "id": "ddG35ElieQIt",
        "outputId": "9fbae2c4-c29f-411c-d56a-37a23bc214cb"
      },
      "execution_count": 14,
      "outputs": [
        {
          "output_type": "execute_result",
          "data": {
            "text/plain": [
              "array([[-1.40093821, -0.04976463,  1.07166967,  2.07370205],\n",
              "       [-1.29298703, -0.54037054,  0.81433049,  0.8189118 ]])"
            ]
          },
          "metadata": {},
          "execution_count": 14
        }
      ]
    }
  ]
}