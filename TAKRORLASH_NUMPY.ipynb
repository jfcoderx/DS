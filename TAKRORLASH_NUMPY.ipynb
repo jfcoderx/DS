{
  "nbformat": 4,
  "nbformat_minor": 0,
  "metadata": {
    "colab": {
      "provenance": [],
      "authorship_tag": "ABX9TyMWZcV0ZfCAJ/s5duP7hO9J",
      "include_colab_link": true
    },
    "kernelspec": {
      "name": "python3",
      "display_name": "Python 3"
    },
    "language_info": {
      "name": "python"
    }
  },
  "cells": [
    {
      "cell_type": "markdown",
      "metadata": {
        "id": "view-in-github",
        "colab_type": "text"
      },
      "source": [
        "<a href=\"https://colab.research.google.com/github/jfcoderx/Data-Sciense/blob/main/TAKRORLASH_NUMPY.ipynb\" target=\"_parent\"><img src=\"https://colab.research.google.com/assets/colab-badge.svg\" alt=\"Open In Colab\"/></a>"
      ]
    },
    {
      "cell_type": "markdown",
      "source": [
        "## TAKRORLASH NUMPY"
      ],
      "metadata": {
        "id": "mkMgIgodywXj"
      }
    },
    {
      "cell_type": "code",
      "execution_count": 2,
      "metadata": {
        "id": "REtshynkyubp"
      },
      "outputs": [],
      "source": [
        "import numpy as np"
      ]
    },
    {
      "cell_type": "code",
      "source": [
        "# LIST vs ARRAY\n",
        "list_yuzming = list(range(100000)) # 0 - 99999  --> Normal\n",
        "arr_yuzming = np.array(range(100000)) # 0 - 99999  --> Vektorlashgan"
      ],
      "metadata": {
        "id": "q21qsM55y9tQ"
      },
      "execution_count": 3,
      "outputs": []
    },
    {
      "cell_type": "code",
      "source": [
        "# har bir hisoblashlarga ketgan vaqtlar\n",
        "%time for _ in range(10): [x*2 for x in list_yuzming] # Normal\n",
        "%time for _ in range(10): arr_yuzming * 2 # Vektorlashgan"
      ],
      "metadata": {
        "colab": {
          "base_uri": "https://localhost:8080/"
        },
        "id": "L2-tmA4o1UpF",
        "outputId": "aea4243c-fcf2-49aa-f2e0-616646b1c4af"
      },
      "execution_count": 4,
      "outputs": [
        {
          "output_type": "stream",
          "name": "stdout",
          "text": [
            "CPU times: user 69.6 ms, sys: 15.8 ms, total: 85.4 ms\n",
            "Wall time: 105 ms\n",
            "CPU times: user 1.82 ms, sys: 0 ns, total: 1.82 ms\n",
            "Wall time: 4.21 ms\n"
          ]
        }
      ]
    },
    {
      "cell_type": "code",
      "source": [
        "# Bir biridan necha martaga ortiqligi\n",
        "95.2 / 1.63"
      ],
      "metadata": {
        "colab": {
          "base_uri": "https://localhost:8080/"
        },
        "id": "z8sgBl9p1v2O",
        "outputId": "1fb35119-0848-4812-e9d2-9f9ac6cb8aa2"
      },
      "execution_count": 5,
      "outputs": [
        {
          "output_type": "execute_result",
          "data": {
            "text/plain": [
              "58.40490797546013"
            ]
          },
          "metadata": {},
          "execution_count": 5
        }
      ]
    },
    {
      "cell_type": "code",
      "source": [
        "# 1D MASSIV\n",
        "arr1d = np.array([1, 2, 3])\n",
        "arr1d"
      ],
      "metadata": {
        "colab": {
          "base_uri": "https://localhost:8080/"
        },
        "id": "GqMHL1JbEnYn",
        "outputId": "638fb093-5b08-4a6d-bad4-ca8f785e2d9a"
      },
      "execution_count": 6,
      "outputs": [
        {
          "output_type": "execute_result",
          "data": {
            "text/plain": [
              "array([1, 2, 3])"
            ]
          },
          "metadata": {},
          "execution_count": 6
        }
      ]
    },
    {
      "cell_type": "code",
      "source": [
        "# 2D MASSIV\n",
        "arr2d = np.array([\n",
        "                  [1, 2, 3], \n",
        "                  [4, 5, 6],\n",
        "                  [7, 8, 9]\n",
        "                 ]) \n",
        "arr2d"
      ],
      "metadata": {
        "colab": {
          "base_uri": "https://localhost:8080/"
        },
        "id": "bRn-XkzZGNbY",
        "outputId": "74f0a825-5390-43ec-e5bf-2916ba086ec9"
      },
      "execution_count": 7,
      "outputs": [
        {
          "output_type": "execute_result",
          "data": {
            "text/plain": [
              "array([[1, 2, 3],\n",
              "       [4, 5, 6],\n",
              "       [7, 8, 9]])"
            ]
          },
          "metadata": {},
          "execution_count": 7
        }
      ]
    },
    {
      "cell_type": "code",
      "source": [
        "# 3D MASSIV\n",
        "arr3d = np.array([\n",
        "                    [\n",
        "                        [11, 12, 13],\n",
        "                        [14, 15, 16],\n",
        "                        [17, 18, 19]\n",
        "                    ],\n",
        "                    [\n",
        "                        [21, 22, 23], \n",
        "                        [24, 25, 26],\n",
        "                        [27, 28, 29]\n",
        "                    ],\n",
        "                    [\n",
        "                        [31, 32, 33],\n",
        "                        [34, 35, 36],\n",
        "                        [37, 38, 39]\n",
        "                    ]\n",
        "                  ])\n",
        "arr3d "
      ],
      "metadata": {
        "colab": {
          "base_uri": "https://localhost:8080/"
        },
        "id": "Rv7NMw5yGkh9",
        "outputId": "c4dae963-ef1d-45f9-fcaa-beb69e02e806"
      },
      "execution_count": 8,
      "outputs": [
        {
          "output_type": "execute_result",
          "data": {
            "text/plain": [
              "array([[[11, 12, 13],\n",
              "        [14, 15, 16],\n",
              "        [17, 18, 19]],\n",
              "\n",
              "       [[21, 22, 23],\n",
              "        [24, 25, 26],\n",
              "        [27, 28, 29]],\n",
              "\n",
              "       [[31, 32, 33],\n",
              "        [34, 35, 36],\n",
              "        [37, 38, 39]]])"
            ]
          },
          "metadata": {},
          "execution_count": 8
        }
      ]
    },
    {
      "cell_type": "code",
      "source": [
        "# NDIM - massiv o'lchamini korsatadi\n",
        "print(arr1d.ndim)\n",
        "print(arr2d.ndim)\n",
        "print(arr3d.ndim)\n",
        "\n",
        "# TYPE - massiv tipini korsatadi\n",
        "print(type(arr1d))\n",
        "print(type(arr2d))\n",
        "print(type(arr3d))"
      ],
      "metadata": {
        "colab": {
          "base_uri": "https://localhost:8080/"
        },
        "id": "buaIdXmhHYLn",
        "outputId": "fada676e-05da-42d8-83c2-459eeb495b84"
      },
      "execution_count": 9,
      "outputs": [
        {
          "output_type": "stream",
          "name": "stdout",
          "text": [
            "1\n",
            "2\n",
            "3\n",
            "<class 'numpy.ndarray'>\n",
            "<class 'numpy.ndarray'>\n",
            "<class 'numpy.ndarray'>\n"
          ]
        }
      ]
    },
    {
      "cell_type": "code",
      "source": [
        "# SHAPE - qator va ustunlar soni korsatadi\n",
        "print(arr1d.shape)\n",
        "print(arr2d.shape)\n",
        "print(arr3d.shape)"
      ],
      "metadata": {
        "colab": {
          "base_uri": "https://localhost:8080/"
        },
        "id": "ILeywyADHpoP",
        "outputId": "524b437b-06c2-4e9d-f688-299fef14685f"
      },
      "execution_count": 10,
      "outputs": [
        {
          "output_type": "stream",
          "name": "stdout",
          "text": [
            "(3,)\n",
            "(3, 3)\n",
            "(3, 3, 3)\n"
          ]
        }
      ]
    },
    {
      "cell_type": "code",
      "source": [
        "# SIZE - massiv elementlar soni korsatadi\n",
        "# shapelar soni bir biriga kopaytirsa massiv elementlar soni chiqarkan\n",
        "print(arr1d.size)\n",
        "print(arr2d.size)\n",
        "print(arr3d.size)"
      ],
      "metadata": {
        "colab": {
          "base_uri": "https://localhost:8080/"
        },
        "id": "A3GhRkcLHxrJ",
        "outputId": "76b23653-0ccb-4951-e4ba-bec057356b53"
      },
      "execution_count": 11,
      "outputs": [
        {
          "output_type": "stream",
          "name": "stdout",
          "text": [
            "3\n",
            "9\n",
            "27\n"
          ]
        }
      ]
    },
    {
      "cell_type": "code",
      "source": [
        "# ZEROS, ONES, EMPTY, FULL --> 1D\n",
        "\n",
        "arr_empty1 = np.empty(4)\n",
        "arr_full1 = np.full((4), 44)\n",
        "arr_zeros1 = np.zeros(4)\n",
        "arr_ones1 = np.ones(4)\n",
        "\n",
        "print(arr_empty1)\n",
        "print(arr_full1)\n",
        "print(arr_zeros1)\n",
        "print(arr_ones1)"
      ],
      "metadata": {
        "colab": {
          "base_uri": "https://localhost:8080/"
        },
        "id": "ijNa-ZqcIO54",
        "outputId": "f309166d-4d3a-4946-955a-03293f634550"
      },
      "execution_count": 12,
      "outputs": [
        {
          "output_type": "stream",
          "name": "stdout",
          "text": [
            "[5.e-324 5.e-324 5.e-324 0.e+000]\n",
            "[44 44 44 44]\n",
            "[0. 0. 0. 0.]\n",
            "[1. 1. 1. 1.]\n"
          ]
        }
      ]
    },
    {
      "cell_type": "code",
      "source": [
        "# ZEROS, ONES, EMPTY, FULL --> 2D (1, 4)\n",
        "\n",
        "arr_empty2 = np.empty((1, 4))\n",
        "arr_full2 = np.full((1, 4), 44)\n",
        "arr_zeros2 = np.zeros((1, 4))\n",
        "arr_ones2 = np.ones((1, 4))\n",
        "\n",
        "print(arr_empty2)\n",
        "print()\n",
        "print(arr_full2)\n",
        "print()\n",
        "print(arr_zeros2)\n",
        "print()\n",
        "print(arr_ones2)"
      ],
      "metadata": {
        "colab": {
          "base_uri": "https://localhost:8080/"
        },
        "id": "45KHf_xjJ33P",
        "outputId": "4bc71fbc-893e-45c5-8dc4-202e3fd8643e"
      },
      "execution_count": 13,
      "outputs": [
        {
          "output_type": "stream",
          "name": "stdout",
          "text": [
            "[[1. 1. 1. 1.]]\n",
            "\n",
            "[[44 44 44 44]]\n",
            "\n",
            "[[0. 0. 0. 0.]]\n",
            "\n",
            "[[1. 1. 1. 1.]]\n"
          ]
        }
      ]
    },
    {
      "cell_type": "code",
      "source": [
        "# ZEROS, ONES, EMPTY, FULL --> 2D (4, 1)\n",
        "\n",
        "arr_empty2 = np.empty((4, 1))\n",
        "arr_full2 = np.full((4, 1), 44)\n",
        "arr_zeros2 = np.zeros((4, 1))\n",
        "arr_ones2 = np.ones((4, 1))\n",
        "\n",
        "print(arr_empty2)\n",
        "print()\n",
        "print(arr_full2)\n",
        "print()\n",
        "print(arr_zeros2)\n",
        "print()\n",
        "print(arr_ones2)"
      ],
      "metadata": {
        "colab": {
          "base_uri": "https://localhost:8080/"
        },
        "id": "A9KUTfJNJSbq",
        "outputId": "1880eb4d-b5f0-4d70-825b-012e60d4b535"
      },
      "execution_count": 14,
      "outputs": [
        {
          "output_type": "stream",
          "name": "stdout",
          "text": [
            "[[1.]\n",
            " [1.]\n",
            " [1.]\n",
            " [1.]]\n",
            "\n",
            "[[44]\n",
            " [44]\n",
            " [44]\n",
            " [44]]\n",
            "\n",
            "[[0.]\n",
            " [0.]\n",
            " [0.]\n",
            " [0.]]\n",
            "\n",
            "[[1.]\n",
            " [1.]\n",
            " [1.]\n",
            " [1.]]\n"
          ]
        }
      ]
    },
    {
      "cell_type": "code",
      "source": [
        "# ZEROS, ONES, EMPTY, FULL --> 3D (3, 3, 3)\n",
        "\n",
        "arr_empty3 = np.empty((3, 3, 3))\n",
        "arr_full3 = np.full((3, 3, 3), 444)\n",
        "arr_zeros3 = np.zeros((3, 3, 3))\n",
        "arr_ones3 = np.ones((3, 3, 3))\n",
        "\n",
        "print(arr_empty3)\n",
        "print()\n",
        "print(arr_full3)\n",
        "print()\n",
        "print(arr_zeros3)\n",
        "print()\n",
        "print(arr_ones3)"
      ],
      "metadata": {
        "colab": {
          "base_uri": "https://localhost:8080/"
        },
        "id": "lLWiIk17QQw7",
        "outputId": "c134b540-8666-454d-b867-1987047d08c9"
      },
      "execution_count": 15,
      "outputs": [
        {
          "output_type": "stream",
          "name": "stdout",
          "text": [
            "[[[2.62209571e-316 8.84377506e-322 0.00000000e+000]\n",
            "  [0.00000000e+000 0.00000000e+000 1.16095484e-028]\n",
            "  [1.64781299e+098 4.80282051e+006 6.69435463e+151]]\n",
            "\n",
            " [[1.39806873e-152 8.15327665e+241 1.39837037e-076]\n",
            "  [7.13227254e-154 4.85787477e-033 2.18953547e+068]\n",
            "  [2.13424455e+161 7.05131940e+199 5.28595592e-085]]\n",
            "\n",
            " [[2.55286675e+161 1.39804456e-076 6.96818306e-077]\n",
            "  [4.85787506e-033 1.43456201e+180 1.41476254e+195]\n",
            "  [1.46899930e+179 9.08367237e+223 1.16466228e-028]]]\n",
            "\n",
            "[[[444 444 444]\n",
            "  [444 444 444]\n",
            "  [444 444 444]]\n",
            "\n",
            " [[444 444 444]\n",
            "  [444 444 444]\n",
            "  [444 444 444]]\n",
            "\n",
            " [[444 444 444]\n",
            "  [444 444 444]\n",
            "  [444 444 444]]]\n",
            "\n",
            "[[[0. 0. 0.]\n",
            "  [0. 0. 0.]\n",
            "  [0. 0. 0.]]\n",
            "\n",
            " [[0. 0. 0.]\n",
            "  [0. 0. 0.]\n",
            "  [0. 0. 0.]]\n",
            "\n",
            " [[0. 0. 0.]\n",
            "  [0. 0. 0.]\n",
            "  [0. 0. 0.]]]\n",
            "\n",
            "[[[1. 1. 1.]\n",
            "  [1. 1. 1.]\n",
            "  [1. 1. 1.]]\n",
            "\n",
            " [[1. 1. 1.]\n",
            "  [1. 1. 1.]\n",
            "  [1. 1. 1.]]\n",
            "\n",
            " [[1. 1. 1.]\n",
            "  [1. 1. 1.]\n",
            "  [1. 1. 1.]]]\n"
          ]
        }
      ]
    },
    {
      "cell_type": "code",
      "source": [
        "arr1d"
      ],
      "metadata": {
        "colab": {
          "base_uri": "https://localhost:8080/"
        },
        "id": "Cj44Uhb0Qsb-",
        "outputId": "a3d5ac4f-5367-4c01-e3c7-7f3979b075be"
      },
      "execution_count": 16,
      "outputs": [
        {
          "output_type": "execute_result",
          "data": {
            "text/plain": [
              "array([1, 2, 3])"
            ]
          },
          "metadata": {},
          "execution_count": 16
        }
      ]
    },
    {
      "cell_type": "code",
      "source": [
        "# ZEROS_LIKE, ONES_LIKE, EMPTY_LIKE, FULL_LIKE --> 1D\n",
        "\n",
        "arr_empty_like1 = np.empty_like(arr1d)\n",
        "arr_full_like1 = np.full_like(arr1d, 44)\n",
        "arr_zeros_like1 = np.zeros_like(arr1d)\n",
        "arr_ones_like1 = np.ones_like(arr1d)\n",
        "\n",
        "print(arr_empty_like1)\n",
        "print(arr_full_like1)\n",
        "print(arr_zeros_like1)\n",
        "print(arr_ones_like1)"
      ],
      "metadata": {
        "colab": {
          "base_uri": "https://localhost:8080/"
        },
        "id": "vA6FVLvdR0Si",
        "outputId": "8584ec9f-b989-4612-84a6-29c86cf033ea"
      },
      "execution_count": 17,
      "outputs": [
        {
          "output_type": "stream",
          "name": "stdout",
          "text": [
            "[1 1 1]\n",
            "[44 44 44]\n",
            "[0 0 0]\n",
            "[1 1 1]\n"
          ]
        }
      ]
    },
    {
      "cell_type": "code",
      "source": [
        "arr2d"
      ],
      "metadata": {
        "colab": {
          "base_uri": "https://localhost:8080/"
        },
        "id": "hVf1_88GSQi_",
        "outputId": "09542562-063d-4bf0-aa62-e2c04a4a2fb1"
      },
      "execution_count": 18,
      "outputs": [
        {
          "output_type": "execute_result",
          "data": {
            "text/plain": [
              "array([[1, 2, 3],\n",
              "       [4, 5, 6],\n",
              "       [7, 8, 9]])"
            ]
          },
          "metadata": {},
          "execution_count": 18
        }
      ]
    },
    {
      "cell_type": "code",
      "source": [
        "# ZEROS_LIKE, ONES_LIKE, EMPTY_LIKE, FULL_LIKE --> 2D\n",
        "\n",
        "arr_empty_like2 = np.empty_like(arr2d)\n",
        "arr_full_like2 = np.full_like(arr2d, 44)\n",
        "arr_zeros_like2 = np.zeros_like(arr2d)\n",
        "arr_ones_like2 = np.ones_like(arr2d)\n",
        "\n",
        "print(arr_empty_like2)\n",
        "print()\n",
        "print(arr_full_like2)\n",
        "print()\n",
        "print(arr_zeros_like2)\n",
        "print()\n",
        "print(arr_ones_like2)"
      ],
      "metadata": {
        "colab": {
          "base_uri": "https://localhost:8080/"
        },
        "id": "kr_19ve4Ssl1",
        "outputId": "243897b0-1827-4f15-f50c-67c709b0c6ca"
      },
      "execution_count": 19,
      "outputs": [
        {
          "output_type": "stream",
          "name": "stdout",
          "text": [
            "[[           53148432                  36                   0]\n",
            " [                  0                   0 3761458305658073656]\n",
            " [3977854056740827693 3257564015184667960 7090462639664541798]]\n",
            "\n",
            "[[44 44 44]\n",
            " [44 44 44]\n",
            " [44 44 44]]\n",
            "\n",
            "[[0 0 0]\n",
            " [0 0 0]\n",
            " [0 0 0]]\n",
            "\n",
            "[[1 1 1]\n",
            " [1 1 1]\n",
            " [1 1 1]]\n"
          ]
        }
      ]
    },
    {
      "cell_type": "code",
      "source": [
        "arr3d"
      ],
      "metadata": {
        "colab": {
          "base_uri": "https://localhost:8080/"
        },
        "id": "bOxofpSWS1ol",
        "outputId": "42997c9e-b022-44d4-c1f8-48a426987228"
      },
      "execution_count": 20,
      "outputs": [
        {
          "output_type": "execute_result",
          "data": {
            "text/plain": [
              "array([[[11, 12, 13],\n",
              "        [14, 15, 16],\n",
              "        [17, 18, 19]],\n",
              "\n",
              "       [[21, 22, 23],\n",
              "        [24, 25, 26],\n",
              "        [27, 28, 29]],\n",
              "\n",
              "       [[31, 32, 33],\n",
              "        [34, 35, 36],\n",
              "        [37, 38, 39]]])"
            ]
          },
          "metadata": {},
          "execution_count": 20
        }
      ]
    },
    {
      "cell_type": "code",
      "source": [
        "# ZEROS_LIKE, ONES_LIKE, EMPTY_LIKE, FULL_LIKE --> 3D\n",
        "\n",
        "arr_empty_like3 = np.empty_like(arr3d)\n",
        "arr_full_like3 = np.full_like(arr3d, 444)\n",
        "arr_zeros_like3 = np.zeros_like(arr3d)\n",
        "arr_ones_like3 = np.ones_like(arr3d)\n",
        "\n",
        "print(arr_empty_like3)\n",
        "print()\n",
        "print(arr_full_like3)\n",
        "print()\n",
        "print(arr_zeros_like3)\n",
        "print()\n",
        "print(arr_ones_like3)"
      ],
      "metadata": {
        "colab": {
          "base_uri": "https://localhost:8080/"
        },
        "id": "q0auQo4BTEhk",
        "outputId": "57a7078f-d349-4a03-8a22-fb6035dd1c3a"
      },
      "execution_count": 21,
      "outputs": [
        {
          "output_type": "stream",
          "name": "stdout",
          "text": [
            "[[[4607182418800017408 4607182418800017408 4607182418800017408]\n",
            "  [4607182418800017408 4607182418800017408 4607182418800017408]\n",
            "  [4607182418800017408 4607182418800017408 4607182418800017408]]\n",
            "\n",
            " [[4607182418800017408 4607182418800017408 4607182418800017408]\n",
            "  [4607182418800017408 4607182418800017408 4607182418800017408]\n",
            "  [4607182418800017408 4607182418800017408 4607182418800017408]]\n",
            "\n",
            " [[4607182418800017408 4607182418800017408 4607182418800017408]\n",
            "  [4607182418800017408 4607182418800017408 4607182418800017408]\n",
            "  [4607182418800017408 4607182418800017408 4607182418800017408]]]\n",
            "\n",
            "[[[444 444 444]\n",
            "  [444 444 444]\n",
            "  [444 444 444]]\n",
            "\n",
            " [[444 444 444]\n",
            "  [444 444 444]\n",
            "  [444 444 444]]\n",
            "\n",
            " [[444 444 444]\n",
            "  [444 444 444]\n",
            "  [444 444 444]]]\n",
            "\n",
            "[[[0 0 0]\n",
            "  [0 0 0]\n",
            "  [0 0 0]]\n",
            "\n",
            " [[0 0 0]\n",
            "  [0 0 0]\n",
            "  [0 0 0]]\n",
            "\n",
            " [[0 0 0]\n",
            "  [0 0 0]\n",
            "  [0 0 0]]]\n",
            "\n",
            "[[[1 1 1]\n",
            "  [1 1 1]\n",
            "  [1 1 1]]\n",
            "\n",
            " [[1 1 1]\n",
            "  [1 1 1]\n",
            "  [1 1 1]]\n",
            "\n",
            " [[1 1 1]\n",
            "  [1 1 1]\n",
            "  [1 1 1]]]\n"
          ]
        }
      ]
    },
    {
      "cell_type": "code",
      "source": [
        "# IDENTIFY - kvadrad matritsa, 2d massiv, asosiy diagonali - EYE ning xususiy holi\n",
        "arr_identify = np.identity(4)\n",
        "arr_identify"
      ],
      "metadata": {
        "colab": {
          "base_uri": "https://localhost:8080/"
        },
        "id": "-OxSAXVUTQK7",
        "outputId": "e59bf89b-0b62-423e-931f-2d5214803bc6"
      },
      "execution_count": 22,
      "outputs": [
        {
          "output_type": "execute_result",
          "data": {
            "text/plain": [
              "array([[1., 0., 0., 0.],\n",
              "       [0., 1., 0., 0.],\n",
              "       [0., 0., 1., 0.],\n",
              "       [0., 0., 0., 1.]])"
            ]
          },
          "metadata": {},
          "execution_count": 22
        }
      ]
    },
    {
      "cell_type": "code",
      "source": [
        "# EYE - istalgan diagonal\n",
        "arr_eye = np.eye(4, None, 1)\n",
        "arr_eye"
      ],
      "metadata": {
        "id": "ITfHDUF6TvPH",
        "colab": {
          "base_uri": "https://localhost:8080/"
        },
        "outputId": "f0100c3c-acc7-41da-b39e-d5fc5f662317"
      },
      "execution_count": 23,
      "outputs": [
        {
          "output_type": "execute_result",
          "data": {
            "text/plain": [
              "array([[0., 1., 0., 0.],\n",
              "       [0., 0., 1., 0.],\n",
              "       [0., 0., 0., 1.],\n",
              "       [0., 0., 0., 0.]])"
            ]
          },
          "metadata": {},
          "execution_count": 23
        }
      ]
    },
    {
      "cell_type": "code",
      "source": [
        "arr1d"
      ],
      "metadata": {
        "colab": {
          "base_uri": "https://localhost:8080/"
        },
        "id": "laM9Qt_3Gct5",
        "outputId": "c255f69d-24b9-4e78-954d-603997b7d97d"
      },
      "execution_count": 24,
      "outputs": [
        {
          "output_type": "execute_result",
          "data": {
            "text/plain": [
              "array([1, 2, 3])"
            ]
          },
          "metadata": {},
          "execution_count": 24
        }
      ]
    },
    {
      "cell_type": "code",
      "source": [
        "# RESHAPE 1D --> 2D\n",
        "arr1d.reshape(3, 1)"
      ],
      "metadata": {
        "colab": {
          "base_uri": "https://localhost:8080/"
        },
        "id": "KADxnF4Gjdjd",
        "outputId": "96a36d6b-b78d-4c99-ee0e-0934db9c9a29"
      },
      "execution_count": 25,
      "outputs": [
        {
          "output_type": "execute_result",
          "data": {
            "text/plain": [
              "array([[1],\n",
              "       [2],\n",
              "       [3]])"
            ]
          },
          "metadata": {},
          "execution_count": 25
        }
      ]
    },
    {
      "cell_type": "code",
      "source": [
        "arr2d"
      ],
      "metadata": {
        "colab": {
          "base_uri": "https://localhost:8080/"
        },
        "id": "iSpMUaWLjqrP",
        "outputId": "238fafc9-184d-4302-ab66-682019af0fe6"
      },
      "execution_count": 26,
      "outputs": [
        {
          "output_type": "execute_result",
          "data": {
            "text/plain": [
              "array([[1, 2, 3],\n",
              "       [4, 5, 6],\n",
              "       [7, 8, 9]])"
            ]
          },
          "metadata": {},
          "execution_count": 26
        }
      ]
    },
    {
      "cell_type": "code",
      "source": [
        "# RESHAPE 2D --> 3D\n",
        "arr2d.reshape(1, 3, 3)"
      ],
      "metadata": {
        "colab": {
          "base_uri": "https://localhost:8080/"
        },
        "id": "xqujoOvBjvyN",
        "outputId": "6a50b30e-7d5a-4127-f6d9-1643291ea1f1"
      },
      "execution_count": 27,
      "outputs": [
        {
          "output_type": "execute_result",
          "data": {
            "text/plain": [
              "array([[[1, 2, 3],\n",
              "        [4, 5, 6],\n",
              "        [7, 8, 9]]])"
            ]
          },
          "metadata": {},
          "execution_count": 27
        }
      ]
    },
    {
      "cell_type": "code",
      "source": [
        "# RESHAPE 2D --> 3D\n",
        "arr2d.reshape(3, 1, 3)"
      ],
      "metadata": {
        "colab": {
          "base_uri": "https://localhost:8080/"
        },
        "id": "cVIPFV3lj2_Q",
        "outputId": "f32c39d1-c5cb-4bd2-d286-7bdf0e4b925b"
      },
      "execution_count": 28,
      "outputs": [
        {
          "output_type": "execute_result",
          "data": {
            "text/plain": [
              "array([[[1, 2, 3]],\n",
              "\n",
              "       [[4, 5, 6]],\n",
              "\n",
              "       [[7, 8, 9]]])"
            ]
          },
          "metadata": {},
          "execution_count": 28
        }
      ]
    },
    {
      "cell_type": "code",
      "source": [
        "# RESHAPE 2D --> 3D\n",
        "arr2d.reshape(3, 3, 1)"
      ],
      "metadata": {
        "colab": {
          "base_uri": "https://localhost:8080/"
        },
        "id": "YkIMGoqLj8V6",
        "outputId": "c7a8b399-890e-4112-b5cf-9fe7d0a0e99e"
      },
      "execution_count": 29,
      "outputs": [
        {
          "output_type": "execute_result",
          "data": {
            "text/plain": [
              "array([[[1],\n",
              "        [2],\n",
              "        [3]],\n",
              "\n",
              "       [[4],\n",
              "        [5],\n",
              "        [6]],\n",
              "\n",
              "       [[7],\n",
              "        [8],\n",
              "        [9]]])"
            ]
          },
          "metadata": {},
          "execution_count": 29
        }
      ]
    },
    {
      "cell_type": "code",
      "source": [
        "arr3d"
      ],
      "metadata": {
        "colab": {
          "base_uri": "https://localhost:8080/"
        },
        "id": "h8Wd92Eej_Jy",
        "outputId": "05742e02-0093-4273-ba0b-c582255ae404"
      },
      "execution_count": 30,
      "outputs": [
        {
          "output_type": "execute_result",
          "data": {
            "text/plain": [
              "array([[[11, 12, 13],\n",
              "        [14, 15, 16],\n",
              "        [17, 18, 19]],\n",
              "\n",
              "       [[21, 22, 23],\n",
              "        [24, 25, 26],\n",
              "        [27, 28, 29]],\n",
              "\n",
              "       [[31, 32, 33],\n",
              "        [34, 35, 36],\n",
              "        [37, 38, 39]]])"
            ]
          },
          "metadata": {},
          "execution_count": 30
        }
      ]
    },
    {
      "cell_type": "code",
      "source": [
        "# RESHAPE 3D --> 2D\n",
        "arr3d.reshape(9, 3)"
      ],
      "metadata": {
        "colab": {
          "base_uri": "https://localhost:8080/"
        },
        "id": "sVh6nVh4kBJq",
        "outputId": "8cbc541d-69de-4350-c713-e308fac1f7eb"
      },
      "execution_count": 31,
      "outputs": [
        {
          "output_type": "execute_result",
          "data": {
            "text/plain": [
              "array([[11, 12, 13],\n",
              "       [14, 15, 16],\n",
              "       [17, 18, 19],\n",
              "       [21, 22, 23],\n",
              "       [24, 25, 26],\n",
              "       [27, 28, 29],\n",
              "       [31, 32, 33],\n",
              "       [34, 35, 36],\n",
              "       [37, 38, 39]])"
            ]
          },
          "metadata": {},
          "execution_count": 31
        }
      ]
    },
    {
      "cell_type": "code",
      "source": [
        "# RESHAPE 3D --> 2D\n",
        "arr3d.reshape(3, 9)"
      ],
      "metadata": {
        "colab": {
          "base_uri": "https://localhost:8080/"
        },
        "id": "fZyBzioPkGek",
        "outputId": "4f919f0d-db67-4905-e37a-32b2404cfb36"
      },
      "execution_count": 32,
      "outputs": [
        {
          "output_type": "execute_result",
          "data": {
            "text/plain": [
              "array([[11, 12, 13, 14, 15, 16, 17, 18, 19],\n",
              "       [21, 22, 23, 24, 25, 26, 27, 28, 29],\n",
              "       [31, 32, 33, 34, 35, 36, 37, 38, 39]])"
            ]
          },
          "metadata": {},
          "execution_count": 32
        }
      ]
    },
    {
      "cell_type": "code",
      "source": [
        "# RESHAPE 3D --> 2D\n",
        "arr3d.reshape(1, 27)"
      ],
      "metadata": {
        "colab": {
          "base_uri": "https://localhost:8080/"
        },
        "id": "PWld2MhqkJej",
        "outputId": "409bca93-a102-49c6-8780-b5d1fee30d0c"
      },
      "execution_count": 33,
      "outputs": [
        {
          "output_type": "execute_result",
          "data": {
            "text/plain": [
              "array([[11, 12, 13, 14, 15, 16, 17, 18, 19, 21, 22, 23, 24, 25, 26, 27,\n",
              "        28, 29, 31, 32, 33, 34, 35, 36, 37, 38, 39]])"
            ]
          },
          "metadata": {},
          "execution_count": 33
        }
      ]
    },
    {
      "cell_type": "code",
      "source": [
        "# RESHAPE 3D --> 1D\n",
        "arr3d.reshape(27, )"
      ],
      "metadata": {
        "colab": {
          "base_uri": "https://localhost:8080/"
        },
        "id": "HOhut7uskMbe",
        "outputId": "782f0ec5-cc71-4e82-b80d-89002780bf39"
      },
      "execution_count": 34,
      "outputs": [
        {
          "output_type": "execute_result",
          "data": {
            "text/plain": [
              "array([11, 12, 13, 14, 15, 16, 17, 18, 19, 21, 22, 23, 24, 25, 26, 27, 28,\n",
              "       29, 31, 32, 33, 34, 35, 36, 37, 38, 39])"
            ]
          },
          "metadata": {},
          "execution_count": 34
        }
      ]
    },
    {
      "cell_type": "code",
      "source": [
        "# RESHAPE 3D --> 1D\n",
        "arr3d.reshape(27)"
      ],
      "metadata": {
        "colab": {
          "base_uri": "https://localhost:8080/"
        },
        "id": "IjoC8v7kkRAx",
        "outputId": "5e78ae98-2874-488f-a89d-0696b8dabb33"
      },
      "execution_count": 35,
      "outputs": [
        {
          "output_type": "execute_result",
          "data": {
            "text/plain": [
              "array([11, 12, 13, 14, 15, 16, 17, 18, 19, 21, 22, 23, 24, 25, 26, 27, 28,\n",
              "       29, 31, 32, 33, 34, 35, 36, 37, 38, 39])"
            ]
          },
          "metadata": {},
          "execution_count": 35
        }
      ]
    },
    {
      "cell_type": "code",
      "source": [
        "# 3D array\n",
        "arr = np.array([[[1]]])\n",
        "arr"
      ],
      "metadata": {
        "colab": {
          "base_uri": "https://localhost:8080/"
        },
        "id": "40OCDU_TkSXs",
        "outputId": "08f3f46c-eeed-4ab9-fea6-a239e7fe9c6f"
      },
      "execution_count": 36,
      "outputs": [
        {
          "output_type": "execute_result",
          "data": {
            "text/plain": [
              "array([[[1]]])"
            ]
          },
          "metadata": {},
          "execution_count": 36
        }
      ]
    },
    {
      "cell_type": "code",
      "source": [
        "# DTYPE - malumot turini aniqlash\n",
        "print(arr1d.dtype)\n",
        "print(arr2d.dtype)\n",
        "print(arr3d.dtype)"
      ],
      "metadata": {
        "colab": {
          "base_uri": "https://localhost:8080/"
        },
        "id": "qXOm1yRokhNK",
        "outputId": "5acd572f-13e3-43ea-d6b7-4faac0436a61"
      },
      "execution_count": 37,
      "outputs": [
        {
          "output_type": "stream",
          "name": "stdout",
          "text": [
            "int64\n",
            "int64\n",
            "int64\n"
          ]
        }
      ]
    },
    {
      "cell_type": "code",
      "source": [
        "# DTYPE orqali massiv yaratish\n",
        "arr1d = np.array([1.1, 2.2, 3.3], dtype=np.float32)\n",
        "arr1d"
      ],
      "metadata": {
        "colab": {
          "base_uri": "https://localhost:8080/"
        },
        "id": "ZlTbDUVLlYp6",
        "outputId": "a64dd606-1ca0-4a7a-cc37-897469751371"
      },
      "execution_count": 38,
      "outputs": [
        {
          "output_type": "execute_result",
          "data": {
            "text/plain": [
              "array([1.1, 2.2, 3.3], dtype=float32)"
            ]
          },
          "metadata": {},
          "execution_count": 38
        }
      ]
    },
    {
      "cell_type": "code",
      "source": [
        "# ASTYPE - malumot turini ozgartirish\n",
        "arr2d = arr2d.astype(np.float32)\n",
        "arr2d"
      ],
      "metadata": {
        "colab": {
          "base_uri": "https://localhost:8080/"
        },
        "id": "eyGHadFqIEPc",
        "outputId": "cbf21e11-aadd-4a0e-d4d4-158a364b9342"
      },
      "execution_count": 39,
      "outputs": [
        {
          "output_type": "execute_result",
          "data": {
            "text/plain": [
              "array([[1., 2., 3.],\n",
              "       [4., 5., 6.],\n",
              "       [7., 8., 9.]], dtype=float32)"
            ]
          },
          "metadata": {},
          "execution_count": 39
        }
      ]
    },
    {
      "cell_type": "code",
      "source": [
        "# ASTYPE - malumot turini ozgartirish\n",
        "arr3d = arr3d.astype(np.float32)\n",
        "arr3d"
      ],
      "metadata": {
        "colab": {
          "base_uri": "https://localhost:8080/"
        },
        "id": "Ufw6HVoPIih_",
        "outputId": "4ad97733-e1c2-4b83-e042-4f4b576a767c"
      },
      "execution_count": 40,
      "outputs": [
        {
          "output_type": "execute_result",
          "data": {
            "text/plain": [
              "array([[[11., 12., 13.],\n",
              "        [14., 15., 16.],\n",
              "        [17., 18., 19.]],\n",
              "\n",
              "       [[21., 22., 23.],\n",
              "        [24., 25., 26.],\n",
              "        [27., 28., 29.]],\n",
              "\n",
              "       [[31., 32., 33.],\n",
              "        [34., 35., 36.],\n",
              "        [37., 38., 39.]]], dtype=float32)"
            ]
          },
          "metadata": {},
          "execution_count": 40
        }
      ]
    },
    {
      "cell_type": "code",
      "source": [
        "arr1d"
      ],
      "metadata": {
        "colab": {
          "base_uri": "https://localhost:8080/"
        },
        "id": "6vrCUVM_I6OY",
        "outputId": "fd9c4c2a-95ff-4bd4-a288-3bb158ba48b6"
      },
      "execution_count": 41,
      "outputs": [
        {
          "output_type": "execute_result",
          "data": {
            "text/plain": [
              "array([1.1, 2.2, 3.3], dtype=float32)"
            ]
          },
          "metadata": {},
          "execution_count": 41
        }
      ]
    },
    {
      "cell_type": "code",
      "source": [
        "# ASTYPE - float32 --> int64 - MALUMOT YUQOTILDI\n",
        "arr1d = arr1d.astype(np.int64)\n",
        "arr1d"
      ],
      "metadata": {
        "colab": {
          "base_uri": "https://localhost:8080/"
        },
        "id": "CiWP0NKiJTrC",
        "outputId": "b2a7bb2c-5c70-4636-9b5a-fdd4edc29e50"
      },
      "execution_count": 42,
      "outputs": [
        {
          "output_type": "execute_result",
          "data": {
            "text/plain": [
              "array([1, 2, 3])"
            ]
          },
          "metadata": {},
          "execution_count": 42
        }
      ]
    },
    {
      "cell_type": "code",
      "source": [
        "# 1D massiv 0-indeks\n",
        "arr1d[0]"
      ],
      "metadata": {
        "colab": {
          "base_uri": "https://localhost:8080/"
        },
        "id": "CDZAelP6JvWe",
        "outputId": "52b776e9-9456-4a1c-e01b-b3fe1798afd5"
      },
      "execution_count": 43,
      "outputs": [
        {
          "output_type": "execute_result",
          "data": {
            "text/plain": [
              "1"
            ]
          },
          "metadata": {},
          "execution_count": 43
        }
      ]
    },
    {
      "cell_type": "code",
      "source": [
        "# 1D massiv 1-indeks\n",
        "arr1d[-1]"
      ],
      "metadata": {
        "colab": {
          "base_uri": "https://localhost:8080/"
        },
        "id": "EJSNIbm3MxMh",
        "outputId": "83154ce6-71c4-4908-f9db-8f6e75bae458"
      },
      "execution_count": 44,
      "outputs": [
        {
          "output_type": "execute_result",
          "data": {
            "text/plain": [
              "3"
            ]
          },
          "metadata": {},
          "execution_count": 44
        }
      ]
    },
    {
      "cell_type": "code",
      "source": [
        "# 1D massiv 0dan 2gacha\n",
        "arr1d[0:2]"
      ],
      "metadata": {
        "colab": {
          "base_uri": "https://localhost:8080/"
        },
        "id": "LmTLz6I9M0Vv",
        "outputId": "12255650-f78e-4108-eb75-dddeaf6f42ae"
      },
      "execution_count": 45,
      "outputs": [
        {
          "output_type": "execute_result",
          "data": {
            "text/plain": [
              "array([1, 2])"
            ]
          },
          "metadata": {},
          "execution_count": 45
        }
      ]
    },
    {
      "cell_type": "code",
      "source": [
        "# 1D massiv - hammasi kesib olish\n",
        "arr1d[:]"
      ],
      "metadata": {
        "colab": {
          "base_uri": "https://localhost:8080/"
        },
        "id": "zDthPcYoNNKq",
        "outputId": "4fd42a1a-d7f5-424e-a58c-5893ba695eed"
      },
      "execution_count": 46,
      "outputs": [
        {
          "output_type": "execute_result",
          "data": {
            "text/plain": [
              "array([1, 2, 3])"
            ]
          },
          "metadata": {},
          "execution_count": 46
        }
      ]
    },
    {
      "cell_type": "code",
      "source": [
        "# APPEND - oxiridan qoshadi, lekin asl arrayni ozgartirmaydi\n",
        "# 1ta element qoshganimizda\n",
        "arr1d = np.append(arr1d, 4)\n",
        "arr1d"
      ],
      "metadata": {
        "colab": {
          "base_uri": "https://localhost:8080/"
        },
        "id": "V_qvFNthNPvr",
        "outputId": "754cf655-e053-4003-bcdf-e91703534ac8"
      },
      "execution_count": 47,
      "outputs": [
        {
          "output_type": "execute_result",
          "data": {
            "text/plain": [
              "array([1, 2, 3, 4])"
            ]
          },
          "metadata": {},
          "execution_count": 47
        }
      ]
    },
    {
      "cell_type": "code",
      "source": [
        "# APPEND - oxiridan qoshadi, lekin asl arrayni ozgartirmaydi\n",
        "# bir nechta elementlar qoshganimizda\n",
        "arr1d = np.append(arr1d, [5, 6, 7])\n",
        "arr1d"
      ],
      "metadata": {
        "id": "0WWRUCUdNez6",
        "colab": {
          "base_uri": "https://localhost:8080/"
        },
        "outputId": "c9769e5d-bf67-4439-da23-6c99aba6b2cf"
      },
      "execution_count": 48,
      "outputs": [
        {
          "output_type": "execute_result",
          "data": {
            "text/plain": [
              "array([1, 2, 3, 4, 5, 6, 7])"
            ]
          },
          "metadata": {},
          "execution_count": 48
        }
      ]
    },
    {
      "cell_type": "code",
      "source": [
        "# CONCATENATE - 2 va undan ortiq elementlarni qoshish uchun, \n",
        "# encapsulate q k.k (arr, [elemets]), asl arrayni ozgartirmaydi\n",
        "np.concatenate((arr1d, [111]))"
      ],
      "metadata": {
        "colab": {
          "base_uri": "https://localhost:8080/"
        },
        "id": "2lSgpot7RhLW",
        "outputId": "69678d63-908c-454b-a4a0-d502c8364daf"
      },
      "execution_count": 49,
      "outputs": [
        {
          "output_type": "execute_result",
          "data": {
            "text/plain": [
              "array([  1,   2,   3,   4,   5,   6,   7, 111])"
            ]
          },
          "metadata": {},
          "execution_count": 49
        }
      ]
    },
    {
      "cell_type": "code",
      "source": [
        "# CONCATENATE - 2 va undan ortiq elementlarni qoshish uchun, \n",
        "# encapsulate q k.k (arr, [elemets]), asl arrayni ozgartirmaydi\n",
        "np.concatenate((arr1d, [100, 1000]))"
      ],
      "metadata": {
        "colab": {
          "base_uri": "https://localhost:8080/"
        },
        "id": "Uzhl-HhkS7Za",
        "outputId": "15dcdb9d-06ae-4909-dfcb-ed74f04e5276"
      },
      "execution_count": 50,
      "outputs": [
        {
          "output_type": "execute_result",
          "data": {
            "text/plain": [
              "array([   1,    2,    3,    4,    5,    6,    7,  100, 1000])"
            ]
          },
          "metadata": {},
          "execution_count": 50
        }
      ]
    },
    {
      "cell_type": "code",
      "source": [
        "# INSERT - berilgan indeksdan berilgan elementlarni qoshadi, kiritadi"
      ],
      "metadata": {
        "id": "TsBy_q1aSybN"
      },
      "execution_count": 51,
      "outputs": []
    },
    {
      "cell_type": "code",
      "source": [
        "# boshiga qoshadi\n",
        "np.insert(arr1d, 0, 555)"
      ],
      "metadata": {
        "colab": {
          "base_uri": "https://localhost:8080/"
        },
        "id": "hvxsE-NTUjb9",
        "outputId": "0917798a-e1ba-445e-c684-5d4416d22dbd"
      },
      "execution_count": 52,
      "outputs": [
        {
          "output_type": "execute_result",
          "data": {
            "text/plain": [
              "array([555,   1,   2,   3,   4,   5,   6,   7])"
            ]
          },
          "metadata": {},
          "execution_count": 52
        }
      ]
    },
    {
      "cell_type": "code",
      "source": [
        "# oxirgi indeksga qoshadi\n",
        "np.insert(arr1d, -1, 555)"
      ],
      "metadata": {
        "colab": {
          "base_uri": "https://localhost:8080/"
        },
        "id": "4pxyCh6HUrQ9",
        "outputId": "98c1e35e-7539-4190-9dc7-bde5ce87794a"
      },
      "execution_count": 53,
      "outputs": [
        {
          "output_type": "execute_result",
          "data": {
            "text/plain": [
              "array([  1,   2,   3,   4,   5,   6, 555,   7])"
            ]
          },
          "metadata": {},
          "execution_count": 53
        }
      ]
    },
    {
      "cell_type": "code",
      "source": [
        "# oxiriga qoshadi\n",
        "np.insert(arr1d, arr1d.size, 555)"
      ],
      "metadata": {
        "colab": {
          "base_uri": "https://localhost:8080/"
        },
        "id": "2-xnXxW_WgVj",
        "outputId": "3f7a58b8-5af5-47cd-f81e-87b6b1a0ebab"
      },
      "execution_count": 54,
      "outputs": [
        {
          "output_type": "execute_result",
          "data": {
            "text/plain": [
              "array([  1,   2,   3,   4,   5,   6,   7, 555])"
            ]
          },
          "metadata": {},
          "execution_count": 54
        }
      ]
    },
    {
      "cell_type": "code",
      "source": [
        "arr1d"
      ],
      "metadata": {
        "colab": {
          "base_uri": "https://localhost:8080/"
        },
        "id": "wRf4rrXeW4a4",
        "outputId": "c6399c6f-e5c3-433e-a58e-8feab35ac9ad"
      },
      "execution_count": 55,
      "outputs": [
        {
          "output_type": "execute_result",
          "data": {
            "text/plain": [
              "array([1, 2, 3, 4, 5, 6, 7])"
            ]
          },
          "metadata": {},
          "execution_count": 55
        }
      ]
    },
    {
      "cell_type": "code",
      "source": [
        "# array bir qismi kesib olindi\n",
        "sl_arr = arr1d[2:5]\n",
        "sl_arr"
      ],
      "metadata": {
        "colab": {
          "base_uri": "https://localhost:8080/"
        },
        "id": "7PwYNX2nXXqG",
        "outputId": "e9099ff5-5ea6-44d1-9698-ea08e1db98b9"
      },
      "execution_count": 56,
      "outputs": [
        {
          "output_type": "execute_result",
          "data": {
            "text/plain": [
              "array([3, 4, 5])"
            ]
          },
          "metadata": {},
          "execution_count": 56
        }
      ]
    },
    {
      "cell_type": "code",
      "source": [
        "# kesilgan qismi nolga tenglandi\n",
        "sl_arr[:] = 0\n",
        "sl_arr"
      ],
      "metadata": {
        "colab": {
          "base_uri": "https://localhost:8080/"
        },
        "id": "jdfm8yIpXdKk",
        "outputId": "57aaab56-1800-41fd-faed-f331e9d909e1"
      },
      "execution_count": 57,
      "outputs": [
        {
          "output_type": "execute_result",
          "data": {
            "text/plain": [
              "array([0, 0, 0])"
            ]
          },
          "metadata": {},
          "execution_count": 57
        }
      ]
    },
    {
      "cell_type": "code",
      "source": [
        "# asl array ham ozgardi\n",
        "arr1d"
      ],
      "metadata": {
        "colab": {
          "base_uri": "https://localhost:8080/"
        },
        "id": "OlbapieLX5aY",
        "outputId": "7e775dc8-f396-4989-aa3f-80f5aca5292b"
      },
      "execution_count": 58,
      "outputs": [
        {
          "output_type": "execute_result",
          "data": {
            "text/plain": [
              "array([1, 2, 0, 0, 0, 6, 7])"
            ]
          },
          "metadata": {},
          "execution_count": 58
        }
      ]
    },
    {
      "cell_type": "code",
      "source": [
        "# COPY - arrayni kopy qilib beradi, asl array ozgarmayi shunda\n",
        "sl_arr1 = arr1d[:4].copy()\n",
        "sl_arr1"
      ],
      "metadata": {
        "colab": {
          "base_uri": "https://localhost:8080/"
        },
        "id": "wzVvf7BiX69n",
        "outputId": "7f7e47bb-98db-48f2-cb14-f895f1ca43ca"
      },
      "execution_count": 59,
      "outputs": [
        {
          "output_type": "execute_result",
          "data": {
            "text/plain": [
              "array([1, 2, 0, 0])"
            ]
          },
          "metadata": {},
          "execution_count": 59
        }
      ]
    },
    {
      "cell_type": "code",
      "source": [
        "sl_arr1[:] = 11\n",
        "sl_arr1"
      ],
      "metadata": {
        "colab": {
          "base_uri": "https://localhost:8080/"
        },
        "id": "k7B1hZguYhae",
        "outputId": "8d0b4a26-f6c1-4033-836b-d541d436898c"
      },
      "execution_count": 60,
      "outputs": [
        {
          "output_type": "execute_result",
          "data": {
            "text/plain": [
              "array([11, 11, 11, 11])"
            ]
          },
          "metadata": {},
          "execution_count": 60
        }
      ]
    },
    {
      "cell_type": "code",
      "source": [
        "arr1d"
      ],
      "metadata": {
        "colab": {
          "base_uri": "https://localhost:8080/"
        },
        "id": "VzJ2Cg85Ymi4",
        "outputId": "940c2394-ae16-4126-f83a-292371b34acf"
      },
      "execution_count": 61,
      "outputs": [
        {
          "output_type": "execute_result",
          "data": {
            "text/plain": [
              "array([1, 2, 0, 0, 0, 6, 7])"
            ]
          },
          "metadata": {},
          "execution_count": 61
        }
      ]
    },
    {
      "cell_type": "code",
      "source": [
        "arr2d = arr2d.astype(np.int64)\n",
        "arr2d"
      ],
      "metadata": {
        "colab": {
          "base_uri": "https://localhost:8080/"
        },
        "id": "p_ogWEjMYn-f",
        "outputId": "9c347891-9a92-4fcd-b1e6-f375caed3263"
      },
      "execution_count": 62,
      "outputs": [
        {
          "output_type": "execute_result",
          "data": {
            "text/plain": [
              "array([[1, 2, 3],\n",
              "       [4, 5, 6],\n",
              "       [7, 8, 9]])"
            ]
          },
          "metadata": {},
          "execution_count": 62
        }
      ]
    },
    {
      "cell_type": "code",
      "source": [
        "# arr[n] n-qator, 1D\n",
        "# arr[n, m] n-qator, m-indek element, son\n",
        "# arr[n, :m] n-qator, 0 dan - m gacha bolgan elementlar, 1D\n",
        "# arr[:n, m] 0 dan n gacha qatorlardagi, m-indeks elementlar, 1D\n",
        "# arr[:n, :m] 0 dan n gacha qator, 0 dan m gacha ustun li array, 2D"
      ],
      "metadata": {
        "id": "fJHJ9Ftjhh4H"
      },
      "execution_count": 63,
      "outputs": []
    },
    {
      "cell_type": "code",
      "source": [
        "# 2D array, 0-indeks = 0-qator (1D-array)\n",
        "arr2d[0]"
      ],
      "metadata": {
        "colab": {
          "base_uri": "https://localhost:8080/"
        },
        "id": "3FEF0uMDY37R",
        "outputId": "f51156eb-db12-4dad-b692-f007d779cd10"
      },
      "execution_count": 64,
      "outputs": [
        {
          "output_type": "execute_result",
          "data": {
            "text/plain": [
              "array([1, 2, 3])"
            ]
          },
          "metadata": {},
          "execution_count": 64
        }
      ]
    },
    {
      "cell_type": "code",
      "source": [
        "# 2D array, -1 indeks = oxirgi qator (1D-array)\n",
        "arr2d[-1]"
      ],
      "metadata": {
        "colab": {
          "base_uri": "https://localhost:8080/"
        },
        "id": "qNau6wLvZhmB",
        "outputId": "483d9e3e-856d-456b-866a-b0f495c6a924"
      },
      "execution_count": 65,
      "outputs": [
        {
          "output_type": "execute_result",
          "data": {
            "text/plain": [
              "array([7, 8, 9])"
            ]
          },
          "metadata": {},
          "execution_count": 65
        }
      ]
    },
    {
      "cell_type": "code",
      "source": [
        "# 0-qatorning 0-indeksidagi elementi\n",
        "# yoki 0-qator va 0-ustun kesishgandagi element\n",
        "arr2d[0, 0]"
      ],
      "metadata": {
        "colab": {
          "base_uri": "https://localhost:8080/"
        },
        "id": "gLCCg2WfaOX-",
        "outputId": "0a408ed9-06ad-43e2-8e85-13cbd30c2d10"
      },
      "execution_count": 66,
      "outputs": [
        {
          "output_type": "execute_result",
          "data": {
            "text/plain": [
              "1"
            ]
          },
          "metadata": {},
          "execution_count": 66
        }
      ]
    },
    {
      "cell_type": "code",
      "source": [
        "# (-1) qatorning (-1)-indeksidagi elementi\n",
        "# yoki -1qator va -1ustundagi kesishgan element\n",
        "arr2d[-1, -1]"
      ],
      "metadata": {
        "colab": {
          "base_uri": "https://localhost:8080/"
        },
        "id": "D0FVrayHamES",
        "outputId": "0acf3d13-8545-4bb4-db33-7cacb75ee251"
      },
      "execution_count": 67,
      "outputs": [
        {
          "output_type": "execute_result",
          "data": {
            "text/plain": [
              "9"
            ]
          },
          "metadata": {},
          "execution_count": 67
        }
      ]
    },
    {
      "cell_type": "code",
      "source": [
        "# 1 qatorning , 0dan 2gacha turgan joyidagi elementlari\n",
        "# yoki 1 qator, 0dan 2gacha ustunlarning kesishgan elementlari\n",
        "arr2d[1, :2]"
      ],
      "metadata": {
        "colab": {
          "base_uri": "https://localhost:8080/"
        },
        "id": "aqC2Q3EcbWUz",
        "outputId": "d6ed9175-7cd2-4e22-f432-7ae676825d88"
      },
      "execution_count": 68,
      "outputs": [
        {
          "output_type": "execute_result",
          "data": {
            "text/plain": [
              "array([4, 5])"
            ]
          },
          "metadata": {},
          "execution_count": 68
        }
      ]
    },
    {
      "cell_type": "code",
      "source": [
        "# 1 qatorning , 1dan oxirigacha turgan joyidagi elementlari\n",
        "# yoki 1 qator, 1dan oxirigacha ustunlarning kesishgan elementlari\n",
        "arr2d[1, 1:]"
      ],
      "metadata": {
        "colab": {
          "base_uri": "https://localhost:8080/"
        },
        "id": "4icECMCRcNau",
        "outputId": "19d524b9-1a34-4967-efd6-689b3d5102a8"
      },
      "execution_count": 69,
      "outputs": [
        {
          "output_type": "execute_result",
          "data": {
            "text/plain": [
              "array([5, 6])"
            ]
          },
          "metadata": {},
          "execution_count": 69
        }
      ]
    },
    {
      "cell_type": "code",
      "source": [
        "# hamma qatorning , 0- joyidagi elementlari\n",
        "# yoki 0 ustunni ozidagi elementlar (1D massiv)\n",
        "arr2d[:, 0]"
      ],
      "metadata": {
        "colab": {
          "base_uri": "https://localhost:8080/"
        },
        "id": "Wp9c3yJgcXzz",
        "outputId": "062a8253-a831-401a-8d15-4d3b8c1931d4"
      },
      "execution_count": 70,
      "outputs": [
        {
          "output_type": "execute_result",
          "data": {
            "text/plain": [
              "array([1, 4, 7])"
            ]
          },
          "metadata": {},
          "execution_count": 70
        }
      ]
    },
    {
      "cell_type": "code",
      "source": [
        "# hamma qatorning , 0- joyidagi elementlari\n",
        "# yoki 0 ustunni ozidagi elementlar (2D massiv)\n",
        "arr2d[:, :1]"
      ],
      "metadata": {
        "colab": {
          "base_uri": "https://localhost:8080/"
        },
        "id": "EyGPj7WVdilY",
        "outputId": "3f0a36b7-5bd0-4bd1-c4aa-ee03915d3613"
      },
      "execution_count": 71,
      "outputs": [
        {
          "output_type": "execute_result",
          "data": {
            "text/plain": [
              "array([[1],\n",
              "       [4],\n",
              "       [7]])"
            ]
          },
          "metadata": {},
          "execution_count": 71
        }
      ]
    },
    {
      "cell_type": "code",
      "source": [
        "# hamma qatorning , 0 chi joyidagi elementlari\n",
        "# yoki 0 ustunni ozidagi elementlar\n",
        "arr2d[1:, :2]"
      ],
      "metadata": {
        "colab": {
          "base_uri": "https://localhost:8080/"
        },
        "id": "CzDn6P0XdC4k",
        "outputId": "7fef96c2-da2a-42d8-8b1c-e5c48756d461"
      },
      "execution_count": 72,
      "outputs": [
        {
          "output_type": "execute_result",
          "data": {
            "text/plain": [
              "array([[4, 5],\n",
              "       [7, 8]])"
            ]
          },
          "metadata": {},
          "execution_count": 72
        }
      ]
    },
    {
      "cell_type": "code",
      "source": [
        "arr2d[:, :]"
      ],
      "metadata": {
        "colab": {
          "base_uri": "https://localhost:8080/"
        },
        "id": "lj8wOerod7hm",
        "outputId": "37615611-bedf-4d12-9a86-8dc17fa28fa7"
      },
      "execution_count": 73,
      "outputs": [
        {
          "output_type": "execute_result",
          "data": {
            "text/plain": [
              "array([[1, 2, 3],\n",
              "       [4, 5, 6],\n",
              "       [7, 8, 9]])"
            ]
          },
          "metadata": {},
          "execution_count": 73
        }
      ]
    },
    {
      "cell_type": "code",
      "source": [
        "arr3d = arr3d.astype(np.int64)\n",
        "arr3d"
      ],
      "metadata": {
        "colab": {
          "base_uri": "https://localhost:8080/"
        },
        "id": "O0Vur6Erg03Z",
        "outputId": "896a7386-fb7e-4234-b531-8836e0a00569"
      },
      "execution_count": 74,
      "outputs": [
        {
          "output_type": "execute_result",
          "data": {
            "text/plain": [
              "array([[[11, 12, 13],\n",
              "        [14, 15, 16],\n",
              "        [17, 18, 19]],\n",
              "\n",
              "       [[21, 22, 23],\n",
              "        [24, 25, 26],\n",
              "        [27, 28, 29]],\n",
              "\n",
              "       [[31, 32, 33],\n",
              "        [34, 35, 36],\n",
              "        [37, 38, 39]]])"
            ]
          },
          "metadata": {},
          "execution_count": 74
        }
      ]
    },
    {
      "cell_type": "code",
      "source": [
        "# 0 - array --> 2D\n",
        "arr3d[0]"
      ],
      "metadata": {
        "colab": {
          "base_uri": "https://localhost:8080/"
        },
        "id": "WT09BTcAjjg2",
        "outputId": "303de6cd-2ed9-4e88-ec7c-faee693263b8"
      },
      "execution_count": 75,
      "outputs": [
        {
          "output_type": "execute_result",
          "data": {
            "text/plain": [
              "array([[11, 12, 13],\n",
              "       [14, 15, 16],\n",
              "       [17, 18, 19]])"
            ]
          },
          "metadata": {},
          "execution_count": 75
        }
      ]
    },
    {
      "cell_type": "code",
      "source": [
        "# -1 - array --> 2D\n",
        "arr3d[-1]"
      ],
      "metadata": {
        "colab": {
          "base_uri": "https://localhost:8080/"
        },
        "id": "V2_omBwF0Qcc",
        "outputId": "d4b806e9-ddfe-46d2-ddd3-5853aa629809"
      },
      "execution_count": 76,
      "outputs": [
        {
          "output_type": "execute_result",
          "data": {
            "text/plain": [
              "array([[31, 32, 33],\n",
              "       [34, 35, 36],\n",
              "       [37, 38, 39]])"
            ]
          },
          "metadata": {},
          "execution_count": 76
        }
      ]
    },
    {
      "cell_type": "code",
      "source": [
        "# qolgani 2D indekslash bo'yicha ketadi\n",
        "arr3d[0][0]"
      ],
      "metadata": {
        "colab": {
          "base_uri": "https://localhost:8080/"
        },
        "id": "zWUxfQEf0kLH",
        "outputId": "9c721d67-9df1-4a3a-96f4-50182cb442f0"
      },
      "execution_count": 77,
      "outputs": [
        {
          "output_type": "execute_result",
          "data": {
            "text/plain": [
              "array([11, 12, 13])"
            ]
          },
          "metadata": {},
          "execution_count": 77
        }
      ]
    },
    {
      "cell_type": "code",
      "source": [
        "arr3d[0][:, 0]"
      ],
      "metadata": {
        "colab": {
          "base_uri": "https://localhost:8080/"
        },
        "id": "9fPJTUvj0zQ3",
        "outputId": "5350de47-bad0-4332-932c-e0b143e921e8"
      },
      "execution_count": 78,
      "outputs": [
        {
          "output_type": "execute_result",
          "data": {
            "text/plain": [
              "array([11, 14, 17])"
            ]
          },
          "metadata": {},
          "execution_count": 78
        }
      ]
    },
    {
      "cell_type": "code",
      "source": [
        "arr3d[0][:, :1]"
      ],
      "metadata": {
        "colab": {
          "base_uri": "https://localhost:8080/"
        },
        "id": "fnWHaSgO03hW",
        "outputId": "f284ac4c-8b86-45f3-ad56-2e2eb072e5b7"
      },
      "execution_count": 79,
      "outputs": [
        {
          "output_type": "execute_result",
          "data": {
            "text/plain": [
              "array([[11],\n",
              "       [14],\n",
              "       [17]])"
            ]
          },
          "metadata": {},
          "execution_count": 79
        }
      ]
    },
    {
      "cell_type": "code",
      "source": [
        "arr3d[0][:2, :2]"
      ],
      "metadata": {
        "colab": {
          "base_uri": "https://localhost:8080/"
        },
        "id": "TtxOU4WV0750",
        "outputId": "9a5a22da-1de8-4590-f2bb-3fbf75d92d16"
      },
      "execution_count": 80,
      "outputs": [
        {
          "output_type": "execute_result",
          "data": {
            "text/plain": [
              "array([[11, 12],\n",
              "       [14, 15]])"
            ]
          },
          "metadata": {},
          "execution_count": 80
        }
      ]
    },
    {
      "cell_type": "code",
      "source": [
        "arr2d"
      ],
      "metadata": {
        "colab": {
          "base_uri": "https://localhost:8080/"
        },
        "id": "vFQ8ohqI0_9M",
        "outputId": "3b26ecd0-2f71-4e27-8c1d-e3d36bbe334d"
      },
      "execution_count": 81,
      "outputs": [
        {
          "output_type": "execute_result",
          "data": {
            "text/plain": [
              "array([[1, 2, 3],\n",
              "       [4, 5, 6],\n",
              "       [7, 8, 9]])"
            ]
          },
          "metadata": {},
          "execution_count": 81
        }
      ]
    },
    {
      "cell_type": "code",
      "source": [
        "# APPEND (2D) - 1ta qiymat berilsa, oxiridan qoshib 1D qaytararkan\n",
        "np.append(arr2d, 222)"
      ],
      "metadata": {
        "colab": {
          "base_uri": "https://localhost:8080/"
        },
        "id": "LGQT5cHv2IXg",
        "outputId": "a28616f2-47b6-477b-ad29-967f36b635c9"
      },
      "execution_count": 82,
      "outputs": [
        {
          "output_type": "execute_result",
          "data": {
            "text/plain": [
              "array([  1,   2,   3,   4,   5,   6,   7,   8,   9, 222])"
            ]
          },
          "metadata": {},
          "execution_count": 82
        }
      ]
    },
    {
      "cell_type": "code",
      "source": [
        "# APPEND (2D) - 3ta qiymat berilsa, oxiridan qoshib 1D qaytararkan\n",
        "np.append(arr2d, [222, 222, 222])"
      ],
      "metadata": {
        "colab": {
          "base_uri": "https://localhost:8080/"
        },
        "id": "SFKinUZs2cXX",
        "outputId": "1f42ad45-7ba7-499a-e5ae-8c538f2ab27d"
      },
      "execution_count": 83,
      "outputs": [
        {
          "output_type": "execute_result",
          "data": {
            "text/plain": [
              "array([  1,   2,   3,   4,   5,   6,   7,   8,   9, 222, 222, 222])"
            ]
          },
          "metadata": {},
          "execution_count": 83
        }
      ]
    },
    {
      "cell_type": "code",
      "source": [
        "# APPEND (2D) - yangi qator qoshish, qoshiladigan malumot ham 2D bolishi kerak, 2D qaytaradi\n",
        "np.append(arr2d, [[222, 222, 222]], axis=0)"
      ],
      "metadata": {
        "colab": {
          "base_uri": "https://localhost:8080/"
        },
        "id": "BWru0uKJ3fes",
        "outputId": "7fa6414f-9c76-400e-f40e-c16369011da4"
      },
      "execution_count": 84,
      "outputs": [
        {
          "output_type": "execute_result",
          "data": {
            "text/plain": [
              "array([[  1,   2,   3],\n",
              "       [  4,   5,   6],\n",
              "       [  7,   8,   9],\n",
              "       [222, 222, 222]])"
            ]
          },
          "metadata": {},
          "execution_count": 84
        }
      ]
    },
    {
      "cell_type": "code",
      "source": [
        "# APPEND (2D) - yangi qator qoshish, qoshiladigan malumot ham 2D \n",
        "# va olchami bir xil bolishi kerak, 2D qaytaradi\n",
        "np.append(arr2d, [[222, 222, 222], [222, 222, 222]], axis=0)"
      ],
      "metadata": {
        "colab": {
          "base_uri": "https://localhost:8080/"
        },
        "id": "juOIzDP14Q3z",
        "outputId": "82815539-5c95-429b-d772-0fb38e69ef99"
      },
      "execution_count": 85,
      "outputs": [
        {
          "output_type": "execute_result",
          "data": {
            "text/plain": [
              "array([[  1,   2,   3],\n",
              "       [  4,   5,   6],\n",
              "       [  7,   8,   9],\n",
              "       [222, 222, 222],\n",
              "       [222, 222, 222]])"
            ]
          },
          "metadata": {},
          "execution_count": 85
        }
      ]
    },
    {
      "cell_type": "code",
      "source": [
        "# APPEND (2D) - yangi qator qoshish, qoshiladigan malumot ham 2D \n",
        "# va olchami bir xil bolishi kerak, 2D qaytaradi\n",
        "np.append(arr2d, [[11],[14],[17]])\n"
      ],
      "metadata": {
        "colab": {
          "base_uri": "https://localhost:8080/"
        },
        "id": "U5DNQO0o4eBd",
        "outputId": "cc207e51-7bc2-4ac9-da4f-11f7e02b9ec9"
      },
      "execution_count": 86,
      "outputs": [
        {
          "output_type": "execute_result",
          "data": {
            "text/plain": [
              "array([ 1,  2,  3,  4,  5,  6,  7,  8,  9, 11, 14, 17])"
            ]
          },
          "metadata": {},
          "execution_count": 86
        }
      ]
    },
    {
      "cell_type": "code",
      "source": [
        "# CONCATENATE\n",
        "\n",
        "\"\"\"\n",
        "(__a: Any, /, axis: ... = ..., out: ... = ..., dtype: ... = ..., casting: ... = ...) -> Any\n",
        "concatenate((a1, a2, ...), axis=0, out=None, dtype=None, casting=\"same_kind\")\n",
        "\n",
        "Join a sequence of arrays along an existing axis.\n",
        "\n",
        "Parameters\n",
        "\n",
        "a1, a2, ... : sequence of array_like\n",
        "    The arrays must have the same shape, except in the dimension\n",
        "corresponding to axis (the first, by default).\n",
        "axis : int, optional\n",
        "    The axis along which the arrays will be joined.  If axis is None,\n",
        "arrays are flattened before use.  Default is 0.\n",
        "out : ndarray, optional\n",
        "    If provided, the destination to place the result. The shape must be\n",
        "correct, matching that of what concatenate would have returned if no\n",
        "out argument were specified.\n",
        "dtype : str or dtype\n",
        "    If provided, the destination array will have this dtype. Cannot be\n",
        "provided together with out.\n",
        "\n",
        "casting : {'no', 'equiv', 'safe', 'same_kind', 'unsafe'}, optional\n",
        "    Controls what kind of data casting may occur. Defaults to 'same_kind'.\n",
        "\n",
        "Returns\n",
        "\n",
        "res : ndarray\n",
        "    The concatenated array.\n",
        "\n",
        "See Also\n",
        "\n",
        "ma.concatenate : Concatenate function that preserves input masks.\n",
        "array_split : Split an array into multiple sub-arrays of equal or\n",
        "              near-equal size.\n",
        "split : Split array into a list of multiple sub-arrays of equal size.\n",
        "hsplit : Split array into multiple sub-arrays horizontally (column wise).\n",
        "vsplit : Split array into multiple sub-arrays vertically (row wise).\n",
        "dsplit : Split array into multiple sub-arrays along the 3rd axis (depth).\n",
        "stack : Stack a sequence of arrays along a new axis.\n",
        "block : Assemble arrays from blocks.\n",
        "hstack : Stack arrays in sequence horizontally (column wise).\n",
        "vstack : Stack arrays in sequence vertically (row wise).\n",
        "dstack : Stack arrays in sequence depth wise (along third dimension).\n",
        "column_stack : Stack 1-D arrays as columns into a 2-D array.\n",
        "\n",
        "Notes\n",
        "\n",
        "When one or more of the arrays to be concatenated is a MaskedArray,\n",
        "this function will return a MaskedArray object instead of an ndarray,\n",
        "but the input masks are *not* preserved. In cases where a MaskedArray\n",
        "is expected as input, use the ma.concatenate function from the masked\n",
        "array module instead.\n",
        "\n",
        "Examples\n",
        "\n",
        ">>> a = np.array([[1, 2], [3, 4]])\n",
        ">>> b = np.array([[5, 6]])\n",
        ">>> np.concatenate((a, b), axis=0)\n",
        "array([[1, 2],\n",
        "       [3, 4],\n",
        "       [5, 6]])\n",
        ">>> np.concatenate((a, b.T), axis=1)\n",
        "array([[1, 2, 5],\n",
        "       [3, 4, 6]])\n",
        ">>> np.concatenate((a, b), axis=None)\n",
        "array([1, 2, 3, 4, 5, 6])\n",
        "This function will not preserve masking of MaskedArray inputs.\n",
        "\n",
        ">>> a = np.ma.arange(3)\n",
        ">>> a[1] = np.ma.masked\n",
        ">>> b = np.arange(2, 5)\n",
        ">>> a\n",
        "masked_array(data=[0, --, 2],\n",
        "             mask=[False,  True, False],\n",
        "       fill_value=999999)\n",
        ">>> b\n",
        "array([2, 3, 4])\n",
        ">>> np.concatenate([a, b])\n",
        "masked_array(data=[0, 1, 2, 2, 3, 4],\n",
        "             mask=False,\n",
        "       fill_value=999999)\n",
        ">>> np.ma.concatenate([a, b])\n",
        "masked_array(data=[0, --, 2, 2, 3, 4],\n",
        "             mask=[False,  True, False, False, False, False],\n",
        "       fill_value=999999)\n",
        "\"\"\""
      ],
      "metadata": {
        "colab": {
          "base_uri": "https://localhost:8080/",
          "height": 123
        },
        "id": "_18AghWD5UBz",
        "outputId": "60ad7978-14f1-4058-a50d-87d576ab7b3e"
      },
      "execution_count": 87,
      "outputs": [
        {
          "output_type": "execute_result",
          "data": {
            "text/plain": [
              "'\\n(__a: Any, /, axis: ... = ..., out: ... = ..., dtype: ... = ..., casting: ... = ...) -> Any\\nconcatenate((a1, a2, ...), axis=0, out=None, dtype=None, casting=\"same_kind\")\\n\\nJoin a sequence of arrays along an existing axis.\\n\\nParameters\\n\\na1, a2, ... : sequence of array_like\\n    The arrays must have the same shape, except in the dimension\\ncorresponding to axis (the first, by default).\\naxis : int, optional\\n    The axis along which the arrays will be joined.  If axis is None,\\narrays are flattened before use.  Default is 0.\\nout : ndarray, optional\\n    If provided, the destination to place the result. The shape must be\\ncorrect, matching that of what concatenate would have returned if no\\nout argument were specified.\\ndtype : str or dtype\\n    If provided, the destination array will have this dtype. Cannot be\\nprovided together with out.\\n\\ncasting : {\\'no\\', \\'equiv\\', \\'safe\\', \\'same_kind\\', \\'unsafe\\'}, optional\\n    Controls what kind of data casting may occur. Defaults to \\'same_kind\\'.\\n\\nReturns\\n\\nres : ndarray\\n    The concatenated array.\\n\\nSee Also\\n\\nma.concatenate : Concatenate function that preserves input masks.\\narray_split : Split an array into multiple sub-arrays of equal or\\n              near-equal size.\\nsplit : Split array into a list of multiple sub-arrays of equal size.\\nhsplit : Split array into multiple sub-arrays horizontally (column wise).\\nvsplit : Split array into multiple sub-arrays vertically (row wise).\\ndsplit : Split array into multiple sub-arrays along the 3rd axis (depth).\\nstack : Stack a sequence of arrays along a new axis.\\nblock : Assemble arrays from blocks.\\nhstack : Stack arrays in sequence horizontally (column wise).\\nvstack : Stack arrays in sequence vertically (row wise).\\ndstack : Stack arrays in sequence depth wise (along third dimension).\\ncolumn_stack : Stack 1-D arrays as columns into a 2-D array.\\n\\nNotes\\n\\nWhen one or more of the arrays to be concatenated is a MaskedArray,\\nthis function will return a MaskedArray object instead of an ndarray,\\nbut the input masks are *not* preserved. In cases where a MaskedArray\\nis expected as input, use the ma.concatenate function from the masked\\narray module instead.\\n\\nExamples\\n\\n>>> a = np.array([[1, 2], [3, 4]])\\n>>> b = np.array([[5, 6]])\\n>>> np.concatenate((a, b), axis=0)\\narray([[1, 2],\\n       [3, 4],\\n       [5, 6]])\\n>>> np.concatenate((a, b.T), axis=1)\\narray([[1, 2, 5],\\n       [3, 4, 6]])\\n>>> np.concatenate((a, b), axis=None)\\narray([1, 2, 3, 4, 5, 6])\\nThis function will not preserve masking of MaskedArray inputs.\\n\\n>>> a = np.ma.arange(3)\\n>>> a[1] = np.ma.masked\\n>>> b = np.arange(2, 5)\\n>>> a\\nmasked_array(data=[0, --, 2],\\n             mask=[False,  True, False],\\n       fill_value=999999)\\n>>> b\\narray([2, 3, 4])\\n>>> np.concatenate([a, b])\\nmasked_array(data=[0, 1, 2, 2, 3, 4],\\n             mask=False,\\n       fill_value=999999)\\n>>> np.ma.concatenate([a, b])\\nmasked_array(data=[0, --, 2, 2, 3, 4],\\n             mask=[False,  True, False, False, False, False],\\n       fill_value=999999)\\n'"
            ],
            "application/vnd.google.colaboratory.intrinsic+json": {
              "type": "string"
            }
          },
          "metadata": {},
          "execution_count": 87
        }
      ]
    },
    {
      "cell_type": "code",
      "source": [
        "arr2d"
      ],
      "metadata": {
        "colab": {
          "base_uri": "https://localhost:8080/"
        },
        "id": "aiGMGMN5Ayz-",
        "outputId": "652dcf07-1536-4a5f-85b1-174d039d6b81"
      },
      "execution_count": 88,
      "outputs": [
        {
          "output_type": "execute_result",
          "data": {
            "text/plain": [
              "array([[1, 2, 3],\n",
              "       [4, 5, 6],\n",
              "       [7, 8, 9]])"
            ]
          },
          "metadata": {},
          "execution_count": 88
        }
      ]
    },
    {
      "cell_type": "code",
      "source": [
        "np.concatenate((arr2d, [[33, 44, 55]]), axis=0)"
      ],
      "metadata": {
        "colab": {
          "base_uri": "https://localhost:8080/"
        },
        "id": "EYsJ3JkQBOeu",
        "outputId": "2507e166-9e9d-4b0c-f2b6-b40156a4c8ce"
      },
      "execution_count": 89,
      "outputs": [
        {
          "output_type": "execute_result",
          "data": {
            "text/plain": [
              "array([[ 1,  2,  3],\n",
              "       [ 4,  5,  6],\n",
              "       [ 7,  8,  9],\n",
              "       [33, 44, 55]])"
            ]
          },
          "metadata": {},
          "execution_count": 89
        }
      ]
    },
    {
      "cell_type": "code",
      "source": [
        "np.concatenate((arr2d, arr2d.T), axis=1)"
      ],
      "metadata": {
        "colab": {
          "base_uri": "https://localhost:8080/"
        },
        "id": "eJoUleqeBWno",
        "outputId": "7252e18b-954a-4552-d379-fa388e40d0d7"
      },
      "execution_count": 90,
      "outputs": [
        {
          "output_type": "execute_result",
          "data": {
            "text/plain": [
              "array([[1, 2, 3, 1, 4, 7],\n",
              "       [4, 5, 6, 2, 5, 8],\n",
              "       [7, 8, 9, 3, 6, 9]])"
            ]
          },
          "metadata": {},
          "execution_count": 90
        }
      ]
    },
    {
      "cell_type": "code",
      "source": [
        "# INSERT\n",
        "\"\"\"\n",
        "(arr: Any, obj: Any, values: Any, axis: ... = ...) -> Any\n",
        "Insert values along the given axis before the given indices.\n",
        "\n",
        "Parameters\n",
        "\n",
        "arr : array_like\n",
        "    Input array.\n",
        "obj : int, slice or sequence of ints\n",
        "    Object that defines the index or indices before which values is\n",
        "inserted.\n",
        "\n",
        "values : array_like\n",
        "    Values to insert into arr. If the type of values is different\n",
        "from that of arr, values is converted to the type of arr.\n",
        "values should be shaped so that arr[...,obj,...] = values\n",
        "is legal.\n",
        "axis : int, optional\n",
        "    Axis along which to insert values.  If axis is None then arr\n",
        "is flattened first.\n",
        "\n",
        "Returns\n",
        "\n",
        "out : ndarray\n",
        "    A copy of arr with values inserted.  Note that insert\n",
        "    does not occur in-place: a new array is returned. If\n",
        "axis is None, out is a flattened array.\n",
        "\n",
        "See Also\n",
        "\n",
        "append : Append elements at the end of an array.\n",
        "concatenate : Join a sequence of arrays along an existing axis.\n",
        "delete : Delete elements from an array.\n",
        "\n",
        "Notes\n",
        "\n",
        "Note that for higher dimensional inserts obj=0 behaves very different\n",
        "from obj=[0] just like arr[:,0,:] = values is different from\n",
        "arr[:,[0],:] = values.\n",
        "\n",
        "Examples\n",
        "\n",
        ">>> a = np.array([[1, 1], [2, 2], [3, 3]])\n",
        ">>> a\n",
        "array([[1, 1],\n",
        "       [2, 2],\n",
        "       [3, 3]])\n",
        ">>> np.insert(a, 1, 5)\n",
        "array([1, 5, 1, ..., 2, 3, 3])\n",
        ">>> np.insert(a, 1, 5, axis=1)\n",
        "array([[1, 5, 1],\n",
        "       [2, 5, 2],\n",
        "       [3, 5, 3]])\n",
        "Difference between sequence and scalars:\n",
        "\n",
        ">>> np.insert(a, [1], [[1],[2],[3]], axis=1)\n",
        "array([[1, 1, 1],\n",
        "       [2, 2, 2],\n",
        "       [3, 3, 3]])\n",
        ">>> np.array_equal(np.insert(a, 1, [1, 2, 3], axis=1),\n",
        "...                np.insert(a, [1], [[1],[2],[3]], axis=1))\n",
        "True\n",
        ">>> b = a.flatten()\n",
        ">>> b\n",
        "array([1, 1, 2, 2, 3, 3])\n",
        ">>> np.insert(b, [2, 2], [5, 6])\n",
        "array([1, 1, 5, ..., 2, 3, 3])\n",
        ">>> np.insert(b, slice(2, 4), [5, 6])\n",
        "array([1, 1, 5, ..., 2, 3, 3])\n",
        ">>> np.insert(b, [2, 2], [7.13, False]) # type casting\n",
        "array([1, 1, 7, ..., 2, 3, 3])\n",
        ">>> x = np.arange(8).reshape(2, 4)\n",
        ">>> idx = (1, 3)\n",
        ">>> np.insert(x, idx, 999, axis=1)\n",
        "array([[  0, 999,   1,   2, 999,   3],\n",
        "       [  4, 999,   5,   6, 999,   7]])\n",
        "\"\"\""
      ],
      "metadata": {
        "colab": {
          "base_uri": "https://localhost:8080/",
          "height": 123
        },
        "id": "l7w6-J1LDUy0",
        "outputId": "a2f8f047-80bc-409f-b25e-cc74448ed902"
      },
      "execution_count": 91,
      "outputs": [
        {
          "output_type": "execute_result",
          "data": {
            "text/plain": [
              "'\\n(arr: Any, obj: Any, values: Any, axis: ... = ...) -> Any\\nInsert values along the given axis before the given indices.\\n\\nParameters\\n\\narr : array_like\\n    Input array.\\nobj : int, slice or sequence of ints\\n    Object that defines the index or indices before which values is\\ninserted.\\n\\nvalues : array_like\\n    Values to insert into arr. If the type of values is different\\nfrom that of arr, values is converted to the type of arr.\\nvalues should be shaped so that arr[...,obj,...] = values\\nis legal.\\naxis : int, optional\\n    Axis along which to insert values.  If axis is None then arr\\nis flattened first.\\n\\nReturns\\n\\nout : ndarray\\n    A copy of arr with values inserted.  Note that insert\\n    does not occur in-place: a new array is returned. If\\naxis is None, out is a flattened array.\\n\\nSee Also\\n\\nappend : Append elements at the end of an array.\\nconcatenate : Join a sequence of arrays along an existing axis.\\ndelete : Delete elements from an array.\\n\\nNotes\\n\\nNote that for higher dimensional inserts obj=0 behaves very different\\nfrom obj=[0] just like arr[:,0,:] = values is different from\\narr[:,[0],:] = values.\\n\\nExamples\\n\\n>>> a = np.array([[1, 1], [2, 2], [3, 3]])\\n>>> a\\narray([[1, 1],\\n       [2, 2],\\n       [3, 3]])\\n>>> np.insert(a, 1, 5)\\narray([1, 5, 1, ..., 2, 3, 3])\\n>>> np.insert(a, 1, 5, axis=1)\\narray([[1, 5, 1],\\n       [2, 5, 2],\\n       [3, 5, 3]])\\nDifference between sequence and scalars:\\n\\n>>> np.insert(a, [1], [[1],[2],[3]], axis=1)\\narray([[1, 1, 1],\\n       [2, 2, 2],\\n       [3, 3, 3]])\\n>>> np.array_equal(np.insert(a, 1, [1, 2, 3], axis=1),\\n...                np.insert(a, [1], [[1],[2],[3]], axis=1))\\nTrue\\n>>> b = a.flatten()\\n>>> b\\narray([1, 1, 2, 2, 3, 3])\\n>>> np.insert(b, [2, 2], [5, 6])\\narray([1, 1, 5, ..., 2, 3, 3])\\n>>> np.insert(b, slice(2, 4), [5, 6])\\narray([1, 1, 5, ..., 2, 3, 3])\\n>>> np.insert(b, [2, 2], [7.13, False]) # type casting\\narray([1, 1, 7, ..., 2, 3, 3])\\n>>> x = np.arange(8).reshape(2, 4)\\n>>> idx = (1, 3)\\n>>> np.insert(x, idx, 999, axis=1)\\narray([[  0, 999,   1,   2, 999,   3],\\n       [  4, 999,   5,   6, 999,   7]])\\n'"
            ],
            "application/vnd.google.colaboratory.intrinsic+json": {
              "type": "string"
            }
          },
          "metadata": {},
          "execution_count": 91
        }
      ]
    },
    {
      "cell_type": "markdown",
      "source": [
        "---"
      ],
      "metadata": {
        "id": "jhiRq4G3EpwU"
      }
    },
    {
      "cell_type": "code",
      "source": [
        "# RANDOM.RADN\n",
        "\"\"\"\n",
        "() -> float\n",
        "rand(d0, d1, ..., dn)\n",
        "\n",
        "Random values in a given shape.\n",
        "\n",
        ".. note::\n",
        "    This is a convenience function for users porting code from Matlab,\n",
        "    and wraps `random_sample`. That function takes a\n",
        "    tuple to specify the size of the output, which is consistent with\n",
        "    other NumPy functions like `numpy.zeros` and `numpy.ones`.\n",
        "\n",
        "Create an array of the given shape and populate it with\n",
        "random samples from a uniform distribution\n",
        "over ``[0, 1)``.\n",
        "\n",
        "Parameters\n",
        "----------\n",
        "d0, d1, ..., dn : int, optional\n",
        "    The dimensions of the returned array, must be non-negative.\n",
        "    If no argument is given a single Python float is returned.\n",
        "\n",
        "Returns\n",
        "-------\n",
        "out : ndarray, shape ``(d0, d1, ..., dn)``\n",
        "    Random values.\n",
        "\n",
        "See Also\n",
        "--------\n",
        "random\n",
        "\n",
        "Examples\n",
        "--------\n",
        ">>> np.random.rand(3,2)\n",
        "array([[ 0.14022471,  0.96360618],  #random\n",
        "       [ 0.37601032,  0.25528411],  #random\n",
        "       [ 0.49313049,  0.94909878]]) #random\n",
        "\n",
        "\n",
        "(*args: int) -> ndarray[Any, dtype[float64]]\n",
        "\"\"\""
      ],
      "metadata": {
        "colab": {
          "base_uri": "https://localhost:8080/",
          "height": 123
        },
        "id": "MLh2ZrAnEsGD",
        "outputId": "1e749889-05ae-4621-870c-d0ba4bc2b0ca"
      },
      "execution_count": 92,
      "outputs": [
        {
          "output_type": "execute_result",
          "data": {
            "text/plain": [
              "'\\n() -> float\\nrand(d0, d1, ..., dn)\\n\\nRandom values in a given shape.\\n\\n.. note::\\n    This is a convenience function for users porting code from Matlab,\\n    and wraps `random_sample`. That function takes a\\n    tuple to specify the size of the output, which is consistent with\\n    other NumPy functions like `numpy.zeros` and `numpy.ones`.\\n\\nCreate an array of the given shape and populate it with\\nrandom samples from a uniform distribution\\nover ``[0, 1)``.\\n\\nParameters\\n----------\\nd0, d1, ..., dn : int, optional\\n    The dimensions of the returned array, must be non-negative.\\n    If no argument is given a single Python float is returned.\\n\\nReturns\\n-------\\nout : ndarray, shape ``(d0, d1, ..., dn)``\\n    Random values.\\n\\nSee Also\\n--------\\nrandom\\n\\nExamples\\n--------\\n>>> np.random.rand(3,2)\\narray([[ 0.14022471,  0.96360618],  #random\\n       [ 0.37601032,  0.25528411],  #random\\n       [ 0.49313049,  0.94909878]]) #random\\n\\n\\n(*args: int) -> ndarray[Any, dtype[float64]]\\n'"
            ],
            "application/vnd.google.colaboratory.intrinsic+json": {
              "type": "string"
            }
          },
          "metadata": {},
          "execution_count": 92
        }
      ]
    },
    {
      "cell_type": "code",
      "source": [
        "# RANDOM\n",
        "\n",
        "# RAND - 0 va 1 oraligida berilgan shape boyicha tasodiviy sonlar\n",
        "np.random.rand() "
      ],
      "metadata": {
        "colab": {
          "base_uri": "https://localhost:8080/"
        },
        "id": "ASyVCFoEBixQ",
        "outputId": "ebc90dd9-cce9-4537-f6ea-afe9b095a67b"
      },
      "execution_count": 153,
      "outputs": [
        {
          "output_type": "execute_result",
          "data": {
            "text/plain": [
              "0.20973090040039977"
            ]
          },
          "metadata": {},
          "execution_count": 153
        }
      ]
    },
    {
      "cell_type": "code",
      "source": [
        "np.random.rand(2, 2, 2) "
      ],
      "metadata": {
        "colab": {
          "base_uri": "https://localhost:8080/"
        },
        "id": "bxW27o8cD5wd",
        "outputId": "63053828-f6d7-47be-f660-91589e1a48ac"
      },
      "execution_count": 94,
      "outputs": [
        {
          "output_type": "execute_result",
          "data": {
            "text/plain": [
              "array([[[0.74277047, 0.1008035 ],\n",
              "        [0.5975872 , 0.21234437]],\n",
              "\n",
              "       [[0.88535286, 0.69796426],\n",
              "        [0.97701697, 0.22157943]]])"
            ]
          },
          "metadata": {},
          "execution_count": 94
        }
      ]
    },
    {
      "cell_type": "code",
      "source": [
        "\"\"\"\n",
        "(low: int, high: int | None = ...) -> int\n",
        "randint(low, high=None, size=None, dtype=int)\n",
        "\n",
        "Return random integers from `low` (inclusive) to `high` (exclusive).\n",
        "\n",
        "Return random integers from the \"discrete uniform\" distribution of\n",
        "the specified dtype in the \"half-open\" interval [`low`, `high`). If\n",
        "`high` is None (the default), then results are from [0, `low`).\n",
        "\n",
        ".. note::\n",
        "    New code should use the ``integers`` method of a ``default_rng()``\n",
        "    instance instead; please see the :ref:`random-quick-start`.\n",
        "\n",
        "Parameters\n",
        "----------\n",
        "low : int or array-like of ints\n",
        "    Lowest (signed) integers to be drawn from the distribution (unless\n",
        "    ``high=None``, in which case this parameter is one above the\n",
        "    *highest* such integer).\n",
        "high : int or array-like of ints, optional\n",
        "    If provided, one above the largest (signed) integer to be drawn\n",
        "    from the distribution (see above for behavior if ``high=None``).\n",
        "    If array-like, must contain integer values\n",
        "size : int or tuple of ints, optional\n",
        "    Output shape.  If the given shape is, e.g., ``(m, n, k)``, then\n",
        "    ``m * n * k`` samples are drawn.  Default is None, in which case a\n",
        "    single value is returned.\n",
        "dtype : dtype, optional\n",
        "    Desired dtype of the result. Byteorder must be native.\n",
        "    The default value is int.\n",
        "\n",
        "    .. versionadded:: 1.11.0\n",
        "\n",
        "Returns\n",
        "-------\n",
        "out : int or ndarray of ints\n",
        "    `size`-shaped array of random integers from the appropriate\n",
        "    distribution, or a single such random int if `size` not provided.\n",
        "\n",
        "See Also\n",
        "--------\n",
        "random_integers : similar to `randint`, only for the closed\n",
        "    interval [`low`, `high`], and 1 is the lowest value if `high` is\n",
        "    omitted.\n",
        "Generator.integers: which should be used for new code.\n",
        "\n",
        "Examples\n",
        "--------\n",
        ">>> np.random.randint(2, size=10)\n",
        "array([1, 0, 0, 0, 1, 1, 0, 0, 1, 0]) # random\n",
        ">>> np.random.randint(1, size=10)\n",
        "array([0, 0, 0, 0, 0, 0, 0, 0, 0, 0])\n",
        "\n",
        "Generate a 2 x 4 array of ints between 0 and 4, inclusive:\n",
        "\n",
        ">>> np.random.randint(5, size=(2, 4))\n",
        "array([[4, 0, 2, 1], # random\n",
        "       [3, 2, 2, 0]])\n",
        "\n",
        "Generate a 1 x 3 array with 3 different upper bounds\n",
        "\n",
        ">>> np.random.randint(1, [3, 5, 10])\n",
        "array([2, 2, 9]) # random\n",
        "\n",
        "Generate a 1 by 3 array with 3 different lower bounds\n",
        "\n",
        ">>> np.random.randint([1, 5, 7], 10)\n",
        "array([9, 8, 7]) # random\n",
        "\n",
        "Generate a 2 by 4 array using broadcasting with dtype of uint8\n",
        "\n",
        ">>> np.random.randint([1, 3, 5, 7], [[10], [20]], dtype=np.uint8)\n",
        "array([[ 8,  6,  9,  7], # random\n",
        "       [ 1, 16,  9, 12]], dtype=uint8)\n",
        "\n",
        "\n",
        "\n",
        "(low: int, high: int | None = ..., size: None = ..., \n",
        "dtype: _DTypeLikeBool = ...) -> bool\n",
        "\n",
        "\n",
        "(low: int, high: int | None = ..., \n",
        "size: None = ..., dtype: Type[int] | \n",
        "Type[signedinteger] | dtype[signedinteger] | \n",
        "_SupportsDType[dtype[signedinteger]] | \n",
        "Type[unsignedinteger] | \n",
        "dtype[unsignedinteger] |\n",
        " _SupportsDType[dtype[unsignedinteger]] |\n",
        "  Literal['int8', 'i1', '=i1', '<i1', '>i1', 'int16', \n",
        "'i2', '=i2', '<i2', '>i2', 'int32',\n",
        " 'i4', '=i4', '<i4', '>i4',\n",
        " 'int64', 'i8', '=i8', '<i8', '>i8',\n",
        " 'byte', 'b', '=b', '<b', '>b', 'short',\n",
        " 'h', '=h', '<h', '>h', 'intc',\n",
        " 'i', '=i', '<i', '>i', 'intp', 'int0',\n",
        " 'p', '=p', '<p', '>p', 'long', 'int', 'int_',\n",
        " 'l', '=l', '<l', '>l', 'longlong',\n",
        " 'q', '=q', '<q', '>q', 'uint8',\n",
        " 'u1', '=u1', '<u1', '>u1', 'uint16',\n",
        " 'u2', '=u2', '<u2', '>u2', 'uint32',\n",
        " 'u4', '=u4', '<u4', '>u4', 'uint64',\n",
        " 'u8', '=u8', '<u8', '>u8', 'ubyte',\n",
        " 'B', '=B', '<B', '>B', 'ushort',\n",
        " 'H', '=H', '<H', '>H', 'uintc', \n",
        "'I', '=I', '<I', '>I',\n",
        " 'uintp', 'uint0',\n",
        " 'P', '=P', '<P', '>P', 'uint',\n",
        " 'L', '=L', '<L', '>L', 'ulonglong',\n",
        " 'Q', '=Q', '<Q', '>Q'] = ...) -> int\n",
        "\n",
        "\n",
        "\n",
        "\n",
        "(low: _ArrayLikeInt_co, high: _ArrayLikeInt_co | None = ..., \n",
        "size: _ShapeLike | None = ...) -> ndarray[Any, dtype[int_]]\n",
        "\n",
        "\n",
        "...\n",
        "\n",
        "\"\"\""
      ],
      "metadata": {
        "id": "j7s8HRA6FWWL"
      },
      "execution_count": null,
      "outputs": []
    },
    {
      "cell_type": "code",
      "source": [
        "# RANDOM\n",
        "\n",
        "# RANDINT - 2 gacha, 10ta tasodiviy natural sonlar iborat array, 2 kirmaydi\n",
        "np.random.randint(2, size=10)"
      ],
      "metadata": {
        "colab": {
          "base_uri": "https://localhost:8080/"
        },
        "id": "_Zm2XUi3FL7a",
        "outputId": "c988b15e-16b5-4318-8d32-1345d33a2936"
      },
      "execution_count": 98,
      "outputs": [
        {
          "output_type": "execute_result",
          "data": {
            "text/plain": [
              "array([1, 1, 1, 1, 0, 1, 1, 0, 1, 0])"
            ]
          },
          "metadata": {},
          "execution_count": 98
        }
      ]
    },
    {
      "cell_type": "code",
      "source": [
        "# RANDINT - 1 gacha, 10ta tasodiviy natural sonlar iborat array, 1 kirmaydi\n",
        "np.random.randint(1, size=10)"
      ],
      "metadata": {
        "colab": {
          "base_uri": "https://localhost:8080/"
        },
        "id": "4XE1qGtWeEvD",
        "outputId": "8e2cb6b9-2954-4374-b568-3487166391c9"
      },
      "execution_count": 99,
      "outputs": [
        {
          "output_type": "execute_result",
          "data": {
            "text/plain": [
              "array([0, 0, 0, 0, 0, 0, 0, 0, 0, 0])"
            ]
          },
          "metadata": {},
          "execution_count": 99
        }
      ]
    },
    {
      "cell_type": "code",
      "source": [
        "np.zeros((10))"
      ],
      "metadata": {
        "colab": {
          "base_uri": "https://localhost:8080/"
        },
        "id": "4D3FwcljeUON",
        "outputId": "e4505650-e8c3-43b0-df9b-c3f2825ec780"
      },
      "execution_count": 100,
      "outputs": [
        {
          "output_type": "execute_result",
          "data": {
            "text/plain": [
              "array([0., 0., 0., 0., 0., 0., 0., 0., 0., 0.])"
            ]
          },
          "metadata": {},
          "execution_count": 100
        }
      ]
    },
    {
      "cell_type": "code",
      "source": [
        "# RANDINT - 5 gacha, (2, 4) li tasodiviy natural sonlar iborat array, 5 kirmaydi\n",
        "np.random.randint(5, size=(2, 4))"
      ],
      "metadata": {
        "colab": {
          "base_uri": "https://localhost:8080/"
        },
        "id": "jbNxwpAGeeLd",
        "outputId": "08a99758-c7e1-48e4-9658-a7974bde0627"
      },
      "execution_count": 101,
      "outputs": [
        {
          "output_type": "execute_result",
          "data": {
            "text/plain": [
              "array([[2, 2, 0, 2],\n",
              "       [1, 4, 3, 0]])"
            ]
          },
          "metadata": {},
          "execution_count": 101
        }
      ]
    },
    {
      "cell_type": "code",
      "source": [
        "# RANDINT - pastki chegara - 1, yuqori chegara 3 ta uchun, 3, 5, 10 gacha va bu raqamlar kirmaydi\n",
        "np.random.randint(1, [3, 5, 10])"
      ],
      "metadata": {
        "colab": {
          "base_uri": "https://localhost:8080/"
        },
        "id": "VEm9nlHje4mo",
        "outputId": "ea0fcfe6-0a8a-47fd-c47f-451bab42f897"
      },
      "execution_count": 104,
      "outputs": [
        {
          "output_type": "execute_result",
          "data": {
            "text/plain": [
              "array([2, 3, 8])"
            ]
          },
          "metadata": {},
          "execution_count": 104
        }
      ]
    },
    {
      "cell_type": "code",
      "source": [
        "# RANDINT - pastki chegaralar - 1, 5, 7, yuqori chegara 10 gacha va bu raqamlar kirmaydi\n",
        "np.random.randint([1, 5, 7], 10)"
      ],
      "metadata": {
        "colab": {
          "base_uri": "https://localhost:8080/"
        },
        "id": "sPwP5ORpfRZB",
        "outputId": "98424cf5-d715-4f83-f149-74c0ebd25ab9"
      },
      "execution_count": 106,
      "outputs": [
        {
          "output_type": "execute_result",
          "data": {
            "text/plain": [
              "array([5, 7, 8])"
            ]
          },
          "metadata": {},
          "execution_count": 106
        }
      ]
    },
    {
      "cell_type": "code",
      "source": [
        "# RANDINT - pastki chegara - ([1, 3, 5, 7], yuqori chegara [10], ikkinchi qator uchun [20]\n",
        "np.random.randint([1, 3, 5, 7], [[10], [20]], dtype=np.uint8)"
      ],
      "metadata": {
        "colab": {
          "base_uri": "https://localhost:8080/"
        },
        "id": "QbjAjpd6fZbN",
        "outputId": "e839b30a-82f8-4580-a4b6-0f7488382fbb"
      },
      "execution_count": 109,
      "outputs": [
        {
          "output_type": "execute_result",
          "data": {
            "text/plain": [
              "array([[ 6,  6,  8,  8],\n",
              "       [ 3,  7, 19, 18]], dtype=uint8)"
            ]
          },
          "metadata": {},
          "execution_count": 109
        }
      ]
    },
    {
      "cell_type": "code",
      "source": [
        "\"\"\"\n",
        "() -> float\n",
        "randn(d0, d1, ..., dn)\n",
        "\n",
        "Return a sample (or samples) from the \"standard normal\" distribution.\n",
        "\n",
        ".. note::\n",
        "    This is a convenience function for users porting code from Matlab,\n",
        "    and wraps `standard_normal`. That function takes a\n",
        "    tuple to specify the size of the output, which is consistent with\n",
        "    other NumPy functions like `numpy.zeros` and `numpy.ones`.\n",
        "\n",
        ".. note::\n",
        "    New code should use the ``standard_normal`` method of a ``default_rng()``\n",
        "    instance instead; please see the :ref:`random-quick-start`.\n",
        "\n",
        "If positive int_like arguments are provided, `randn` generates an array\n",
        "of shape ``(d0, d1, ..., dn)``, filled\n",
        "with random floats sampled from a univariate \"normal\" (Gaussian)\n",
        "distribution of mean 0 and variance 1. A single float randomly sampled\n",
        "from the distribution is returned if no argument is provided.\n",
        "\n",
        "Parameters\n",
        "----------\n",
        "d0, d1, ..., dn : int, optional\n",
        "    The dimensions of the returned array, must be non-negative.\n",
        "    If no argument is given a single Python float is returned.\n",
        "\n",
        "Returns\n",
        "-------\n",
        "Z : ndarray or float\n",
        "    A ``(d0, d1, ..., dn)``-shaped array of floating-point samples from\n",
        "    the standard normal distribution, or a single such float if\n",
        "    no parameters were supplied.\n",
        "\n",
        "See Also\n",
        "--------\n",
        "standard_normal : Similar, but takes a tuple as its argument.\n",
        "normal : Also accepts mu and sigma arguments.\n",
        "Generator.standard_normal: which should be used for new code.\n",
        "\n",
        "Notes\n",
        "-----\n",
        "For random samples from :math:`N(\\mu, \\sigma^2)`, use:\n",
        "\n",
        "``sigma * np.random.randn(...) + mu``\n",
        "\n",
        "Examples\n",
        "--------\n",
        ">>> np.random.randn()\n",
        "2.1923875335537315  # random\n",
        "\n",
        "Two-by-four array of samples from N(3, 6.25):\n",
        "\n",
        ">>> 3 + 2.5 * np.random.randn(2, 4)\n",
        "array([[-4.49401501,  4.00950034, -1.81814867,  7.29718677],   # random\n",
        "       [ 0.39924804,  4.68456316,  4.99394529,  4.84057254]])  # random\n",
        "\n",
        "\n",
        "\n",
        "(*args: int) -> ndarray[Any, dtype[float64]]\n",
        "\"\"\""
      ],
      "metadata": {
        "id": "Jy9s4ZSnlx0i"
      },
      "execution_count": null,
      "outputs": []
    },
    {
      "cell_type": "code",
      "source": [
        "np.random.randn(4, 4)"
      ],
      "metadata": {
        "colab": {
          "base_uri": "https://localhost:8080/"
        },
        "id": "wSWTzRR5lLVh",
        "outputId": "b7091b95-81d1-4517-ae66-eb4f11698ed0"
      },
      "execution_count": 154,
      "outputs": [
        {
          "output_type": "execute_result",
          "data": {
            "text/plain": [
              "array([[-2.82294287,  1.04576413, -0.01339504,  0.27252857],\n",
              "       [-0.00649293,  0.81238293, -0.29772269,  0.62353226],\n",
              "       [ 0.57160643,  0.73486242,  2.64906183,  0.38111549],\n",
              "       [ 0.33552162,  0.8400749 , -0.78775093,  0.32850872]])"
            ]
          },
          "metadata": {},
          "execution_count": 154
        }
      ]
    },
    {
      "cell_type": "markdown",
      "source": [
        "---"
      ],
      "metadata": {
        "id": "6_uYuGg8hSsk"
      }
    },
    {
      "cell_type": "code",
      "source": [
        "arr = np.random.randn(7, 4)\n",
        "arr"
      ],
      "metadata": {
        "colab": {
          "base_uri": "https://localhost:8080/"
        },
        "id": "wPv5IkX6hSR1",
        "outputId": "46f14c36-f9f6-4e09-c62e-5a31db0874fa"
      },
      "execution_count": 114,
      "outputs": [
        {
          "output_type": "execute_result",
          "data": {
            "text/plain": [
              "array([[-1.54568908,  0.50090851, -1.37765371,  0.0969461 ],\n",
              "       [ 0.79467199, -0.7847479 , -0.6601733 , -0.21512645],\n",
              "       [ 0.09881665,  0.96187625, -0.30830066, -1.46425082],\n",
              "       [-1.74707006, -0.32710726, -1.61519979, -1.50114056],\n",
              "       [-1.21505638, -0.41300639, -1.75047426,  0.95351273],\n",
              "       [ 0.34459302, -1.1581315 , -1.2358987 ,  0.19654742],\n",
              "       [-0.85540578,  0.96674027, -0.44505783,  2.63763946]])"
            ]
          },
          "metadata": {},
          "execution_count": 114
        }
      ]
    },
    {
      "cell_type": "code",
      "source": [
        "names = np.array(['Jasur', 'Doston', 'Habib', 'Ikrom', 'Jasur', 'Sardor', 'Jamshid'])\n",
        "names"
      ],
      "metadata": {
        "colab": {
          "base_uri": "https://localhost:8080/"
        },
        "id": "SR-Ct8EKgkaz",
        "outputId": "1c88b69a-6195-4897-af93-983edaee0f18"
      },
      "execution_count": 121,
      "outputs": [
        {
          "output_type": "execute_result",
          "data": {
            "text/plain": [
              "array(['Jasur', 'Doston', 'Habib', 'Ikrom', 'Jasur', 'Sardor', 'Jamshid'],\n",
              "      dtype='<U7')"
            ]
          },
          "metadata": {},
          "execution_count": 121
        }
      ]
    },
    {
      "cell_type": "code",
      "source": [
        "names == 'Jasur'"
      ],
      "metadata": {
        "colab": {
          "base_uri": "https://localhost:8080/"
        },
        "id": "RPiG71pDhP2B",
        "outputId": "4ea8745a-3e21-4738-ce64-73d292d1b43a"
      },
      "execution_count": 122,
      "outputs": [
        {
          "output_type": "execute_result",
          "data": {
            "text/plain": [
              "array([ True, False, False, False,  True, False, False])"
            ]
          },
          "metadata": {},
          "execution_count": 122
        }
      ]
    },
    {
      "cell_type": "code",
      "source": [
        "arr[names == 'Jasur']"
      ],
      "metadata": {
        "colab": {
          "base_uri": "https://localhost:8080/"
        },
        "id": "4ZN5yjx9hs7n",
        "outputId": "ab6fd887-e7a5-4ef3-da34-4ebcb77db270"
      },
      "execution_count": 123,
      "outputs": [
        {
          "output_type": "execute_result",
          "data": {
            "text/plain": [
              "array([[-1.54568908,  0.50090851, -1.37765371,  0.0969461 ],\n",
              "       [-1.21505638, -0.41300639, -1.75047426,  0.95351273]])"
            ]
          },
          "metadata": {},
          "execution_count": 123
        }
      ]
    },
    {
      "cell_type": "code",
      "source": [
        "arr[names == 'Jasur'][:2, 2:]"
      ],
      "metadata": {
        "colab": {
          "base_uri": "https://localhost:8080/"
        },
        "id": "_RPhakC_hyXs",
        "outputId": "092350b9-3f5e-432c-83f2-f26cd18e40d4"
      },
      "execution_count": 125,
      "outputs": [
        {
          "output_type": "execute_result",
          "data": {
            "text/plain": [
              "array([[-1.37765371,  0.0969461 ],\n",
              "       [-1.75047426,  0.95351273]])"
            ]
          },
          "metadata": {},
          "execution_count": 125
        }
      ]
    },
    {
      "cell_type": "code",
      "source": [
        "arr[names == 'Jasur', 2:]"
      ],
      "metadata": {
        "colab": {
          "base_uri": "https://localhost:8080/"
        },
        "id": "iz6XC6OmiNVp",
        "outputId": "859a5fed-d9e7-4fec-f919-945923e23fb2"
      },
      "execution_count": 126,
      "outputs": [
        {
          "output_type": "execute_result",
          "data": {
            "text/plain": [
              "array([[-1.37765371,  0.0969461 ],\n",
              "       [-1.75047426,  0.95351273]])"
            ]
          },
          "metadata": {},
          "execution_count": 126
        }
      ]
    },
    {
      "cell_type": "code",
      "source": [
        "names != 'Jasur'"
      ],
      "metadata": {
        "colab": {
          "base_uri": "https://localhost:8080/"
        },
        "id": "lQm7uvOciTD4",
        "outputId": "35fe9b85-36b7-44c1-fe34-ef786e7240a9"
      },
      "execution_count": 128,
      "outputs": [
        {
          "output_type": "execute_result",
          "data": {
            "text/plain": [
              "array([False,  True,  True,  True, False,  True,  True])"
            ]
          },
          "metadata": {},
          "execution_count": 128
        }
      ]
    },
    {
      "cell_type": "code",
      "source": [
        "arr[names != 'Jasur']"
      ],
      "metadata": {
        "colab": {
          "base_uri": "https://localhost:8080/"
        },
        "id": "WH_8jCp_iXNL",
        "outputId": "62ce4cf5-cfbd-43d7-9c7c-bb01a1c57edd"
      },
      "execution_count": 129,
      "outputs": [
        {
          "output_type": "execute_result",
          "data": {
            "text/plain": [
              "array([[ 0.79467199, -0.7847479 , -0.6601733 , -0.21512645],\n",
              "       [ 0.09881665,  0.96187625, -0.30830066, -1.46425082],\n",
              "       [-1.74707006, -0.32710726, -1.61519979, -1.50114056],\n",
              "       [ 0.34459302, -1.1581315 , -1.2358987 ,  0.19654742],\n",
              "       [-0.85540578,  0.96674027, -0.44505783,  2.63763946]])"
            ]
          },
          "metadata": {},
          "execution_count": 129
        }
      ]
    },
    {
      "cell_type": "code",
      "source": [
        "(names == 'Jasur') | (names == 'Ikrom')"
      ],
      "metadata": {
        "colab": {
          "base_uri": "https://localhost:8080/"
        },
        "id": "1xmrxt3VieKm",
        "outputId": "fadb4ffb-41bb-4747-f2af-bc30682b46e3"
      },
      "execution_count": 130,
      "outputs": [
        {
          "output_type": "execute_result",
          "data": {
            "text/plain": [
              "array([ True, False, False,  True,  True, False, False])"
            ]
          },
          "metadata": {},
          "execution_count": 130
        }
      ]
    },
    {
      "cell_type": "code",
      "source": [
        "arr[(names == 'Jasur') | (names == 'Ikrom')]"
      ],
      "metadata": {
        "colab": {
          "base_uri": "https://localhost:8080/"
        },
        "id": "9N2QmiPmilKZ",
        "outputId": "9aee0765-860e-4831-c783-b0de47e53c1f"
      },
      "execution_count": 132,
      "outputs": [
        {
          "output_type": "execute_result",
          "data": {
            "text/plain": [
              "array([[-1.54568908,  0.50090851, -1.37765371,  0.0969461 ],\n",
              "       [-1.74707006, -0.32710726, -1.61519979, -1.50114056],\n",
              "       [-1.21505638, -0.41300639, -1.75047426,  0.95351273]])"
            ]
          },
          "metadata": {},
          "execution_count": 132
        }
      ]
    },
    {
      "cell_type": "code",
      "source": [
        "arr[~((names == 'Jasur') | (names == 'Ikrom'))]"
      ],
      "metadata": {
        "colab": {
          "base_uri": "https://localhost:8080/"
        },
        "id": "qtPSEW-4iq8k",
        "outputId": "2285bfa6-ef64-42d3-fdc2-43738c32646d"
      },
      "execution_count": 133,
      "outputs": [
        {
          "output_type": "execute_result",
          "data": {
            "text/plain": [
              "array([[ 0.79467199, -0.7847479 , -0.6601733 , -0.21512645],\n",
              "       [ 0.09881665,  0.96187625, -0.30830066, -1.46425082],\n",
              "       [ 0.34459302, -1.1581315 , -1.2358987 ,  0.19654742],\n",
              "       [-0.85540578,  0.96674027, -0.44505783,  2.63763946]])"
            ]
          },
          "metadata": {},
          "execution_count": 133
        }
      ]
    },
    {
      "cell_type": "code",
      "source": [
        "arr"
      ],
      "metadata": {
        "colab": {
          "base_uri": "https://localhost:8080/"
        },
        "id": "QnY11ju2i203",
        "outputId": "0af6f6c9-340b-4d14-dbe5-3abeaeca62c5"
      },
      "execution_count": 134,
      "outputs": [
        {
          "output_type": "execute_result",
          "data": {
            "text/plain": [
              "array([[-1.54568908,  0.50090851, -1.37765371,  0.0969461 ],\n",
              "       [ 0.79467199, -0.7847479 , -0.6601733 , -0.21512645],\n",
              "       [ 0.09881665,  0.96187625, -0.30830066, -1.46425082],\n",
              "       [-1.74707006, -0.32710726, -1.61519979, -1.50114056],\n",
              "       [-1.21505638, -0.41300639, -1.75047426,  0.95351273],\n",
              "       [ 0.34459302, -1.1581315 , -1.2358987 ,  0.19654742],\n",
              "       [-0.85540578,  0.96674027, -0.44505783,  2.63763946]])"
            ]
          },
          "metadata": {},
          "execution_count": 134
        }
      ]
    },
    {
      "cell_type": "code",
      "source": [
        "arr[arr>0]"
      ],
      "metadata": {
        "colab": {
          "base_uri": "https://localhost:8080/"
        },
        "id": "3fY9uHyri5r6",
        "outputId": "dab08551-8ea2-4187-9d28-6f13e8467fae"
      },
      "execution_count": 136,
      "outputs": [
        {
          "output_type": "execute_result",
          "data": {
            "text/plain": [
              "array([0.50090851, 0.0969461 , 0.79467199, 0.09881665, 0.96187625,\n",
              "       0.95351273, 0.34459302, 0.19654742, 0.96674027, 2.63763946])"
            ]
          },
          "metadata": {},
          "execution_count": 136
        }
      ]
    },
    {
      "cell_type": "code",
      "source": [
        "arr[arr>0] = 111"
      ],
      "metadata": {
        "id": "Nt9Krjd3i8IN"
      },
      "execution_count": 147,
      "outputs": []
    },
    {
      "cell_type": "code",
      "source": [
        "arr"
      ],
      "metadata": {
        "colab": {
          "base_uri": "https://localhost:8080/"
        },
        "id": "v7SGR1rEjSsf",
        "outputId": "a2b34f4d-ec2d-4860-b86c-1aeb1bc73361"
      },
      "execution_count": 148,
      "outputs": [
        {
          "output_type": "execute_result",
          "data": {
            "text/plain": [
              "array([[ -1., 111.,  -1., 111.],\n",
              "       [111.,  -1.,  -1.,  -1.],\n",
              "       [111., 111.,  -1.,  -1.],\n",
              "       [ -1.,  -1.,  -1.,  -1.],\n",
              "       [ -1.,  -1.,  -1., 111.],\n",
              "       [111.,  -1.,  -1., 111.],\n",
              "       [ -1., 111.,  -1., 111.]])"
            ]
          },
          "metadata": {},
          "execution_count": 148
        }
      ]
    },
    {
      "cell_type": "code",
      "source": [
        "arr[arr<0]"
      ],
      "metadata": {
        "colab": {
          "base_uri": "https://localhost:8080/"
        },
        "id": "x6zZgdFSjTvH",
        "outputId": "b0a2a477-0ff6-49f6-8ef4-2b934a11ef34"
      },
      "execution_count": 149,
      "outputs": [
        {
          "output_type": "execute_result",
          "data": {
            "text/plain": [
              "array([-1., -1., -1., -1., -1., -1., -1., -1., -1., -1., -1., -1., -1.,\n",
              "       -1., -1., -1., -1., -1.])"
            ]
          },
          "metadata": {},
          "execution_count": 149
        }
      ]
    },
    {
      "cell_type": "code",
      "source": [
        "arr[arr<0] = 0"
      ],
      "metadata": {
        "id": "0nB-GxKCjWXe"
      },
      "execution_count": 151,
      "outputs": []
    },
    {
      "cell_type": "code",
      "source": [
        "arr"
      ],
      "metadata": {
        "colab": {
          "base_uri": "https://localhost:8080/"
        },
        "id": "6YY-ZHqdjYjT",
        "outputId": "3939969f-7034-4b53-efae-6139cfc81294"
      },
      "execution_count": 152,
      "outputs": [
        {
          "output_type": "execute_result",
          "data": {
            "text/plain": [
              "array([[  0., 111.,   0., 111.],\n",
              "       [111.,   0.,   0.,   0.],\n",
              "       [111., 111.,   0.,   0.],\n",
              "       [  0.,   0.,   0.,   0.],\n",
              "       [  0.,   0.,   0., 111.],\n",
              "       [111.,   0.,   0., 111.],\n",
              "       [  0., 111.,   0., 111.]])"
            ]
          },
          "metadata": {},
          "execution_count": 152
        }
      ]
    },
    {
      "cell_type": "markdown",
      "source": [
        "---"
      ],
      "metadata": {
        "id": "5zE2FHEVjgvT"
      }
    },
    {
      "cell_type": "code",
      "source": [
        "arr.T"
      ],
      "metadata": {
        "colab": {
          "base_uri": "https://localhost:8080/"
        },
        "id": "_aTsFoN4jZWg",
        "outputId": "aec07b17-a46e-4dec-ebae-bb8bea1bcddd"
      },
      "execution_count": 155,
      "outputs": [
        {
          "output_type": "execute_result",
          "data": {
            "text/plain": [
              "array([[  0., 111., 111.,   0.,   0., 111.,   0.],\n",
              "       [111.,   0., 111.,   0.,   0.,   0., 111.],\n",
              "       [  0.,   0.,   0.,   0.,   0.,   0.,   0.],\n",
              "       [111.,   0.,   0.,   0., 111., 111., 111.]])"
            ]
          },
          "metadata": {},
          "execution_count": 155
        }
      ]
    },
    {
      "cell_type": "code",
      "source": [
        "arr"
      ],
      "metadata": {
        "colab": {
          "base_uri": "https://localhost:8080/"
        },
        "id": "EtkJrDm3nViJ",
        "outputId": "c9a49391-7170-430f-ce8c-48a11d6bbeab"
      },
      "execution_count": 156,
      "outputs": [
        {
          "output_type": "execute_result",
          "data": {
            "text/plain": [
              "array([[  0., 111.,   0., 111.],\n",
              "       [111.,   0.,   0.,   0.],\n",
              "       [111., 111.,   0.,   0.],\n",
              "       [  0.,   0.,   0.,   0.],\n",
              "       [  0.,   0.,   0., 111.],\n",
              "       [111.,   0.,   0., 111.],\n",
              "       [  0., 111.,   0., 111.]])"
            ]
          },
          "metadata": {},
          "execution_count": 156
        }
      ]
    },
    {
      "cell_type": "code",
      "source": [
        "arr.swapaxes(1, 0)"
      ],
      "metadata": {
        "colab": {
          "base_uri": "https://localhost:8080/"
        },
        "id": "5GgFDgi_n2HU",
        "outputId": "652130fa-7c37-4f1b-988f-42173f4439dd"
      },
      "execution_count": 160,
      "outputs": [
        {
          "output_type": "execute_result",
          "data": {
            "text/plain": [
              "array([[  0., 111., 111.,   0.,   0., 111.,   0.],\n",
              "       [111.,   0., 111.,   0.,   0.,   0., 111.],\n",
              "       [  0.,   0.,   0.,   0.,   0.,   0.,   0.],\n",
              "       [111.,   0.,   0.,   0., 111., 111., 111.]])"
            ]
          },
          "metadata": {},
          "execution_count": 160
        }
      ]
    },
    {
      "cell_type": "code",
      "source": [
        "np.dot(arr, arr.T)"
      ],
      "metadata": {
        "colab": {
          "base_uri": "https://localhost:8080/"
        },
        "id": "BbXKMCIWoDZ6",
        "outputId": "2d4a9cee-7b05-4620-f124-5fac3d53e386"
      },
      "execution_count": 161,
      "outputs": [
        {
          "output_type": "execute_result",
          "data": {
            "text/plain": [
              "array([[24642.,     0., 12321.,     0., 12321., 12321., 24642.],\n",
              "       [    0., 12321., 12321.,     0.,     0., 12321.,     0.],\n",
              "       [12321., 12321., 24642.,     0.,     0., 12321., 12321.],\n",
              "       [    0.,     0.,     0.,     0.,     0.,     0.,     0.],\n",
              "       [12321.,     0.,     0.,     0., 12321., 12321., 12321.],\n",
              "       [12321., 12321., 12321.,     0., 12321., 24642., 12321.],\n",
              "       [24642.,     0., 12321.,     0., 12321., 12321., 24642.]])"
            ]
          },
          "metadata": {},
          "execution_count": 161
        }
      ]
    },
    {
      "cell_type": "markdown",
      "source": [
        "---"
      ],
      "metadata": {
        "id": "ZEBWtks3pqoo"
      }
    },
    {
      "cell_type": "code",
      "source": [
        "# UNARY\n",
        "# np.sqrt()\n",
        "# np.square()\n",
        "# np.exp()\n",
        "# np.log(), log2(), log10(), log1p - log(1+x)\n",
        "# np.log(arr[1:])\n",
        "# np.modf() - qoldiq, butun\n",
        "# np.sign() - >0 1, <0 -1\n",
        "# np.isnan()\n",
        "# np.abs(), fabs() - absolut qiymat, modul\n",
        "# np.ceil()\n",
        "# np.floor()\n",
        "# np.rint() - yaxlitlaydi\n",
        "# np.cos()\n",
        "# np.arccos()"
      ],
      "metadata": {
        "id": "v2Lu2emqpSlU"
      },
      "execution_count": null,
      "outputs": []
    },
    {
      "cell_type": "code",
      "source": [
        "# BINARY\n",
        "# np.add()\n",
        "# np.subtract()\n",
        "# np.multiply()\n",
        "# np.maximum\n",
        "# np.power() -- **\n",
        "# max, fmax\n",
        "# min, fmin\n",
        "# mod\n",
        "# copysign\n",
        "# greater, greater_equal, less, less_equal, equal, not_equal\n",
        "# logical_and, logical_or, logical_xor -- &, |, ^"
      ],
      "metadata": {
        "id": "Kdcsti8Zrr4J"
      },
      "execution_count": null,
      "outputs": []
    },
    {
      "cell_type": "code",
      "source": [
        "arr"
      ],
      "metadata": {
        "colab": {
          "base_uri": "https://localhost:8080/"
        },
        "id": "TXNG_VCuuAoZ",
        "outputId": "907caee6-4079-4c67-9ce5-4b746f045975"
      },
      "execution_count": 165,
      "outputs": [
        {
          "output_type": "execute_result",
          "data": {
            "text/plain": [
              "array([[  0., 111.,   0., 111.],\n",
              "       [111.,   0.,   0.,   0.],\n",
              "       [111., 111.,   0.,   0.],\n",
              "       [  0.,   0.,   0.,   0.],\n",
              "       [  0.,   0.,   0., 111.],\n",
              "       [111.,   0.,   0., 111.],\n",
              "       [  0., 111.,   0., 111.]])"
            ]
          },
          "metadata": {},
          "execution_count": 165
        }
      ]
    },
    {
      "cell_type": "code",
      "source": [
        "arr.size"
      ],
      "metadata": {
        "colab": {
          "base_uri": "https://localhost:8080/"
        },
        "id": "F-eHJXyYwmz3",
        "outputId": "d3cb8e0b-24fa-494d-ed85-09ea8eb4f89e"
      },
      "execution_count": 166,
      "outputs": [
        {
          "output_type": "execute_result",
          "data": {
            "text/plain": [
              "28"
            ]
          },
          "metadata": {},
          "execution_count": 166
        }
      ]
    },
    {
      "cell_type": "code",
      "source": [
        "len(arr)"
      ],
      "metadata": {
        "colab": {
          "base_uri": "https://localhost:8080/"
        },
        "id": "8yV7PzkMwqo8",
        "outputId": "6b3f4fa9-2e87-4faa-f630-9a3e801860e2"
      },
      "execution_count": 169,
      "outputs": [
        {
          "output_type": "execute_result",
          "data": {
            "text/plain": [
              "7"
            ]
          },
          "metadata": {},
          "execution_count": 169
        }
      ]
    },
    {
      "cell_type": "code",
      "source": [
        "arr3d"
      ],
      "metadata": {
        "colab": {
          "base_uri": "https://localhost:8080/"
        },
        "id": "fBnjgig_wyr4",
        "outputId": "0efb461b-5efc-4a7a-c17c-2cc55c94f9f8"
      },
      "execution_count": 170,
      "outputs": [
        {
          "output_type": "execute_result",
          "data": {
            "text/plain": [
              "array([[[11, 12, 13],\n",
              "        [14, 15, 16],\n",
              "        [17, 18, 19]],\n",
              "\n",
              "       [[21, 22, 23],\n",
              "        [24, 25, 26],\n",
              "        [27, 28, 29]],\n",
              "\n",
              "       [[31, 32, 33],\n",
              "        [34, 35, 36],\n",
              "        [37, 38, 39]]])"
            ]
          },
          "metadata": {},
          "execution_count": 170
        }
      ]
    },
    {
      "cell_type": "code",
      "source": [
        "len(arr3d)"
      ],
      "metadata": {
        "colab": {
          "base_uri": "https://localhost:8080/"
        },
        "id": "S5XZn30-w7fA",
        "outputId": "df2176f5-b6ff-4631-8d96-a55009b61167"
      },
      "execution_count": 171,
      "outputs": [
        {
          "output_type": "execute_result",
          "data": {
            "text/plain": [
              "3"
            ]
          },
          "metadata": {},
          "execution_count": 171
        }
      ]
    },
    {
      "cell_type": "code",
      "source": [
        "arr[arr==0.] = 5\n",
        "arr"
      ],
      "metadata": {
        "colab": {
          "base_uri": "https://localhost:8080/"
        },
        "id": "AS_tIYEqw9fA",
        "outputId": "f1c8aa90-6e33-4860-cea1-2ef9895f6a6f"
      },
      "execution_count": 174,
      "outputs": [
        {
          "output_type": "execute_result",
          "data": {
            "text/plain": [
              "array([[  5., 111.,   5., 111.],\n",
              "       [111.,   5.,   5.,   5.],\n",
              "       [111., 111.,   5.,   5.],\n",
              "       [  5.,   5.,   5.,   5.],\n",
              "       [  5.,   5.,   5., 111.],\n",
              "       [111.,   5.,   5., 111.],\n",
              "       [  5., 111.,   5., 111.]])"
            ]
          },
          "metadata": {},
          "execution_count": 174
        }
      ]
    },
    {
      "cell_type": "code",
      "source": [
        "np.cumprod(arr)"
      ],
      "metadata": {
        "colab": {
          "base_uri": "https://localhost:8080/"
        },
        "id": "i1rpXufkx6I_",
        "outputId": "f0965604-d46e-4d3b-a5f8-913e0c2522c6"
      },
      "execution_count": 175,
      "outputs": [
        {
          "output_type": "execute_result",
          "data": {
            "text/plain": [
              "array([5.00000000e+00, 5.55000000e+02, 2.77500000e+03, 3.08025000e+05,\n",
              "       3.41907750e+07, 1.70953875e+08, 8.54769375e+08, 4.27384688e+09,\n",
              "       4.74397003e+11, 5.26580673e+13, 2.63290337e+14, 1.31645168e+15,\n",
              "       6.58225842e+15, 3.29112921e+16, 1.64556460e+17, 8.22782302e+17,\n",
              "       4.11391151e+18, 2.05695576e+19, 1.02847788e+20, 1.14161044e+22,\n",
              "       1.26718759e+24, 6.33593797e+24, 3.16796898e+25, 3.51644557e+27,\n",
              "       1.75822279e+28, 1.95162729e+30, 9.75813646e+30, 1.08315315e+33])"
            ]
          },
          "metadata": {},
          "execution_count": 175
        }
      ]
    },
    {
      "cell_type": "code",
      "source": [
        "np.sort(arr)"
      ],
      "metadata": {
        "colab": {
          "base_uri": "https://localhost:8080/"
        },
        "id": "uycSrgb5yI3m",
        "outputId": "0a18f821-a364-4a57-dde4-3cacf6ed0d8e"
      },
      "execution_count": 176,
      "outputs": [
        {
          "output_type": "execute_result",
          "data": {
            "text/plain": [
              "array([[  5.,   5., 111., 111.],\n",
              "       [  5.,   5.,   5., 111.],\n",
              "       [  5.,   5., 111., 111.],\n",
              "       [  5.,   5.,   5.,   5.],\n",
              "       [  5.,   5.,   5., 111.],\n",
              "       [  5.,   5., 111., 111.],\n",
              "       [  5.,   5., 111., 111.]])"
            ]
          },
          "metadata": {},
          "execution_count": 176
        }
      ]
    },
    {
      "cell_type": "code",
      "source": [
        "arr"
      ],
      "metadata": {
        "colab": {
          "base_uri": "https://localhost:8080/"
        },
        "id": "SlmJ95X4yef3",
        "outputId": "d0dd206b-b7f0-4ac0-81e3-d90a03f871d2"
      },
      "execution_count": 177,
      "outputs": [
        {
          "output_type": "execute_result",
          "data": {
            "text/plain": [
              "array([[  5., 111.,   5., 111.],\n",
              "       [111.,   5.,   5.,   5.],\n",
              "       [111., 111.,   5.,   5.],\n",
              "       [  5.,   5.,   5.,   5.],\n",
              "       [  5.,   5.,   5., 111.],\n",
              "       [111.,   5.,   5., 111.],\n",
              "       [  5., 111.,   5., 111.]])"
            ]
          },
          "metadata": {},
          "execution_count": 177
        }
      ]
    },
    {
      "cell_type": "code",
      "source": [
        "np.sort(arr, axis=0)"
      ],
      "metadata": {
        "colab": {
          "base_uri": "https://localhost:8080/"
        },
        "id": "VwB8IV-FyhNv",
        "outputId": "52258704-14c9-44c2-8dac-fc23bd61fe23"
      },
      "execution_count": 179,
      "outputs": [
        {
          "output_type": "execute_result",
          "data": {
            "text/plain": [
              "array([[  5.,   5.,   5.,   5.],\n",
              "       [  5.,   5.,   5.,   5.],\n",
              "       [  5.,   5.,   5.,   5.],\n",
              "       [  5.,   5.,   5., 111.],\n",
              "       [111., 111.,   5., 111.],\n",
              "       [111., 111.,   5., 111.],\n",
              "       [111., 111.,   5., 111.]])"
            ]
          },
          "metadata": {},
          "execution_count": 179
        }
      ]
    },
    {
      "cell_type": "code",
      "source": [
        "np.unique(arr)"
      ],
      "metadata": {
        "colab": {
          "base_uri": "https://localhost:8080/"
        },
        "id": "_Oqgk_s9yvOV",
        "outputId": "5c6ff39a-a91d-4c12-d92b-cd9dc05be30f"
      },
      "execution_count": 180,
      "outputs": [
        {
          "output_type": "execute_result",
          "data": {
            "text/plain": [
              "array([  5., 111.])"
            ]
          },
          "metadata": {},
          "execution_count": 180
        }
      ]
    },
    {
      "cell_type": "code",
      "source": [
        "arr2d"
      ],
      "metadata": {
        "colab": {
          "base_uri": "https://localhost:8080/"
        },
        "id": "X6tiJF-LzbJG",
        "outputId": "f614bcc7-1ce4-41c7-a820-6612d7320719"
      },
      "execution_count": 181,
      "outputs": [
        {
          "output_type": "execute_result",
          "data": {
            "text/plain": [
              "array([[1, 2, 3],\n",
              "       [4, 5, 6],\n",
              "       [7, 8, 9]])"
            ]
          },
          "metadata": {},
          "execution_count": 181
        }
      ]
    },
    {
      "cell_type": "code",
      "source": [
        "# arr2d ning har bir elementini arrda bormi yoqmi tekshiradi va orniga True / False qoyadi\n",
        "np.in1d(arr2d, arr)"
      ],
      "metadata": {
        "colab": {
          "base_uri": "https://localhost:8080/"
        },
        "id": "KlDRvuyJzlO5",
        "outputId": "2e002412-3709-4b72-a6f3-d88f7ba4feaa"
      },
      "execution_count": 183,
      "outputs": [
        {
          "output_type": "execute_result",
          "data": {
            "text/plain": [
              "array([False, False, False, False,  True, False, False, False, False])"
            ]
          },
          "metadata": {},
          "execution_count": 183
        }
      ]
    },
    {
      "cell_type": "code",
      "source": [
        "# arr2d ning har bir elementini arrda bormi yoqmi tekshiradi va arrda yoqini ajratib oladi\n",
        "np.setdiff1d(arr2d, arr)"
      ],
      "metadata": {
        "colab": {
          "base_uri": "https://localhost:8080/"
        },
        "id": "B2bvsdH1zuhh",
        "outputId": "670abcee-5f5b-49e9-b756-029db0112751"
      },
      "execution_count": 184,
      "outputs": [
        {
          "output_type": "execute_result",
          "data": {
            "text/plain": [
              "array([1, 2, 3, 4, 6, 7, 8, 9])"
            ]
          },
          "metadata": {},
          "execution_count": 184
        }
      ]
    },
    {
      "cell_type": "code",
      "source": [
        "# arr ning har bir elementini arr2dda bormi yoqmi tekshiradi va arr2dda yoqini ajratib oladi\n",
        "np.setdiff1d(arr, arr2d)"
      ],
      "metadata": {
        "colab": {
          "base_uri": "https://localhost:8080/"
        },
        "id": "HyQtjFmd0ioj",
        "outputId": "3f853e1c-d747-403f-b02c-50674c76a938"
      },
      "execution_count": 185,
      "outputs": [
        {
          "output_type": "execute_result",
          "data": {
            "text/plain": [
              "array([111.])"
            ]
          },
          "metadata": {},
          "execution_count": 185
        }
      ]
    },
    {
      "cell_type": "code",
      "source": [
        "arr = np.arange(6).reshape(2, 3)\n",
        "arr"
      ],
      "metadata": {
        "colab": {
          "base_uri": "https://localhost:8080/"
        },
        "id": "hkrt77PH0xqn",
        "outputId": "378b4ba3-e9cf-4a84-d53c-cbba7a735134"
      },
      "execution_count": 187,
      "outputs": [
        {
          "output_type": "execute_result",
          "data": {
            "text/plain": [
              "array([[0, 1, 2],\n",
              "       [3, 4, 5]])"
            ]
          },
          "metadata": {},
          "execution_count": 187
        }
      ]
    },
    {
      "cell_type": "code",
      "source": [
        "arr2d = np.random.randint(10, size=(2, 3))\n",
        "arr2d"
      ],
      "metadata": {
        "colab": {
          "base_uri": "https://localhost:8080/"
        },
        "id": "urGDhb332h2d",
        "outputId": "53dd8c91-7ca5-4b3a-b44e-935ad6d73bfa"
      },
      "execution_count": 189,
      "outputs": [
        {
          "output_type": "execute_result",
          "data": {
            "text/plain": [
              "array([[1, 5, 6],\n",
              "       [9, 0, 1]])"
            ]
          },
          "metadata": {},
          "execution_count": 189
        }
      ]
    },
    {
      "cell_type": "code",
      "source": [
        "arr * arr2d"
      ],
      "metadata": {
        "colab": {
          "base_uri": "https://localhost:8080/"
        },
        "id": "_FY8imtu2tx0",
        "outputId": "dfa2519c-18d7-46fe-c9cc-df334f23267f"
      },
      "execution_count": 190,
      "outputs": [
        {
          "output_type": "execute_result",
          "data": {
            "text/plain": [
              "array([[ 0,  5, 12],\n",
              "       [27,  0,  5]])"
            ]
          },
          "metadata": {},
          "execution_count": 190
        }
      ]
    },
    {
      "cell_type": "code",
      "source": [
        "arr2d * arr"
      ],
      "metadata": {
        "colab": {
          "base_uri": "https://localhost:8080/"
        },
        "id": "y8eCdPGP3OLz",
        "outputId": "f4ab22fc-00c2-43ba-f27f-fb045efa02ca"
      },
      "execution_count": 191,
      "outputs": [
        {
          "output_type": "execute_result",
          "data": {
            "text/plain": [
              "array([[ 0,  5, 12],\n",
              "       [27,  0,  5]])"
            ]
          },
          "metadata": {},
          "execution_count": 191
        }
      ]
    },
    {
      "cell_type": "code",
      "source": [
        "np.dot(arr, arr2d.T)"
      ],
      "metadata": {
        "colab": {
          "base_uri": "https://localhost:8080/"
        },
        "id": "8pH5_gKl3SYe",
        "outputId": "85d28bdb-bb91-42e5-c33c-712443907476"
      },
      "execution_count": 193,
      "outputs": [
        {
          "output_type": "execute_result",
          "data": {
            "text/plain": [
              "array([[17,  2],\n",
              "       [53, 32]])"
            ]
          },
          "metadata": {},
          "execution_count": 193
        }
      ]
    },
    {
      "cell_type": "code",
      "source": [
        "np.dot(arr2d, arr.T)"
      ],
      "metadata": {
        "colab": {
          "base_uri": "https://localhost:8080/"
        },
        "id": "Z1ZGeyP73m_k",
        "outputId": "7333c938-a969-493b-8f22-c04c706a307a"
      },
      "execution_count": 196,
      "outputs": [
        {
          "output_type": "execute_result",
          "data": {
            "text/plain": [
              "array([[17, 53],\n",
              "       [ 2, 32]])"
            ]
          },
          "metadata": {},
          "execution_count": 196
        }
      ]
    },
    {
      "cell_type": "code",
      "source": [
        "np.dot(arr2d.T, arr)"
      ],
      "metadata": {
        "colab": {
          "base_uri": "https://localhost:8080/"
        },
        "id": "IaKezBh03p0T",
        "outputId": "bf8c6e4f-82cd-4ebe-a657-a6175edeaa8e"
      },
      "execution_count": 195,
      "outputs": [
        {
          "output_type": "execute_result",
          "data": {
            "text/plain": [
              "array([[27, 37, 47],\n",
              "       [ 0,  5, 10],\n",
              "       [ 3, 10, 17]])"
            ]
          },
          "metadata": {},
          "execution_count": 195
        }
      ]
    },
    {
      "cell_type": "code",
      "source": [
        "np.dot(arr.T, arr2d)"
      ],
      "metadata": {
        "colab": {
          "base_uri": "https://localhost:8080/"
        },
        "id": "Tamura0k3ZRm",
        "outputId": "ac738f1b-73cc-42b1-e69f-04bd37e594e5"
      },
      "execution_count": 194,
      "outputs": [
        {
          "output_type": "execute_result",
          "data": {
            "text/plain": [
              "array([[27,  0,  3],\n",
              "       [37,  5, 10],\n",
              "       [47, 10, 17]])"
            ]
          },
          "metadata": {},
          "execution_count": 194
        }
      ]
    }
  ]
}