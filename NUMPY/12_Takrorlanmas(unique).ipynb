{
  "nbformat": 4,
  "nbformat_minor": 0,
  "metadata": {
    "colab": {
      "provenance": [],
      "collapsed_sections": [],
      "authorship_tag": "ABX9TyM7lpI3etARqLkEODepT3mF",
      "include_colab_link": true
    },
    "kernelspec": {
      "name": "python3",
      "display_name": "Python 3"
    },
    "language_info": {
      "name": "python"
    }
  },
  "cells": [
    {
      "cell_type": "markdown",
      "metadata": {
        "id": "view-in-github",
        "colab_type": "text"
      },
      "source": [
        "<a href=\"https://colab.research.google.com/github/jfcoderx/Data-Sciense/blob/main/12_Takrorlanmas(unique).ipynb\" target=\"_parent\"><img src=\"https://colab.research.google.com/assets/colab-badge.svg\" alt=\"Open In Colab\"/></a>"
      ]
    },
    {
      "cell_type": "markdown",
      "source": [
        "## Massivga yonalgan dasturlash\n",
        "### unique, in1d, setdiff1d and other"
      ],
      "metadata": {
        "id": "1-IEMfXSfdjA"
      }
    },
    {
      "cell_type": "code",
      "execution_count": 1,
      "metadata": {
        "id": "yht2tDy1fSWk"
      },
      "outputs": [],
      "source": [
        "import numpy as np"
      ]
    },
    {
      "cell_type": "code",
      "source": [
        "# data\n",
        "names = np.array(['Sarvar', 'Abdurahmon', 'Hasan', 'Temur', 'Sarvar', 'Temur'])\n",
        "ints = np.array([3, 3, 3, 2, 2, 1, 1, 4, 4])"
      ],
      "metadata": {
        "id": "oVBBQzQmfvil"
      },
      "execution_count": 4,
      "outputs": []
    },
    {
      "cell_type": "markdown",
      "source": [
        "**unique** <br>\n",
        "massivimizdagi elementlarini faqat bittasini qaytaradi, ikta elementdan ham bittasini qaytaradi<br>\n",
        "pythondagi set toplami bilan bir **xil**"
      ],
      "metadata": {
        "id": "slcmw-l3gNe-"
      }
    },
    {
      "cell_type": "code",
      "source": [
        "# unique\n",
        "np.unique(names) # namesdagi takrorlanmas elementlarni qaytaradi va natijasi tartiblangan shaklda chiqaradi"
      ],
      "metadata": {
        "colab": {
          "base_uri": "https://localhost:8080/"
        },
        "id": "wL-qdO9rgXxn",
        "outputId": "5cdb71f8-353e-4f5a-a5e6-e9b72f244cc8"
      },
      "execution_count": 6,
      "outputs": [
        {
          "output_type": "execute_result",
          "data": {
            "text/plain": [
              "array(['Abdurahmon', 'Hasan', 'Sarvar', 'Temur'], dtype='<U10')"
            ]
          },
          "metadata": {},
          "execution_count": 6
        }
      ]
    },
    {
      "cell_type": "code",
      "source": [
        "# pythondagi set\n",
        "set(names)"
      ],
      "metadata": {
        "colab": {
          "base_uri": "https://localhost:8080/"
        },
        "id": "XXH_jusugc7U",
        "outputId": "61ae4d24-2ecd-4a65-e52a-5efa01e1586d"
      },
      "execution_count": 8,
      "outputs": [
        {
          "output_type": "execute_result",
          "data": {
            "text/plain": [
              "{'Abdurahmon', 'Hasan', 'Sarvar', 'Temur'}"
            ]
          },
          "metadata": {},
          "execution_count": 8
        }
      ]
    },
    {
      "cell_type": "markdown",
      "source": [
        "**in1d** <br>\n",
        "biror arraydagi malumotlar ikkinchi arrayda mavjudmi yoqmi<br>\n",
        "agar mavjud bolsa True, mavjud bolmasa False qaytaradi"
      ],
      "metadata": {
        "id": "oIxAd0dghZrs"
      }
    },
    {
      "cell_type": "code",
      "source": [
        "# data\n",
        "arr1 = np.array([6, 0, 0, 3, 2, 5, 6])\n",
        "arr2 = np.array([0, 2, 3])"
      ],
      "metadata": {
        "id": "VRMnvLJohSA4"
      },
      "execution_count": 9,
      "outputs": []
    },
    {
      "cell_type": "code",
      "source": [
        "np.in1d(arr1, arr2) # 2-massiv elementlari 1-massivda mavjudmi yoqmi, mavjud bsa True, bomasa False"
      ],
      "metadata": {
        "colab": {
          "base_uri": "https://localhost:8080/"
        },
        "id": "OtIt1reth5Vp",
        "outputId": "dc3ac340-e8c4-44d2-c417-1e0145909651"
      },
      "execution_count": 10,
      "outputs": [
        {
          "output_type": "execute_result",
          "data": {
            "text/plain": [
              "array([False,  True,  True,  True,  True, False, False])"
            ]
          },
          "metadata": {},
          "execution_count": 10
        }
      ]
    },
    {
      "cell_type": "markdown",
      "source": [
        "6 - 2-massivda yoq False <br>\n",
        "0 - 2-massivda bor True <br>\n",
        "0 - 2-massivda bor True <br>\n",
        "3 - 2-massivda bor True <br>\n",
        "2 - 2-massivda bor True <br>\n",
        "5 - 2-massivda yoq False <br>\n",
        "6 - 2-massivda yoq False <br>\n"
      ],
      "metadata": {
        "id": "VJ5rTWToidtM"
      }
    },
    {
      "cell_type": "markdown",
      "source": [
        "**setdiff1d** <br>\n",
        "ikta massiv qabul qiladi, shu massiv elementlarini bir biri bilan taqqoslaydi, shu taqqoslashda, 1-massiv elementlari, 2-massiv elementlaridagi mavjud bolmagan qisminigina ajratib oladi"
      ],
      "metadata": {
        "id": "NUn61ooWi3Pc"
      }
    },
    {
      "cell_type": "code",
      "source": [
        "# data\n",
        "names1 = np.array(['Jasur', 'Abdurahmon', 'Hasan', 'Muhammad', 'Sarvar', 'Temur'])\n",
        "names2 = np.array(['Sarvar', 'Abdurahmon', 'Hasan', 'Temur', 'Sarvar', 'Temur'])"
      ],
      "metadata": {
        "id": "1vylh5NciNry"
      },
      "execution_count": 11,
      "outputs": []
    },
    {
      "cell_type": "code",
      "source": [
        "np.setdiff1d(names1, names2) # names1 massivining names2 massividagi takrorlanmas qismini qaytaradi"
      ],
      "metadata": {
        "colab": {
          "base_uri": "https://localhost:8080/"
        },
        "id": "3IC83PFcj7QS",
        "outputId": "93fc9887-53fd-49d3-c8d7-0c54778f19e5"
      },
      "execution_count": 12,
      "outputs": [
        {
          "output_type": "execute_result",
          "data": {
            "text/plain": [
              "array(['Jasur', 'Muhammad'], dtype='<U10')"
            ]
          },
          "metadata": {},
          "execution_count": 12
        }
      ]
    },
    {
      "cell_type": "markdown",
      "source": [
        "Demak ikta birinchi massivimizda 2-massivimizda uchramaydigan elementlar borakan"
      ],
      "metadata": {
        "id": "Vj2pXTEDkO7p"
      }
    }
  ]
}
