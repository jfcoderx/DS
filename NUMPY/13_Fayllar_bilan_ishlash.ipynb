{
  "nbformat": 4,
  "nbformat_minor": 0,
  "metadata": {
    "colab": {
      "provenance": [],
      "authorship_tag": "ABX9TyNlYayc4scR4TpAhZZooHjp"
    },
    "kernelspec": {
      "name": "python3",
      "display_name": "Python 3"
    },
    "language_info": {
      "name": "python"
    }
  },
  "cells": [
    {
      "cell_type": "markdown",
      "source": [
        "## Malumotlar tahlili. NumPy\n",
        "\n",
        "### Fayllar bilan ishlash\n",
        "NumPyda yaratilgan malumotlarni FAYLda saqlashni organamiz, dasturlash davomida turli ozgarishlar yaratamiz, bu ozgaruvchilarga ishlov beramiz, kelajakda ulardan foydalanish uchun ularni biror bir faylga saqlab qoyishimiz lozim"
      ],
      "metadata": {
        "id": "Z5Sz5JnfsKiP"
      }
    },
    {
      "cell_type": "code",
      "execution_count": 1,
      "metadata": {
        "id": "RB3gThitsDes"
      },
      "outputs": [],
      "source": [
        "import numpy as np"
      ]
    },
    {
      "cell_type": "code",
      "source": [
        "arr = np.arange(10)\n",
        "arr"
      ],
      "metadata": {
        "colab": {
          "base_uri": "https://localhost:8080/"
        },
        "id": "of_EGSuitJip",
        "outputId": "17badc22-c285-46a3-861d-3a761129c355"
      },
      "execution_count": 2,
      "outputs": [
        {
          "output_type": "execute_result",
          "data": {
            "text/plain": [
              "array([0, 1, 2, 3, 4, 5, 6, 7, 8, 9])"
            ]
          },
          "metadata": {},
          "execution_count": 2
        }
      ]
    },
    {
      "cell_type": "markdown",
      "source": [
        "Bu arr saqlash uchun save metodidan foydalanamiz <br>\n",
        "arr.save berilgan arrni IKKILIK sanoq sistemasida saqlaydi <br>\n",
        "arr.savetxt berilgan arrni TEXT korinishida saqlaydi <br>\n",
        "bular bitta arr ni saqlash uchun bolsa<br>\n",
        "\n",
        "savez, savez_compressed lar esa bir nechta arr larni saqlash uchun ishlatiladi"
      ],
      "metadata": {
        "id": "jxQr3x85tPFm"
      }
    },
    {
      "cell_type": "code",
      "source": [
        "np.save('data', arr) # bunda fayl nomi = data.npy numpy fayllar shunday saqlanadi, yozmasak ozi default holatida saqlab ketadi, keyin saqlamoqchi bolgan arr nomi"
      ],
      "metadata": {
        "id": "xOctjzKotOLw"
      },
      "execution_count": 3,
      "outputs": []
    },
    {
      "cell_type": "markdown",
      "source": [
        "bu fayldan oqimoqchi bolsak LOAD metodini chaqiramiz va fayl nomini beramiz va chaqirayotgan arr mizni qaysidir ozgaruvchiga saqlashimiz kerak"
      ],
      "metadata": {
        "id": "Wxqn_mY1uwoM"
      }
    },
    {
      "cell_type": "code",
      "source": [
        "arr2 = np.load('data.npy')\n",
        "arr2"
      ],
      "metadata": {
        "colab": {
          "base_uri": "https://localhost:8080/"
        },
        "id": "prl8GIUaumgZ",
        "outputId": "48dc6b1c-6851-4f59-de43-86d994cbae38"
      },
      "execution_count": 4,
      "outputs": [
        {
          "output_type": "execute_result",
          "data": {
            "text/plain": [
              "array([0, 1, 2, 3, 4, 5, 6, 7, 8, 9])"
            ]
          },
          "metadata": {},
          "execution_count": 4
        }
      ]
    },
    {
      "cell_type": "code",
      "source": [
        "arr1 = np.arange(20)\n",
        "arr1"
      ],
      "metadata": {
        "colab": {
          "base_uri": "https://localhost:8080/"
        },
        "id": "VrdbWc-RvHpH",
        "outputId": "55f85a5c-bac9-453d-921d-c8e4432aa35f"
      },
      "execution_count": 5,
      "outputs": [
        {
          "output_type": "execute_result",
          "data": {
            "text/plain": [
              "array([ 0,  1,  2,  3,  4,  5,  6,  7,  8,  9, 10, 11, 12, 13, 14, 15, 16,\n",
              "       17, 18, 19])"
            ]
          },
          "metadata": {},
          "execution_count": 5
        }
      ]
    },
    {
      "cell_type": "markdown",
      "source": [
        "Bir nechta arraylarni saqlashimiz uchun esa SAVEZ dan foydalanamiz"
      ],
      "metadata": {
        "id": "bOT6ml-gvUlV"
      }
    },
    {
      "cell_type": "code",
      "source": [
        "np.savez('arrays', arr1=arr1, arr2=arr2)"
      ],
      "metadata": {
        "id": "vK-1GTsxvTkG"
      },
      "execution_count": 6,
      "outputs": []
    },
    {
      "cell_type": "markdown",
      "source": [
        "bu .npz formatda saqlanadi, arr1=arr1 qilganizmi arr1 nomini biz kalit soz sifatida kiritib ketdik"
      ],
      "metadata": {
        "id": "1GtVOaS3wjfi"
      }
    },
    {
      "cell_type": "code",
      "source": [
        "arrays = np.load('arrays.npz')"
      ],
      "metadata": {
        "id": "I6NFv6URwiBC"
      },
      "execution_count": 7,
      "outputs": []
    },
    {
      "cell_type": "code",
      "source": [
        "arrays['arr1']"
      ],
      "metadata": {
        "colab": {
          "base_uri": "https://localhost:8080/"
        },
        "id": "O0QpFOZ9w5MZ",
        "outputId": "e8dc76f0-e23f-4218-b620-d5c23d4e9428"
      },
      "execution_count": 10,
      "outputs": [
        {
          "output_type": "execute_result",
          "data": {
            "text/plain": [
              "array([ 0,  1,  2,  3,  4,  5,  6,  7,  8,  9, 10, 11, 12, 13, 14, 15, 16,\n",
              "       17, 18, 19])"
            ]
          },
          "metadata": {},
          "execution_count": 10
        }
      ]
    },
    {
      "cell_type": "code",
      "source": [
        "arrays['arr2']"
      ],
      "metadata": {
        "colab": {
          "base_uri": "https://localhost:8080/"
        },
        "id": "IRGcWPMRw6yl",
        "outputId": "8852a9fe-77f2-4d58-9fa1-eaa05454970e"
      },
      "execution_count": 11,
      "outputs": [
        {
          "output_type": "execute_result",
          "data": {
            "text/plain": [
              "array([0, 1, 2, 3, 4, 5, 6, 7, 8, 9])"
            ]
          },
          "metadata": {},
          "execution_count": 11
        }
      ]
    },
    {
      "cell_type": "code",
      "source": [
        "arrays"
      ],
      "metadata": {
        "colab": {
          "base_uri": "https://localhost:8080/"
        },
        "id": "8NhWKBx9xGvB",
        "outputId": "9705907a-7788-4741-8851-154999cb2561"
      },
      "execution_count": 12,
      "outputs": [
        {
          "output_type": "execute_result",
          "data": {
            "text/plain": [
              "<numpy.lib.npyio.NpzFile at 0x7fa7fed49190>"
            ]
          },
          "metadata": {},
          "execution_count": 12
        }
      ]
    },
    {
      "cell_type": "markdown",
      "source": [
        "savez bilan savez_compressed farqi birinchisida malumotlar siqilinmaydi, ikkinchisida siqilinadi, ayniqsa juda katta fayllarda siqish joyni tejashga olib keladi"
      ],
      "metadata": {
        "id": "B3T29fGRxrQ4"
      }
    },
    {
      "cell_type": "code",
      "source": [
        "np.savez_compressed('array_comp', ar1=arr1, ar2=arr2)"
      ],
      "metadata": {
        "id": "Xqv4kB3CxI_S"
      },
      "execution_count": 14,
      "outputs": []
    },
    {
      "cell_type": "code",
      "source": [
        "arrays_compressed = np.load('array_comp.npz')"
      ],
      "metadata": {
        "id": "E5nqO6Kqx7a6"
      },
      "execution_count": 15,
      "outputs": []
    },
    {
      "cell_type": "code",
      "source": [
        "arrays_compressed['ar1']"
      ],
      "metadata": {
        "colab": {
          "base_uri": "https://localhost:8080/"
        },
        "id": "N888xSa9yI2y",
        "outputId": "57504669-5010-407b-b276-7072d640134b"
      },
      "execution_count": 16,
      "outputs": [
        {
          "output_type": "execute_result",
          "data": {
            "text/plain": [
              "array([ 0,  1,  2,  3,  4,  5,  6,  7,  8,  9, 10, 11, 12, 13, 14, 15, 16,\n",
              "       17, 18, 19])"
            ]
          },
          "metadata": {},
          "execution_count": 16
        }
      ]
    },
    {
      "cell_type": "code",
      "source": [
        "arrays_compressed['ar2']"
      ],
      "metadata": {
        "colab": {
          "base_uri": "https://localhost:8080/"
        },
        "id": "wPCN5dx3yNYi",
        "outputId": "baa53575-ebb4-4388-8b07-4215292820d6"
      },
      "execution_count": 17,
      "outputs": [
        {
          "output_type": "execute_result",
          "data": {
            "text/plain": [
              "array([0, 1, 2, 3, 4, 5, 6, 7, 8, 9])"
            ]
          },
          "metadata": {},
          "execution_count": 17
        }
      ]
    }
  ]
}
