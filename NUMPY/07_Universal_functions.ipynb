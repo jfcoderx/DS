{
  "nbformat": 4,
  "nbformat_minor": 0,
  "metadata": {
    "colab": {
      "provenance": [],
      "authorship_tag": "ABX9TyP1e7TSk9AcJ/mNww2ms9rY",
      "include_colab_link": true
    },
    "kernelspec": {
      "name": "python3",
      "display_name": "Python 3"
    },
    "language_info": {
      "name": "python"
    }
  },
  "cells": [
    {
      "cell_type": "markdown",
      "metadata": {
        "id": "view-in-github",
        "colab_type": "text"
      },
      "source": [
        "<a href=\"https://colab.research.google.com/github/jfcoderx/Data-Sciense/blob/main/2_1_2_Universal_functions.ipynb\" target=\"_parent\"><img src=\"https://colab.research.google.com/assets/colab-badge.svg\" alt=\"Open In Colab\"/></a>"
      ]
    },
    {
      "cell_type": "markdown",
      "source": [
        "## Universal funksiyalar"
      ],
      "metadata": {
        "id": "hULYfnHNPzSo"
      }
    },
    {
      "cell_type": "code",
      "execution_count": 1,
      "metadata": {
        "id": "zEt5NigZPnYJ"
      },
      "outputs": [],
      "source": [
        "import numpy as np"
      ]
    },
    {
      "cell_type": "markdown",
      "source": [
        "### unary funksiyalar - bitta argument qabul qiluvchi funksiya\n",
        "sqrt, square, exp, log, modf, sign, isnan"
      ],
      "metadata": {
        "id": "Y3AXomtZQACF"
      }
    },
    {
      "cell_type": "code",
      "source": [
        "arr = np.arange(10)\n",
        "arr"
      ],
      "metadata": {
        "colab": {
          "base_uri": "https://localhost:8080/"
        },
        "id": "krQKUOtSQVBz",
        "outputId": "33888e89-6699-4336-a72e-5a055cfcaf3a"
      },
      "execution_count": 2,
      "outputs": [
        {
          "output_type": "execute_result",
          "data": {
            "text/plain": [
              "array([0, 1, 2, 3, 4, 5, 6, 7, 8, 9])"
            ]
          },
          "metadata": {},
          "execution_count": 2
        }
      ]
    },
    {
      "cell_type": "markdown",
      "source": [
        "sqrt massivning xar bir elementini kvadrat ildiizni qaytaradi"
      ],
      "metadata": {
        "id": "PzkJPohZQiRG"
      }
    },
    {
      "cell_type": "code",
      "source": [
        "np.sqrt(arr) # arr massivni barcha elementini ilidinzi qaytaradi"
      ],
      "metadata": {
        "colab": {
          "base_uri": "https://localhost:8080/"
        },
        "id": "ddRHPastQd0w",
        "outputId": "1d4bffdd-5973-4cde-c282-0daafd205559"
      },
      "execution_count": 3,
      "outputs": [
        {
          "output_type": "execute_result",
          "data": {
            "text/plain": [
              "array([0.        , 1.        , 1.41421356, 1.73205081, 2.        ,\n",
              "       2.23606798, 2.44948974, 2.64575131, 2.82842712, 3.        ])"
            ]
          },
          "metadata": {},
          "execution_count": 3
        }
      ]
    },
    {
      "cell_type": "markdown",
      "source": [
        "2 argument uzatadigan bolsak xatolik chiqaradi"
      ],
      "metadata": {
        "id": "h_aEPf_BQ4Rs"
      }
    },
    {
      "cell_type": "markdown",
      "source": [
        "square nassuvning xar bir elementini kvadratga oshiradi"
      ],
      "metadata": {
        "id": "k_9mhXSNRIY8"
      }
    },
    {
      "cell_type": "code",
      "source": [
        "np.square(arr) # arr nomli barcha elementlarini kvadratga oshiradi"
      ],
      "metadata": {
        "colab": {
          "base_uri": "https://localhost:8080/"
        },
        "id": "Ixx-qssLQzzA",
        "outputId": "14fd2299-efc8-40a8-a285-558fee43d1ca"
      },
      "execution_count": 5,
      "outputs": [
        {
          "output_type": "execute_result",
          "data": {
            "text/plain": [
              "array([ 0,  1,  4,  9, 16, 25, 36, 49, 64, 81])"
            ]
          },
          "metadata": {},
          "execution_count": 5
        }
      ]
    },
    {
      "cell_type": "markdown",
      "source": [
        "exp - massiv har bir elementini eksponentlaydi"
      ],
      "metadata": {
        "id": "-Z32dm-9Rk3d"
      }
    },
    {
      "cell_type": "code",
      "source": [
        "np.exp(arr) # arr massivni barcha elementlarini eksponentini qaytaradi"
      ],
      "metadata": {
        "colab": {
          "base_uri": "https://localhost:8080/"
        },
        "id": "hmteJbxqRFKx",
        "outputId": "8372e8fd-57b7-43f2-ab80-c576f87c05ea"
      },
      "execution_count": 6,
      "outputs": [
        {
          "output_type": "execute_result",
          "data": {
            "text/plain": [
              "array([1.00000000e+00, 2.71828183e+00, 7.38905610e+00, 2.00855369e+01,\n",
              "       5.45981500e+01, 1.48413159e+02, 4.03428793e+02, 1.09663316e+03,\n",
              "       2.98095799e+03, 8.10308393e+03])"
            ]
          },
          "metadata": {},
          "execution_count": 6
        }
      ]
    },
    {
      "cell_type": "code",
      "source": [
        "np.log(arr) # arr nomli massivning barcha elementlarini logarifmini hisoblaydi"
      ],
      "metadata": {
        "colab": {
          "base_uri": "https://localhost:8080/"
        },
        "id": "WuVV_LDFR5_Y",
        "outputId": "ddc78b3a-4149-43e0-d0a9-71f3bbc3083f"
      },
      "execution_count": 7,
      "outputs": [
        {
          "output_type": "stream",
          "name": "stderr",
          "text": [
            "/usr/local/lib/python3.7/dist-packages/ipykernel_launcher.py:1: RuntimeWarning: divide by zero encountered in log\n",
            "  \"\"\"Entry point for launching an IPython kernel.\n"
          ]
        },
        {
          "output_type": "execute_result",
          "data": {
            "text/plain": [
              "array([      -inf, 0.        , 0.69314718, 1.09861229, 1.38629436,\n",
              "       1.60943791, 1.79175947, 1.94591015, 2.07944154, 2.19722458])"
            ]
          },
          "metadata": {},
          "execution_count": 7
        }
      ]
    },
    {
      "cell_type": "markdown",
      "source": [
        "azgina xatolik korsatdi, -inf yani -infinite, sababi nol dan logarifm olish holati, tuzatish uchun"
      ],
      "metadata": {
        "id": "doLzsAq-SUrc"
      }
    },
    {
      "cell_type": "code",
      "source": [
        "np.log(arr[1:])"
      ],
      "metadata": {
        "colab": {
          "base_uri": "https://localhost:8080/"
        },
        "id": "BOwpxVmlSLzG",
        "outputId": "bd309e8f-495a-4938-bcb9-f92c68093b5b"
      },
      "execution_count": 8,
      "outputs": [
        {
          "output_type": "execute_result",
          "data": {
            "text/plain": [
              "array([0.        , 0.69314718, 1.09861229, 1.38629436, 1.60943791,\n",
              "       1.79175947, 1.94591015, 2.07944154, 2.19722458])"
            ]
          },
          "metadata": {},
          "execution_count": 8
        }
      ]
    },
    {
      "cell_type": "markdown",
      "source": [
        "modf - bu funksiya haqiqiy sonlarni butun va qoldiq qismlarni ajratib beruvchi funksiya, agar massivimiz haqiqy sonlar bolganda bir massivga butun qismi, ikkinchi massivga kasr qismini qoyib beradi, bu funksiyamiz orqali arr ishlaitb bolmaydi, chunki u butun sonlar\n"
      ],
      "metadata": {
        "id": "37U905N9S2pL"
      }
    },
    {
      "cell_type": "code",
      "source": [
        "arr1 = np.random.randn(6) # 6ta elementdan iborat taxminiy \n",
        "arr1"
      ],
      "metadata": {
        "colab": {
          "base_uri": "https://localhost:8080/"
        },
        "id": "mCJZcVijSrgp",
        "outputId": "7a062260-637a-4827-a924-cdac845f8150"
      },
      "execution_count": 9,
      "outputs": [
        {
          "output_type": "execute_result",
          "data": {
            "text/plain": [
              "array([ 1.33977025, -1.68115741, -0.70859973, -1.3524437 ,  1.59124459,\n",
              "        0.28091387])"
            ]
          },
          "metadata": {},
          "execution_count": 9
        }
      ]
    },
    {
      "cell_type": "code",
      "source": [
        "qoldiq, butun = np.modf(arr1)"
      ],
      "metadata": {
        "id": "6alRFt1CUEdl"
      },
      "execution_count": 10,
      "outputs": []
    },
    {
      "cell_type": "code",
      "source": [
        "print(butun)\n",
        "print(qoldiq)"
      ],
      "metadata": {
        "colab": {
          "base_uri": "https://localhost:8080/"
        },
        "id": "6VrLiN-8UaJq",
        "outputId": "1fed97d8-0e7e-489d-a362-bed312d7cb89"
      },
      "execution_count": 11,
      "outputs": [
        {
          "output_type": "stream",
          "name": "stdout",
          "text": [
            "[ 1. -1. -0. -1.  1.  0.]\n",
            "[ 0.33977025 -0.68115741 -0.70859973 -0.3524437   0.59124459  0.28091387]\n"
          ]
        }
      ]
    },
    {
      "cell_type": "markdown",
      "source": [
        "sign funksiyasi massiv elementlarini qiymati manfiy bo'lsa -1 va aksincha musbat bolsa 1ni qaytaradi"
      ],
      "metadata": {
        "id": "B4mruvBYUnuC"
      }
    },
    {
      "cell_type": "code",
      "source": [
        "np.sign(arr1)"
      ],
      "metadata": {
        "colab": {
          "base_uri": "https://localhost:8080/"
        },
        "id": "ltPk-yMvUevN",
        "outputId": "ec13acfa-8f20-4f4a-85e2-46b5ad4e1130"
      },
      "execution_count": 12,
      "outputs": [
        {
          "output_type": "execute_result",
          "data": {
            "text/plain": [
              "array([ 1., -1., -1., -1.,  1.,  1.])"
            ]
          },
          "metadata": {},
          "execution_count": 12
        }
      ]
    },
    {
      "cell_type": "markdown",
      "source": [
        "isnan massivning elementlarida NaN malumoti bolsa True qaytaradi va aksincha False qaytaradi"
      ],
      "metadata": {
        "id": "d1MaE7SwVO3h"
      }
    },
    {
      "cell_type": "code",
      "source": [
        "np.isnan(arr1)"
      ],
      "metadata": {
        "colab": {
          "base_uri": "https://localhost:8080/"
        },
        "id": "Eu_n2SjVVE3_",
        "outputId": "69c39f03-47e2-4d36-ddd3-b2f55a985ed5"
      },
      "execution_count": 13,
      "outputs": [
        {
          "output_type": "execute_result",
          "data": {
            "text/plain": [
              "array([False, False, False, False, False, False])"
            ]
          },
          "metadata": {},
          "execution_count": 13
        }
      ]
    },
    {
      "cell_type": "markdown",
      "source": [
        "Unary funksiyalar:\n",
        "\n",
        "abs, fabs - Absolut qiymatni qaytaradi <br>\n",
        "log, log2, log10, log1p - e asosga kora natural logarifm, 10 asosga kora, 2 asosga kora, log(1+x) ...<br>\n",
        "ceil - Oziga teng yoki ozidan katta bolgan eng yaqin butun (int) sonni qaytaradi<br>\n",
        "floor - Oziga teng yoki ozidan kichik bolgan eng yaqin butun (int) sonni qaytaradi<br>\n",
        "rint - Butun sonni int korinishida yaxlitlaydi<br>\n",
        "cos, cosh, sin, sinh, tan, tanh - trigonametrik funksiyalar<br>\n",
        "arccos, arccosh, arcsin, arcsinh, arctan, arctanh - trigonametrik funksiyalar<br>\n",
        "\n"
      ],
      "metadata": {
        "id": "tWRgacdSWFwf"
      }
    },
    {
      "cell_type": "markdown",
      "source": [
        "### Binary funksiyalar (ikta argument qabul qiluvchi funksiya)\n",
        "add, multiply, maximum"
      ],
      "metadata": {
        "id": "rLF7XSa6WKkY"
      }
    },
    {
      "cell_type": "markdown",
      "source": [
        "add - ikkita massivning mos elementlarini qo'shadi\n"
      ],
      "metadata": {
        "id": "p2BzfMwBWqZh"
      }
    },
    {
      "cell_type": "code",
      "source": [
        "arr2 = np.random.randn(6)\n",
        "arr3 = np.random.randn(6)\n",
        "print(arr2)\n",
        "print(arr3)"
      ],
      "metadata": {
        "colab": {
          "base_uri": "https://localhost:8080/"
        },
        "id": "p36XC3phVi0Z",
        "outputId": "b64350f6-7185-4317-d4af-f295e64e40f7"
      },
      "execution_count": 14,
      "outputs": [
        {
          "output_type": "stream",
          "name": "stdout",
          "text": [
            "[ 0.147839    0.30421656 -0.30422028  0.93963529 -1.50064208 -0.35582791]\n",
            "[ 0.02666856  0.87640206 -0.11275422  0.40634126 -2.02338963  0.37686562]\n"
          ]
        }
      ]
    },
    {
      "cell_type": "code",
      "source": [
        "np.add(arr2, arr3) # arr1 ni arr2 ga elementlarini mos ravishda qo'shib beradi"
      ],
      "metadata": {
        "colab": {
          "base_uri": "https://localhost:8080/"
        },
        "id": "P6LnRGH_XBaQ",
        "outputId": "05b90141-ce15-4376-927c-384d66a17640"
      },
      "execution_count": 15,
      "outputs": [
        {
          "output_type": "execute_result",
          "data": {
            "text/plain": [
              "array([ 0.17450756,  1.18061862, -0.4169745 ,  1.34597655, -3.5240317 ,\n",
              "        0.02103771])"
            ]
          },
          "metadata": {},
          "execution_count": 15
        }
      ]
    },
    {
      "cell_type": "code",
      "source": [
        "arr2 + arr3 # yuqoridagi qo'shish bilan bir xil usul"
      ],
      "metadata": {
        "colab": {
          "base_uri": "https://localhost:8080/"
        },
        "id": "2EeEM6v1XGJ-",
        "outputId": "6456982d-4286-4f74-99e7-bf94f6d3d0fc"
      },
      "execution_count": 16,
      "outputs": [
        {
          "output_type": "execute_result",
          "data": {
            "text/plain": [
              "array([ 0.17450756,  1.18061862, -0.4169745 ,  1.34597655, -3.5240317 ,\n",
              "        0.02103771])"
            ]
          },
          "metadata": {},
          "execution_count": 16
        }
      ]
    },
    {
      "cell_type": "markdown",
      "source": [
        "multiply - ikta massivning mos elementlarini kopaytiradi"
      ],
      "metadata": {
        "id": "6FGL3KNSXdE-"
      }
    },
    {
      "cell_type": "code",
      "source": [
        "np.multiply(arr2, arr3) "
      ],
      "metadata": {
        "colab": {
          "base_uri": "https://localhost:8080/"
        },
        "id": "t5H1l0epXYZD",
        "outputId": "e9ee62da-9c35-417b-b81e-f9383e3aa235"
      },
      "execution_count": 17,
      "outputs": [
        {
          "output_type": "execute_result",
          "data": {
            "text/plain": [
              "array([ 0.00394265,  0.26661602,  0.03430212,  0.38181259,  3.03638361,\n",
              "       -0.13409931])"
            ]
          },
          "metadata": {},
          "execution_count": 17
        }
      ]
    },
    {
      "cell_type": "markdown",
      "source": [
        "maximum - ikta massivning elementlarini taqqoslab ulardan kattasini qiymatin qaytaradi"
      ],
      "metadata": {
        "id": "Z0F-MNR4X0Fg"
      }
    },
    {
      "cell_type": "code",
      "source": [
        "np.maximum(arr2, arr3)"
      ],
      "metadata": {
        "colab": {
          "base_uri": "https://localhost:8080/"
        },
        "id": "kMiWbFqXXock",
        "outputId": "f35a1422-60c2-4718-f1d1-2f4c280aaf5d"
      },
      "execution_count": 18,
      "outputs": [
        {
          "output_type": "execute_result",
          "data": {
            "text/plain": [
              "array([ 0.147839  ,  0.87640206, -0.11275422,  0.93963529, -1.50064208,\n",
              "        0.37686562])"
            ]
          },
          "metadata": {},
          "execution_count": 18
        }
      ]
    },
    {
      "cell_type": "markdown",
      "source": [
        "### binary funksiyalar\n",
        "\n",
        "Har bir element (element-wise) uchun amallar bajaruvchi funksiyalar\n",
        "<br>\n",
        "subtract - birinchi massiv elementlarini ikkinchi massiv elementlariga mos ravishda ayiradi<br>\n",
        "power - birinchi massiv elementlarini ikkinchi massiv elementlarda korsatilingan darajalar oshiradi<br>\n",
        "max, fmax - ikkala array mos qiymatlarini solishtirib maksimumini qaytaradi, fmax esa NAN larni hisobga olmaydi<br>\n",
        "min, fmin - ikkala array mos qiymatlarini solishtirib minumumini qaytaradi, fmin esa NAN larni hisobga olmaydi<br>\n",
        "mod - massiv elementlarini bo'lib, bo'linmadan qoldigini (faqat butun qismini) qaytaradi<br>\n",
        "copysign - ikkinchi argumetn ishorasini birinchi argumentga nusxalash vazifasini bajaradi<br>\n",
        "greater, greater_equal, less, less_equal, equal, not_equal - mos elementlar aro taqqoslash amalini bajarib boolean arrayini qaytaradi<br>\n",
        "logical_and, logical_or, logical_xor - mos elementlar aro mantiqiy amallarni bajaradi (&, |, ^)"
      ],
      "metadata": {
        "id": "g5oNixXPaMbs"
      }
    }
  ]
}
