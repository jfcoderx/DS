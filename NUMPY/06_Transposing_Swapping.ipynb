{
  "nbformat": 4,
  "nbformat_minor": 0,
  "metadata": {
    "colab": {
      "provenance": [],
      "authorship_tag": "ABX9TyPgzPiXCk7r+y8TvStSR2qQ",
      "include_colab_link": true
    },
    "kernelspec": {
      "name": "python3",
      "display_name": "Python 3"
    },
    "language_info": {
      "name": "python"
    }
    
  },
  "cells": [
    {
      "cell_type": "markdown",
      "metadata": {
        "id": "view-in-github",
        "colab_type": "text"
      },
      "source": [
        "<a href=\"https://colab.research.google.com/github/jfcoderx/Data-Sciense/blob/main/5_Transposing%26Swapping.ipynb\" target=\"_parent\"><img src=\"https://colab.research.google.com/assets/colab-badge.svg\" alt=\"Open In Colab\"/></a>"
      ]
    },
    {
      "cell_type": "markdown",
      "source": [
        "## Massivlar pozitsiyasisni ko'chirish Transpose Va o'qalarini o'rnini almashtirish Swapping axes"
      ],
      "metadata": {
        "id": "2KICz8srFCxp"
      }
    },
    {
      "cell_type": "markdown",
      "source": [
        "Transpose <br>\n",
        "chiziqli algebraning konsepsiyasi hisoblanadi. Chiziqli algebrada massivlarni ko'paytirishda ishlatiladi.<br>\n",
        "\n",
        "Juda sodda tushuncha, shunchaki qator elementlarin ustun elementlariga ko'chirib qo'yish <br>\n",
        "<br>A MASSIV<br>\n",
        "(0,0) (0,1) <br>\n",
        "(1,0) (1,1) <br>\n",
        "(2,0) (2,1) --> (3,2) <br>\n",
        "TRANSPOSE<br>\n",
        "(0,0) (1,0) (2,0) <br>\n",
        "(0,1) (1,1) (2,1) --> (2,3)<br>\n",
        "<br>A MASSIV<br>\n",
        "0 - 1 <br>\n",
        "2 - 3 <br>\n",
        "4 - 5 <br>\n",
        "TRANSPOSE<br>\n",
        "0 - 2 - 4 <br>\n",
        "1 - 3 - 5<br>\n",
        "<br>\n",
        "\n"
      ],
      "metadata": {
        "id": "a4d7YJTdFb1G"
      }
    },
    {
      "cell_type": "code",
      "execution_count": 1,
      "metadata": {
        "id": "ussGIGlhE8Mz"
      },
      "outputs": [],
      "source": [
        "import numpy as np"
      ]
    },
    {
      "cell_type": "code",
      "source": [
        "a_massiv = np.array([[0, 1], [2, 3], [4, 5]])\n",
        "a_massiv"
      ],
      "metadata": {
        "colab": {
          "base_uri": "https://localhost:8080/"
        },
        "id": "xFUZzC9LHvv5",
        "outputId": "c6b36c2c-e09f-40d5-eb23-f2ab1e466dd2"
      },
      "execution_count": 2,
      "outputs": [
        {
          "output_type": "execute_result",
          "data": {
            "text/plain": [
              "array([[0, 1],\n",
              "       [2, 3],\n",
              "       [4, 5]])"
            ]
          },
          "metadata": {},
          "execution_count": 2
        }
      ]
    },
    {
      "cell_type": "markdown",
      "source": [
        "buni boshqacha usulda yaratish uchun RESHAPE metodidan"
      ],
      "metadata": {
        "id": "wzIx2lonIP1d"
      }
    },
    {
      "cell_type": "code",
      "source": [
        "A = np.arange(6).reshape(3, 2)\n",
        "A"
      ],
      "metadata": {
        "colab": {
          "base_uri": "https://localhost:8080/"
        },
        "id": "GblfShZjIAtK",
        "outputId": "7fd92e75-2b93-4252-f706-984b95cfba15"
      },
      "execution_count": 5,
      "outputs": [
        {
          "output_type": "execute_result",
          "data": {
            "text/plain": [
              "array([[0, 1],\n",
              "       [2, 3],\n",
              "       [4, 5]])"
            ]
          },
          "metadata": {},
          "execution_count": 5
        }
      ]
    },
    {
      "cell_type": "markdown",
      "source": [
        "TRANSPOSE"
      ],
      "metadata": {
        "id": "V26hmB5QI0Zc"
      }
    },
    {
      "cell_type": "code",
      "source": [
        "A.T # A massivning Transpose ko'rinishi"
      ],
      "metadata": {
        "colab": {
          "base_uri": "https://localhost:8080/"
        },
        "id": "bLzuyzAbIpLb",
        "outputId": "234f0ff7-dd83-400d-f8ca-adac9c843804"
      },
      "execution_count": 6,
      "outputs": [
        {
          "output_type": "execute_result",
          "data": {
            "text/plain": [
              "array([[0, 2, 4],\n",
              "       [1, 3, 5]])"
            ]
          },
          "metadata": {},
          "execution_count": 6
        }
      ]
    },
    {
      "cell_type": "markdown",
      "source": [
        "SWAPPING AXES, massivning oqlarini ornini almashtirish <br>\n",
        "swapping axes, transpose bilan bir xil <br>\n",
        "birdan bir farqi, transpose uzogi 2 o'lchamli massivlar<br>\n",
        "swapping axes da esa istalgan o'lchamli massivning istalgancha o'qlarini almashtira olamiz\n"
      ],
      "metadata": {
        "id": "X760lAdgJQ_9"
      }
    },
    {
      "cell_type": "code",
      "source": [
        "A"
      ],
      "metadata": {
        "colab": {
          "base_uri": "https://localhost:8080/"
        },
        "id": "wfEhkXKxI76_",
        "outputId": "3a490d30-079c-4eae-e5bc-f5a24c6e2692"
      },
      "execution_count": 7,
      "outputs": [
        {
          "output_type": "execute_result",
          "data": {
            "text/plain": [
              "array([[0, 1],\n",
              "       [2, 3],\n",
              "       [4, 5]])"
            ]
          },
          "metadata": {},
          "execution_count": 7
        }
      ]
    },
    {
      "cell_type": "markdown",
      "source": [
        "0, 1 boylab yonalgan o'q 0-o'q <br>\n",
        "0, 2, 4 boylab yonalgan o'q 1-o'q <br>\n",
        "shu uchun (0,1) oqlarni (1, 0) ga aylantiriladi"
      ],
      "metadata": {
        "id": "Ofg102E9KuHr"
      }
    },
    {
      "cell_type": "code",
      "source": [
        "A.swapaxes(1, 0) # A massivimizning Transpose ko'rinishini beradi"
      ],
      "metadata": {
        "colab": {
          "base_uri": "https://localhost:8080/"
        },
        "id": "eOgyuU12KdYc",
        "outputId": "c61257c3-4353-4b11-bfb2-12d10b39be72"
      },
      "execution_count": 8,
      "outputs": [
        {
          "output_type": "execute_result",
          "data": {
            "text/plain": [
              "array([[0, 2, 4],\n",
              "       [1, 3, 5]])"
            ]
          },
          "metadata": {},
          "execution_count": 8
        }
      ]
    },
    {
      "cell_type": "markdown",
      "source": [
        "Xulosa qilib aytsak, traspose swapaxesning bir xususiy holi hisoblandi"
      ],
      "metadata": {
        "id": "z2xWdqKsLkL7"
      }
    },
    {
      "cell_type": "markdown",
      "source": [
        "Transpose tushunchasi chiziqli algebrada qollanilaadigan tushuncha hisoblanadi <br>\n",
        "A A^T bu kabi formulalarni korish mumkin <br>\n",
        "bu A massivni A massivning Trasposega kopaytmasi degani\n"
      ],
      "metadata": {
        "id": "5VcV5v--L-pp"
      }
    },
    {
      "cell_type": "markdown",
      "source": [
        "Kopaytirishimiz uchun numpy kutubxonasining, <br>\n",
        "DOT() funksiyasidan foydalanmiz <br>\n",
        "bu funksiya bir turdagi massivni ikkinchi turga kopaytirishda ishlatiladi"
      ],
      "metadata": {
        "id": "aKROokYqMziK"
      }
    },
    {
      "cell_type": "code",
      "source": [
        "np.dot(A, A.T) # A A^T kopaytmasidan hosil bolgan massiv "
      ],
      "metadata": {
        "colab": {
          "base_uri": "https://localhost:8080/"
        },
        "id": "3zQh-z32Km35",
        "outputId": "a35e4cb4-0fff-4d63-ddde-c149b211b0d6"
      },
      "execution_count": 10,
      "outputs": [
        {
          "output_type": "execute_result",
          "data": {
            "text/plain": [
              "array([[ 1,  3,  5],\n",
              "       [ 3, 13, 23],\n",
              "       [ 5, 23, 41]])"
            ]
          },
          "metadata": {},
          "execution_count": 10
        }
      ]
    }
  ]
}
