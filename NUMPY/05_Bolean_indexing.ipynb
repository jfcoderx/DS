{
  "nbformat": 4,
  "nbformat_minor": 0,
  "metadata": {
    "colab": {
      "provenance": [],
      "authorship_tag": "ABX9TyM4jq5gJgrjIj8YSSchMruj",
      "include_colab_link": true
    },
    "kernelspec": {
      "name": "python3",
      "display_name": "Python 3"
    },
    "language_info": {
      "name": "python"
    }
    
  },
  "cells": [
    {
      "cell_type": "markdown",
      "metadata": {
        "id": "view-in-github",
        "colab_type": "text"
      },
      "source": [
        "<a href=\"https://colab.research.google.com/github/jfcoderx/Data-Sciense/blob/main/4_Bolean_indexing.ipynb\" target=\"_parent\"><img src=\"https://colab.research.google.com/assets/colab-badge.svg\" alt=\"Open In Colab\"/></a>"
      ]
    },
    {
      "cell_type": "markdown",
      "source": [
        "## Boolean indexlash"
      ],
      "metadata": {
        "id": "MIU0GNsSaZnp"
      }
    },
    {
      "cell_type": "code",
      "execution_count": 2,
      "metadata": {
        "id": "pXIMLWnGaSm1"
      },
      "outputs": [],
      "source": [
        "import numpy as np"
      ]
    },
    {
      "cell_type": "code",
      "source": [
        "# ismlar\n",
        "names = np.array(['Jasur', 'Doston', 'Habib', 'Ikrom', 'Jasur', 'Sardor', 'Jamshid'])\n",
        "names"
      ],
      "metadata": {
        "colab": {
          "base_uri": "https://localhost:8080/"
        },
        "id": "wEjL9VqXav5R",
        "outputId": "a12d8688-1c07-4e77-f4cf-56d3f08f697f"
      },
      "execution_count": 8,
      "outputs": [
        {
          "output_type": "execute_result",
          "data": {
            "text/plain": [
              "array(['Jasur', 'Doston', 'Habib', 'Ikrom', 'Jasur', 'Sardor', 'Jamshid'],\n",
              "      dtype='<U7')"
            ]
          },
          "metadata": {},
          "execution_count": 8
        }
      ]
    },
    {
      "cell_type": "code",
      "source": [
        "# data\n",
        "data = np.random.randn(7, 4) # istalgan malumotlar turi, 7 qatorli, 4 ustunli\n",
        "data"
      ],
      "metadata": {
        "colab": {
          "base_uri": "https://localhost:8080/"
        },
        "id": "DHkSxKMza3Y9",
        "outputId": "812e85de-c2fe-4cba-d6d3-bf0a05a1b5e0"
      },
      "execution_count": 10,
      "outputs": [
        {
          "output_type": "execute_result",
          "data": {
            "text/plain": [
              "array([[-0.37496467,  0.67438124,  0.28814237, -0.6230284 ],\n",
              "       [-0.95914298, -0.3807025 ,  0.51446469,  1.33437546],\n",
              "       [-0.90967151,  0.21212172,  0.09479158,  1.49019764],\n",
              "       [ 0.51971308,  2.5688994 ,  0.79056676, -0.60713384],\n",
              "       [ 0.3093182 , -1.07644966,  0.40523114,  0.54613115],\n",
              "       [-0.91013178,  1.56100127,  0.09453718, -0.26293626],\n",
              "       [ 1.22353034, -1.39566492, -0.02244134,  1.52808094]])"
            ]
          },
          "metadata": {},
          "execution_count": 10
        }
      ]
    },
    {
      "cell_type": "markdown",
      "source": [
        "Boolean indekslash bu Massiv elementlarining indekslari, boolean malumot turlaridan tashkil topgan yani True Falselardan"
      ],
      "metadata": {
        "id": "_JnSPD_Wb0DI"
      }
    },
    {
      "cell_type": "markdown",
      "source": [
        "Dastlab massivlardan iborat massivimizni indekslarini boolean korinishga otkazib olamiz:"
      ],
      "metadata": {
        "id": "3TzA7nXfcnfp"
      }
    },
    {
      "cell_type": "code",
      "source": [
        "names == 'Jasur'"
      ],
      "metadata": {
        "colab": {
          "base_uri": "https://localhost:8080/"
        },
        "id": "uKreHDvEcyZ-",
        "outputId": "735f435d-754d-4275-9ef2-af6bd5f1ac68"
      },
      "execution_count": 11,
      "outputs": [
        {
          "output_type": "execute_result",
          "data": {
            "text/plain": [
              "array([ True, False, False, False,  True, False, False])"
            ]
          },
          "metadata": {},
          "execution_count": 11
        }
      ]
    },
    {
      "cell_type": "markdown",
      "source": [
        "names massivimizni ana endi boolean korinishidagi massivimizga ogirib oldik, True degani ikki marta qaytarilgan chunki bizda 'Jasur' degan malumotimiz ikta bo'lgani uchun"
      ],
      "metadata": {
        "id": "L_Xk8VN_c-eH"
      }
    },
    {
      "cell_type": "markdown",
      "source": [
        "Ana endi mana shu boolean indeksimizdan foydalanib biz, data nomli malumotlarimizdan aynan 'Jasur' ismli kishiga tegishli malumotlarni ajratib olamiz, bu uchun data massimizga indek sifatida boolean indeksimizni kiritamiz\n"
      ],
      "metadata": {
        "id": "KUH0w_EEdYoP"
      }
    },
    {
      "cell_type": "code",
      "source": [
        "data[names == 'Jasur'] # bu degani barcha Jasurga tegishli malumotlarni datadan kesib ol degani"
      ],
      "metadata": {
        "colab": {
          "base_uri": "https://localhost:8080/"
        },
        "id": "1wf42QRYdvVo",
        "outputId": "3bd241c0-cb08-422b-cf8a-59f84f4cb716"
      },
      "execution_count": 13,
      "outputs": [
        {
          "output_type": "execute_result",
          "data": {
            "text/plain": [
              "array([[-0.37496467,  0.67438124,  0.28814237, -0.6230284 ],\n",
              "       [ 0.3093182 , -1.07644966,  0.40523114,  0.54613115]])"
            ]
          },
          "metadata": {},
          "execution_count": 13
        }
      ]
    },
    {
      "cell_type": "markdown",
      "source": [
        "korinib turibdi 2 qator malumotlarni ajratib olindi, yani indeksi True indeksga mos tushadigan malumotlarni ajratib olindi, buni boshqa ismlar orqali ham qo'lasak boladi <br><br>\n",
        "\n",
        "misolga yanada chuqurlashadigan bo'lsak\n",
        "data[names == 'Jasur'] bu chiqarilgan malumotlarni (2, 2) tipidagi malumotlarni ajratib chiqaraylik"
      ],
      "metadata": {
        "id": "9hvNDsU1ehLF"
      }
    },
    {
      "cell_type": "code",
      "source": [
        "data[names == 'Jasur'][:2, 2:] "
      ],
      "metadata": {
        "colab": {
          "base_uri": "https://localhost:8080/"
        },
        "id": "B5SBGDiCf6q9",
        "outputId": "b847468d-e6db-4675-c55b-aefbac5bf45e"
      },
      "execution_count": 15,
      "outputs": [
        {
          "output_type": "execute_result",
          "data": {
            "text/plain": [
              "array([[ 0.28814237, -0.6230284 ],\n",
              "       [ 0.40523114,  0.54613115]])"
            ]
          },
          "metadata": {},
          "execution_count": 15
        }
      ]
    },
    {
      "cell_type": "code",
      "source": [
        "data[names == 'Jasur', 2:] # qatorlar soni mak bolagni uchun belgilanmadi, ustunlar soni esa 2dan oxiriga, shularga togri keluvchi malumotlarni ajratib olish\n",
        "# Jasurga tegishli oxirgi ikkita ustundagi malumotlarni ajratib olish"
      ],
      "metadata": {
        "colab": {
          "base_uri": "https://localhost:8080/"
        },
        "id": "7TjZjiTLgF1O",
        "outputId": "877716b9-5aa6-4f6f-cb29-fb5c44ef3666"
      },
      "execution_count": 16,
      "outputs": [
        {
          "output_type": "execute_result",
          "data": {
            "text/plain": [
              "array([[ 0.28814237, -0.6230284 ],\n",
              "       [ 0.40523114,  0.54613115]])"
            ]
          },
          "metadata": {},
          "execution_count": 16
        }
      ]
    },
    {
      "cell_type": "markdown",
      "source": [
        "Jasurga tegishli bolmagan malumotlarni ham ajratib olish mumkin, NOT EQUAL amalidan foydalanamiz\n"
      ],
      "metadata": {
        "id": "IP4_Qb_ShPNq"
      }
    },
    {
      "cell_type": "code",
      "source": [
        "data[names != 'Jasur'] # Jasurdan tashqari barcha insonlarning malumotlari --> (!=)"
      ],
      "metadata": {
        "colab": {
          "base_uri": "https://localhost:8080/"
        },
        "id": "bMfCZ2LvgzPA",
        "outputId": "67022849-5e95-4abe-a21b-516d6329c191"
      },
      "execution_count": 17,
      "outputs": [
        {
          "output_type": "execute_result",
          "data": {
            "text/plain": [
              "array([[-0.95914298, -0.3807025 ,  0.51446469,  1.33437546],\n",
              "       [-0.90967151,  0.21212172,  0.09479158,  1.49019764],\n",
              "       [ 0.51971308,  2.5688994 ,  0.79056676, -0.60713384],\n",
              "       [-0.91013178,  1.56100127,  0.09453718, -0.26293626],\n",
              "       [ 1.22353034, -1.39566492, -0.02244134,  1.52808094]])"
            ]
          },
          "metadata": {},
          "execution_count": 17
        }
      ]
    },
    {
      "cell_type": "code",
      "source": [
        "data[~(names == 'Jasur')] # Yuroridagi cell bilan bir xil natija --> (~)"
      ],
      "metadata": {
        "colab": {
          "base_uri": "https://localhost:8080/"
        },
        "id": "QdPwcWrghV4o",
        "outputId": "d76ff00e-9463-4a50-8e4e-aa004410e7e0"
      },
      "execution_count": 18,
      "outputs": [
        {
          "output_type": "execute_result",
          "data": {
            "text/plain": [
              "array([[-0.95914298, -0.3807025 ,  0.51446469,  1.33437546],\n",
              "       [-0.90967151,  0.21212172,  0.09479158,  1.49019764],\n",
              "       [ 0.51971308,  2.5688994 ,  0.79056676, -0.60713384],\n",
              "       [-0.91013178,  1.56100127,  0.09453718, -0.26293626],\n",
              "       [ 1.22353034, -1.39566492, -0.02244134,  1.52808094]])"
            ]
          },
          "metadata": {},
          "execution_count": 18
        }
      ]
    },
    {
      "cell_type": "markdown",
      "source": [
        "ikki boshqa boshqa ismga mos keluvchi malumotlarni qanday ajratib olardik"
      ],
      "metadata": {
        "id": "KE36vGrYiTlx"
      }
    },
    {
      "cell_type": "code",
      "source": [
        "print(names)\n",
        "print(data)"
      ],
      "metadata": {
        "colab": {
          "base_uri": "https://localhost:8080/"
        },
        "id": "hWvDQdPSiIL3",
        "outputId": "5fa6b8de-961b-49c4-980f-33adbba00404"
      },
      "execution_count": 23,
      "outputs": [
        {
          "output_type": "stream",
          "name": "stdout",
          "text": [
            "['Jasur' 'Doston' 'Habib' 'Ikrom' 'Jasur' 'Sardor' 'Jamshid']\n",
            "[[-0.37496467  0.67438124  0.28814237 -0.6230284 ]\n",
            " [-0.95914298 -0.3807025   0.51446469  1.33437546]\n",
            " [-0.90967151  0.21212172  0.09479158  1.49019764]\n",
            " [ 0.51971308  2.5688994   0.79056676 -0.60713384]\n",
            " [ 0.3093182  -1.07644966  0.40523114  0.54613115]\n",
            " [-0.91013178  1.56100127  0.09453718 -0.26293626]\n",
            " [ 1.22353034 -1.39566492 -0.02244134  1.52808094]]\n"
          ]
        }
      ]
    },
    {
      "cell_type": "code",
      "source": [
        "two_bool = (names == 'Jasur') | (names == 'Ikrom') # (|) yoki \n",
        "two_bool"
      ],
      "metadata": {
        "colab": {
          "base_uri": "https://localhost:8080/"
        },
        "id": "5vDuFFhNioE6",
        "outputId": "c0a85a4e-eb50-4b7b-8093-e34a8a15c3b8"
      },
      "execution_count": 44,
      "outputs": [
        {
          "output_type": "execute_result",
          "data": {
            "text/plain": [
              "array([ True, False, False,  True,  True, False, False])"
            ]
          },
          "metadata": {},
          "execution_count": 44
        }
      ]
    },
    {
      "cell_type": "code",
      "source": [
        "data[two_bool] # Jasur va Ikromlarga tegishli malumotlarmi ajratib olish"
      ],
      "metadata": {
        "colab": {
          "base_uri": "https://localhost:8080/"
        },
        "id": "Aliz6b8uizm1",
        "outputId": "6c1b6560-c1fd-4ae2-e392-619181b1c75c"
      },
      "execution_count": 45,
      "outputs": [
        {
          "output_type": "execute_result",
          "data": {
            "text/plain": [
              "array([[-0.37496467,  0.67438124,  0.28814237, -0.6230284 ],\n",
              "       [ 0.51971308,  2.5688994 ,  0.79056676, -0.60713384],\n",
              "       [ 0.3093182 , -1.07644966,  0.40523114,  0.54613115]])"
            ]
          },
          "metadata": {},
          "execution_count": 45
        }
      ]
    },
    {
      "cell_type": "markdown",
      "source": [
        "Boolean indekslash juda ham foydali hisoblanadi. Ayniqsa masking indekslashda juda juda qol keladi, buni nafaqat string korinishidagi malumotlar ustida, balki raqamli malumotlarda ham ishlatilsa boladi\n"
      ],
      "metadata": {
        "id": "yS1-Ohzzl_1O"
      }
    },
    {
      "cell_type": "code",
      "source": [
        "data"
      ],
      "metadata": {
        "colab": {
          "base_uri": "https://localhost:8080/"
        },
        "id": "CoeQbhvXlN4K",
        "outputId": "73132992-7bd6-470d-8064-bb6ff1f902f7"
      },
      "execution_count": 46,
      "outputs": [
        {
          "output_type": "execute_result",
          "data": {
            "text/plain": [
              "array([[-0.37496467,  0.67438124,  0.28814237, -0.6230284 ],\n",
              "       [-0.95914298, -0.3807025 ,  0.51446469,  1.33437546],\n",
              "       [-0.90967151,  0.21212172,  0.09479158,  1.49019764],\n",
              "       [ 0.51971308,  2.5688994 ,  0.79056676, -0.60713384],\n",
              "       [ 0.3093182 , -1.07644966,  0.40523114,  0.54613115],\n",
              "       [-0.91013178,  1.56100127,  0.09453718, -0.26293626],\n",
              "       [ 1.22353034, -1.39566492, -0.02244134,  1.52808094]])"
            ]
          },
          "metadata": {},
          "execution_count": 46
        }
      ]
    },
    {
      "cell_type": "markdown",
      "source": [
        "Etibor bersangiz bizda manfiy qiymatlar bor, biz ularning qiymatlarin nolga ozgartirib qoyaylik"
      ],
      "metadata": {
        "id": "Xi0UJ0-bmmDV"
      }
    },
    {
      "cell_type": "code",
      "source": [
        "data[data<0] # indeksda bunday yozilishi, nolgan kichgina barcha elemenlarning indeksi chiqaradi"
      ],
      "metadata": {
        "colab": {
          "base_uri": "https://localhost:8080/"
        },
        "id": "v6smXT8Pmin5",
        "outputId": "32ec99e9-ef12-4d1f-8f85-fc64e0844f85"
      },
      "execution_count": 47,
      "outputs": [
        {
          "output_type": "execute_result",
          "data": {
            "text/plain": [
              "array([-0.37496467, -0.6230284 , -0.95914298, -0.3807025 , -0.90967151,\n",
              "       -0.60713384, -1.07644966, -0.91013178, -0.26293626, -1.39566492,\n",
              "       -0.02244134])"
            ]
          },
          "metadata": {},
          "execution_count": 47
        }
      ]
    },
    {
      "cell_type": "code",
      "source": [
        "data[data<0] = 0 # shu elementlarni barchasini nolga tenglaymiz \n",
        "data"
      ],
      "metadata": {
        "colab": {
          "base_uri": "https://localhost:8080/"
        },
        "id": "Cc9DeAWonD3t",
        "outputId": "7217dc04-9486-4ff6-ebca-8bfbc49f177e"
      },
      "execution_count": 49,
      "outputs": [
        {
          "output_type": "execute_result",
          "data": {
            "text/plain": [
              "array([[0.        , 0.67438124, 0.28814237, 0.        ],\n",
              "       [0.        , 0.        , 0.51446469, 1.33437546],\n",
              "       [0.        , 0.21212172, 0.09479158, 1.49019764],\n",
              "       [0.51971308, 2.5688994 , 0.79056676, 0.        ],\n",
              "       [0.3093182 , 0.        , 0.40523114, 0.54613115],\n",
              "       [0.        , 1.56100127, 0.09453718, 0.        ],\n",
              "       [1.22353034, 0.        , 0.        , 1.52808094]])"
            ]
          },
          "metadata": {},
          "execution_count": 49
        }
      ]
    },
    {
      "cell_type": "code",
      "source": [
        "data[data>0]"
      ],
      "metadata": {
        "colab": {
          "base_uri": "https://localhost:8080/"
        },
        "id": "WYOqQEDAnPuv",
        "outputId": "83a50a2f-d411-4dd7-b23e-e9cf3cbb6de3"
      },
      "execution_count": 50,
      "outputs": [
        {
          "output_type": "execute_result",
          "data": {
            "text/plain": [
              "array([0.67438124, 0.28814237, 0.51446469, 1.33437546, 0.21212172,\n",
              "       0.09479158, 1.49019764, 0.51971308, 2.5688994 , 0.79056676,\n",
              "       0.3093182 , 0.40523114, 0.54613115, 1.56100127, 0.09453718,\n",
              "       1.22353034, 1.52808094])"
            ]
          },
          "metadata": {},
          "execution_count": 50
        }
      ]
    },
    {
      "cell_type": "code",
      "source": [
        "data[data>0] = 11 # shu elementlarni barchasini 11 tenglaymiz \n",
        "data"
      ],
      "metadata": {
        "colab": {
          "base_uri": "https://localhost:8080/"
        },
        "id": "Hl4K4lmBoFGm",
        "outputId": "4e44826d-86ba-4a5f-9772-49d73b108e8f"
      },
      "execution_count": 51,
      "outputs": [
        {
          "output_type": "execute_result",
          "data": {
            "text/plain": [
              "array([[ 0., 11., 11.,  0.],\n",
              "       [ 0.,  0., 11., 11.],\n",
              "       [ 0., 11., 11., 11.],\n",
              "       [11., 11., 11.,  0.],\n",
              "       [11.,  0., 11., 11.],\n",
              "       [ 0., 11., 11.,  0.],\n",
              "       [11.,  0.,  0., 11.]])"
            ]
          },
          "metadata": {},
          "execution_count": 51
        }
      ]
    },
    {
      "cell_type": "markdown",
      "source": [
        "Xulosa qilib aytadigan bolsak boolean indekslash bizga massivlashning bir qancha malumotlari ustida bir vaqtning ozida turli xil amallarni barajarish imkoniyatlarini beradi"
      ],
      "metadata": {
        "id": "ib_kXFHundLU"
      }
    }
  ]
}
