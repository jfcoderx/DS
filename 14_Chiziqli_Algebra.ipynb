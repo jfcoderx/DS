{
  "nbformat": 4,
  "nbformat_minor": 0,
  "metadata": {
    "colab": {
      "provenance": [],
      "authorship_tag": "ABX9TyNkwsXIlE0eQ6dulz5FwIwB",
      "include_colab_link": true
    },
    "kernelspec": {
      "name": "python3",
      "display_name": "Python 3"
    },
    "language_info": {
      "name": "python"
    }
  },
  "cells": [
    {
      "cell_type": "markdown",
      "metadata": {
        "id": "view-in-github",
        "colab_type": "text"
      },
      "source": [
        "<a href=\"https://colab.research.google.com/github/jfcoderx/Data-Sciense/blob/main/14_Chiziqli_Algebra.ipynb\" target=\"_parent\"><img src=\"https://colab.research.google.com/assets/colab-badge.svg\" alt=\"Open In Colab\"/></a>"
      ]
    },
    {
      "cell_type": "markdown",
      "source": [
        "## Malumotlar tahlili. NumPy\n",
        "### Chiziqli algebra\n",
        "Matritsalar va vektorlar ustida sodda amallarni koramiz"
      ],
      "metadata": {
        "id": "S-ofU_-By7gJ"
      }
    },
    {
      "cell_type": "code",
      "execution_count": 1,
      "metadata": {
        "id": "pnaDtqwRyyoB"
      },
      "outputs": [],
      "source": [
        "import numpy as np"
      ]
    },
    {
      "cell_type": "code",
      "source": [
        "# matritsa, 2 olchovli massiv\n",
        "x = np.arange(1, 7).reshape(2, 3)\n",
        "x"
      ],
      "metadata": {
        "colab": {
          "base_uri": "https://localhost:8080/"
        },
        "id": "gK715HIczMSz",
        "outputId": "ea5198f4-e950-4ffd-dc28-5565f23950a2"
      },
      "execution_count": 4,
      "outputs": [
        {
          "output_type": "execute_result",
          "data": {
            "text/plain": [
              "array([[1, 2, 3],\n",
              "       [4, 5, 6]])"
            ]
          },
          "metadata": {},
          "execution_count": 4
        }
      ]
    },
    {
      "cell_type": "code",
      "source": [
        "y = np.arange(7, 13).reshape(2, 3)\n",
        "y"
      ],
      "metadata": {
        "colab": {
          "base_uri": "https://localhost:8080/"
        },
        "id": "BKViFbMQzdsb",
        "outputId": "f6fd176d-09ec-4fce-ef4b-f43f3a3ef889"
      },
      "execution_count": 12,
      "outputs": [
        {
          "output_type": "execute_result",
          "data": {
            "text/plain": [
              "array([[ 7,  8,  9],\n",
              "       [10, 11, 12]])"
            ]
          },
          "metadata": {},
          "execution_count": 12
        }
      ]
    },
    {
      "cell_type": "code",
      "source": [
        "x + y"
      ],
      "metadata": {
        "colab": {
          "base_uri": "https://localhost:8080/"
        },
        "id": "n7_HdCCxz1gX",
        "outputId": "1f5d71cc-96e1-46f3-ee97-65656dd5e144"
      },
      "execution_count": 13,
      "outputs": [
        {
          "output_type": "execute_result",
          "data": {
            "text/plain": [
              "array([[ 8, 10, 12],\n",
              "       [14, 16, 18]])"
            ]
          },
          "metadata": {},
          "execution_count": 13
        }
      ]
    },
    {
      "cell_type": "code",
      "source": [
        "y - x"
      ],
      "metadata": {
        "colab": {
          "base_uri": "https://localhost:8080/"
        },
        "id": "abDa15Brz3AI",
        "outputId": "797f523c-de24-4a05-fd74-efdd8181196c"
      },
      "execution_count": 15,
      "outputs": [
        {
          "output_type": "execute_result",
          "data": {
            "text/plain": [
              "array([[6, 6, 6],\n",
              "       [6, 6, 6]])"
            ]
          },
          "metadata": {},
          "execution_count": 15
        }
      ]
    },
    {
      "cell_type": "markdown",
      "source": [
        "skalar kopaytirish<br>\n",
        "arrayning har bir elementlarini bir songa kopaytirish"
      ],
      "metadata": {
        "id": "eVGJVyWWz-re"
      }
    },
    {
      "cell_type": "code",
      "source": [
        "x * 5"
      ],
      "metadata": {
        "colab": {
          "base_uri": "https://localhost:8080/"
        },
        "id": "_lEbW5TYz6tR",
        "outputId": "c9c99cb2-cf9f-4d38-ab73-c5f863727f46"
      },
      "execution_count": 16,
      "outputs": [
        {
          "output_type": "execute_result",
          "data": {
            "text/plain": [
              "array([[ 5, 10, 15],\n",
              "       [20, 25, 30]])"
            ]
          },
          "metadata": {},
          "execution_count": 16
        }
      ]
    },
    {
      "cell_type": "markdown",
      "source": [
        "Arraylarni kopaytirishni oziga yarasha qoidalari bor: <br>\n",
        "1-matritsalarni ustunlari soni 2-matritsaning qatorlar soniga teng bolishi kerak<br>\n",
        "(2, 3) matritsamizni, (3, 2) matritsaga kopaytirishimiz mumkin<br>\n",
        "<br>\n",
        "1 2 3 <br>\n",
        "4 5 6 <br>\n",
        "<br>\n",
        "10 11 <br>\n",
        "20 21 <br>\n",
        "30 31 <br>\n",
        "<br>\n",
        "1x10 + 2x20 + 3x30 --- 1x11 + 2x21 + 3x31 <br>\n",
        "4x10 + 5x20 + 6x30 --- 4x11 + 5x21 + 6x31 <br>\n",
        "<br>\n",
        "140 146 <br>\n",
        "320 335"
      ],
      "metadata": {
        "id": "p9eRVMrl0Nim"
      }
    },
    {
      "cell_type": "code",
      "source": [
        "x"
      ],
      "metadata": {
        "colab": {
          "base_uri": "https://localhost:8080/"
        },
        "id": "znTIAhYF0I2Y",
        "outputId": "d67fb784-054d-4a50-ad50-629d8bb32a2b"
      },
      "execution_count": 17,
      "outputs": [
        {
          "output_type": "execute_result",
          "data": {
            "text/plain": [
              "array([[1, 2, 3],\n",
              "       [4, 5, 6]])"
            ]
          },
          "metadata": {},
          "execution_count": 17
        }
      ]
    },
    {
      "cell_type": "code",
      "source": [
        "y = np.arange(7, 13).reshape(3, 2)\n",
        "y"
      ],
      "metadata": {
        "colab": {
          "base_uri": "https://localhost:8080/"
        },
        "id": "tisEHxgd2Zh8",
        "outputId": "db32045c-ebce-4e09-93cb-f864172733e1"
      },
      "execution_count": 20,
      "outputs": [
        {
          "output_type": "execute_result",
          "data": {
            "text/plain": [
              "array([[ 7,  8],\n",
              "       [ 9, 10],\n",
              "       [11, 12]])"
            ]
          },
          "metadata": {},
          "execution_count": 20
        }
      ]
    },
    {
      "cell_type": "markdown",
      "source": [
        "DOT metodigan foydananmiz bu uchun"
      ],
      "metadata": {
        "id": "z2Qi7ecN3Xor"
      }
    },
    {
      "cell_type": "code",
      "source": [
        "x.dot(y) # x*y, x ni y ga kopaytiryapmi"
      ],
      "metadata": {
        "colab": {
          "base_uri": "https://localhost:8080/"
        },
        "id": "QgYtl7Ey3Nl5",
        "outputId": "054d1856-b5f7-470b-ffbb-50be36c216e2"
      },
      "execution_count": 21,
      "outputs": [
        {
          "output_type": "execute_result",
          "data": {
            "text/plain": [
              "array([[ 58,  64],\n",
              "       [139, 154]])"
            ]
          },
          "metadata": {},
          "execution_count": 21
        }
      ]
    },
    {
      "cell_type": "code",
      "source": [
        "np.dot(x, y)"
      ],
      "metadata": {
        "colab": {
          "base_uri": "https://localhost:8080/"
        },
        "id": "6k2kb8Vt3dqZ",
        "outputId": "6a917e9a-440b-4ec6-8633-9b5fb1ff6956"
      },
      "execution_count": 22,
      "outputs": [
        {
          "output_type": "execute_result",
          "data": {
            "text/plain": [
              "array([[ 58,  64],\n",
              "       [139, 154]])"
            ]
          },
          "metadata": {},
          "execution_count": 22
        }
      ]
    },
    {
      "cell_type": "code",
      "source": [
        "y.dot(x) # y*x, y ni x ga kopaytiryapmiz"
      ],
      "metadata": {
        "colab": {
          "base_uri": "https://localhost:8080/"
        },
        "id": "UsjGO_aS3jSA",
        "outputId": "4d9aeee7-c847-484b-ea3f-abb28ce0588d"
      },
      "execution_count": 23,
      "outputs": [
        {
          "output_type": "execute_result",
          "data": {
            "text/plain": [
              "array([[ 39,  54,  69],\n",
              "       [ 49,  68,  87],\n",
              "       [ 59,  82, 105]])"
            ]
          },
          "metadata": {},
          "execution_count": 23
        }
      ]
    },
    {
      "cell_type": "code",
      "source": [
        "np.dot(y, x) # (y * x)"
      ],
      "metadata": {
        "colab": {
          "base_uri": "https://localhost:8080/"
        },
        "id": "UbAqVWFO30IT",
        "outputId": "6197ae41-55a2-409b-d969-1d912c55011d"
      },
      "execution_count": 24,
      "outputs": [
        {
          "output_type": "execute_result",
          "data": {
            "text/plain": [
              "array([[ 39,  54,  69],\n",
              "       [ 49,  68,  87],\n",
              "       [ 59,  82, 105]])"
            ]
          },
          "metadata": {},
          "execution_count": 24
        }
      ]
    },
    {
      "cell_type": "code",
      "source": [],
      "metadata": {
        "id": "AaPkFfSA37QK"
      },
      "execution_count": null,
      "outputs": []
    }
  ]
}