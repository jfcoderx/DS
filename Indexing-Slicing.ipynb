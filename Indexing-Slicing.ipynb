{
  "nbformat": 4,
  "nbformat_minor": 0,
  "metadata": {
    "colab": {
      "provenance": [],
      "authorship_tag": "ABX9TyOLwYcyf7jolTSo4ldwoix6",
      "include_colab_link": true
    },
    "kernelspec": {
      "name": "python3",
      "display_name": "Python 3"
    },
    "language_info": {
      "name": "python"
    }
  },
  "cells": [
    {
      "cell_type": "markdown",
      "metadata": {
        "id": "view-in-github",
        "colab_type": "text"
      },
      "source": [
        "<a href=\"https://colab.research.google.com/github/jfcoderx/Data-Sciense/blob/main/_3_Indexing%26Slicing.ipynb\" target=\"_parent\"><img src=\"https://colab.research.google.com/assets/colab-badge.svg\" alt=\"Open In Colab\"/></a>"
      ]
    },
    {
      "cell_type": "markdown",
      "source": [
        "## Indeks va Kesib olish asoslari\n",
        "Massiv malumotlari turgan joylar indekslar deyishimiz mumkin, pythondagi list malumotlari indekslari malumotlarning joylarini ifodalani kabi <br>\n",
        "\n",
        "Malumotlar elementlarining indeksi NOLdan boshlanadi\n",
        "0, 1, 2 ...\n",
        "oxirgi elementdan boshiga kelganda esa oxirgi element indeksi \n",
        "-1, -2, -3 ... ko'rinishida bo'ladi\n"
      ],
      "metadata": {
        "id": "X3Je5VzGAK4b"
      }
    },
    {
      "cell_type": "code",
      "execution_count": 1,
      "metadata": {
        "id": "F8ZVhW90AEDb"
      },
      "outputs": [],
      "source": [
        "import numpy as np"
      ]
    },
    {
      "cell_type": "code",
      "source": [
        "arr_1d = np.arange(10, 100, 10) # 100 kirmaydi\n",
        "arr_1d"
      ],
      "metadata": {
        "colab": {
          "base_uri": "https://localhost:8080/"
        },
        "id": "aFpjCfTwBLxS",
        "outputId": "85732868-75e0-46e2-e01f-f0c2639c44a5"
      },
      "execution_count": 5,
      "outputs": [
        {
          "output_type": "execute_result",
          "data": {
            "text/plain": [
              "array([10, 20, 30, 40, 50, 60, 70, 80, 90])"
            ]
          },
          "metadata": {},
          "execution_count": 5
        }
      ]
    },
    {
      "cell_type": "markdown",
      "source": [
        "massivni yaratib oldik, endi indeks orqali uni elemtlarini topa olamiz, <br>\n",
        "bir o'lchamli massivlarning indeksni kiritish python list bilan deyarli bir xil"
      ],
      "metadata": {
        "id": "qIRwwLbRBr6B"
      }
    },
    {
      "cell_type": "code",
      "source": [
        "arr_1d[0] # nol indeksdagi element"
      ],
      "metadata": {
        "colab": {
          "base_uri": "https://localhost:8080/"
        },
        "id": "CKu3AU6HBjhA",
        "outputId": "b2bdf89e-febe-44f7-eac4-f8e6c703ad4e"
      },
      "execution_count": 6,
      "outputs": [
        {
          "output_type": "execute_result",
          "data": {
            "text/plain": [
              "10"
            ]
          },
          "metadata": {},
          "execution_count": 6
        }
      ]
    },
    {
      "cell_type": "code",
      "source": [
        "arr_1d[-1] # oxirgi indeksdagi element"
      ],
      "metadata": {
        "colab": {
          "base_uri": "https://localhost:8080/"
        },
        "id": "-B4hYg0VB_yK",
        "outputId": "3df263d3-432c-4577-b205-a6887da2a689"
      },
      "execution_count": 7,
      "outputs": [
        {
          "output_type": "execute_result",
          "data": {
            "text/plain": [
              "90"
            ]
          },
          "metadata": {},
          "execution_count": 7
        }
      ]
    },
    {
      "cell_type": "markdown",
      "source": [
        "bir o'lchamli massivlarni kesib olish ham python list elementlarini kesib olish bilan bir xil\n"
      ],
      "metadata": {
        "id": "WvM_dLKDCZZY"
      }
    },
    {
      "cell_type": "code",
      "source": [
        "arr_1d[2:5] # indeks 2dagi elementdan 5indeks elementigacha, 5 kirmaydi"
      ],
      "metadata": {
        "colab": {
          "base_uri": "https://localhost:8080/"
        },
        "id": "_YS978eWCFtm",
        "outputId": "ff0a4b4e-cfa8-4552-d19a-9f2f61fd6767"
      },
      "execution_count": 9,
      "outputs": [
        {
          "output_type": "execute_result",
          "data": {
            "text/plain": [
              "array([30, 40, 50])"
            ]
          },
          "metadata": {},
          "execution_count": 9
        }
      ]
    },
    {
      "cell_type": "markdown",
      "source": [
        "### Biroz xavfli\n",
        "NumPy kutubxonasidagi massivning kesib olingan qisga o'zgartirish kiritilsa, asosiy massivga tasir qiladi "
      ],
      "metadata": {
        "id": "9KfAJO5fDClw"
      }
    },
    {
      "cell_type": "code",
      "source": [
        "arr_1d"
      ],
      "metadata": {
        "colab": {
          "base_uri": "https://localhost:8080/"
        },
        "id": "txKgcHezCtWq",
        "outputId": "c9942043-a2c8-4370-808b-9d4d257e5e97"
      },
      "execution_count": 10,
      "outputs": [
        {
          "output_type": "execute_result",
          "data": {
            "text/plain": [
              "array([10, 20, 30, 40, 50, 60, 70, 80, 90])"
            ]
          },
          "metadata": {},
          "execution_count": 10
        }
      ]
    },
    {
      "cell_type": "code",
      "source": [
        "sliced_arr = arr_1d[2:5]\n",
        "sliced_arr"
      ],
      "metadata": {
        "colab": {
          "base_uri": "https://localhost:8080/"
        },
        "id": "kXGcdHXlDcyf",
        "outputId": "fa02f45e-f9b1-4d71-dc5e-e4a981c74715"
      },
      "execution_count": 11,
      "outputs": [
        {
          "output_type": "execute_result",
          "data": {
            "text/plain": [
              "array([30, 40, 50])"
            ]
          },
          "metadata": {},
          "execution_count": 11
        }
      ]
    },
    {
      "cell_type": "markdown",
      "source": [
        "endi kesib olingan massivimiz qismini hammasini NOLGA tenglab qo'yaylik"
      ],
      "metadata": {
        "id": "SOzSsWePEMT_"
      }
    },
    {
      "cell_type": "code",
      "source": [
        "sliced_arr[:] = 0\n",
        "sliced_arr"
      ],
      "metadata": {
        "colab": {
          "base_uri": "https://localhost:8080/"
        },
        "id": "18FE25NXDuUa",
        "outputId": "b79ae955-4de4-4bfe-9381-987efefbb0c0"
      },
      "execution_count": 12,
      "outputs": [
        {
          "output_type": "execute_result",
          "data": {
            "text/plain": [
              "array([0, 0, 0])"
            ]
          },
          "metadata": {},
          "execution_count": 12
        }
      ]
    },
    {
      "cell_type": "code",
      "source": [
        "arr_1d"
      ],
      "metadata": {
        "colab": {
          "base_uri": "https://localhost:8080/"
        },
        "id": "bhg_jJAAEekZ",
        "outputId": "8480c532-b96c-4dc0-a5d4-3549b08deda3"
      },
      "execution_count": 13,
      "outputs": [
        {
          "output_type": "execute_result",
          "data": {
            "text/plain": [
              "array([10, 20,  0,  0,  0, 60, 70, 80, 90])"
            ]
          },
          "metadata": {},
          "execution_count": 13
        }
      ]
    },
    {
      "cell_type": "markdown",
      "source": [
        "ko'rinib turibdiki, asosiy massivimizning elementlari ham ozgardi\n",
        "asosiy massivimiz ozgarmasiligi uchun copy() dan foydalanamiz"
      ],
      "metadata": {
        "id": "Mn4H7Lx1EhUF"
      }
    },
    {
      "cell_type": "code",
      "source": [
        "arr1 = np.arange(10, 100, 10)\n",
        "sliced_arr_copy = arr1[2:5].copy()\n",
        "sliced_arr_copy2 = arr1[2:5][:]"
      ],
      "metadata": {
        "id": "BU5nYK9YEgdF"
      },
      "execution_count": 19,
      "outputs": []
    },
    {
      "cell_type": "code",
      "source": [
        "print(arr1)\n",
        "print(sliced_arr_copy)\n",
        "print(sliced_arr_copy2)"
      ],
      "metadata": {
        "colab": {
          "base_uri": "https://localhost:8080/"
        },
        "id": "4PfmuEKlFd8J",
        "outputId": "3a60b81e-c64b-433c-9348-4e377a46b1d5"
      },
      "execution_count": 20,
      "outputs": [
        {
          "output_type": "stream",
          "name": "stdout",
          "text": [
            "[10 20 30 40 50 60 70 80 90]\n",
            "[30 40 50]\n",
            "[30 40 50]\n"
          ]
        }
      ]
    },
    {
      "cell_type": "code",
      "source": [
        "sliced_arr_copy[:] = 0\n",
        "sliced_arr_copy2[:] = 1\n",
        "\n",
        "print(arr1)\n",
        "print(sliced_arr_copy)\n",
        "print(sliced_arr_copy2)"
      ],
      "metadata": {
        "colab": {
          "base_uri": "https://localhost:8080/"
        },
        "id": "UVXmsKOCFkp_",
        "outputId": "f9bb3a76-83cc-40dc-b69b-d039d03d9f73"
      },
      "execution_count": 21,
      "outputs": [
        {
          "output_type": "stream",
          "name": "stdout",
          "text": [
            "[10 20  1  1  1 60 70 80 90]\n",
            "[0 0 0]\n",
            "[1 1 1]\n"
          ]
        }
      ]
    },
    {
      "cell_type": "markdown",
      "source": [
        "## 2-o'lchamli massivlar indek va kesib olish asoslari"
      ],
      "metadata": {
        "id": "m3fZcb9oGUPO"
      }
    },
    {
      "cell_type": "code",
      "source": [
        "arr2d = np.array([[1, 2, 3], [4, 5, 6], [7, 8, 9]]) # (3, 3) o'lchamli massiv\n",
        "arr2d"
      ],
      "metadata": {
        "colab": {
          "base_uri": "https://localhost:8080/"
        },
        "id": "w3JQtShlFuXM",
        "outputId": "1c5da15a-608f-47a2-aa55-d165f758fb54"
      },
      "execution_count": 22,
      "outputs": [
        {
          "output_type": "execute_result",
          "data": {
            "text/plain": [
              "array([[1, 2, 3],\n",
              "       [4, 5, 6],\n",
              "       [7, 8, 9]])"
            ]
          },
          "metadata": {},
          "execution_count": 22
        }
      ]
    },
    {
      "cell_type": "markdown",
      "source": [
        "Demak bunda <br>\n",
        "1, 4, 7 bo'ylab yo'nalgan o'q qatorlarni ifodalaydi <br>\n",
        "7, 8, 9 bo'ylab yo'nalgan o'q ustunlarni ifodalaydi <br><br>\n",
        "\n",
        "(0,0)  (0,1)  (0,2) <br>\n",
        "(1,0)  (1,1)  (1,2) <br>\n",
        "(2,0)  (2,1)  (2,2) <br>"
      ],
      "metadata": {
        "id": "Fe-rVZuWG3A9"
      }
    },
    {
      "cell_type": "markdown",
      "source": [
        "yuqoridagi massivimizdan 6 soni ajratib olishimiz uchun"
      ],
      "metadata": {
        "id": "7a3pgv1uIDjS"
      }
    },
    {
      "cell_type": "code",
      "source": [
        "arr2d[1, 2] # 1-indeksli qator, 2-indeksli ustun"
      ],
      "metadata": {
        "colab": {
          "base_uri": "https://localhost:8080/"
        },
        "id": "9pHdHqVQGxaJ",
        "outputId": "4e3f47e6-667c-4050-9311-a65a23e95679"
      },
      "execution_count": 23,
      "outputs": [
        {
          "output_type": "execute_result",
          "data": {
            "text/plain": [
              "6"
            ]
          },
          "metadata": {},
          "execution_count": 23
        }
      ]
    },
    {
      "cell_type": "markdown",
      "source": [
        "2-o'lchamli massivlarni bir nechta elementini kesib olish"
      ],
      "metadata": {
        "id": "rROVwQZUIbJC"
      }
    },
    {
      "cell_type": "code",
      "source": [
        "sl_arr2d = arr2d[2, 1:3] # yani 2-qator, 1-ustundan 3-ustungacha, 3-ustun kirmaydi\n",
        "sl_arr2d"
      ],
      "metadata": {
        "colab": {
          "base_uri": "https://localhost:8080/"
        },
        "id": "GTDvI05eIUXT",
        "outputId": "a65e9a3c-149c-4309-e3f9-932a31c35c15"
      },
      "execution_count": 24,
      "outputs": [
        {
          "output_type": "execute_result",
          "data": {
            "text/plain": [
              "array([8, 9])"
            ]
          },
          "metadata": {},
          "execution_count": 24
        }
      ]
    },
    {
      "cell_type": "code",
      "source": [
        "sl_arr2d = arr2d[2, 1:] # yani 2-qator, 1-ustundan oxirgi ustungacha \n",
        "sl_arr2d"
      ],
      "metadata": {
        "colab": {
          "base_uri": "https://localhost:8080/"
        },
        "id": "K-mO2WX0JNDV",
        "outputId": "a4c6e49c-7666-4b73-a3c3-1b3e11f06aee"
      },
      "execution_count": 25,
      "outputs": [
        {
          "output_type": "execute_result",
          "data": {
            "text/plain": [
              "array([8, 9])"
            ]
          },
          "metadata": {},
          "execution_count": 25
        }
      ]
    },
    {
      "cell_type": "markdown",
      "source": [
        "### Kesib olishga bazi yordamlar\n",
        "arr = <br>\n",
        "[ 1, 2, 3 ]<br>\n",
        "[ 4, 5, 6 ]<br>\n",
        "[ 7, 8, 9 ]<br><br>\n",
        "\n",
        "[ -, 2, 3 ]<br>\n",
        "[ -, 5, 6 ]<br>\n",
        "[ -, -, - ]<br>\n",
        "buni kesib olish <br> arr [ :2, 1: ] - yoki - arr [ 0:2, 1:3 ] -- (2,2)\n",
        "\n",
        "<br>\n",
        "[ -, -, - ]<br>\n",
        "[ -, -, - ]<br>\n",
        "[ 7, 8, 9 ]<br>\n",
        "buni kesib olish <br> arr [ 2 ] - yoki - arr [ 2, : ] - yoki - arr [ 2, 0:3 ] - yoki - arr [ -1 ] -- (1,3) <br>\n",
        "\n",
        "<br>\n",
        "[ 1, 2, - ]<br>\n",
        "[ 4, 5, - ]<br>\n",
        "[ 7, 8, - ]<br>\n",
        "buni kesib olish <br> arr [ :, :2 ]  -- (3,2) <br>\n",
        "\n",
        "<br>\n",
        "[ -, -, - ]<br>\n",
        "[ 4, 5, - ]<br>\n",
        "[ -, -, - ]<br>\n",
        "buni kesib olish <br> arr [ 1, :2 ]  -- (1, 2)\n"
      ],
      "metadata": {
        "id": "NE5hqkttJxGR"
      }
    },
    {
      "cell_type": "markdown",
      "source": [
        "## 3 o'lchamli massivlarda indeks va kesib olish asoslari"
      ],
      "metadata": {
        "id": "D1DJE61iPBPV"
      }
    },
    {
      "cell_type": "markdown",
      "source": [
        "x, y, z o'qlari kabi tasavvur qilishimiz mumkin <br>\n",
        "shape(3, 3, 3)"
      ],
      "metadata": {
        "id": "Uac-kmJ-PLnt"
      }
    },
    {
      "cell_type": "code",
      "source": [
        "data = [\n",
        "            [\n",
        "                [11, 12, 13], \n",
        "                [14, 15, 16], \n",
        "                [17, 18, 19]\n",
        "            ],\n",
        "            [\n",
        "                [21, 22, 23],\n",
        "                [24, 25, 26],\n",
        "                [27, 28, 29]\n",
        "            ],\n",
        "            [\n",
        "                [31, 32, 33],\n",
        "                [34, 35, 36],\n",
        "                [37, 38, 39]\n",
        "            ]\n",
        "        ]\n",
        "\n",
        "arr3d = np.array(data)\n",
        "arr3d"
      ],
      "metadata": {
        "colab": {
          "base_uri": "https://localhost:8080/"
        },
        "id": "cFW8Ov-uJnKA",
        "outputId": "ad593bf6-a2d7-4017-9a41-ba34d4eb0578"
      },
      "execution_count": 27,
      "outputs": [
        {
          "output_type": "execute_result",
          "data": {
            "text/plain": [
              "array([[[11, 12, 13],\n",
              "        [14, 15, 16],\n",
              "        [17, 18, 19]],\n",
              "\n",
              "       [[21, 22, 23],\n",
              "        [24, 25, 26],\n",
              "        [27, 28, 29]],\n",
              "\n",
              "       [[31, 32, 33],\n",
              "        [34, 35, 36],\n",
              "        [37, 38, 39]]])"
            ]
          },
          "metadata": {},
          "execution_count": 27
        }
      ]
    },
    {
      "cell_type": "markdown",
      "source": [
        "buni kesib olishni oson qilishiimiz uchun uni kichik 2 olchamli massivlar sifatida qarab olsak boladi, bu yerda 3 ta 2 olchamli massiv bor deb hisoblasak boladi <br>\n",
        "\n",
        "demak birinchi ikki o'lchamli massivimiz indeksimiz 0,<br>\n",
        "ikkinchi ikki o'lchamli massivimiz indeksimiz 1,<br>\n",
        "birinchi ikki o'lchamli massivimiz indeksimiz 2,<br>\n",
        "\n",
        "va qolgani ikki o'lchamli massivimizni kesishini aynan ozi<br>"
      ],
      "metadata": {
        "id": "uaCrM4ROQD1L"
      }
    },
    {
      "cell_type": "code",
      "source": [
        "arr3d[0] # birinchi ikki o'lchamli massivimiz\n"
      ],
      "metadata": {
        "colab": {
          "base_uri": "https://localhost:8080/"
        },
        "id": "wzjvQfnZP-d1",
        "outputId": "13d130da-4d0e-4142-9c55-6a955c89ab60"
      },
      "execution_count": 28,
      "outputs": [
        {
          "output_type": "execute_result",
          "data": {
            "text/plain": [
              "array([[11, 12, 13],\n",
              "       [14, 15, 16],\n",
              "       [17, 18, 19]])"
            ]
          },
          "metadata": {},
          "execution_count": 28
        }
      ]
    },
    {
      "cell_type": "markdown",
      "source": [
        "shuni 16 elementini olib chiqarsak"
      ],
      "metadata": {
        "id": "lTAil4IWRDz_"
      }
    },
    {
      "cell_type": "code",
      "source": [
        "arr3d[0][1, 2]"
      ],
      "metadata": {
        "colab": {
          "base_uri": "https://localhost:8080/"
        },
        "id": "CGoa4sQSQ_F8",
        "outputId": "f44edb6d-111d-416f-ad79-2ff7dd398ca7"
      },
      "execution_count": 29,
      "outputs": [
        {
          "output_type": "execute_result",
          "data": {
            "text/plain": [
              "16"
            ]
          },
          "metadata": {},
          "execution_count": 29
        }
      ]
    },
    {
      "cell_type": "code",
      "source": [
        "arr3d[1] # ikkinchi ikki o'lchamli massivimiz"
      ],
      "metadata": {
        "colab": {
          "base_uri": "https://localhost:8080/"
        },
        "id": "Top_uaThRlUp",
        "outputId": "b6829ff0-c52a-46e7-c97c-42f86f44655d"
      },
      "execution_count": 30,
      "outputs": [
        {
          "output_type": "execute_result",
          "data": {
            "text/plain": [
              "array([[21, 22, 23],\n",
              "       [24, 25, 26],\n",
              "       [27, 28, 29]])"
            ]
          },
          "metadata": {},
          "execution_count": 30
        }
      ]
    },
    {
      "cell_type": "code",
      "source": [
        "arr3d[2] # uchinchi ikki o'lchamli massivimiz"
      ],
      "metadata": {
        "colab": {
          "base_uri": "https://localhost:8080/"
        },
        "id": "0HchENzZRrfQ",
        "outputId": "b478582e-d9ff-46a1-e00a-938fbaec7d52"
      },
      "execution_count": 31,
      "outputs": [
        {
          "output_type": "execute_result",
          "data": {
            "text/plain": [
              "array([[31, 32, 33],\n",
              "       [34, 35, 36],\n",
              "       [37, 38, 39]])"
            ]
          },
          "metadata": {},
          "execution_count": 31
        }
      ]
    },
    {
      "cell_type": "code",
      "source": [
        "arr3d[2][:2, :2] # 31, 32, 34, 35 shularni ajratib olish"
      ],
      "metadata": {
        "colab": {
          "base_uri": "https://localhost:8080/"
        },
        "id": "GvtJAKpXRt5N",
        "outputId": "9475dcc5-d18a-4cc9-ecca-65b296a45a37"
      },
      "execution_count": 32,
      "outputs": [
        {
          "output_type": "execute_result",
          "data": {
            "text/plain": [
              "array([[31, 32],\n",
              "       [34, 35]])"
            ]
          },
          "metadata": {},
          "execution_count": 32
        }
      ]
    }
  ]
}
