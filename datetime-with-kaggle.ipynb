{
 "cells": [
  {
   "cell_type": "code",
   "execution_count": 1,
   "id": "c1f7c123",
   "metadata": {
    "_cell_guid": "b1076dfc-b9ad-4769-8c92-a6c4dae69d19",
    "_uuid": "8f2839f25d086af736a60e9eeb907d3b93b6e0e5",
    "execution": {
     "iopub.execute_input": "2022-11-01T19:50:59.186314Z",
     "iopub.status.busy": "2022-11-01T19:50:59.185336Z",
     "iopub.status.idle": "2022-11-01T19:50:59.215654Z",
     "shell.execute_reply": "2022-11-01T19:50:59.214381Z"
    },
    "papermill": {
     "duration": 0.048383,
     "end_time": "2022-11-01T19:50:59.218382",
     "exception": false,
     "start_time": "2022-11-01T19:50:59.169999",
     "status": "completed"
    },
    "tags": []
   },
   "outputs": [
    {
     "name": "stdout",
     "output_type": "stream",
     "text": [
      "/kaggle/input/earthquake-database/database.csv\n"
     ]
    }
   ],
   "source": [
    "# This Python 3 environment comes with many helpful analytics libraries installed\n",
    "# It is defined by the kaggle/python Docker image: https://github.com/kaggle/docker-python\n",
    "# For example, here's several helpful packages to load\n",
    "\n",
    "import numpy as np # linear algebra\n",
    "import pandas as pd # data processing, CSV file I/O (e.g. pd.read_csv)\n",
    "\n",
    "# Input data files are available in the read-only \"../input/\" directory\n",
    "# For example, running this (by clicking run or pressing Shift+Enter) will list all files under the input directory\n",
    "\n",
    "import os\n",
    "for dirname, _, filenames in os.walk('/kaggle/input'):\n",
    "    for filename in filenames:\n",
    "        print(os.path.join(dirname, filename))\n",
    "\n",
    "# You can write up to 20GB to the current directory (/kaggle/working/) that gets preserved as output when you create a version using \"Save & Run All\" \n",
    "# You can also write temporary files to /kaggle/temp/, but they won't be saved outside of the current session"
   ]
  },
  {
   "cell_type": "markdown",
   "id": "5744d7fe",
   "metadata": {
    "papermill": {
     "duration": 0.013562,
     "end_time": "2022-11-01T19:50:59.244240",
     "exception": false,
     "start_time": "2022-11-01T19:50:59.230678",
     "status": "completed"
    },
    "tags": []
   },
   "source": [
    "### KAGGLE HAQIDA"
   ]
  },
  {
   "cell_type": "markdown",
   "id": "734df603",
   "metadata": {
    "papermill": {
     "duration": 0.011713,
     "end_time": "2022-11-01T19:50:59.267993",
     "exception": false,
     "start_time": "2022-11-01T19:50:59.256280",
     "status": "completed"
    },
    "tags": []
   },
   "source": [
    "KAGGLE PLATFORMASI DATA SCIENCE mutaxasislari uchun eng katta onlayn platforma hisoblanadi.<br>\n",
    "Bu platforamda imkoniyatlar juda kop. Jupiter Notebukingizni mana shuni ozida ishga tushurishingiz mumkin. <br>\n",
    "KAGGLEda millionlab datasetlar jamlangan. Istalgan mavzuda bu yerdan dataset topishingiz mumkin. <br>\n",
    "Shuningdek bu yerda turli xil sovrinli musobaqalar otkazib turiladi. Bu yerda jamoangiz yoki <br>\n",
    "ozingiz mustaqil qatnashib korishingiz mumkin. Hatto bepul kurslargacha mavjud"
   ]
  },
  {
   "cell_type": "code",
   "execution_count": 2,
   "id": "41d88f9b",
   "metadata": {
    "execution": {
     "iopub.execute_input": "2022-11-01T19:50:59.293720Z",
     "iopub.status.busy": "2022-11-01T19:50:59.293020Z",
     "iopub.status.idle": "2022-11-01T19:50:59.502094Z",
     "shell.execute_reply": "2022-11-01T19:50:59.501006Z"
    },
    "papermill": {
     "duration": 0.225027,
     "end_time": "2022-11-01T19:50:59.505021",
     "exception": false,
     "start_time": "2022-11-01T19:50:59.279994",
     "status": "completed"
    },
    "tags": []
   },
   "outputs": [
    {
     "data": {
      "text/html": [
       "<div>\n",
       "<style scoped>\n",
       "    .dataframe tbody tr th:only-of-type {\n",
       "        vertical-align: middle;\n",
       "    }\n",
       "\n",
       "    .dataframe tbody tr th {\n",
       "        vertical-align: top;\n",
       "    }\n",
       "\n",
       "    .dataframe thead th {\n",
       "        text-align: right;\n",
       "    }\n",
       "</style>\n",
       "<table border=\"1\" class=\"dataframe\">\n",
       "  <thead>\n",
       "    <tr style=\"text-align: right;\">\n",
       "      <th></th>\n",
       "      <th>Date</th>\n",
       "      <th>Time</th>\n",
       "      <th>Latitude</th>\n",
       "      <th>Longitude</th>\n",
       "      <th>Type</th>\n",
       "      <th>Depth</th>\n",
       "      <th>Depth Error</th>\n",
       "      <th>Depth Seismic Stations</th>\n",
       "      <th>Magnitude</th>\n",
       "      <th>Magnitude Type</th>\n",
       "      <th>...</th>\n",
       "      <th>Magnitude Seismic Stations</th>\n",
       "      <th>Azimuthal Gap</th>\n",
       "      <th>Horizontal Distance</th>\n",
       "      <th>Horizontal Error</th>\n",
       "      <th>Root Mean Square</th>\n",
       "      <th>ID</th>\n",
       "      <th>Source</th>\n",
       "      <th>Location Source</th>\n",
       "      <th>Magnitude Source</th>\n",
       "      <th>Status</th>\n",
       "    </tr>\n",
       "  </thead>\n",
       "  <tbody>\n",
       "    <tr>\n",
       "      <th>0</th>\n",
       "      <td>01/02/1965</td>\n",
       "      <td>13:44:18</td>\n",
       "      <td>19.2460</td>\n",
       "      <td>145.6160</td>\n",
       "      <td>Earthquake</td>\n",
       "      <td>131.60</td>\n",
       "      <td>NaN</td>\n",
       "      <td>NaN</td>\n",
       "      <td>6.0</td>\n",
       "      <td>MW</td>\n",
       "      <td>...</td>\n",
       "      <td>NaN</td>\n",
       "      <td>NaN</td>\n",
       "      <td>NaN</td>\n",
       "      <td>NaN</td>\n",
       "      <td>NaN</td>\n",
       "      <td>ISCGEM860706</td>\n",
       "      <td>ISCGEM</td>\n",
       "      <td>ISCGEM</td>\n",
       "      <td>ISCGEM</td>\n",
       "      <td>Automatic</td>\n",
       "    </tr>\n",
       "    <tr>\n",
       "      <th>1</th>\n",
       "      <td>01/04/1965</td>\n",
       "      <td>11:29:49</td>\n",
       "      <td>1.8630</td>\n",
       "      <td>127.3520</td>\n",
       "      <td>Earthquake</td>\n",
       "      <td>80.00</td>\n",
       "      <td>NaN</td>\n",
       "      <td>NaN</td>\n",
       "      <td>5.8</td>\n",
       "      <td>MW</td>\n",
       "      <td>...</td>\n",
       "      <td>NaN</td>\n",
       "      <td>NaN</td>\n",
       "      <td>NaN</td>\n",
       "      <td>NaN</td>\n",
       "      <td>NaN</td>\n",
       "      <td>ISCGEM860737</td>\n",
       "      <td>ISCGEM</td>\n",
       "      <td>ISCGEM</td>\n",
       "      <td>ISCGEM</td>\n",
       "      <td>Automatic</td>\n",
       "    </tr>\n",
       "    <tr>\n",
       "      <th>2</th>\n",
       "      <td>01/05/1965</td>\n",
       "      <td>18:05:58</td>\n",
       "      <td>-20.5790</td>\n",
       "      <td>-173.9720</td>\n",
       "      <td>Earthquake</td>\n",
       "      <td>20.00</td>\n",
       "      <td>NaN</td>\n",
       "      <td>NaN</td>\n",
       "      <td>6.2</td>\n",
       "      <td>MW</td>\n",
       "      <td>...</td>\n",
       "      <td>NaN</td>\n",
       "      <td>NaN</td>\n",
       "      <td>NaN</td>\n",
       "      <td>NaN</td>\n",
       "      <td>NaN</td>\n",
       "      <td>ISCGEM860762</td>\n",
       "      <td>ISCGEM</td>\n",
       "      <td>ISCGEM</td>\n",
       "      <td>ISCGEM</td>\n",
       "      <td>Automatic</td>\n",
       "    </tr>\n",
       "    <tr>\n",
       "      <th>3</th>\n",
       "      <td>01/08/1965</td>\n",
       "      <td>18:49:43</td>\n",
       "      <td>-59.0760</td>\n",
       "      <td>-23.5570</td>\n",
       "      <td>Earthquake</td>\n",
       "      <td>15.00</td>\n",
       "      <td>NaN</td>\n",
       "      <td>NaN</td>\n",
       "      <td>5.8</td>\n",
       "      <td>MW</td>\n",
       "      <td>...</td>\n",
       "      <td>NaN</td>\n",
       "      <td>NaN</td>\n",
       "      <td>NaN</td>\n",
       "      <td>NaN</td>\n",
       "      <td>NaN</td>\n",
       "      <td>ISCGEM860856</td>\n",
       "      <td>ISCGEM</td>\n",
       "      <td>ISCGEM</td>\n",
       "      <td>ISCGEM</td>\n",
       "      <td>Automatic</td>\n",
       "    </tr>\n",
       "    <tr>\n",
       "      <th>4</th>\n",
       "      <td>01/09/1965</td>\n",
       "      <td>13:32:50</td>\n",
       "      <td>11.9380</td>\n",
       "      <td>126.4270</td>\n",
       "      <td>Earthquake</td>\n",
       "      <td>15.00</td>\n",
       "      <td>NaN</td>\n",
       "      <td>NaN</td>\n",
       "      <td>5.8</td>\n",
       "      <td>MW</td>\n",
       "      <td>...</td>\n",
       "      <td>NaN</td>\n",
       "      <td>NaN</td>\n",
       "      <td>NaN</td>\n",
       "      <td>NaN</td>\n",
       "      <td>NaN</td>\n",
       "      <td>ISCGEM860890</td>\n",
       "      <td>ISCGEM</td>\n",
       "      <td>ISCGEM</td>\n",
       "      <td>ISCGEM</td>\n",
       "      <td>Automatic</td>\n",
       "    </tr>\n",
       "    <tr>\n",
       "      <th>...</th>\n",
       "      <td>...</td>\n",
       "      <td>...</td>\n",
       "      <td>...</td>\n",
       "      <td>...</td>\n",
       "      <td>...</td>\n",
       "      <td>...</td>\n",
       "      <td>...</td>\n",
       "      <td>...</td>\n",
       "      <td>...</td>\n",
       "      <td>...</td>\n",
       "      <td>...</td>\n",
       "      <td>...</td>\n",
       "      <td>...</td>\n",
       "      <td>...</td>\n",
       "      <td>...</td>\n",
       "      <td>...</td>\n",
       "      <td>...</td>\n",
       "      <td>...</td>\n",
       "      <td>...</td>\n",
       "      <td>...</td>\n",
       "      <td>...</td>\n",
       "    </tr>\n",
       "    <tr>\n",
       "      <th>23407</th>\n",
       "      <td>12/28/2016</td>\n",
       "      <td>08:22:12</td>\n",
       "      <td>38.3917</td>\n",
       "      <td>-118.8941</td>\n",
       "      <td>Earthquake</td>\n",
       "      <td>12.30</td>\n",
       "      <td>1.2</td>\n",
       "      <td>40.0</td>\n",
       "      <td>5.6</td>\n",
       "      <td>ML</td>\n",
       "      <td>...</td>\n",
       "      <td>18.0</td>\n",
       "      <td>42.47</td>\n",
       "      <td>0.120</td>\n",
       "      <td>NaN</td>\n",
       "      <td>0.1898</td>\n",
       "      <td>NN00570710</td>\n",
       "      <td>NN</td>\n",
       "      <td>NN</td>\n",
       "      <td>NN</td>\n",
       "      <td>Reviewed</td>\n",
       "    </tr>\n",
       "    <tr>\n",
       "      <th>23408</th>\n",
       "      <td>12/28/2016</td>\n",
       "      <td>09:13:47</td>\n",
       "      <td>38.3777</td>\n",
       "      <td>-118.8957</td>\n",
       "      <td>Earthquake</td>\n",
       "      <td>8.80</td>\n",
       "      <td>2.0</td>\n",
       "      <td>33.0</td>\n",
       "      <td>5.5</td>\n",
       "      <td>ML</td>\n",
       "      <td>...</td>\n",
       "      <td>18.0</td>\n",
       "      <td>48.58</td>\n",
       "      <td>0.129</td>\n",
       "      <td>NaN</td>\n",
       "      <td>0.2187</td>\n",
       "      <td>NN00570744</td>\n",
       "      <td>NN</td>\n",
       "      <td>NN</td>\n",
       "      <td>NN</td>\n",
       "      <td>Reviewed</td>\n",
       "    </tr>\n",
       "    <tr>\n",
       "      <th>23409</th>\n",
       "      <td>12/28/2016</td>\n",
       "      <td>12:38:51</td>\n",
       "      <td>36.9179</td>\n",
       "      <td>140.4262</td>\n",
       "      <td>Earthquake</td>\n",
       "      <td>10.00</td>\n",
       "      <td>1.8</td>\n",
       "      <td>NaN</td>\n",
       "      <td>5.9</td>\n",
       "      <td>MWW</td>\n",
       "      <td>...</td>\n",
       "      <td>NaN</td>\n",
       "      <td>91.00</td>\n",
       "      <td>0.992</td>\n",
       "      <td>4.8</td>\n",
       "      <td>1.5200</td>\n",
       "      <td>US10007NAF</td>\n",
       "      <td>US</td>\n",
       "      <td>US</td>\n",
       "      <td>US</td>\n",
       "      <td>Reviewed</td>\n",
       "    </tr>\n",
       "    <tr>\n",
       "      <th>23410</th>\n",
       "      <td>12/29/2016</td>\n",
       "      <td>22:30:19</td>\n",
       "      <td>-9.0283</td>\n",
       "      <td>118.6639</td>\n",
       "      <td>Earthquake</td>\n",
       "      <td>79.00</td>\n",
       "      <td>1.8</td>\n",
       "      <td>NaN</td>\n",
       "      <td>6.3</td>\n",
       "      <td>MWW</td>\n",
       "      <td>...</td>\n",
       "      <td>NaN</td>\n",
       "      <td>26.00</td>\n",
       "      <td>3.553</td>\n",
       "      <td>6.0</td>\n",
       "      <td>1.4300</td>\n",
       "      <td>US10007NL0</td>\n",
       "      <td>US</td>\n",
       "      <td>US</td>\n",
       "      <td>US</td>\n",
       "      <td>Reviewed</td>\n",
       "    </tr>\n",
       "    <tr>\n",
       "      <th>23411</th>\n",
       "      <td>12/30/2016</td>\n",
       "      <td>20:08:28</td>\n",
       "      <td>37.3973</td>\n",
       "      <td>141.4103</td>\n",
       "      <td>Earthquake</td>\n",
       "      <td>11.94</td>\n",
       "      <td>2.2</td>\n",
       "      <td>NaN</td>\n",
       "      <td>5.5</td>\n",
       "      <td>MB</td>\n",
       "      <td>...</td>\n",
       "      <td>428.0</td>\n",
       "      <td>97.00</td>\n",
       "      <td>0.681</td>\n",
       "      <td>4.5</td>\n",
       "      <td>0.9100</td>\n",
       "      <td>US10007NTD</td>\n",
       "      <td>US</td>\n",
       "      <td>US</td>\n",
       "      <td>US</td>\n",
       "      <td>Reviewed</td>\n",
       "    </tr>\n",
       "  </tbody>\n",
       "</table>\n",
       "<p>23412 rows × 21 columns</p>\n",
       "</div>"
      ],
      "text/plain": [
       "             Date      Time  Latitude  Longitude        Type   Depth  \\\n",
       "0      01/02/1965  13:44:18   19.2460   145.6160  Earthquake  131.60   \n",
       "1      01/04/1965  11:29:49    1.8630   127.3520  Earthquake   80.00   \n",
       "2      01/05/1965  18:05:58  -20.5790  -173.9720  Earthquake   20.00   \n",
       "3      01/08/1965  18:49:43  -59.0760   -23.5570  Earthquake   15.00   \n",
       "4      01/09/1965  13:32:50   11.9380   126.4270  Earthquake   15.00   \n",
       "...           ...       ...       ...        ...         ...     ...   \n",
       "23407  12/28/2016  08:22:12   38.3917  -118.8941  Earthquake   12.30   \n",
       "23408  12/28/2016  09:13:47   38.3777  -118.8957  Earthquake    8.80   \n",
       "23409  12/28/2016  12:38:51   36.9179   140.4262  Earthquake   10.00   \n",
       "23410  12/29/2016  22:30:19   -9.0283   118.6639  Earthquake   79.00   \n",
       "23411  12/30/2016  20:08:28   37.3973   141.4103  Earthquake   11.94   \n",
       "\n",
       "       Depth Error  Depth Seismic Stations  Magnitude Magnitude Type  ...  \\\n",
       "0              NaN                     NaN        6.0             MW  ...   \n",
       "1              NaN                     NaN        5.8             MW  ...   \n",
       "2              NaN                     NaN        6.2             MW  ...   \n",
       "3              NaN                     NaN        5.8             MW  ...   \n",
       "4              NaN                     NaN        5.8             MW  ...   \n",
       "...            ...                     ...        ...            ...  ...   \n",
       "23407          1.2                    40.0        5.6             ML  ...   \n",
       "23408          2.0                    33.0        5.5             ML  ...   \n",
       "23409          1.8                     NaN        5.9            MWW  ...   \n",
       "23410          1.8                     NaN        6.3            MWW  ...   \n",
       "23411          2.2                     NaN        5.5             MB  ...   \n",
       "\n",
       "       Magnitude Seismic Stations  Azimuthal Gap  Horizontal Distance  \\\n",
       "0                             NaN            NaN                  NaN   \n",
       "1                             NaN            NaN                  NaN   \n",
       "2                             NaN            NaN                  NaN   \n",
       "3                             NaN            NaN                  NaN   \n",
       "4                             NaN            NaN                  NaN   \n",
       "...                           ...            ...                  ...   \n",
       "23407                        18.0          42.47                0.120   \n",
       "23408                        18.0          48.58                0.129   \n",
       "23409                         NaN          91.00                0.992   \n",
       "23410                         NaN          26.00                3.553   \n",
       "23411                       428.0          97.00                0.681   \n",
       "\n",
       "       Horizontal Error  Root Mean Square            ID  Source  \\\n",
       "0                   NaN               NaN  ISCGEM860706  ISCGEM   \n",
       "1                   NaN               NaN  ISCGEM860737  ISCGEM   \n",
       "2                   NaN               NaN  ISCGEM860762  ISCGEM   \n",
       "3                   NaN               NaN  ISCGEM860856  ISCGEM   \n",
       "4                   NaN               NaN  ISCGEM860890  ISCGEM   \n",
       "...                 ...               ...           ...     ...   \n",
       "23407               NaN            0.1898    NN00570710      NN   \n",
       "23408               NaN            0.2187    NN00570744      NN   \n",
       "23409               4.8            1.5200    US10007NAF      US   \n",
       "23410               6.0            1.4300    US10007NL0      US   \n",
       "23411               4.5            0.9100    US10007NTD      US   \n",
       "\n",
       "      Location Source Magnitude Source     Status  \n",
       "0              ISCGEM           ISCGEM  Automatic  \n",
       "1              ISCGEM           ISCGEM  Automatic  \n",
       "2              ISCGEM           ISCGEM  Automatic  \n",
       "3              ISCGEM           ISCGEM  Automatic  \n",
       "4              ISCGEM           ISCGEM  Automatic  \n",
       "...               ...              ...        ...  \n",
       "23407              NN               NN   Reviewed  \n",
       "23408              NN               NN   Reviewed  \n",
       "23409              US               US   Reviewed  \n",
       "23410              US               US   Reviewed  \n",
       "23411              US               US   Reviewed  \n",
       "\n",
       "[23412 rows x 21 columns]"
      ]
     },
     "execution_count": 2,
     "metadata": {},
     "output_type": "execute_result"
    }
   ],
   "source": [
    "df = pd.read_csv(\"/kaggle/input/earthquake-database/database.csv\")\n",
    "df"
   ]
  },
  {
   "cell_type": "markdown",
   "id": "e94c3074",
   "metadata": {
    "papermill": {
     "duration": 0.012152,
     "end_time": "2022-11-01T19:50:59.529932",
     "exception": false,
     "start_time": "2022-11-01T19:50:59.517780",
     "status": "completed"
    },
    "tags": []
   },
   "source": [
    "### Matnni DATETIME ga otkazish"
   ]
  },
  {
   "cell_type": "markdown",
   "id": "9750e1c0",
   "metadata": {
    "papermill": {
     "duration": 0.012037,
     "end_time": "2022-11-01T19:50:59.554269",
     "exception": false,
     "start_time": "2022-11-01T19:50:59.542232",
     "status": "completed"
    },
    "tags": []
   },
   "source": [
    "Biz jadvalimizdagi sanalar va vaqtlar bilan ham ishlashimizga togri keladi.<br>\n",
    "VAQT VA SANALAR ni qanday ajratib olish, qanday ishlash, ishlov berishni organamiz:\n",
    "\n",
    "Pythondagi datetime degan modul bor, bevosita vaqtlar bilan ishlaydigan:"
   ]
  },
  {
   "cell_type": "code",
   "execution_count": 3,
   "id": "795a13e1",
   "metadata": {
    "execution": {
     "iopub.execute_input": "2022-11-01T19:50:59.580988Z",
     "iopub.status.busy": "2022-11-01T19:50:59.580054Z",
     "iopub.status.idle": "2022-11-01T19:50:59.584126Z",
     "shell.execute_reply": "2022-11-01T19:50:59.583433Z"
    },
    "papermill": {
     "duration": 0.019399,
     "end_time": "2022-11-01T19:50:59.586014",
     "exception": false,
     "start_time": "2022-11-01T19:50:59.566615",
     "status": "completed"
    },
    "tags": []
   },
   "outputs": [],
   "source": [
    "import datetime as dt\n",
    "\n",
    "# python fundament kurslarimizda bu haqida atroflicha toxtalganmiz"
   ]
  },
  {
   "cell_type": "code",
   "execution_count": 4,
   "id": "a8272681",
   "metadata": {
    "execution": {
     "iopub.execute_input": "2022-11-01T19:50:59.612274Z",
     "iopub.status.busy": "2022-11-01T19:50:59.611902Z",
     "iopub.status.idle": "2022-11-01T19:50:59.618376Z",
     "shell.execute_reply": "2022-11-01T19:50:59.617392Z"
    },
    "papermill": {
     "duration": 0.02245,
     "end_time": "2022-11-01T19:50:59.620676",
     "exception": false,
     "start_time": "2022-11-01T19:50:59.598226",
     "status": "completed"
    },
    "tags": []
   },
   "outputs": [
    {
     "data": {
      "text/plain": [
       "datetime.datetime(2022, 11, 1, 19, 50, 59, 613540)"
      ]
     },
     "execution_count": 4,
     "metadata": {},
     "output_type": "execute_result"
    }
   ],
   "source": [
    "# hozir chiqarmoqchi bolganimizda\n",
    "\n",
    "dt.datetime.now()"
   ]
  },
  {
   "cell_type": "markdown",
   "id": "d8581e66",
   "metadata": {
    "papermill": {
     "duration": 0.011991,
     "end_time": "2022-11-01T19:50:59.645137",
     "exception": false,
     "start_time": "2022-11-01T19:50:59.633146",
     "status": "completed"
    },
    "tags": []
   },
   "source": [
    "dataframe haqida statistik malumot olaylik:"
   ]
  },
  {
   "cell_type": "code",
   "execution_count": 5,
   "id": "5bf3e913",
   "metadata": {
    "execution": {
     "iopub.execute_input": "2022-11-01T19:50:59.672183Z",
     "iopub.status.busy": "2022-11-01T19:50:59.671161Z",
     "iopub.status.idle": "2022-11-01T19:50:59.706573Z",
     "shell.execute_reply": "2022-11-01T19:50:59.705344Z"
    },
    "papermill": {
     "duration": 0.051629,
     "end_time": "2022-11-01T19:50:59.709118",
     "exception": false,
     "start_time": "2022-11-01T19:50:59.657489",
     "status": "completed"
    },
    "tags": []
   },
   "outputs": [
    {
     "name": "stdout",
     "output_type": "stream",
     "text": [
      "<class 'pandas.core.frame.DataFrame'>\n",
      "RangeIndex: 23412 entries, 0 to 23411\n",
      "Data columns (total 21 columns):\n",
      " #   Column                      Non-Null Count  Dtype  \n",
      "---  ------                      --------------  -----  \n",
      " 0   Date                        23412 non-null  object \n",
      " 1   Time                        23412 non-null  object \n",
      " 2   Latitude                    23412 non-null  float64\n",
      " 3   Longitude                   23412 non-null  float64\n",
      " 4   Type                        23412 non-null  object \n",
      " 5   Depth                       23412 non-null  float64\n",
      " 6   Depth Error                 4461 non-null   float64\n",
      " 7   Depth Seismic Stations      7097 non-null   float64\n",
      " 8   Magnitude                   23412 non-null  float64\n",
      " 9   Magnitude Type              23409 non-null  object \n",
      " 10  Magnitude Error             327 non-null    float64\n",
      " 11  Magnitude Seismic Stations  2564 non-null   float64\n",
      " 12  Azimuthal Gap               7299 non-null   float64\n",
      " 13  Horizontal Distance         1604 non-null   float64\n",
      " 14  Horizontal Error            1156 non-null   float64\n",
      " 15  Root Mean Square            17352 non-null  float64\n",
      " 16  ID                          23412 non-null  object \n",
      " 17  Source                      23412 non-null  object \n",
      " 18  Location Source             23412 non-null  object \n",
      " 19  Magnitude Source            23412 non-null  object \n",
      " 20  Status                      23412 non-null  object \n",
      "dtypes: float64(12), object(9)\n",
      "memory usage: 3.8+ MB\n"
     ]
    }
   ],
   "source": [
    "df.info()"
   ]
  },
  {
   "cell_type": "markdown",
   "id": "2d6adbd4",
   "metadata": {
    "papermill": {
     "duration": 0.012229,
     "end_time": "2022-11-01T19:50:59.734151",
     "exception": false,
     "start_time": "2022-11-01T19:50:59.721922",
     "status": "completed"
    },
    "tags": []
   },
   "source": [
    "Koradigan bolsak bu yerda DATA va TIME object deb korsatilgan yani string malumot turi<br>\n",
    "Bunday holatda yuqoridagi datetime modulidagi imkoniyatlardan foydalana olmaymiz"
   ]
  },
  {
   "cell_type": "markdown",
   "id": "70d02669",
   "metadata": {
    "papermill": {
     "duration": 0.01233,
     "end_time": "2022-11-01T19:50:59.759033",
     "exception": false,
     "start_time": "2022-11-01T19:50:59.746703",
     "status": "completed"
    },
    "tags": []
   },
   "source": [
    "Buni oldini olish uchun type: objectni type: datetime ga otkazishimiz kerak:<br>\n",
    "Pandas bu uchun to_datetime() degan metod bor:\n",
    "\n"
   ]
  },
  {
   "cell_type": "code",
   "execution_count": 6,
   "id": "9d4c428f",
   "metadata": {
    "execution": {
     "iopub.execute_input": "2022-11-01T19:50:59.785869Z",
     "iopub.status.busy": "2022-11-01T19:50:59.785115Z",
     "iopub.status.idle": "2022-11-01T19:50:59.792071Z",
     "shell.execute_reply": "2022-11-01T19:50:59.791324Z"
    },
    "papermill": {
     "duration": 0.022476,
     "end_time": "2022-11-01T19:50:59.793949",
     "exception": false,
     "start_time": "2022-11-01T19:50:59.771473",
     "status": "completed"
    },
    "tags": []
   },
   "outputs": [
    {
     "data": {
      "text/plain": [
       "'01/02/1965'"
      ]
     },
     "execution_count": 6,
     "metadata": {},
     "output_type": "execute_result"
    }
   ],
   "source": [
    "df.at[0, 'Date']"
   ]
  },
  {
   "cell_type": "markdown",
   "id": "299b49d2",
   "metadata": {
    "papermill": {
     "duration": 0.012313,
     "end_time": "2022-11-01T19:50:59.818697",
     "exception": false,
     "start_time": "2022-11-01T19:50:59.806384",
     "status": "completed"
    },
    "tags": []
   },
   "source": [
    "'01/02/1965' bu stringni Datetimega otkazishdan oldin <br>\n",
    "uni formatini ham korsatish kerak, dataframe yaxshilab qarasak<br>\n",
    "01 - bu oy, 02 - bu kun, 1956 - yil sifatida kelyapti\n",
    "\n",
    "oyni ifodalash uchun '%m'<br>\n",
    "kunni ifodalash uchun '%d'<br>\n",
    "yil 4talik yo iktalik keladi:<br>\n",
    "4xonali yillarni ifodalash uchun '%Y'<br>\n",
    "2xonali yillarni ifodalash uchun '%y'<br>\n"
   ]
  },
  {
   "cell_type": "markdown",
   "id": "01a23890",
   "metadata": {
    "papermill": {
     "duration": 0.012305,
     "end_time": "2022-11-01T19:50:59.843439",
     "exception": false,
     "start_time": "2022-11-01T19:50:59.831134",
     "status": "completed"
    },
    "tags": []
   },
   "source": [
    "Biz bu malumotlarni Python strftime cheatsheatdan olyapmiz:<br>\n",
    "https://strftime.org/"
   ]
  },
  {
   "cell_type": "code",
   "execution_count": 7,
   "id": "99200fe1",
   "metadata": {
    "execution": {
     "iopub.execute_input": "2022-11-01T19:50:59.872767Z",
     "iopub.status.busy": "2022-11-01T19:50:59.872164Z",
     "iopub.status.idle": "2022-11-01T19:50:59.876438Z",
     "shell.execute_reply": "2022-11-01T19:50:59.875331Z"
    },
    "papermill": {
     "duration": 0.022482,
     "end_time": "2022-11-01T19:50:59.878350",
     "exception": false,
     "start_time": "2022-11-01T19:50:59.855868",
     "status": "completed"
    },
    "tags": []
   },
   "outputs": [],
   "source": [
    "# pd.to_datetime(df['Date'], format='%m/%d/%Y')"
   ]
  },
  {
   "cell_type": "markdown",
   "id": "e65c810b",
   "metadata": {
    "papermill": {
     "duration": 0.01228,
     "end_time": "2022-11-01T19:50:59.903088",
     "exception": false,
     "start_time": "2022-11-01T19:50:59.890808",
     "status": "completed"
    },
    "tags": []
   },
   "source": [
    "agar biz shuni ishga tushirsak xato chiqaradi<br>\n",
    "`ValueError: time data '1975-02-23T02:58:41.000Z' does not match format '%m/%d/%Y' (match)` <br>\n",
    "\n",
    "nega xato chiqardi agar dfni koradigan bolsak unda 23412 ta qator bor<br>\n",
    "aynan Date ustuni qaysidir qatorida yuqoridagi formatdagi malumot yozib qolingan\n",
    "\n",
    "Demak aynan shunday yozilgan qatorni topib tuzatishimiz yo ozgartirish kiritishimiz kerak<br>\n",
    "Bu yerda universal yechim yoq, hamma holat uchun alohida yondashish kerak:"
   ]
  },
  {
   "cell_type": "code",
   "execution_count": 8,
   "id": "04735839",
   "metadata": {
    "execution": {
     "iopub.execute_input": "2022-11-01T19:50:59.929481Z",
     "iopub.status.busy": "2022-11-01T19:50:59.929090Z",
     "iopub.status.idle": "2022-11-01T19:50:59.964897Z",
     "shell.execute_reply": "2022-11-01T19:50:59.963871Z"
    },
    "papermill": {
     "duration": 0.051952,
     "end_time": "2022-11-01T19:50:59.967498",
     "exception": false,
     "start_time": "2022-11-01T19:50:59.915546",
     "status": "completed"
    },
    "tags": []
   },
   "outputs": [
    {
     "data": {
      "text/html": [
       "<div>\n",
       "<style scoped>\n",
       "    .dataframe tbody tr th:only-of-type {\n",
       "        vertical-align: middle;\n",
       "    }\n",
       "\n",
       "    .dataframe tbody tr th {\n",
       "        vertical-align: top;\n",
       "    }\n",
       "\n",
       "    .dataframe thead th {\n",
       "        text-align: right;\n",
       "    }\n",
       "</style>\n",
       "<table border=\"1\" class=\"dataframe\">\n",
       "  <thead>\n",
       "    <tr style=\"text-align: right;\">\n",
       "      <th></th>\n",
       "      <th>Date</th>\n",
       "      <th>Time</th>\n",
       "      <th>Latitude</th>\n",
       "      <th>Longitude</th>\n",
       "      <th>Type</th>\n",
       "      <th>Depth</th>\n",
       "      <th>Depth Error</th>\n",
       "      <th>Depth Seismic Stations</th>\n",
       "      <th>Magnitude</th>\n",
       "      <th>Magnitude Type</th>\n",
       "      <th>...</th>\n",
       "      <th>Magnitude Seismic Stations</th>\n",
       "      <th>Azimuthal Gap</th>\n",
       "      <th>Horizontal Distance</th>\n",
       "      <th>Horizontal Error</th>\n",
       "      <th>Root Mean Square</th>\n",
       "      <th>ID</th>\n",
       "      <th>Source</th>\n",
       "      <th>Location Source</th>\n",
       "      <th>Magnitude Source</th>\n",
       "      <th>Status</th>\n",
       "    </tr>\n",
       "  </thead>\n",
       "  <tbody>\n",
       "    <tr>\n",
       "      <th>3378</th>\n",
       "      <td>1975-02-23T02:58:41.000Z</td>\n",
       "      <td>1975-02-23T02:58:41.000Z</td>\n",
       "      <td>8.017</td>\n",
       "      <td>124.075</td>\n",
       "      <td>Earthquake</td>\n",
       "      <td>623.0</td>\n",
       "      <td>NaN</td>\n",
       "      <td>NaN</td>\n",
       "      <td>5.6</td>\n",
       "      <td>MB</td>\n",
       "      <td>...</td>\n",
       "      <td>NaN</td>\n",
       "      <td>NaN</td>\n",
       "      <td>NaN</td>\n",
       "      <td>NaN</td>\n",
       "      <td>NaN</td>\n",
       "      <td>USP0000A09</td>\n",
       "      <td>US</td>\n",
       "      <td>US</td>\n",
       "      <td>US</td>\n",
       "      <td>Reviewed</td>\n",
       "    </tr>\n",
       "    <tr>\n",
       "      <th>7512</th>\n",
       "      <td>1985-04-28T02:53:41.530Z</td>\n",
       "      <td>1985-04-28T02:53:41.530Z</td>\n",
       "      <td>-32.998</td>\n",
       "      <td>-71.766</td>\n",
       "      <td>Earthquake</td>\n",
       "      <td>33.0</td>\n",
       "      <td>NaN</td>\n",
       "      <td>NaN</td>\n",
       "      <td>5.6</td>\n",
       "      <td>MW</td>\n",
       "      <td>...</td>\n",
       "      <td>NaN</td>\n",
       "      <td>NaN</td>\n",
       "      <td>NaN</td>\n",
       "      <td>NaN</td>\n",
       "      <td>1.3</td>\n",
       "      <td>USP0002E81</td>\n",
       "      <td>US</td>\n",
       "      <td>US</td>\n",
       "      <td>HRV</td>\n",
       "      <td>Reviewed</td>\n",
       "    </tr>\n",
       "  </tbody>\n",
       "</table>\n",
       "<p>2 rows × 21 columns</p>\n",
       "</div>"
      ],
      "text/plain": [
       "                          Date                      Time  Latitude  Longitude  \\\n",
       "3378  1975-02-23T02:58:41.000Z  1975-02-23T02:58:41.000Z     8.017    124.075   \n",
       "7512  1985-04-28T02:53:41.530Z  1985-04-28T02:53:41.530Z   -32.998    -71.766   \n",
       "\n",
       "            Type  Depth  Depth Error  Depth Seismic Stations  Magnitude  \\\n",
       "3378  Earthquake  623.0          NaN                     NaN        5.6   \n",
       "7512  Earthquake   33.0          NaN                     NaN        5.6   \n",
       "\n",
       "     Magnitude Type  ...  Magnitude Seismic Stations  Azimuthal Gap  \\\n",
       "3378             MB  ...                         NaN            NaN   \n",
       "7512             MW  ...                         NaN            NaN   \n",
       "\n",
       "      Horizontal Distance  Horizontal Error  Root Mean Square          ID  \\\n",
       "3378                  NaN               NaN               NaN  USP0000A09   \n",
       "7512                  NaN               NaN               1.3  USP0002E81   \n",
       "\n",
       "     Source Location Source Magnitude Source    Status  \n",
       "3378     US              US               US  Reviewed  \n",
       "7512     US              US              HRV  Reviewed  \n",
       "\n",
       "[2 rows x 21 columns]"
      ]
     },
     "execution_count": 8,
     "metadata": {},
     "output_type": "execute_result"
    }
   ],
   "source": [
    "df[df['Date'].str.startswith('19')]"
   ]
  },
  {
   "cell_type": "code",
   "execution_count": 9,
   "id": "67695f52",
   "metadata": {
    "execution": {
     "iopub.execute_input": "2022-11-01T19:50:59.995606Z",
     "iopub.status.busy": "2022-11-01T19:50:59.995214Z",
     "iopub.status.idle": "2022-11-01T19:51:00.002081Z",
     "shell.execute_reply": "2022-11-01T19:51:00.001087Z"
    },
    "papermill": {
     "duration": 0.023237,
     "end_time": "2022-11-01T19:51:00.004223",
     "exception": false,
     "start_time": "2022-11-01T19:50:59.980986",
     "status": "completed"
    },
    "tags": []
   },
   "outputs": [
    {
     "data": {
      "text/plain": [
       "'1975-02-23T02:58:41.000Z'"
      ]
     },
     "execution_count": 9,
     "metadata": {},
     "output_type": "execute_result"
    }
   ],
   "source": [
    "df.at[3378, 'Date']"
   ]
  },
  {
   "cell_type": "code",
   "execution_count": 10,
   "id": "fba9e386",
   "metadata": {
    "execution": {
     "iopub.execute_input": "2022-11-01T19:51:00.032088Z",
     "iopub.status.busy": "2022-11-01T19:51:00.031711Z",
     "iopub.status.idle": "2022-11-01T19:51:00.036351Z",
     "shell.execute_reply": "2022-11-01T19:51:00.035305Z"
    },
    "papermill": {
     "duration": 0.021197,
     "end_time": "2022-11-01T19:51:00.038519",
     "exception": false,
     "start_time": "2022-11-01T19:51:00.017322",
     "status": "completed"
    },
    "tags": []
   },
   "outputs": [],
   "source": [
    "df.at[3378, 'Date'] = '02/23/1975'"
   ]
  },
  {
   "cell_type": "code",
   "execution_count": 11,
   "id": "8cd641f4",
   "metadata": {
    "execution": {
     "iopub.execute_input": "2022-11-01T19:51:00.065957Z",
     "iopub.status.busy": "2022-11-01T19:51:00.065527Z",
     "iopub.status.idle": "2022-11-01T19:51:00.071900Z",
     "shell.execute_reply": "2022-11-01T19:51:00.071147Z"
    },
    "papermill": {
     "duration": 0.022392,
     "end_time": "2022-11-01T19:51:00.073899",
     "exception": false,
     "start_time": "2022-11-01T19:51:00.051507",
     "status": "completed"
    },
    "tags": []
   },
   "outputs": [
    {
     "data": {
      "text/plain": [
       "'02/23/1975'"
      ]
     },
     "execution_count": 11,
     "metadata": {},
     "output_type": "execute_result"
    }
   ],
   "source": [
    "df.at[3378, 'Date']"
   ]
  },
  {
   "cell_type": "code",
   "execution_count": 12,
   "id": "1c0c42db",
   "metadata": {
    "execution": {
     "iopub.execute_input": "2022-11-01T19:51:00.101589Z",
     "iopub.status.busy": "2022-11-01T19:51:00.101231Z",
     "iopub.status.idle": "2022-11-01T19:51:00.106158Z",
     "shell.execute_reply": "2022-11-01T19:51:00.104794Z"
    },
    "papermill": {
     "duration": 0.021269,
     "end_time": "2022-11-01T19:51:00.108185",
     "exception": false,
     "start_time": "2022-11-01T19:51:00.086916",
     "status": "completed"
    },
    "tags": []
   },
   "outputs": [],
   "source": [
    "df.at[3378, 'Time'] = '02:58:41'"
   ]
  },
  {
   "cell_type": "code",
   "execution_count": 13,
   "id": "f1caa583",
   "metadata": {
    "execution": {
     "iopub.execute_input": "2022-11-01T19:51:00.135666Z",
     "iopub.status.busy": "2022-11-01T19:51:00.135280Z",
     "iopub.status.idle": "2022-11-01T19:51:00.144853Z",
     "shell.execute_reply": "2022-11-01T19:51:00.143554Z"
    },
    "papermill": {
     "duration": 0.025847,
     "end_time": "2022-11-01T19:51:00.147101",
     "exception": false,
     "start_time": "2022-11-01T19:51:00.121254",
     "status": "completed"
    },
    "tags": []
   },
   "outputs": [
    {
     "data": {
      "text/plain": [
       "'02:58:41'"
      ]
     },
     "execution_count": 13,
     "metadata": {},
     "output_type": "execute_result"
    }
   ],
   "source": [
    "df.at[3378, 'Time']"
   ]
  },
  {
   "cell_type": "code",
   "execution_count": 14,
   "id": "1159ae98",
   "metadata": {
    "execution": {
     "iopub.execute_input": "2022-11-01T19:51:00.178657Z",
     "iopub.status.busy": "2022-11-01T19:51:00.178197Z",
     "iopub.status.idle": "2022-11-01T19:51:00.186286Z",
     "shell.execute_reply": "2022-11-01T19:51:00.185019Z"
    },
    "papermill": {
     "duration": 0.027379,
     "end_time": "2022-11-01T19:51:00.188531",
     "exception": false,
     "start_time": "2022-11-01T19:51:00.161152",
     "status": "completed"
    },
    "tags": []
   },
   "outputs": [
    {
     "data": {
      "text/plain": [
       "'1985-04-28T02:53:41.530Z'"
      ]
     },
     "execution_count": 14,
     "metadata": {},
     "output_type": "execute_result"
    }
   ],
   "source": [
    "df.at[7512, 'Date']"
   ]
  },
  {
   "cell_type": "code",
   "execution_count": 15,
   "id": "f2bdb715",
   "metadata": {
    "execution": {
     "iopub.execute_input": "2022-11-01T19:51:00.220452Z",
     "iopub.status.busy": "2022-11-01T19:51:00.220023Z",
     "iopub.status.idle": "2022-11-01T19:51:00.226413Z",
     "shell.execute_reply": "2022-11-01T19:51:00.225314Z"
    },
    "papermill": {
     "duration": 0.023437,
     "end_time": "2022-11-01T19:51:00.228512",
     "exception": false,
     "start_time": "2022-11-01T19:51:00.205075",
     "status": "completed"
    },
    "tags": []
   },
   "outputs": [],
   "source": [
    "df.at[7512, 'Date'] = '04/28/1985'\n",
    "df.at[7512, 'Time'] = '02:53:41'"
   ]
  },
  {
   "cell_type": "code",
   "execution_count": 16,
   "id": "6cdbad91",
   "metadata": {
    "execution": {
     "iopub.execute_input": "2022-11-01T19:51:00.256788Z",
     "iopub.status.busy": "2022-11-01T19:51:00.256435Z",
     "iopub.status.idle": "2022-11-01T19:51:00.262924Z",
     "shell.execute_reply": "2022-11-01T19:51:00.261895Z"
    },
    "papermill": {
     "duration": 0.023232,
     "end_time": "2022-11-01T19:51:00.265146",
     "exception": false,
     "start_time": "2022-11-01T19:51:00.241914",
     "status": "completed"
    },
    "tags": []
   },
   "outputs": [
    {
     "data": {
      "text/plain": [
       "'04/28/1985'"
      ]
     },
     "execution_count": 16,
     "metadata": {},
     "output_type": "execute_result"
    }
   ],
   "source": [
    "df.at[7512, 'Date']"
   ]
  },
  {
   "cell_type": "code",
   "execution_count": 17,
   "id": "be7de082",
   "metadata": {
    "execution": {
     "iopub.execute_input": "2022-11-01T19:51:00.296898Z",
     "iopub.status.busy": "2022-11-01T19:51:00.296492Z",
     "iopub.status.idle": "2022-11-01T19:51:00.303306Z",
     "shell.execute_reply": "2022-11-01T19:51:00.302245Z"
    },
    "papermill": {
     "duration": 0.027826,
     "end_time": "2022-11-01T19:51:00.306118",
     "exception": false,
     "start_time": "2022-11-01T19:51:00.278292",
     "status": "completed"
    },
    "tags": []
   },
   "outputs": [
    {
     "data": {
      "text/plain": [
       "'02:53:41'"
      ]
     },
     "execution_count": 17,
     "metadata": {},
     "output_type": "execute_result"
    }
   ],
   "source": [
    "df.at[7512, 'Time']"
   ]
  },
  {
   "cell_type": "markdown",
   "id": "6ec9f57a",
   "metadata": {
    "papermill": {
     "duration": 0.0134,
     "end_time": "2022-11-01T19:51:00.338786",
     "exception": false,
     "start_time": "2022-11-01T19:51:00.325386",
     "status": "completed"
    },
    "tags": []
   },
   "source": [
    "Yuqoridagi birinchi usul edi<br>\n",
    "Lekin bu usulning kamchiligi boshlanishi 1975 dan boshlanmagan notogri kiritilgan vaqtlarni inobatga olmaydi\n",
    "\n",
    "2-usuli uzunligidan foydalansak boladi\n",
    "Yani Date ustunimiz aksariyatini uzunligi bir xil faqatgina xato bergandan boshqa"
   ]
  },
  {
   "cell_type": "code",
   "execution_count": 18,
   "id": "d29c23df",
   "metadata": {
    "execution": {
     "iopub.execute_input": "2022-11-01T19:51:00.367863Z",
     "iopub.status.busy": "2022-11-01T19:51:00.367428Z",
     "iopub.status.idle": "2022-11-01T19:51:00.383885Z",
     "shell.execute_reply": "2022-11-01T19:51:00.382999Z"
    },
    "papermill": {
     "duration": 0.033594,
     "end_time": "2022-11-01T19:51:00.386089",
     "exception": false,
     "start_time": "2022-11-01T19:51:00.352495",
     "status": "completed"
    },
    "tags": []
   },
   "outputs": [
    {
     "data": {
      "text/plain": [
       "0        10\n",
       "1        10\n",
       "2        10\n",
       "3        10\n",
       "4        10\n",
       "         ..\n",
       "23407    10\n",
       "23408    10\n",
       "23409    10\n",
       "23410    10\n",
       "23411    10\n",
       "Name: Date, Length: 23412, dtype: int64"
      ]
     },
     "execution_count": 18,
     "metadata": {},
     "output_type": "execute_result"
    }
   ],
   "source": [
    "df.Date.str.len()"
   ]
  },
  {
   "cell_type": "code",
   "execution_count": 19,
   "id": "93975282",
   "metadata": {
    "execution": {
     "iopub.execute_input": "2022-11-01T19:51:00.417893Z",
     "iopub.status.busy": "2022-11-01T19:51:00.417478Z",
     "iopub.status.idle": "2022-11-01T19:51:00.434048Z",
     "shell.execute_reply": "2022-11-01T19:51:00.433012Z"
    },
    "papermill": {
     "duration": 0.035027,
     "end_time": "2022-11-01T19:51:00.436425",
     "exception": false,
     "start_time": "2022-11-01T19:51:00.401398",
     "status": "completed"
    },
    "tags": []
   },
   "outputs": [
    {
     "data": {
      "text/plain": [
       "10    23411\n",
       "24        1\n",
       "Name: Date, dtype: int64"
      ]
     },
     "execution_count": 19,
     "metadata": {},
     "output_type": "execute_result"
    }
   ],
   "source": [
    "df.Date.str.len().value_counts()"
   ]
  },
  {
   "cell_type": "markdown",
   "id": "92d92f52",
   "metadata": {
    "papermill": {
     "duration": 0.013452,
     "end_time": "2022-11-01T19:51:00.463729",
     "exception": false,
     "start_time": "2022-11-01T19:51:00.450277",
     "status": "completed"
    },
    "tags": []
   },
   "source": [
    "Etibor bersak biz 2ta notogri formatni tuzatgan edik,<br>\n",
    "va yana bir notogri format qolib ketibdi:\n",
    "\n",
    "Ularni ajratib olish uchun osongina filtrlaymiz:"
   ]
  },
  {
   "cell_type": "code",
   "execution_count": 20,
   "id": "ad99d39f",
   "metadata": {
    "execution": {
     "iopub.execute_input": "2022-11-01T19:51:00.495692Z",
     "iopub.status.busy": "2022-11-01T19:51:00.494899Z",
     "iopub.status.idle": "2022-11-01T19:51:00.529900Z",
     "shell.execute_reply": "2022-11-01T19:51:00.528836Z"
    },
    "papermill": {
     "duration": 0.05518,
     "end_time": "2022-11-01T19:51:00.532736",
     "exception": false,
     "start_time": "2022-11-01T19:51:00.477556",
     "status": "completed"
    },
    "tags": []
   },
   "outputs": [
    {
     "data": {
      "text/html": [
       "<div>\n",
       "<style scoped>\n",
       "    .dataframe tbody tr th:only-of-type {\n",
       "        vertical-align: middle;\n",
       "    }\n",
       "\n",
       "    .dataframe tbody tr th {\n",
       "        vertical-align: top;\n",
       "    }\n",
       "\n",
       "    .dataframe thead th {\n",
       "        text-align: right;\n",
       "    }\n",
       "</style>\n",
       "<table border=\"1\" class=\"dataframe\">\n",
       "  <thead>\n",
       "    <tr style=\"text-align: right;\">\n",
       "      <th></th>\n",
       "      <th>Date</th>\n",
       "      <th>Time</th>\n",
       "      <th>Latitude</th>\n",
       "      <th>Longitude</th>\n",
       "      <th>Type</th>\n",
       "      <th>Depth</th>\n",
       "      <th>Depth Error</th>\n",
       "      <th>Depth Seismic Stations</th>\n",
       "      <th>Magnitude</th>\n",
       "      <th>Magnitude Type</th>\n",
       "      <th>...</th>\n",
       "      <th>Magnitude Seismic Stations</th>\n",
       "      <th>Azimuthal Gap</th>\n",
       "      <th>Horizontal Distance</th>\n",
       "      <th>Horizontal Error</th>\n",
       "      <th>Root Mean Square</th>\n",
       "      <th>ID</th>\n",
       "      <th>Source</th>\n",
       "      <th>Location Source</th>\n",
       "      <th>Magnitude Source</th>\n",
       "      <th>Status</th>\n",
       "    </tr>\n",
       "  </thead>\n",
       "  <tbody>\n",
       "    <tr>\n",
       "      <th>20650</th>\n",
       "      <td>2011-03-13T02:23:34.520Z</td>\n",
       "      <td>2011-03-13T02:23:34.520Z</td>\n",
       "      <td>36.344</td>\n",
       "      <td>142.344</td>\n",
       "      <td>Earthquake</td>\n",
       "      <td>10.1</td>\n",
       "      <td>13.9</td>\n",
       "      <td>289.0</td>\n",
       "      <td>5.8</td>\n",
       "      <td>MWC</td>\n",
       "      <td>...</td>\n",
       "      <td>NaN</td>\n",
       "      <td>32.3</td>\n",
       "      <td>NaN</td>\n",
       "      <td>NaN</td>\n",
       "      <td>1.06</td>\n",
       "      <td>USP000HWQP</td>\n",
       "      <td>US</td>\n",
       "      <td>US</td>\n",
       "      <td>GCMT</td>\n",
       "      <td>Reviewed</td>\n",
       "    </tr>\n",
       "  </tbody>\n",
       "</table>\n",
       "<p>1 rows × 21 columns</p>\n",
       "</div>"
      ],
      "text/plain": [
       "                           Date                      Time  Latitude  \\\n",
       "20650  2011-03-13T02:23:34.520Z  2011-03-13T02:23:34.520Z    36.344   \n",
       "\n",
       "       Longitude        Type  Depth  Depth Error  Depth Seismic Stations  \\\n",
       "20650    142.344  Earthquake   10.1         13.9                   289.0   \n",
       "\n",
       "       Magnitude Magnitude Type  ...  Magnitude Seismic Stations  \\\n",
       "20650        5.8            MWC  ...                         NaN   \n",
       "\n",
       "       Azimuthal Gap  Horizontal Distance  Horizontal Error  Root Mean Square  \\\n",
       "20650           32.3                  NaN               NaN              1.06   \n",
       "\n",
       "               ID Source Location Source Magnitude Source    Status  \n",
       "20650  USP000HWQP     US              US             GCMT  Reviewed  \n",
       "\n",
       "[1 rows x 21 columns]"
      ]
     },
     "execution_count": 20,
     "metadata": {},
     "output_type": "execute_result"
    }
   ],
   "source": [
    "df[df.Date.str.len() == 24]"
   ]
  },
  {
   "cell_type": "code",
   "execution_count": 21,
   "id": "e86aa364",
   "metadata": {
    "execution": {
     "iopub.execute_input": "2022-11-01T19:51:00.574017Z",
     "iopub.status.busy": "2022-11-01T19:51:00.573333Z",
     "iopub.status.idle": "2022-11-01T19:51:00.577680Z",
     "shell.execute_reply": "2022-11-01T19:51:00.577010Z"
    },
    "papermill": {
     "duration": 0.024884,
     "end_time": "2022-11-01T19:51:00.579592",
     "exception": false,
     "start_time": "2022-11-01T19:51:00.554708",
     "status": "completed"
    },
    "tags": []
   },
   "outputs": [],
   "source": [
    "# yuqoridagi usul bilan buni ham ozgartirib qoyamiz:\n",
    "\n",
    "df.at[20650, 'Date'] = '03/13/2011'\n",
    "df.at[7512, 'Time'] = '02:23:34'"
   ]
  },
  {
   "cell_type": "code",
   "execution_count": 22,
   "id": "c4866c47",
   "metadata": {
    "execution": {
     "iopub.execute_input": "2022-11-01T19:51:00.609269Z",
     "iopub.status.busy": "2022-11-01T19:51:00.608874Z",
     "iopub.status.idle": "2022-11-01T19:51:00.625396Z",
     "shell.execute_reply": "2022-11-01T19:51:00.624400Z"
    },
    "papermill": {
     "duration": 0.033748,
     "end_time": "2022-11-01T19:51:00.627417",
     "exception": false,
     "start_time": "2022-11-01T19:51:00.593669",
     "status": "completed"
    },
    "tags": []
   },
   "outputs": [
    {
     "data": {
      "text/plain": [
       "10    23412\n",
       "Name: Date, dtype: int64"
      ]
     },
     "execution_count": 22,
     "metadata": {},
     "output_type": "execute_result"
    }
   ],
   "source": [
    "df.Date.str.len().value_counts()"
   ]
  },
  {
   "cell_type": "markdown",
   "id": "548591e8",
   "metadata": {
    "papermill": {
     "duration": 0.013882,
     "end_time": "2022-11-01T19:51:00.655195",
     "exception": false,
     "start_time": "2022-11-01T19:51:00.641313",
     "status": "completed"
    },
    "tags": []
   },
   "source": [
    "Endi biz yuqoridagi qiymatni qayta ishga tushurishimiz mumkin:"
   ]
  },
  {
   "cell_type": "code",
   "execution_count": 23,
   "id": "20cb2d26",
   "metadata": {
    "execution": {
     "iopub.execute_input": "2022-11-01T19:51:00.684790Z",
     "iopub.status.busy": "2022-11-01T19:51:00.684401Z",
     "iopub.status.idle": "2022-11-01T19:51:00.730436Z",
     "shell.execute_reply": "2022-11-01T19:51:00.729392Z"
    },
    "papermill": {
     "duration": 0.063525,
     "end_time": "2022-11-01T19:51:00.732744",
     "exception": false,
     "start_time": "2022-11-01T19:51:00.669219",
     "status": "completed"
    },
    "tags": []
   },
   "outputs": [
    {
     "data": {
      "text/plain": [
       "0       1965-01-02\n",
       "1       1965-01-04\n",
       "2       1965-01-05\n",
       "3       1965-01-08\n",
       "4       1965-01-09\n",
       "           ...    \n",
       "23407   2016-12-28\n",
       "23408   2016-12-28\n",
       "23409   2016-12-28\n",
       "23410   2016-12-29\n",
       "23411   2016-12-30\n",
       "Name: Date, Length: 23412, dtype: datetime64[ns]"
      ]
     },
     "execution_count": 23,
     "metadata": {},
     "output_type": "execute_result"
    }
   ],
   "source": [
    "pd.to_datetime(df['Date'], format='%m/%d/%Y')"
   ]
  },
  {
   "cell_type": "markdown",
   "id": "0d7ce538",
   "metadata": {
    "papermill": {
     "duration": 0.013755,
     "end_time": "2022-11-01T19:51:00.760974",
     "exception": false,
     "start_time": "2022-11-01T19:51:00.747219",
     "status": "completed"
    },
    "tags": []
   },
   "source": [
    "Mana string typedagi datalarni, datetime typedagi datalarga otkazib oldik\n",
    "\n",
    "Buni yangi ustunga yozib qoysak ham boladi"
   ]
  },
  {
   "cell_type": "code",
   "execution_count": 24,
   "id": "d37da172",
   "metadata": {
    "execution": {
     "iopub.execute_input": "2022-11-01T19:51:00.791140Z",
     "iopub.status.busy": "2022-11-01T19:51:00.790463Z",
     "iopub.status.idle": "2022-11-01T19:51:00.883174Z",
     "shell.execute_reply": "2022-11-01T19:51:00.882094Z"
    },
    "papermill": {
     "duration": 0.110292,
     "end_time": "2022-11-01T19:51:00.885416",
     "exception": false,
     "start_time": "2022-11-01T19:51:00.775124",
     "status": "completed"
    },
    "tags": []
   },
   "outputs": [
    {
     "data": {
      "text/html": [
       "<div>\n",
       "<style scoped>\n",
       "    .dataframe tbody tr th:only-of-type {\n",
       "        vertical-align: middle;\n",
       "    }\n",
       "\n",
       "    .dataframe tbody tr th {\n",
       "        vertical-align: top;\n",
       "    }\n",
       "\n",
       "    .dataframe thead th {\n",
       "        text-align: right;\n",
       "    }\n",
       "</style>\n",
       "<table border=\"1\" class=\"dataframe\">\n",
       "  <thead>\n",
       "    <tr style=\"text-align: right;\">\n",
       "      <th></th>\n",
       "      <th>Date</th>\n",
       "      <th>Time</th>\n",
       "      <th>Latitude</th>\n",
       "      <th>Longitude</th>\n",
       "      <th>Type</th>\n",
       "      <th>Depth</th>\n",
       "      <th>Depth Error</th>\n",
       "      <th>Depth Seismic Stations</th>\n",
       "      <th>Magnitude</th>\n",
       "      <th>Magnitude Type</th>\n",
       "      <th>...</th>\n",
       "      <th>Azimuthal Gap</th>\n",
       "      <th>Horizontal Distance</th>\n",
       "      <th>Horizontal Error</th>\n",
       "      <th>Root Mean Square</th>\n",
       "      <th>ID</th>\n",
       "      <th>Source</th>\n",
       "      <th>Location Source</th>\n",
       "      <th>Magnitude Source</th>\n",
       "      <th>Status</th>\n",
       "      <th>datetime</th>\n",
       "    </tr>\n",
       "  </thead>\n",
       "  <tbody>\n",
       "    <tr>\n",
       "      <th>0</th>\n",
       "      <td>01/02/1965</td>\n",
       "      <td>13:44:18</td>\n",
       "      <td>19.2460</td>\n",
       "      <td>145.6160</td>\n",
       "      <td>Earthquake</td>\n",
       "      <td>131.60</td>\n",
       "      <td>NaN</td>\n",
       "      <td>NaN</td>\n",
       "      <td>6.0</td>\n",
       "      <td>MW</td>\n",
       "      <td>...</td>\n",
       "      <td>NaN</td>\n",
       "      <td>NaN</td>\n",
       "      <td>NaN</td>\n",
       "      <td>NaN</td>\n",
       "      <td>ISCGEM860706</td>\n",
       "      <td>ISCGEM</td>\n",
       "      <td>ISCGEM</td>\n",
       "      <td>ISCGEM</td>\n",
       "      <td>Automatic</td>\n",
       "      <td>1965-01-02</td>\n",
       "    </tr>\n",
       "    <tr>\n",
       "      <th>1</th>\n",
       "      <td>01/04/1965</td>\n",
       "      <td>11:29:49</td>\n",
       "      <td>1.8630</td>\n",
       "      <td>127.3520</td>\n",
       "      <td>Earthquake</td>\n",
       "      <td>80.00</td>\n",
       "      <td>NaN</td>\n",
       "      <td>NaN</td>\n",
       "      <td>5.8</td>\n",
       "      <td>MW</td>\n",
       "      <td>...</td>\n",
       "      <td>NaN</td>\n",
       "      <td>NaN</td>\n",
       "      <td>NaN</td>\n",
       "      <td>NaN</td>\n",
       "      <td>ISCGEM860737</td>\n",
       "      <td>ISCGEM</td>\n",
       "      <td>ISCGEM</td>\n",
       "      <td>ISCGEM</td>\n",
       "      <td>Automatic</td>\n",
       "      <td>1965-01-04</td>\n",
       "    </tr>\n",
       "    <tr>\n",
       "      <th>2</th>\n",
       "      <td>01/05/1965</td>\n",
       "      <td>18:05:58</td>\n",
       "      <td>-20.5790</td>\n",
       "      <td>-173.9720</td>\n",
       "      <td>Earthquake</td>\n",
       "      <td>20.00</td>\n",
       "      <td>NaN</td>\n",
       "      <td>NaN</td>\n",
       "      <td>6.2</td>\n",
       "      <td>MW</td>\n",
       "      <td>...</td>\n",
       "      <td>NaN</td>\n",
       "      <td>NaN</td>\n",
       "      <td>NaN</td>\n",
       "      <td>NaN</td>\n",
       "      <td>ISCGEM860762</td>\n",
       "      <td>ISCGEM</td>\n",
       "      <td>ISCGEM</td>\n",
       "      <td>ISCGEM</td>\n",
       "      <td>Automatic</td>\n",
       "      <td>1965-01-05</td>\n",
       "    </tr>\n",
       "    <tr>\n",
       "      <th>3</th>\n",
       "      <td>01/08/1965</td>\n",
       "      <td>18:49:43</td>\n",
       "      <td>-59.0760</td>\n",
       "      <td>-23.5570</td>\n",
       "      <td>Earthquake</td>\n",
       "      <td>15.00</td>\n",
       "      <td>NaN</td>\n",
       "      <td>NaN</td>\n",
       "      <td>5.8</td>\n",
       "      <td>MW</td>\n",
       "      <td>...</td>\n",
       "      <td>NaN</td>\n",
       "      <td>NaN</td>\n",
       "      <td>NaN</td>\n",
       "      <td>NaN</td>\n",
       "      <td>ISCGEM860856</td>\n",
       "      <td>ISCGEM</td>\n",
       "      <td>ISCGEM</td>\n",
       "      <td>ISCGEM</td>\n",
       "      <td>Automatic</td>\n",
       "      <td>1965-01-08</td>\n",
       "    </tr>\n",
       "    <tr>\n",
       "      <th>4</th>\n",
       "      <td>01/09/1965</td>\n",
       "      <td>13:32:50</td>\n",
       "      <td>11.9380</td>\n",
       "      <td>126.4270</td>\n",
       "      <td>Earthquake</td>\n",
       "      <td>15.00</td>\n",
       "      <td>NaN</td>\n",
       "      <td>NaN</td>\n",
       "      <td>5.8</td>\n",
       "      <td>MW</td>\n",
       "      <td>...</td>\n",
       "      <td>NaN</td>\n",
       "      <td>NaN</td>\n",
       "      <td>NaN</td>\n",
       "      <td>NaN</td>\n",
       "      <td>ISCGEM860890</td>\n",
       "      <td>ISCGEM</td>\n",
       "      <td>ISCGEM</td>\n",
       "      <td>ISCGEM</td>\n",
       "      <td>Automatic</td>\n",
       "      <td>1965-01-09</td>\n",
       "    </tr>\n",
       "    <tr>\n",
       "      <th>...</th>\n",
       "      <td>...</td>\n",
       "      <td>...</td>\n",
       "      <td>...</td>\n",
       "      <td>...</td>\n",
       "      <td>...</td>\n",
       "      <td>...</td>\n",
       "      <td>...</td>\n",
       "      <td>...</td>\n",
       "      <td>...</td>\n",
       "      <td>...</td>\n",
       "      <td>...</td>\n",
       "      <td>...</td>\n",
       "      <td>...</td>\n",
       "      <td>...</td>\n",
       "      <td>...</td>\n",
       "      <td>...</td>\n",
       "      <td>...</td>\n",
       "      <td>...</td>\n",
       "      <td>...</td>\n",
       "      <td>...</td>\n",
       "      <td>...</td>\n",
       "    </tr>\n",
       "    <tr>\n",
       "      <th>23407</th>\n",
       "      <td>12/28/2016</td>\n",
       "      <td>08:22:12</td>\n",
       "      <td>38.3917</td>\n",
       "      <td>-118.8941</td>\n",
       "      <td>Earthquake</td>\n",
       "      <td>12.30</td>\n",
       "      <td>1.2</td>\n",
       "      <td>40.0</td>\n",
       "      <td>5.6</td>\n",
       "      <td>ML</td>\n",
       "      <td>...</td>\n",
       "      <td>42.47</td>\n",
       "      <td>0.120</td>\n",
       "      <td>NaN</td>\n",
       "      <td>0.1898</td>\n",
       "      <td>NN00570710</td>\n",
       "      <td>NN</td>\n",
       "      <td>NN</td>\n",
       "      <td>NN</td>\n",
       "      <td>Reviewed</td>\n",
       "      <td>2016-12-28</td>\n",
       "    </tr>\n",
       "    <tr>\n",
       "      <th>23408</th>\n",
       "      <td>12/28/2016</td>\n",
       "      <td>09:13:47</td>\n",
       "      <td>38.3777</td>\n",
       "      <td>-118.8957</td>\n",
       "      <td>Earthquake</td>\n",
       "      <td>8.80</td>\n",
       "      <td>2.0</td>\n",
       "      <td>33.0</td>\n",
       "      <td>5.5</td>\n",
       "      <td>ML</td>\n",
       "      <td>...</td>\n",
       "      <td>48.58</td>\n",
       "      <td>0.129</td>\n",
       "      <td>NaN</td>\n",
       "      <td>0.2187</td>\n",
       "      <td>NN00570744</td>\n",
       "      <td>NN</td>\n",
       "      <td>NN</td>\n",
       "      <td>NN</td>\n",
       "      <td>Reviewed</td>\n",
       "      <td>2016-12-28</td>\n",
       "    </tr>\n",
       "    <tr>\n",
       "      <th>23409</th>\n",
       "      <td>12/28/2016</td>\n",
       "      <td>12:38:51</td>\n",
       "      <td>36.9179</td>\n",
       "      <td>140.4262</td>\n",
       "      <td>Earthquake</td>\n",
       "      <td>10.00</td>\n",
       "      <td>1.8</td>\n",
       "      <td>NaN</td>\n",
       "      <td>5.9</td>\n",
       "      <td>MWW</td>\n",
       "      <td>...</td>\n",
       "      <td>91.00</td>\n",
       "      <td>0.992</td>\n",
       "      <td>4.8</td>\n",
       "      <td>1.5200</td>\n",
       "      <td>US10007NAF</td>\n",
       "      <td>US</td>\n",
       "      <td>US</td>\n",
       "      <td>US</td>\n",
       "      <td>Reviewed</td>\n",
       "      <td>2016-12-28</td>\n",
       "    </tr>\n",
       "    <tr>\n",
       "      <th>23410</th>\n",
       "      <td>12/29/2016</td>\n",
       "      <td>22:30:19</td>\n",
       "      <td>-9.0283</td>\n",
       "      <td>118.6639</td>\n",
       "      <td>Earthquake</td>\n",
       "      <td>79.00</td>\n",
       "      <td>1.8</td>\n",
       "      <td>NaN</td>\n",
       "      <td>6.3</td>\n",
       "      <td>MWW</td>\n",
       "      <td>...</td>\n",
       "      <td>26.00</td>\n",
       "      <td>3.553</td>\n",
       "      <td>6.0</td>\n",
       "      <td>1.4300</td>\n",
       "      <td>US10007NL0</td>\n",
       "      <td>US</td>\n",
       "      <td>US</td>\n",
       "      <td>US</td>\n",
       "      <td>Reviewed</td>\n",
       "      <td>2016-12-29</td>\n",
       "    </tr>\n",
       "    <tr>\n",
       "      <th>23411</th>\n",
       "      <td>12/30/2016</td>\n",
       "      <td>20:08:28</td>\n",
       "      <td>37.3973</td>\n",
       "      <td>141.4103</td>\n",
       "      <td>Earthquake</td>\n",
       "      <td>11.94</td>\n",
       "      <td>2.2</td>\n",
       "      <td>NaN</td>\n",
       "      <td>5.5</td>\n",
       "      <td>MB</td>\n",
       "      <td>...</td>\n",
       "      <td>97.00</td>\n",
       "      <td>0.681</td>\n",
       "      <td>4.5</td>\n",
       "      <td>0.9100</td>\n",
       "      <td>US10007NTD</td>\n",
       "      <td>US</td>\n",
       "      <td>US</td>\n",
       "      <td>US</td>\n",
       "      <td>Reviewed</td>\n",
       "      <td>2016-12-30</td>\n",
       "    </tr>\n",
       "  </tbody>\n",
       "</table>\n",
       "<p>23412 rows × 22 columns</p>\n",
       "</div>"
      ],
      "text/plain": [
       "             Date      Time  Latitude  Longitude        Type   Depth  \\\n",
       "0      01/02/1965  13:44:18   19.2460   145.6160  Earthquake  131.60   \n",
       "1      01/04/1965  11:29:49    1.8630   127.3520  Earthquake   80.00   \n",
       "2      01/05/1965  18:05:58  -20.5790  -173.9720  Earthquake   20.00   \n",
       "3      01/08/1965  18:49:43  -59.0760   -23.5570  Earthquake   15.00   \n",
       "4      01/09/1965  13:32:50   11.9380   126.4270  Earthquake   15.00   \n",
       "...           ...       ...       ...        ...         ...     ...   \n",
       "23407  12/28/2016  08:22:12   38.3917  -118.8941  Earthquake   12.30   \n",
       "23408  12/28/2016  09:13:47   38.3777  -118.8957  Earthquake    8.80   \n",
       "23409  12/28/2016  12:38:51   36.9179   140.4262  Earthquake   10.00   \n",
       "23410  12/29/2016  22:30:19   -9.0283   118.6639  Earthquake   79.00   \n",
       "23411  12/30/2016  20:08:28   37.3973   141.4103  Earthquake   11.94   \n",
       "\n",
       "       Depth Error  Depth Seismic Stations  Magnitude Magnitude Type  ...  \\\n",
       "0              NaN                     NaN        6.0             MW  ...   \n",
       "1              NaN                     NaN        5.8             MW  ...   \n",
       "2              NaN                     NaN        6.2             MW  ...   \n",
       "3              NaN                     NaN        5.8             MW  ...   \n",
       "4              NaN                     NaN        5.8             MW  ...   \n",
       "...            ...                     ...        ...            ...  ...   \n",
       "23407          1.2                    40.0        5.6             ML  ...   \n",
       "23408          2.0                    33.0        5.5             ML  ...   \n",
       "23409          1.8                     NaN        5.9            MWW  ...   \n",
       "23410          1.8                     NaN        6.3            MWW  ...   \n",
       "23411          2.2                     NaN        5.5             MB  ...   \n",
       "\n",
       "       Azimuthal Gap  Horizontal Distance  Horizontal Error  Root Mean Square  \\\n",
       "0                NaN                  NaN               NaN               NaN   \n",
       "1                NaN                  NaN               NaN               NaN   \n",
       "2                NaN                  NaN               NaN               NaN   \n",
       "3                NaN                  NaN               NaN               NaN   \n",
       "4                NaN                  NaN               NaN               NaN   \n",
       "...              ...                  ...               ...               ...   \n",
       "23407          42.47                0.120               NaN            0.1898   \n",
       "23408          48.58                0.129               NaN            0.2187   \n",
       "23409          91.00                0.992               4.8            1.5200   \n",
       "23410          26.00                3.553               6.0            1.4300   \n",
       "23411          97.00                0.681               4.5            0.9100   \n",
       "\n",
       "                 ID  Source Location Source Magnitude Source     Status  \\\n",
       "0      ISCGEM860706  ISCGEM          ISCGEM           ISCGEM  Automatic   \n",
       "1      ISCGEM860737  ISCGEM          ISCGEM           ISCGEM  Automatic   \n",
       "2      ISCGEM860762  ISCGEM          ISCGEM           ISCGEM  Automatic   \n",
       "3      ISCGEM860856  ISCGEM          ISCGEM           ISCGEM  Automatic   \n",
       "4      ISCGEM860890  ISCGEM          ISCGEM           ISCGEM  Automatic   \n",
       "...             ...     ...             ...              ...        ...   \n",
       "23407    NN00570710      NN              NN               NN   Reviewed   \n",
       "23408    NN00570744      NN              NN               NN   Reviewed   \n",
       "23409    US10007NAF      US              US               US   Reviewed   \n",
       "23410    US10007NL0      US              US               US   Reviewed   \n",
       "23411    US10007NTD      US              US               US   Reviewed   \n",
       "\n",
       "        datetime  \n",
       "0     1965-01-02  \n",
       "1     1965-01-04  \n",
       "2     1965-01-05  \n",
       "3     1965-01-08  \n",
       "4     1965-01-09  \n",
       "...          ...  \n",
       "23407 2016-12-28  \n",
       "23408 2016-12-28  \n",
       "23409 2016-12-28  \n",
       "23410 2016-12-29  \n",
       "23411 2016-12-30  \n",
       "\n",
       "[23412 rows x 22 columns]"
      ]
     },
     "execution_count": 24,
     "metadata": {},
     "output_type": "execute_result"
    }
   ],
   "source": [
    "df['datetime'] = pd.to_datetime(df['Date'], format='%m/%d/%Y')\n",
    "df"
   ]
  },
  {
   "cell_type": "markdown",
   "id": "26f4acfe",
   "metadata": {
    "papermill": {
     "duration": 0.014332,
     "end_time": "2022-11-01T19:51:00.914599",
     "exception": false,
     "start_time": "2022-11-01T19:51:00.900267",
     "status": "completed"
    },
    "tags": []
   },
   "source": [
    "### datetime bilan ishlash"
   ]
  },
  {
   "cell_type": "markdown",
   "id": "71f6fd97",
   "metadata": {
    "papermill": {
     "duration": 0.014216,
     "end_time": "2022-11-01T19:51:00.943952",
     "exception": false,
     "start_time": "2022-11-01T19:51:00.929736",
     "status": "completed"
    },
    "tags": []
   },
   "source": [
    "Datetime tipiga otkazib olgandan keyin unda ancha ishlar qilish mumkin\n",
    "\n",
    "datetima ustunimizni 1-malumotini chiqarib olaylik:"
   ]
  },
  {
   "cell_type": "code",
   "execution_count": 25,
   "id": "4bb59596",
   "metadata": {
    "execution": {
     "iopub.execute_input": "2022-11-01T19:51:00.974262Z",
     "iopub.status.busy": "2022-11-01T19:51:00.973851Z",
     "iopub.status.idle": "2022-11-01T19:51:00.981054Z",
     "shell.execute_reply": "2022-11-01T19:51:00.980070Z"
    },
    "papermill": {
     "duration": 0.024884,
     "end_time": "2022-11-01T19:51:00.983195",
     "exception": false,
     "start_time": "2022-11-01T19:51:00.958311",
     "status": "completed"
    },
    "tags": []
   },
   "outputs": [
    {
     "data": {
      "text/plain": [
       "Timestamp('1965-01-02 00:00:00')"
      ]
     },
     "execution_count": 25,
     "metadata": {},
     "output_type": "execute_result"
    }
   ],
   "source": [
    "df.at[0, 'datetime']"
   ]
  },
  {
   "cell_type": "code",
   "execution_count": 26,
   "id": "bd488755",
   "metadata": {
    "execution": {
     "iopub.execute_input": "2022-11-01T19:51:01.014735Z",
     "iopub.status.busy": "2022-11-01T19:51:01.014347Z",
     "iopub.status.idle": "2022-11-01T19:51:01.021288Z",
     "shell.execute_reply": "2022-11-01T19:51:01.020211Z"
    },
    "papermill": {
     "duration": 0.026031,
     "end_time": "2022-11-01T19:51:01.023932",
     "exception": false,
     "start_time": "2022-11-01T19:51:00.997901",
     "status": "completed"
    },
    "tags": []
   },
   "outputs": [
    {
     "data": {
      "text/plain": [
       "1"
      ]
     },
     "execution_count": 26,
     "metadata": {},
     "output_type": "execute_result"
    }
   ],
   "source": [
    "# bundan oyni ajratib olishimiz mumkin\n",
    "\n",
    "df.at[0, 'datetime'].month"
   ]
  },
  {
   "cell_type": "code",
   "execution_count": 27,
   "id": "3b445b68",
   "metadata": {
    "execution": {
     "iopub.execute_input": "2022-11-01T19:51:01.056617Z",
     "iopub.status.busy": "2022-11-01T19:51:01.056216Z",
     "iopub.status.idle": "2022-11-01T19:51:01.063231Z",
     "shell.execute_reply": "2022-11-01T19:51:01.062192Z"
    },
    "papermill": {
     "duration": 0.025925,
     "end_time": "2022-11-01T19:51:01.065327",
     "exception": false,
     "start_time": "2022-11-01T19:51:01.039402",
     "status": "completed"
    },
    "tags": []
   },
   "outputs": [
    {
     "data": {
      "text/plain": [
       "5"
      ]
     },
     "execution_count": 27,
     "metadata": {},
     "output_type": "execute_result"
    }
   ],
   "source": [
    "# haftani qaysi kuni, 5-indeks Shanba kuni, 0 dan boshlanadi\n",
    "\n",
    "df.at[0, 'datetime'].weekday()"
   ]
  },
  {
   "cell_type": "code",
   "execution_count": 28,
   "id": "7793d169",
   "metadata": {
    "execution": {
     "iopub.execute_input": "2022-11-01T19:51:01.097146Z",
     "iopub.status.busy": "2022-11-01T19:51:01.096743Z",
     "iopub.status.idle": "2022-11-01T19:51:01.104455Z",
     "shell.execute_reply": "2022-11-01T19:51:01.103410Z"
    },
    "papermill": {
     "duration": 0.026307,
     "end_time": "2022-11-01T19:51:01.106795",
     "exception": false,
     "start_time": "2022-11-01T19:51:01.080488",
     "status": "completed"
    },
    "tags": []
   },
   "outputs": [],
   "source": [
    "# oyni alohida ajratib olishimiz mumkin\n",
    "\n",
    "df['month'] = df['datetime'].dt.month\n",
    "\n",
    "# bu degani df jadvalidan datetime ustuni olib undan faqat oylarni ajratib ol degani\n",
    "# va ajratib olingan oylarni df.month yangi ustuniga yuklab chiq degani"
   ]
  },
  {
   "cell_type": "code",
   "execution_count": 29,
   "id": "5b937523",
   "metadata": {
    "execution": {
     "iopub.execute_input": "2022-11-01T19:51:01.139401Z",
     "iopub.status.busy": "2022-11-01T19:51:01.138876Z",
     "iopub.status.idle": "2022-11-01T19:51:01.147681Z",
     "shell.execute_reply": "2022-11-01T19:51:01.146632Z"
    },
    "papermill": {
     "duration": 0.028244,
     "end_time": "2022-11-01T19:51:01.150170",
     "exception": false,
     "start_time": "2022-11-01T19:51:01.121926",
     "status": "completed"
    },
    "tags": []
   },
   "outputs": [
    {
     "data": {
      "text/plain": [
       "3     2114\n",
       "8     2014\n",
       "12    2001\n",
       "11    1987\n",
       "9     1985\n",
       "4     1971\n",
       "5     1964\n",
       "10    1952\n",
       "1     1891\n",
       "7     1880\n",
       "2     1829\n",
       "6     1824\n",
       "Name: month, dtype: int64"
      ]
     },
     "execution_count": 29,
     "metadata": {},
     "output_type": "execute_result"
    }
   ],
   "source": [
    "df.month.value_counts()"
   ]
  },
  {
   "cell_type": "markdown",
   "id": "9e585537",
   "metadata": {
    "papermill": {
     "duration": 0.015671,
     "end_time": "2022-11-01T19:51:01.180953",
     "exception": false,
     "start_time": "2022-11-01T19:51:01.165282",
     "status": "completed"
    },
    "tags": []
   },
   "source": [
    "Demak eng kop zilzilar (2114ta) 3-oy yani Mart oyida bolgan ekan"
   ]
  },
  {
   "cell_type": "code",
   "execution_count": 30,
   "id": "b06716dc",
   "metadata": {
    "execution": {
     "iopub.execute_input": "2022-11-01T19:51:01.212100Z",
     "iopub.status.busy": "2022-11-01T19:51:01.211722Z",
     "iopub.status.idle": "2022-11-01T19:51:01.219109Z",
     "shell.execute_reply": "2022-11-01T19:51:01.218332Z"
    },
    "papermill": {
     "duration": 0.025446,
     "end_time": "2022-11-01T19:51:01.221223",
     "exception": false,
     "start_time": "2022-11-01T19:51:01.195777",
     "status": "completed"
    },
    "tags": []
   },
   "outputs": [],
   "source": [
    "# hafta kunlarini alohida ajratib olishimiz mumkin\n",
    "\n",
    "df['weekday'] = df['datetime'].dt.weekday"
   ]
  },
  {
   "cell_type": "code",
   "execution_count": 31,
   "id": "873e9bd9",
   "metadata": {
    "execution": {
     "iopub.execute_input": "2022-11-01T19:51:01.253024Z",
     "iopub.status.busy": "2022-11-01T19:51:01.252410Z",
     "iopub.status.idle": "2022-11-01T19:51:01.260972Z",
     "shell.execute_reply": "2022-11-01T19:51:01.260029Z"
    },
    "papermill": {
     "duration": 0.02691,
     "end_time": "2022-11-01T19:51:01.263085",
     "exception": false,
     "start_time": "2022-11-01T19:51:01.236175",
     "status": "completed"
    },
    "tags": []
   },
   "outputs": [
    {
     "data": {
      "text/plain": [
       "5    3433\n",
       "2    3431\n",
       "4    3362\n",
       "0    3349\n",
       "3    3306\n",
       "6    3287\n",
       "1    3244\n",
       "Name: weekday, dtype: int64"
      ]
     },
     "execution_count": 31,
     "metadata": {},
     "output_type": "execute_result"
    }
   ],
   "source": [
    "df.weekday.value_counts()"
   ]
  },
  {
   "cell_type": "markdown",
   "id": "77663e6b",
   "metadata": {
    "papermill": {
     "duration": 0.015152,
     "end_time": "2022-11-01T19:51:01.293607",
     "exception": false,
     "start_time": "2022-11-01T19:51:01.278455",
     "status": "completed"
    },
    "tags": []
   },
   "source": [
    "Demak eng kop zilzilar (3433ta) 5-weekday yani Shanba kunida bolgan ekan"
   ]
  },
  {
   "cell_type": "markdown",
   "id": "9cce94b3",
   "metadata": {
    "papermill": {
     "duration": 0.014934,
     "end_time": "2022-11-01T19:51:01.323839",
     "exception": false,
     "start_time": "2022-11-01T19:51:01.308905",
     "status": "completed"
    },
    "tags": []
   },
   "source": [
    "Time degan ustunni ham datetimega otkazib olishimiz mumkin"
   ]
  },
  {
   "cell_type": "code",
   "execution_count": 32,
   "id": "77744eda",
   "metadata": {
    "execution": {
     "iopub.execute_input": "2022-11-01T19:51:01.356224Z",
     "iopub.status.busy": "2022-11-01T19:51:01.355816Z",
     "iopub.status.idle": "2022-11-01T19:51:01.361117Z",
     "shell.execute_reply": "2022-11-01T19:51:01.359754Z"
    },
    "papermill": {
     "duration": 0.02419,
     "end_time": "2022-11-01T19:51:01.363470",
     "exception": false,
     "start_time": "2022-11-01T19:51:01.339280",
     "status": "completed"
    },
    "tags": []
   },
   "outputs": [],
   "source": [
    "# df['time'] = pd.to_datetime(df.Time, format='%H:%M:%S')\n",
    "# ishga tushursak xato berdi\n",
    "# ValueError: time data '2011-03-13T02:23:34.520Z' does not match format '%H:%M:%S' (match)\n",
    "\n",
    "# Endi bunga ham yuqoridagi kabi ishlov bersak boladi"
   ]
  },
  {
   "cell_type": "code",
   "execution_count": 33,
   "id": "7156e27e",
   "metadata": {
    "execution": {
     "iopub.execute_input": "2022-11-01T19:51:01.395807Z",
     "iopub.status.busy": "2022-11-01T19:51:01.395404Z",
     "iopub.status.idle": "2022-11-01T19:51:01.413373Z",
     "shell.execute_reply": "2022-11-01T19:51:01.412287Z"
    },
    "papermill": {
     "duration": 0.036686,
     "end_time": "2022-11-01T19:51:01.415464",
     "exception": false,
     "start_time": "2022-11-01T19:51:01.378778",
     "status": "completed"
    },
    "tags": []
   },
   "outputs": [
    {
     "data": {
      "text/plain": [
       "8     23411\n",
       "24        1\n",
       "Name: Time, dtype: int64"
      ]
     },
     "execution_count": 33,
     "metadata": {},
     "output_type": "execute_result"
    }
   ],
   "source": [
    "df.Time.str.len().value_counts()"
   ]
  },
  {
   "cell_type": "code",
   "execution_count": 34,
   "id": "02874d5d",
   "metadata": {
    "execution": {
     "iopub.execute_input": "2022-11-01T19:51:01.448502Z",
     "iopub.status.busy": "2022-11-01T19:51:01.447769Z",
     "iopub.status.idle": "2022-11-01T19:51:01.480755Z",
     "shell.execute_reply": "2022-11-01T19:51:01.479705Z"
    },
    "papermill": {
     "duration": 0.051749,
     "end_time": "2022-11-01T19:51:01.482900",
     "exception": false,
     "start_time": "2022-11-01T19:51:01.431151",
     "status": "completed"
    },
    "tags": []
   },
   "outputs": [
    {
     "data": {
      "text/html": [
       "<div>\n",
       "<style scoped>\n",
       "    .dataframe tbody tr th:only-of-type {\n",
       "        vertical-align: middle;\n",
       "    }\n",
       "\n",
       "    .dataframe tbody tr th {\n",
       "        vertical-align: top;\n",
       "    }\n",
       "\n",
       "    .dataframe thead th {\n",
       "        text-align: right;\n",
       "    }\n",
       "</style>\n",
       "<table border=\"1\" class=\"dataframe\">\n",
       "  <thead>\n",
       "    <tr style=\"text-align: right;\">\n",
       "      <th></th>\n",
       "      <th>Date</th>\n",
       "      <th>Time</th>\n",
       "      <th>Latitude</th>\n",
       "      <th>Longitude</th>\n",
       "      <th>Type</th>\n",
       "      <th>Depth</th>\n",
       "      <th>Depth Error</th>\n",
       "      <th>Depth Seismic Stations</th>\n",
       "      <th>Magnitude</th>\n",
       "      <th>Magnitude Type</th>\n",
       "      <th>...</th>\n",
       "      <th>Horizontal Error</th>\n",
       "      <th>Root Mean Square</th>\n",
       "      <th>ID</th>\n",
       "      <th>Source</th>\n",
       "      <th>Location Source</th>\n",
       "      <th>Magnitude Source</th>\n",
       "      <th>Status</th>\n",
       "      <th>datetime</th>\n",
       "      <th>month</th>\n",
       "      <th>weekday</th>\n",
       "    </tr>\n",
       "  </thead>\n",
       "  <tbody>\n",
       "    <tr>\n",
       "      <th>20650</th>\n",
       "      <td>03/13/2011</td>\n",
       "      <td>2011-03-13T02:23:34.520Z</td>\n",
       "      <td>36.344</td>\n",
       "      <td>142.344</td>\n",
       "      <td>Earthquake</td>\n",
       "      <td>10.1</td>\n",
       "      <td>13.9</td>\n",
       "      <td>289.0</td>\n",
       "      <td>5.8</td>\n",
       "      <td>MWC</td>\n",
       "      <td>...</td>\n",
       "      <td>NaN</td>\n",
       "      <td>1.06</td>\n",
       "      <td>USP000HWQP</td>\n",
       "      <td>US</td>\n",
       "      <td>US</td>\n",
       "      <td>GCMT</td>\n",
       "      <td>Reviewed</td>\n",
       "      <td>2011-03-13</td>\n",
       "      <td>3</td>\n",
       "      <td>6</td>\n",
       "    </tr>\n",
       "  </tbody>\n",
       "</table>\n",
       "<p>1 rows × 24 columns</p>\n",
       "</div>"
      ],
      "text/plain": [
       "             Date                      Time  Latitude  Longitude        Type  \\\n",
       "20650  03/13/2011  2011-03-13T02:23:34.520Z    36.344    142.344  Earthquake   \n",
       "\n",
       "       Depth  Depth Error  Depth Seismic Stations  Magnitude Magnitude Type  \\\n",
       "20650   10.1         13.9                   289.0        5.8            MWC   \n",
       "\n",
       "       ...  Horizontal Error  Root Mean Square          ID  Source  \\\n",
       "20650  ...               NaN              1.06  USP000HWQP      US   \n",
       "\n",
       "       Location Source  Magnitude Source    Status   datetime month weekday  \n",
       "20650               US              GCMT  Reviewed 2011-03-13     3       6  \n",
       "\n",
       "[1 rows x 24 columns]"
      ]
     },
     "execution_count": 34,
     "metadata": {},
     "output_type": "execute_result"
    }
   ],
   "source": [
    "df[df.Time.str.len() == 24]"
   ]
  },
  {
   "cell_type": "code",
   "execution_count": 35,
   "id": "5359d0f5",
   "metadata": {
    "execution": {
     "iopub.execute_input": "2022-11-01T19:51:01.516255Z",
     "iopub.status.busy": "2022-11-01T19:51:01.515332Z",
     "iopub.status.idle": "2022-11-01T19:51:01.523906Z",
     "shell.execute_reply": "2022-11-01T19:51:01.522926Z"
    },
    "papermill": {
     "duration": 0.027547,
     "end_time": "2022-11-01T19:51:01.526059",
     "exception": false,
     "start_time": "2022-11-01T19:51:01.498512",
     "status": "completed"
    },
    "tags": []
   },
   "outputs": [
    {
     "data": {
      "text/plain": [
       "'02:23:34'"
      ]
     },
     "execution_count": 35,
     "metadata": {},
     "output_type": "execute_result"
    }
   ],
   "source": [
    "df.loc[20650, 'Time'] = '02:23:34'\n",
    "df.loc[20650, 'Time']"
   ]
  },
  {
   "cell_type": "code",
   "execution_count": 36,
   "id": "59cc8df9",
   "metadata": {
    "execution": {
     "iopub.execute_input": "2022-11-01T19:51:01.560460Z",
     "iopub.status.busy": "2022-11-01T19:51:01.559696Z",
     "iopub.status.idle": "2022-11-01T19:51:01.578151Z",
     "shell.execute_reply": "2022-11-01T19:51:01.577095Z"
    },
    "papermill": {
     "duration": 0.037697,
     "end_time": "2022-11-01T19:51:01.580242",
     "exception": false,
     "start_time": "2022-11-01T19:51:01.542545",
     "status": "completed"
    },
    "tags": []
   },
   "outputs": [
    {
     "data": {
      "text/plain": [
       "8    23412\n",
       "Name: Time, dtype: int64"
      ]
     },
     "execution_count": 36,
     "metadata": {},
     "output_type": "execute_result"
    }
   ],
   "source": [
    "df.Time.str.len().value_counts()"
   ]
  },
  {
   "cell_type": "code",
   "execution_count": 37,
   "id": "5f59638a",
   "metadata": {
    "execution": {
     "iopub.execute_input": "2022-11-01T19:51:01.613763Z",
     "iopub.status.busy": "2022-11-01T19:51:01.613369Z",
     "iopub.status.idle": "2022-11-01T19:51:01.671229Z",
     "shell.execute_reply": "2022-11-01T19:51:01.670134Z"
    },
    "papermill": {
     "duration": 0.077268,
     "end_time": "2022-11-01T19:51:01.673417",
     "exception": false,
     "start_time": "2022-11-01T19:51:01.596149",
     "status": "completed"
    },
    "tags": []
   },
   "outputs": [],
   "source": [
    "# xatolikni tuzatdik endi formatga otkazsak boladi\n",
    "\n",
    "df['time'] = pd.to_datetime(df.Time, format='%H:%M:%S')"
   ]
  },
  {
   "cell_type": "code",
   "execution_count": 38,
   "id": "b98f29c3",
   "metadata": {
    "execution": {
     "iopub.execute_input": "2022-11-01T19:51:01.706841Z",
     "iopub.status.busy": "2022-11-01T19:51:01.706469Z",
     "iopub.status.idle": "2022-11-01T19:51:01.762913Z",
     "shell.execute_reply": "2022-11-01T19:51:01.762146Z"
    },
    "papermill": {
     "duration": 0.075542,
     "end_time": "2022-11-01T19:51:01.764858",
     "exception": false,
     "start_time": "2022-11-01T19:51:01.689316",
     "status": "completed"
    },
    "tags": []
   },
   "outputs": [
    {
     "data": {
      "text/html": [
       "<div>\n",
       "<style scoped>\n",
       "    .dataframe tbody tr th:only-of-type {\n",
       "        vertical-align: middle;\n",
       "    }\n",
       "\n",
       "    .dataframe tbody tr th {\n",
       "        vertical-align: top;\n",
       "    }\n",
       "\n",
       "    .dataframe thead th {\n",
       "        text-align: right;\n",
       "    }\n",
       "</style>\n",
       "<table border=\"1\" class=\"dataframe\">\n",
       "  <thead>\n",
       "    <tr style=\"text-align: right;\">\n",
       "      <th></th>\n",
       "      <th>Date</th>\n",
       "      <th>Time</th>\n",
       "      <th>Latitude</th>\n",
       "      <th>Longitude</th>\n",
       "      <th>Type</th>\n",
       "      <th>Depth</th>\n",
       "      <th>Depth Error</th>\n",
       "      <th>Depth Seismic Stations</th>\n",
       "      <th>Magnitude</th>\n",
       "      <th>Magnitude Type</th>\n",
       "      <th>...</th>\n",
       "      <th>Root Mean Square</th>\n",
       "      <th>ID</th>\n",
       "      <th>Source</th>\n",
       "      <th>Location Source</th>\n",
       "      <th>Magnitude Source</th>\n",
       "      <th>Status</th>\n",
       "      <th>datetime</th>\n",
       "      <th>month</th>\n",
       "      <th>weekday</th>\n",
       "      <th>time</th>\n",
       "    </tr>\n",
       "  </thead>\n",
       "  <tbody>\n",
       "    <tr>\n",
       "      <th>0</th>\n",
       "      <td>01/02/1965</td>\n",
       "      <td>13:44:18</td>\n",
       "      <td>19.2460</td>\n",
       "      <td>145.6160</td>\n",
       "      <td>Earthquake</td>\n",
       "      <td>131.60</td>\n",
       "      <td>NaN</td>\n",
       "      <td>NaN</td>\n",
       "      <td>6.0</td>\n",
       "      <td>MW</td>\n",
       "      <td>...</td>\n",
       "      <td>NaN</td>\n",
       "      <td>ISCGEM860706</td>\n",
       "      <td>ISCGEM</td>\n",
       "      <td>ISCGEM</td>\n",
       "      <td>ISCGEM</td>\n",
       "      <td>Automatic</td>\n",
       "      <td>1965-01-02</td>\n",
       "      <td>1</td>\n",
       "      <td>5</td>\n",
       "      <td>1900-01-01 13:44:18</td>\n",
       "    </tr>\n",
       "    <tr>\n",
       "      <th>1</th>\n",
       "      <td>01/04/1965</td>\n",
       "      <td>11:29:49</td>\n",
       "      <td>1.8630</td>\n",
       "      <td>127.3520</td>\n",
       "      <td>Earthquake</td>\n",
       "      <td>80.00</td>\n",
       "      <td>NaN</td>\n",
       "      <td>NaN</td>\n",
       "      <td>5.8</td>\n",
       "      <td>MW</td>\n",
       "      <td>...</td>\n",
       "      <td>NaN</td>\n",
       "      <td>ISCGEM860737</td>\n",
       "      <td>ISCGEM</td>\n",
       "      <td>ISCGEM</td>\n",
       "      <td>ISCGEM</td>\n",
       "      <td>Automatic</td>\n",
       "      <td>1965-01-04</td>\n",
       "      <td>1</td>\n",
       "      <td>0</td>\n",
       "      <td>1900-01-01 11:29:49</td>\n",
       "    </tr>\n",
       "    <tr>\n",
       "      <th>2</th>\n",
       "      <td>01/05/1965</td>\n",
       "      <td>18:05:58</td>\n",
       "      <td>-20.5790</td>\n",
       "      <td>-173.9720</td>\n",
       "      <td>Earthquake</td>\n",
       "      <td>20.00</td>\n",
       "      <td>NaN</td>\n",
       "      <td>NaN</td>\n",
       "      <td>6.2</td>\n",
       "      <td>MW</td>\n",
       "      <td>...</td>\n",
       "      <td>NaN</td>\n",
       "      <td>ISCGEM860762</td>\n",
       "      <td>ISCGEM</td>\n",
       "      <td>ISCGEM</td>\n",
       "      <td>ISCGEM</td>\n",
       "      <td>Automatic</td>\n",
       "      <td>1965-01-05</td>\n",
       "      <td>1</td>\n",
       "      <td>1</td>\n",
       "      <td>1900-01-01 18:05:58</td>\n",
       "    </tr>\n",
       "    <tr>\n",
       "      <th>3</th>\n",
       "      <td>01/08/1965</td>\n",
       "      <td>18:49:43</td>\n",
       "      <td>-59.0760</td>\n",
       "      <td>-23.5570</td>\n",
       "      <td>Earthquake</td>\n",
       "      <td>15.00</td>\n",
       "      <td>NaN</td>\n",
       "      <td>NaN</td>\n",
       "      <td>5.8</td>\n",
       "      <td>MW</td>\n",
       "      <td>...</td>\n",
       "      <td>NaN</td>\n",
       "      <td>ISCGEM860856</td>\n",
       "      <td>ISCGEM</td>\n",
       "      <td>ISCGEM</td>\n",
       "      <td>ISCGEM</td>\n",
       "      <td>Automatic</td>\n",
       "      <td>1965-01-08</td>\n",
       "      <td>1</td>\n",
       "      <td>4</td>\n",
       "      <td>1900-01-01 18:49:43</td>\n",
       "    </tr>\n",
       "    <tr>\n",
       "      <th>4</th>\n",
       "      <td>01/09/1965</td>\n",
       "      <td>13:32:50</td>\n",
       "      <td>11.9380</td>\n",
       "      <td>126.4270</td>\n",
       "      <td>Earthquake</td>\n",
       "      <td>15.00</td>\n",
       "      <td>NaN</td>\n",
       "      <td>NaN</td>\n",
       "      <td>5.8</td>\n",
       "      <td>MW</td>\n",
       "      <td>...</td>\n",
       "      <td>NaN</td>\n",
       "      <td>ISCGEM860890</td>\n",
       "      <td>ISCGEM</td>\n",
       "      <td>ISCGEM</td>\n",
       "      <td>ISCGEM</td>\n",
       "      <td>Automatic</td>\n",
       "      <td>1965-01-09</td>\n",
       "      <td>1</td>\n",
       "      <td>5</td>\n",
       "      <td>1900-01-01 13:32:50</td>\n",
       "    </tr>\n",
       "    <tr>\n",
       "      <th>...</th>\n",
       "      <td>...</td>\n",
       "      <td>...</td>\n",
       "      <td>...</td>\n",
       "      <td>...</td>\n",
       "      <td>...</td>\n",
       "      <td>...</td>\n",
       "      <td>...</td>\n",
       "      <td>...</td>\n",
       "      <td>...</td>\n",
       "      <td>...</td>\n",
       "      <td>...</td>\n",
       "      <td>...</td>\n",
       "      <td>...</td>\n",
       "      <td>...</td>\n",
       "      <td>...</td>\n",
       "      <td>...</td>\n",
       "      <td>...</td>\n",
       "      <td>...</td>\n",
       "      <td>...</td>\n",
       "      <td>...</td>\n",
       "      <td>...</td>\n",
       "    </tr>\n",
       "    <tr>\n",
       "      <th>23407</th>\n",
       "      <td>12/28/2016</td>\n",
       "      <td>08:22:12</td>\n",
       "      <td>38.3917</td>\n",
       "      <td>-118.8941</td>\n",
       "      <td>Earthquake</td>\n",
       "      <td>12.30</td>\n",
       "      <td>1.2</td>\n",
       "      <td>40.0</td>\n",
       "      <td>5.6</td>\n",
       "      <td>ML</td>\n",
       "      <td>...</td>\n",
       "      <td>0.1898</td>\n",
       "      <td>NN00570710</td>\n",
       "      <td>NN</td>\n",
       "      <td>NN</td>\n",
       "      <td>NN</td>\n",
       "      <td>Reviewed</td>\n",
       "      <td>2016-12-28</td>\n",
       "      <td>12</td>\n",
       "      <td>2</td>\n",
       "      <td>1900-01-01 08:22:12</td>\n",
       "    </tr>\n",
       "    <tr>\n",
       "      <th>23408</th>\n",
       "      <td>12/28/2016</td>\n",
       "      <td>09:13:47</td>\n",
       "      <td>38.3777</td>\n",
       "      <td>-118.8957</td>\n",
       "      <td>Earthquake</td>\n",
       "      <td>8.80</td>\n",
       "      <td>2.0</td>\n",
       "      <td>33.0</td>\n",
       "      <td>5.5</td>\n",
       "      <td>ML</td>\n",
       "      <td>...</td>\n",
       "      <td>0.2187</td>\n",
       "      <td>NN00570744</td>\n",
       "      <td>NN</td>\n",
       "      <td>NN</td>\n",
       "      <td>NN</td>\n",
       "      <td>Reviewed</td>\n",
       "      <td>2016-12-28</td>\n",
       "      <td>12</td>\n",
       "      <td>2</td>\n",
       "      <td>1900-01-01 09:13:47</td>\n",
       "    </tr>\n",
       "    <tr>\n",
       "      <th>23409</th>\n",
       "      <td>12/28/2016</td>\n",
       "      <td>12:38:51</td>\n",
       "      <td>36.9179</td>\n",
       "      <td>140.4262</td>\n",
       "      <td>Earthquake</td>\n",
       "      <td>10.00</td>\n",
       "      <td>1.8</td>\n",
       "      <td>NaN</td>\n",
       "      <td>5.9</td>\n",
       "      <td>MWW</td>\n",
       "      <td>...</td>\n",
       "      <td>1.5200</td>\n",
       "      <td>US10007NAF</td>\n",
       "      <td>US</td>\n",
       "      <td>US</td>\n",
       "      <td>US</td>\n",
       "      <td>Reviewed</td>\n",
       "      <td>2016-12-28</td>\n",
       "      <td>12</td>\n",
       "      <td>2</td>\n",
       "      <td>1900-01-01 12:38:51</td>\n",
       "    </tr>\n",
       "    <tr>\n",
       "      <th>23410</th>\n",
       "      <td>12/29/2016</td>\n",
       "      <td>22:30:19</td>\n",
       "      <td>-9.0283</td>\n",
       "      <td>118.6639</td>\n",
       "      <td>Earthquake</td>\n",
       "      <td>79.00</td>\n",
       "      <td>1.8</td>\n",
       "      <td>NaN</td>\n",
       "      <td>6.3</td>\n",
       "      <td>MWW</td>\n",
       "      <td>...</td>\n",
       "      <td>1.4300</td>\n",
       "      <td>US10007NL0</td>\n",
       "      <td>US</td>\n",
       "      <td>US</td>\n",
       "      <td>US</td>\n",
       "      <td>Reviewed</td>\n",
       "      <td>2016-12-29</td>\n",
       "      <td>12</td>\n",
       "      <td>3</td>\n",
       "      <td>1900-01-01 22:30:19</td>\n",
       "    </tr>\n",
       "    <tr>\n",
       "      <th>23411</th>\n",
       "      <td>12/30/2016</td>\n",
       "      <td>20:08:28</td>\n",
       "      <td>37.3973</td>\n",
       "      <td>141.4103</td>\n",
       "      <td>Earthquake</td>\n",
       "      <td>11.94</td>\n",
       "      <td>2.2</td>\n",
       "      <td>NaN</td>\n",
       "      <td>5.5</td>\n",
       "      <td>MB</td>\n",
       "      <td>...</td>\n",
       "      <td>0.9100</td>\n",
       "      <td>US10007NTD</td>\n",
       "      <td>US</td>\n",
       "      <td>US</td>\n",
       "      <td>US</td>\n",
       "      <td>Reviewed</td>\n",
       "      <td>2016-12-30</td>\n",
       "      <td>12</td>\n",
       "      <td>4</td>\n",
       "      <td>1900-01-01 20:08:28</td>\n",
       "    </tr>\n",
       "  </tbody>\n",
       "</table>\n",
       "<p>23412 rows × 25 columns</p>\n",
       "</div>"
      ],
      "text/plain": [
       "             Date      Time  Latitude  Longitude        Type   Depth  \\\n",
       "0      01/02/1965  13:44:18   19.2460   145.6160  Earthquake  131.60   \n",
       "1      01/04/1965  11:29:49    1.8630   127.3520  Earthquake   80.00   \n",
       "2      01/05/1965  18:05:58  -20.5790  -173.9720  Earthquake   20.00   \n",
       "3      01/08/1965  18:49:43  -59.0760   -23.5570  Earthquake   15.00   \n",
       "4      01/09/1965  13:32:50   11.9380   126.4270  Earthquake   15.00   \n",
       "...           ...       ...       ...        ...         ...     ...   \n",
       "23407  12/28/2016  08:22:12   38.3917  -118.8941  Earthquake   12.30   \n",
       "23408  12/28/2016  09:13:47   38.3777  -118.8957  Earthquake    8.80   \n",
       "23409  12/28/2016  12:38:51   36.9179   140.4262  Earthquake   10.00   \n",
       "23410  12/29/2016  22:30:19   -9.0283   118.6639  Earthquake   79.00   \n",
       "23411  12/30/2016  20:08:28   37.3973   141.4103  Earthquake   11.94   \n",
       "\n",
       "       Depth Error  Depth Seismic Stations  Magnitude Magnitude Type  ...  \\\n",
       "0              NaN                     NaN        6.0             MW  ...   \n",
       "1              NaN                     NaN        5.8             MW  ...   \n",
       "2              NaN                     NaN        6.2             MW  ...   \n",
       "3              NaN                     NaN        5.8             MW  ...   \n",
       "4              NaN                     NaN        5.8             MW  ...   \n",
       "...            ...                     ...        ...            ...  ...   \n",
       "23407          1.2                    40.0        5.6             ML  ...   \n",
       "23408          2.0                    33.0        5.5             ML  ...   \n",
       "23409          1.8                     NaN        5.9            MWW  ...   \n",
       "23410          1.8                     NaN        6.3            MWW  ...   \n",
       "23411          2.2                     NaN        5.5             MB  ...   \n",
       "\n",
       "       Root Mean Square            ID  Source  Location Source  \\\n",
       "0                   NaN  ISCGEM860706  ISCGEM           ISCGEM   \n",
       "1                   NaN  ISCGEM860737  ISCGEM           ISCGEM   \n",
       "2                   NaN  ISCGEM860762  ISCGEM           ISCGEM   \n",
       "3                   NaN  ISCGEM860856  ISCGEM           ISCGEM   \n",
       "4                   NaN  ISCGEM860890  ISCGEM           ISCGEM   \n",
       "...                 ...           ...     ...              ...   \n",
       "23407            0.1898    NN00570710      NN               NN   \n",
       "23408            0.2187    NN00570744      NN               NN   \n",
       "23409            1.5200    US10007NAF      US               US   \n",
       "23410            1.4300    US10007NL0      US               US   \n",
       "23411            0.9100    US10007NTD      US               US   \n",
       "\n",
       "       Magnitude Source     Status   datetime month weekday  \\\n",
       "0                ISCGEM  Automatic 1965-01-02     1       5   \n",
       "1                ISCGEM  Automatic 1965-01-04     1       0   \n",
       "2                ISCGEM  Automatic 1965-01-05     1       1   \n",
       "3                ISCGEM  Automatic 1965-01-08     1       4   \n",
       "4                ISCGEM  Automatic 1965-01-09     1       5   \n",
       "...                 ...        ...        ...   ...     ...   \n",
       "23407                NN   Reviewed 2016-12-28    12       2   \n",
       "23408                NN   Reviewed 2016-12-28    12       2   \n",
       "23409                US   Reviewed 2016-12-28    12       2   \n",
       "23410                US   Reviewed 2016-12-29    12       3   \n",
       "23411                US   Reviewed 2016-12-30    12       4   \n",
       "\n",
       "                     time  \n",
       "0     1900-01-01 13:44:18  \n",
       "1     1900-01-01 11:29:49  \n",
       "2     1900-01-01 18:05:58  \n",
       "3     1900-01-01 18:49:43  \n",
       "4     1900-01-01 13:32:50  \n",
       "...                   ...  \n",
       "23407 1900-01-01 08:22:12  \n",
       "23408 1900-01-01 09:13:47  \n",
       "23409 1900-01-01 12:38:51  \n",
       "23410 1900-01-01 22:30:19  \n",
       "23411 1900-01-01 20:08:28  \n",
       "\n",
       "[23412 rows x 25 columns]"
      ]
     },
     "execution_count": 38,
     "metadata": {},
     "output_type": "execute_result"
    }
   ],
   "source": [
    "df"
   ]
  },
  {
   "cell_type": "code",
   "execution_count": 39,
   "id": "46093fc5",
   "metadata": {
    "execution": {
     "iopub.execute_input": "2022-11-01T19:51:01.798996Z",
     "iopub.status.busy": "2022-11-01T19:51:01.798634Z",
     "iopub.status.idle": "2022-11-01T19:51:01.805266Z",
     "shell.execute_reply": "2022-11-01T19:51:01.804296Z"
    },
    "papermill": {
     "duration": 0.026183,
     "end_time": "2022-11-01T19:51:01.807390",
     "exception": false,
     "start_time": "2022-11-01T19:51:01.781207",
     "status": "completed"
    },
    "tags": []
   },
   "outputs": [
    {
     "data": {
      "text/plain": [
       "Timestamp('1900-01-01 13:44:18')"
      ]
     },
     "execution_count": 39,
     "metadata": {},
     "output_type": "execute_result"
    }
   ],
   "source": [
    " df.loc[0, 'time']"
   ]
  },
  {
   "cell_type": "code",
   "execution_count": 40,
   "id": "94e6908b",
   "metadata": {
    "execution": {
     "iopub.execute_input": "2022-11-01T19:51:01.841534Z",
     "iopub.status.busy": "2022-11-01T19:51:01.841145Z",
     "iopub.status.idle": "2022-11-01T19:51:01.847749Z",
     "shell.execute_reply": "2022-11-01T19:51:01.846846Z"
    },
    "papermill": {
     "duration": 0.025824,
     "end_time": "2022-11-01T19:51:01.849727",
     "exception": false,
     "start_time": "2022-11-01T19:51:01.823903",
     "status": "completed"
    },
    "tags": []
   },
   "outputs": [
    {
     "data": {
      "text/plain": [
       "datetime.time(13, 44, 18)"
      ]
     },
     "execution_count": 40,
     "metadata": {},
     "output_type": "execute_result"
    }
   ],
   "source": [
    " (df.loc[0, 'time']).time()"
   ]
  },
  {
   "cell_type": "markdown",
   "id": "339e91f8",
   "metadata": {
    "papermill": {
     "duration": 0.016365,
     "end_time": "2022-11-01T19:51:01.882661",
     "exception": false,
     "start_time": "2022-11-01T19:51:01.866296",
     "status": "completed"
    },
    "tags": []
   },
   "source": [
    "Yonidagi yilini olib tashlash qoldi!"
   ]
  }
 ],
 "metadata": {
  "kernelspec": {
   "display_name": "Python 3",
   "language": "python",
   "name": "python3"
  },
  "language_info": {
   "codemirror_mode": {
    "name": "ipython",
    "version": 3
   },
   "file_extension": ".py",
   "mimetype": "text/x-python",
   "name": "python",
   "nbconvert_exporter": "python",
   "pygments_lexer": "ipython3",
   "version": "3.7.12"
  },
  "papermill": {
   "default_parameters": {},
   "duration": 11.535993,
   "end_time": "2022-11-01T19:51:02.520160",
   "environment_variables": {},
   "exception": null,
   "input_path": "__notebook__.ipynb",
   "output_path": "__notebook__.ipynb",
   "parameters": {},
   "start_time": "2022-11-01T19:50:50.984167",
   "version": "2.3.4"
  }
 },
 "nbformat": 4,
 "nbformat_minor": 5
}
