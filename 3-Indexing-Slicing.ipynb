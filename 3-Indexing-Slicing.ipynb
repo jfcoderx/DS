{
  "nbformat": 4,
  "nbformat_minor": 0,
  "metadata": {
    "colab": {
      "provenance": [],
      "authorship_tag": "ABX9TyPnJf+dWlTz4ufe1RPUIEHv",
      "include_colab_link": true
    },
    "kernelspec": {
      "name": "python3",
      "display_name": "Python 3"
    },
    "language_info": {
      "name": "python"
    }
  },
  "cells": [
    {
      "cell_type": "markdown",
      "metadata": {
        "id": "view-in-github",
        "colab_type": "text"
      },
      "source": [
        "<a href=\"https://colab.research.google.com/github/jfcoderx/Data-Sciense/blob/main/3-Indexing-Slicing.ipynb\" target=\"_parent\"><img src=\"https://colab.research.google.com/assets/colab-badge.svg\" alt=\"Open In Colab\"/></a>"
      ]
    },
    {
      "cell_type": "markdown",
      "source": [
        "## Indeks va Kesib olish asoslari\n",
        "Massiv malumotlari turgan joylar indekslar deyishimiz mumkin, pythondagi list malumotlari indekslari malumotlarning joylarini ifodalani kabi <br>\n",
        "\n",
        "Malumotlar elementlarining indeksi NOLdan boshlanadi\n",
        "0, 1, 2 ...\n",
        "oxirgi elementdan boshiga kelganda esa oxirgi element indeksi \n",
        "-1, -2, -3 ... ko'rinishida bo'ladi\n"
      ],
      "metadata": {
        "id": "X3Je5VzGAK4b"
      }
    },
    {
      "cell_type": "code",
      "execution_count": 1,
      "metadata": {
        "id": "F8ZVhW90AEDb"
      },
      "outputs": [],
      "source": [
        "import numpy as np"
      ]
    },
    {
      "cell_type": "code",
      "source": [
        "arr_1d = np.arange(10, 100, 10) # 100 kirmaydi\n",
        "arr_1d"
      ],
      "metadata": {
        "colab": {
          "base_uri": "https://localhost:8080/"
        },
        "id": "aFpjCfTwBLxS",
        "outputId": "85732868-75e0-46e2-e01f-f0c2639c44a5"
      },
      "execution_count": 5,
      "outputs": [
        {
          "output_type": "execute_result",
          "data": {
            "text/plain": [
              "array([10, 20, 30, 40, 50, 60, 70, 80, 90])"
            ]
          },
          "metadata": {},
          "execution_count": 5
        }
      ]
    },
    {
      "cell_type": "markdown",
      "source": [
        "massivni yaratib oldik, endi indeks orqali uni elemtlarini topa olamiz, <br>\n",
        "bir o'lchamli massivlarning indeksni kiritish python list bilan deyarli bir xil"
      ],
      "metadata": {
        "id": "qIRwwLbRBr6B"
      }
    },
    {
      "cell_type": "code",
      "source": [
        "arr_1d[0] # nol indeksdagi element"
      ],
      "metadata": {
        "colab": {
          "base_uri": "https://localhost:8080/"
        },
        "id": "CKu3AU6HBjhA",
        "outputId": "b2bdf89e-febe-44f7-eac4-f8e6c703ad4e"
      },
      "execution_count": 6,
      "outputs": [
        {
          "output_type": "execute_result",
          "data": {
            "text/plain": [
              "10"
            ]
          },
          "metadata": {},
          "execution_count": 6
        }
      ]
    },
    {
      "cell_type": "code",
      "source": [
        "arr_1d[-1] # oxirgi indeksdagi element"
      ],
      "metadata": {
        "colab": {
          "base_uri": "https://localhost:8080/"
        },
        "id": "-B4hYg0VB_yK",
        "outputId": "3df263d3-432c-4577-b205-a6887da2a689"
      },
      "execution_count": 7,
      "outputs": [
        {
          "output_type": "execute_result",
          "data": {
            "text/plain": [
              "90"
            ]
          },
          "metadata": {},
          "execution_count": 7
        }
      ]
    },
    {
      "cell_type": "markdown",
      "source": [
        "bir o'lchamli massivlarni kesib olish ham python list elementlarini kesib olish bilan bir xil\n"
      ],
      "metadata": {
        "id": "WvM_dLKDCZZY"
      }
    },
    {
      "cell_type": "code",
      "source": [
        "arr_1d[2:5] # indeks 2dagi elementdan 5indeks elementigacha, 5 kirmaydi"
      ],
      "metadata": {
        "colab": {
          "base_uri": "https://localhost:8080/"
        },
        "id": "_YS978eWCFtm",
        "outputId": "ff0a4b4e-cfa8-4552-d19a-9f2f61fd6767"
      },
      "execution_count": 9,
      "outputs": [
        {
          "output_type": "execute_result",
          "data": {
            "text/plain": [
              "array([30, 40, 50])"
            ]
          },
          "metadata": {},
          "execution_count": 9
        }
      ]
    },
    {
      "cell_type": "markdown",
      "source": [
        "### Biroz xavfli\n",
        "NumPy kutubxonasidagi massivning kesib olingan qisga o'zgartirish kiritilsa, asosiy massivga tasir qiladi "
      ],
      "metadata": {
        "id": "9KfAJO5fDClw"
      }
    },
    {
      "cell_type": "code",
      "source": [
        "arr_1d"
      ],
      "metadata": {
        "colab": {
          "base_uri": "https://localhost:8080/"
        },
        "id": "txKgcHezCtWq",
        "outputId": "c9942043-a2c8-4370-808b-9d4d257e5e97"
      },
      "execution_count": 10,
      "outputs": [
        {
          "output_type": "execute_result",
          "data": {
            "text/plain": [
              "array([10, 20, 30, 40, 50, 60, 70, 80, 90])"
            ]
          },
          "metadata": {},
          "execution_count": 10
        }
      ]
    },
    {
      "cell_type": "code",
      "source": [
        "sliced_arr = arr_1d[2:5]\n",
        "sliced_arr"
      ],
      "metadata": {
        "colab": {
          "base_uri": "https://localhost:8080/"
        },
        "id": "kXGcdHXlDcyf",
        "outputId": "fa02f45e-f9b1-4d71-dc5e-e4a981c74715"
      },
      "execution_count": 11,
      "outputs": [
        {
          "output_type": "execute_result",
          "data": {
            "text/plain": [
              "array([30, 40, 50])"
            ]
          },
          "metadata": {},
          "execution_count": 11
        }
      ]
    },
    {
      "cell_type": "code",
      "source": [],
      "metadata": {
        "id": "18FE25NXDuUa"
      },
      "execution_count": null,
      "outputs": []
    }
  ]
}