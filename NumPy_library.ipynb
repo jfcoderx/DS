{
 "cells": [
  {
   "cell_type": "markdown",
   "source": [
    "## Numpy kutubxonasi bilan ishlash\n",
    "\n",
    "### 2.1.1 N o`lchovli massivlar\n",
    "- Massivlarni yaratish\n",
    "- Ma`lumot turlari\n",
    "- Indekslash va kesib olish asoslari\n",
    "- Boolean indekslash\n",
    "- Massivlar pozitsiyasin ko'chirish va o'qlar o'rnini almashtirish\n",
    "\n",
    "### 2.1.2 Universal kutubxonalar NumPY asosida\n",
    "\n",
    "### 2.1.3 Massivga yo`naltirilgan dasturlash\n",
    "- Mantiqiy shart operatorlarini massiv operatori sifatida qo`llash\n",
    "- Arifmetik amallar bajarish\n",
    "- Matematik va Statistik usullarni qo`llash\n",
    "- Tartiblash\n",
    "- Unique va boshqa turdagi tartiblash\n",
    "\n",
    "### 2.1.4 Fayllar bilan ishlash NumPY asosida\n",
    "\n",
    "### 2.1.5 Chiziqli Algebra asoslari\n"
   ],
   "metadata": {
    "collapsed": false
   }
  },
  {
   "cell_type": "markdown",
   "source": [
    "## Nega aynan NumPY\n",
    "\n",
    "- Kuchli N o`lchamli massivlar - Vektorlashgan hisoblash\n",
    "- Raqamli hisoblash uskunalari - Matematik funksiyalar, Chiziqli Algebra, Fourier transform va hkz\n",
    "- Ishlashdagi tezligi - NumPy kutubxonasi asosi C dasturlash tilida yaratilgan\n",
    "- Ishlatishga oson - Tajribasidan qati nazar, har qanday inson osongina qollay olishi mumkin\n",
    "- Ochiq manba - BSD litsensiyasi asosida yaratilgan bolib, doimo bepul bo`lishi taminlangan\n",
    "\n",
    "### Sohalarda:\n",
    "### ILM-FAN turli jabhalari Numpy kutubxonasining qo`llanishi:\n",
    "- Quantum Computing - QuTIP PyQuil Qiskit\n",
    "- Statistical Computing - Pandas statsmodels Xarray Seaborn\n",
    "- Signal Processing - SciPy PyWavelets python-control\n",
    "- Image Processing - Scikit-image OpenCV Mahotas\n",
    "- Graphs and Networks - NetworkX graph-tool igraph PyGSP\n",
    "- Astronomy Processes - AstroPy Sunpy SpacePy\n",
    "- Cognitive Psychology - PsychoPy\n",
    "- Bioinformatics - BioPython Scikit-Bio PyEnsembl ETE\n",
    "- Bayesian Inference - PyStan PyMC3 ArviZ emcee\n",
    "- Mathematical Analysis - SciPy SumPy cvxpy FEniCS\n",
    "- Chemistry - Cantera MDAnalysis RDKit\n",
    "- Geo science - PanGeo Simpeg ObsPy Fatiando a Terra\n",
    "- Geographic Processing - Shapely GeoPandas Folium\n",
    "- Architecture & Engineering - COMPAS City Energy Analyst Sverchok\n",
    "\n",
    "### Massivlar bilan ishlaydigan kutubxonalarda va ularning yaratilishida ham NumPy\n",
    "- Dask - Distributed arrays and advanced parallelism for analytics, enabling performance at scale\n",
    "- CuPy - NumPy-compatible array library for GPU-accelerated computing with Python\n",
    "- JAX - Composable transformations of NumPy programs: differentiate, vectorize, just in time compilation to GPU/TPU\n",
    "- Xarray - Labeled, indexed mC for advanced analytics and visualization\n",
    "- Sparse - NumPy-compatible sparse array library that integrates with Dask and SciPy`s sparse linear algebra\n",
    "- PyTorch - Deep learning framework that accelerates the path from research prototyping to production deployment\n",
    "- TensorFlow - An end-to-end platform for machine learning to easily build and deploy ML powered applications\n",
    "- MXNet - Deep learning framework suited for flexible research prototyping and production\n",
    "- Arrow - A cross-language development platform for columnar in-memory data and analytics\n",
    "- xtensor - Multidimensional arrays with broadcasting and lazy computing for numerical analysis\n",
    "- XND - Develop libraries for array computing, recreating NumPy`s foundational concepts\n",
    "- uarray - Python backend system that decouples API from implementation; unumpy provides a NumPy API\n",
    "- tensorly - Tensor learning algebra and backends to seamlessly use NumPy, MXNet, PyTorch, TensorFlow or CuPy\n",
    "\n",
    "### DATA SCIENSE sohasi ishlatiladigan kutubxonalarning asosida NumPy ishtiroki kop\n",
    "Numpy lies at the core of a rich ecosystem of data science libraries. A typical exploratory data science workflow might look like:\n",
    "- Extract, Transform, Load: Pandas, Intake, PyJanitor\n",
    "- Exploratory analysis: Jupyter, Seaborn, Matplotlib, Altair\n",
    "- Model and evaluate: scikit-learn, statsmodels, PyMC3, spaCy\n",
    "- Report in a dashboard: Dash, Panel, Voila\n",
    "\n",
    "For high data volumes, Dask and Ray are designed to scale. Stable deployments rely on data versioning (DVC),\n",
    "expriment tracking (MLFlow), and workflow automation (Airflow and Perfect)\n",
    "\n",
    "### MACHINE LEARNING\n",
    "scikit-learn, SciPy, TensorFLow, PyTorch ..."
   ],
   "metadata": {
    "collapsed": false
   }
  },
  {
   "cell_type": "markdown",
   "source": [
    "## Vektorlashgan Hisoblash\n",
    "Aynan shu NumPy kutubxonasining bu qadar ommalashishiga sabab bolgan\n",
    "\n",
    "Vektorlashgan hisoblash - massiv ko'rinishidagi ma'lumotlar to'plamining barcha elementlari ustida bir vaqtning o'zida\n",
    "hisoblash amallarini bajarish\n",
    "\n",
    "Normal hisoblash\n",
    "bitta malumotlar ustida bitta amallarni bajara olasiz, chiqayotgan natija ham shunga mutanosib bitta boladi\n",
    "bir nechta hisoblashni amalga oshirmoqchi bolinsa, malumotlarni va qoidalarni ketma ket korinishida joylashingiz\n",
    "va ketma ket olishingiz mumkin boladi\n",
    "\n",
    "Vektorlashgan hisoblashda esa\n",
    "Bitta qoida yordamida bir nechta malumotlar ustida bir vaqtning ozida, parallel ravishda hisoblash amallarini bajara olasiz\n",
    "va undan chiqayotgan natijalar ham mutanosib holda bir nechta boladi\n",
    "\n",
    "Bu bizga ham vaqtdan ham komputer resurslaridan effektiv, samarali hisoblash imkoniyatini beradi\n"
   ],
   "metadata": {
    "collapsed": false
   }
  },
  {
   "cell_type": "markdown",
   "source": [
    "## Normal hisoblash va vektorlashgan hisoblash\n",
    "\n",
    "### 1-o`rinda Numpy kutubxonasini chaqirib olamiz"
   ],
   "metadata": {
    "collapsed": false
   }
  },
  {
   "cell_type": "code",
   "execution_count": 1,
   "outputs": [],
   "source": [
    "import numpy as nm"
   ],
   "metadata": {
    "collapsed": false
   }
  },
  {
   "cell_type": "markdown",
   "source": [
    "Python list bilan NumPy kutubxonasidagi massivlar (arrays) hisoblari orasidagi farq\n",
    "orasodagi farqni korish uchun malumotlar hosil qilib olamiz"
   ],
   "metadata": {
    "collapsed": false
   }
  },
  {
   "cell_type": "code",
   "execution_count": 3,
   "outputs": [],
   "source": [
    "my_list  = list(range(100000)) # python list 0-99999 --> Normal\n",
    "my_array = nm.array(range(100000)) # NumPy array yani Massivlar 0-99999 --> Vektorlashgan"
   ],
   "metadata": {
    "collapsed": false
   }
  },
  {
   "cell_type": "markdown",
   "source": [
    "Bir xil malumotlarimizni yaratib olganimizdan so'ng, ularni orasidagi farqni kuzatishimiz mumkin\n",
    "Bu farqni har ikkala malumot turi uchun bir xil hisoblashni amalga oshirib\n",
    "ularni hisoblashga ketgan vaqtlarini hisobga olib ushbu hisoblashlarni farqlashimiz mumkin bolarkan\n",
    "bu joyda NumPy kutubxonasining ishlash tezligining ustunligini ham korib ketishimiz mumkin\n",
    "\n",
    "Normal hisoblashni amalga oshirishimiz uchun\n",
    "my_listdagi har elementimizni 2ga kopaytirib chiqarib olaylik,\n",
    "huddi shunday vektor hisoblash uchun ham huddi shunday qilamiz"
   ],
   "metadata": {
    "collapsed": false
   }
  },
  {
   "cell_type": "code",
   "execution_count": 4,
   "outputs": [
    {
     "name": "stdout",
     "output_type": "stream",
     "text": [
      "CPU times: total: 62.5 ms\n",
      "Wall time: 52 ms\n"
     ]
    }
   ],
   "source": [
    "%time for _ in range(10): [x*2 for x in my_list] # Normal"
   ],
   "metadata": {
    "collapsed": false
   }
  },
  {
   "cell_type": "code",
   "execution_count": 6,
   "outputs": [
    {
     "name": "stdout",
     "output_type": "stream",
     "text": [
      "CPU times: total: 46.9 ms\n",
      "Wall time: 1.99 ms\n"
     ]
    }
   ],
   "source": [
    "%time for _ in range(10): my_array*2 # Vektorlashgan"
   ],
   "metadata": {
    "collapsed": false
   }
  },
  {
   "cell_type": "markdown",
   "source": [
    "ular ketgan vaqtni solishtirish ular ular sarflagan vaqtni bir birlariga bo`lib yuboramiz"
   ],
   "metadata": {
    "collapsed": false
   }
  },
  {
   "cell_type": "code",
   "execution_count": 7,
   "outputs": [
    {
     "data": {
      "text/plain": "26.13065326633166"
     },
     "execution_count": 7,
     "metadata": {},
     "output_type": "execute_result"
    }
   ],
   "source": [
    "52/1.99"
   ],
   "metadata": {
    "collapsed": false
   }
  },
  {
   "cell_type": "markdown",
   "source": [
    "Natijadan shuni ko'ramizki, Vektorlashgan hisoblash normal hisoblashdan 26 marta tezroq ekan, yanikim list yordamida hosil qilingan\n",
    "malumotlarni 2ga kopaytirishimiz, array yordamida hosil qilingan malumotlarni 2ga kopaytirishimizdan 26 marta sekinroq ekan"
   ],
   "metadata": {
    "collapsed": false
   }
  }
 ],
 "metadata": {
  "kernelspec": {
   "display_name": "Python 3",
   "language": "python",
   "name": "python3"
  },
  "language_info": {
   "codemirror_mode": {
    "name": "ipython",
    "version": 2
   },
   "file_extension": ".py",
   "mimetype": "text/x-python",
   "name": "python",
   "nbconvert_exporter": "python",
   "pygments_lexer": "ipython2",
   "version": "2.7.6"
  }
 },
 "nbformat": 4,
 "nbformat_minor": 0
}
