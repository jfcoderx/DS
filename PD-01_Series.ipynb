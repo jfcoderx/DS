{
  "nbformat": 4,
  "nbformat_minor": 0,
  "metadata": {
    "colab": {
      "provenance": [],
      "collapsed_sections": [],
      "authorship_tag": "ABX9TyNG+F7bfsfkl0i0jAxgtTYE",
      "include_colab_link": true
    },
    "kernelspec": {
      "name": "python3",
      "display_name": "Python 3"
    },
    "language_info": {
      "name": "python"
    }
  },
  "cells": [
    {
      "cell_type": "markdown",
      "metadata": {
        "id": "view-in-github",
        "colab_type": "text"
      },
      "source": [
        "<a href=\"https://colab.research.google.com/github/jfcoderx/Data-Sciense/blob/main/PD_01_Series.ipynb\" target=\"_parent\"><img src=\"https://colab.research.google.com/assets/colab-badge.svg\" alt=\"Open In Colab\"/></a>"
      ]
    },
    {
      "cell_type": "markdown",
      "source": [
        "## Malumotlar tahlili. Pandas Kutubxonasi'\n",
        "\n",
        "### Pandas kutubxonasi tanishuv"
      ],
      "metadata": {
        "id": "L6w4Z-lL7LnI"
      }
    },
    {
      "cell_type": "markdown",
      "source": [
        "Aynan Data Sciense uchun yonaltirilgan. Malumotlarga ishlov berish uchun moljallashgan maxsus kutubxona bolib, maxsus malumot tuzilmalari (series) bilan keladi. Bu malumotlar tuzilmalari orqali katta katta malumotlarga ishlov berish, tozalash, turli xil amallarni bajariladi.\n"
      ],
      "metadata": {
        "id": "frGCV3ox7YTo"
      }
    },
    {
      "cell_type": "code",
      "execution_count": null,
      "metadata": {
        "id": "2IjEElSE6Unt"
      },
      "outputs": [],
      "source": [
        "import pandas as pd\n",
        "import numpy as np"
      ]
    },
    {
      "cell_type": "markdown",
      "source": [
        "Pandas malumotlari tuzilmasi tarkibida ikta muhim tuzilma mavjud:\n",
        "\n",
        "1. Series\n",
        "2. Data Frames"
      ],
      "metadata": {
        "id": "O8juTAai8SeV"
      }
    },
    {
      "cell_type": "code",
      "source": [
        "from pandas import Series # Series malumotlar tuzilmasi"
      ],
      "metadata": {
        "id": "oOmS3yTL8N7m"
      },
      "execution_count": null,
      "outputs": []
    },
    {
      "cell_type": "markdown",
      "source": [
        "Pythondagi har qanday element yoki narsa bu obyekt boladi, seriesga tegishli malumotlar tuzilmasi ham"
      ],
      "metadata": {
        "id": "iIOPwoxS86el"
      }
    },
    {
      "cell_type": "code",
      "source": [
        "obj = Series([4, 5, 6, -7.5]) # obj nomli SERIES yaratish\n",
        "obj"
      ],
      "metadata": {
        "colab": {
          "base_uri": "https://localhost:8080/"
        },
        "id": "IcbNfUUJ8wEJ",
        "outputId": "edf87669-02b0-4229-d626-b1a83ab04288"
      },
      "execution_count": null,
      "outputs": [
        {
          "output_type": "execute_result",
          "data": {
            "text/plain": [
              "0    4.0\n",
              "1    5.0\n",
              "2    6.0\n",
              "3   -7.5\n",
              "dtype: float64"
            ]
          },
          "metadata": {},
          "execution_count": 4
        }
      ]
    },
    {
      "cell_type": "markdown",
      "source": [
        "chap tomoni indeksi, o'ng tomoni float64 turli malumot"
      ],
      "metadata": {
        "id": "WcHqQ4MJ9fdM"
      }
    },
    {
      "cell_type": "code",
      "source": [
        "type(obj) # series tipini korish"
      ],
      "metadata": {
        "colab": {
          "base_uri": "https://localhost:8080/"
        },
        "id": "m1ZHfswq9UJA",
        "outputId": "8be7584c-fd11-4464-e6ec-aa2adf943661"
      },
      "execution_count": null,
      "outputs": [
        {
          "output_type": "execute_result",
          "data": {
            "text/plain": [
              "pandas.core.series.Series"
            ]
          },
          "metadata": {},
          "execution_count": 5
        }
      ]
    },
    {
      "cell_type": "code",
      "source": [
        "obj.values # qiymatlarni ozini kormoqchimiz"
      ],
      "metadata": {
        "colab": {
          "base_uri": "https://localhost:8080/"
        },
        "id": "IlNOEeyq9X0L",
        "outputId": "9a8ab58d-40a1-4cdf-e94b-a30d562b757c"
      },
      "execution_count": null,
      "outputs": [
        {
          "output_type": "execute_result",
          "data": {
            "text/plain": [
              "array([ 4. ,  5. ,  6. , -7.5])"
            ]
          },
          "metadata": {},
          "execution_count": 6
        }
      ]
    },
    {
      "cell_type": "code",
      "source": [
        "obj.index # indekslarini kormoqchi bolsak"
      ],
      "metadata": {
        "colab": {
          "base_uri": "https://localhost:8080/"
        },
        "id": "jGCWd2ld9uxl",
        "outputId": "43148232-0ab1-4153-96c6-274dbb107052"
      },
      "execution_count": null,
      "outputs": [
        {
          "output_type": "execute_result",
          "data": {
            "text/plain": [
              "RangeIndex(start=0, stop=4, step=1)"
            ]
          },
          "metadata": {},
          "execution_count": 7
        }
      ]
    },
    {
      "cell_type": "code",
      "source": [
        "obj[0] # nol indeksdagi elementni chiqarish"
      ],
      "metadata": {
        "colab": {
          "base_uri": "https://localhost:8080/"
        },
        "id": "cEeGcaHg92YP",
        "outputId": "04509454-dd05-4dfc-a9c9-d5f9e983629b"
      },
      "execution_count": null,
      "outputs": [
        {
          "output_type": "execute_result",
          "data": {
            "text/plain": [
              "4.0"
            ]
          },
          "metadata": {},
          "execution_count": 8
        }
      ]
    },
    {
      "cell_type": "markdown",
      "source": [
        "Seriesni Listdan farqi, biz Series indekslarini ham o'zimiz bera olamiz"
      ],
      "metadata": {
        "id": "CFvAhIj1-WgT"
      }
    },
    {
      "cell_type": "code",
      "source": [
        "obj2 = Series([6, 2, 1, 4], ['A', 'B', 'c', 'd']) # Indekslari ozgartirilgan Serieslar\n",
        "obj2"
      ],
      "metadata": {
        "colab": {
          "base_uri": "https://localhost:8080/"
        },
        "id": "G2pSFhbx-EfC",
        "outputId": "49642efe-12ff-4123-e11e-0e538a19cdbb"
      },
      "execution_count": null,
      "outputs": [
        {
          "output_type": "execute_result",
          "data": {
            "text/plain": [
              "A    6\n",
              "B    2\n",
              "c    1\n",
              "d    4\n",
              "dtype: int64"
            ]
          },
          "metadata": {},
          "execution_count": 9
        }
      ]
    },
    {
      "cell_type": "code",
      "source": [
        "obj2.index # obj2 ning indekslari"
      ],
      "metadata": {
        "colab": {
          "base_uri": "https://localhost:8080/"
        },
        "id": "TmfAee2d-vSB",
        "outputId": "167f220e-630c-4392-b324-54968c83f45e"
      },
      "execution_count": null,
      "outputs": [
        {
          "output_type": "execute_result",
          "data": {
            "text/plain": [
              "Index(['A', 'B', 'c', 'd'], dtype='object')"
            ]
          },
          "metadata": {},
          "execution_count": 10
        }
      ]
    },
    {
      "cell_type": "code",
      "source": [
        "obj2['A'] # A indeksdagi elementni chiqarish"
      ],
      "metadata": {
        "colab": {
          "base_uri": "https://localhost:8080/"
        },
        "id": "06mLRSpK--XJ",
        "outputId": "d66489a5-c199-4f3c-a244-f86bfadc6070"
      },
      "execution_count": null,
      "outputs": [
        {
          "output_type": "execute_result",
          "data": {
            "text/plain": [
              "6"
            ]
          },
          "metadata": {},
          "execution_count": 11
        }
      ]
    },
    {
      "cell_type": "code",
      "source": [
        "obj2[['A', 'c', 'd']] # indekslari A c d bolgan elementlarni chiqarish, 2talik tortburchak qavslar ichida"
      ],
      "metadata": {
        "colab": {
          "base_uri": "https://localhost:8080/"
        },
        "id": "n_oHmxk8_ISD",
        "outputId": "f9accde0-b117-44a1-8ade-f065237bda45"
      },
      "execution_count": null,
      "outputs": [
        {
          "output_type": "execute_result",
          "data": {
            "text/plain": [
              "A    6\n",
              "c    1\n",
              "d    4\n",
              "dtype: int64"
            ]
          },
          "metadata": {},
          "execution_count": 12
        }
      ]
    },
    {
      "cell_type": "code",
      "source": [
        "obj2[['c', 'A', 'd']] # ketma ketliklarini farqi yoq"
      ],
      "metadata": {
        "colab": {
          "base_uri": "https://localhost:8080/"
        },
        "id": "obDclt6X_zMM",
        "outputId": "ec20069e-8740-46c6-fe7e-7ef512a6881f"
      },
      "execution_count": null,
      "outputs": [
        {
          "output_type": "execute_result",
          "data": {
            "text/plain": [
              "c    1\n",
              "A    6\n",
              "d    4\n",
              "dtype: int64"
            ]
          },
          "metadata": {},
          "execution_count": 13
        }
      ]
    },
    {
      "cell_type": "code",
      "source": [
        "obj2[['d', 'd', 'd']] # bir xil indekslar, yoq indekslar kiritsak xatolik chiqaradi"
      ],
      "metadata": {
        "colab": {
          "base_uri": "https://localhost:8080/"
        },
        "id": "cfpz3mbbARki",
        "outputId": "c9c2d87b-8c52-4855-c469-3eb35381f70e"
      },
      "execution_count": null,
      "outputs": [
        {
          "output_type": "execute_result",
          "data": {
            "text/plain": [
              "d    4\n",
              "d    4\n",
              "d    4\n",
              "dtype: int64"
            ]
          },
          "metadata": {},
          "execution_count": 14
        }
      ]
    },
    {
      "cell_type": "code",
      "source": [
        "obj2"
      ],
      "metadata": {
        "colab": {
          "base_uri": "https://localhost:8080/"
        },
        "id": "GcVwoK7rAUi3",
        "outputId": "2cbe96fb-8b0f-4400-d769-a3343f8ff25c"
      },
      "execution_count": null,
      "outputs": [
        {
          "output_type": "execute_result",
          "data": {
            "text/plain": [
              "A    6\n",
              "B    2\n",
              "c    1\n",
              "d    4\n",
              "dtype: int64"
            ]
          },
          "metadata": {},
          "execution_count": 15
        }
      ]
    },
    {
      "cell_type": "code",
      "source": [
        "obj2[obj2 > 2] # obj2 elementlarining 2dan kattalarini chiqarish"
      ],
      "metadata": {
        "colab": {
          "base_uri": "https://localhost:8080/"
        },
        "id": "IxfIhsSGA9qf",
        "outputId": "d2053f2c-5507-4107-d562-156cfd6eadca"
      },
      "execution_count": null,
      "outputs": [
        {
          "output_type": "execute_result",
          "data": {
            "text/plain": [
              "A    6\n",
              "d    4\n",
              "dtype: int64"
            ]
          },
          "metadata": {},
          "execution_count": 16
        }
      ]
    },
    {
      "cell_type": "code",
      "source": [
        "obj2[obj2 < 3] # obj2 elementlarining 3dan kichiklarini chiqarish"
      ],
      "metadata": {
        "colab": {
          "base_uri": "https://localhost:8080/"
        },
        "id": "HKBXUwbQBFmi",
        "outputId": "671e6acb-42c4-4fcc-c235-a07e3389db11"
      },
      "execution_count": null,
      "outputs": [
        {
          "output_type": "execute_result",
          "data": {
            "text/plain": [
              "B    2\n",
              "c    1\n",
              "dtype: int64"
            ]
          },
          "metadata": {},
          "execution_count": 17
        }
      ]
    },
    {
      "cell_type": "code",
      "source": [
        "obj2 * 2 # hamma elementlari 2 ga kopaytiradi"
      ],
      "metadata": {
        "colab": {
          "base_uri": "https://localhost:8080/"
        },
        "id": "t1UJArBtBT_9",
        "outputId": "289a17d3-a56e-42f9-ae40-532f92745797"
      },
      "execution_count": null,
      "outputs": [
        {
          "output_type": "execute_result",
          "data": {
            "text/plain": [
              "A    12\n",
              "B     4\n",
              "c     2\n",
              "d     8\n",
              "dtype: int64"
            ]
          },
          "metadata": {},
          "execution_count": 18
        }
      ]
    },
    {
      "cell_type": "code",
      "source": [
        "np.exp(obj2) # har bir elementti uchun expoenentasini topish"
      ],
      "metadata": {
        "colab": {
          "base_uri": "https://localhost:8080/"
        },
        "id": "6-ydE9v3Bjhn",
        "outputId": "f4999232-2579-4501-a70b-df8d418839fe"
      },
      "execution_count": null,
      "outputs": [
        {
          "output_type": "execute_result",
          "data": {
            "text/plain": [
              "A    403.428793\n",
              "B      7.389056\n",
              "c      2.718282\n",
              "d     54.598150\n",
              "dtype: float64"
            ]
          },
          "metadata": {},
          "execution_count": 19
        }
      ]
    },
    {
      "cell_type": "markdown",
      "source": [
        "Biz seriesni bir indekslari orqali chiqarsak, bu pytondagi lugatga oxshab ketadi, chap tomonida indeks, ong tomonida qiymat, bu pythondagi lugatga tochna oxshaydi "
      ],
      "metadata": {
        "id": "KkKcG0pnCK6f"
      }
    },
    {
      "cell_type": "markdown",
      "source": [
        "Biz Seriesni lugatlar orqali ham yaratishimiz mumkin, pythondagi lugatlarni Series malumot turiga togridan togri otkazish mumkin"
      ],
      "metadata": {
        "id": "pAvs4bvdCxlY"
      }
    },
    {
      "cell_type": "code",
      "source": [
        "cars = {'Malibu': 40000, 'Lasetti': 20000, 'Toyota': 45000, 'Mazda': 52000, 'Honda': 38000}\n",
        "cars"
      ],
      "metadata": {
        "colab": {
          "base_uri": "https://localhost:8080/"
        },
        "id": "-nWNUtp9CKTf",
        "outputId": "fe9442e7-0b9a-4a77-a576-47cc751719a4"
      },
      "execution_count": null,
      "outputs": [
        {
          "output_type": "execute_result",
          "data": {
            "text/plain": [
              "{'Malibu': 40000,\n",
              " 'Lasetti': 20000,\n",
              " 'Toyota': 45000,\n",
              " 'Mazda': 52000,\n",
              " 'Honda': 38000}"
            ]
          },
          "metadata": {},
          "execution_count": 33
        }
      ]
    },
    {
      "cell_type": "code",
      "source": [
        "cars_dict = Series(cars)\n",
        "cars_dict"
      ],
      "metadata": {
        "colab": {
          "base_uri": "https://localhost:8080/"
        },
        "id": "_Azx1XfABxFO",
        "outputId": "44fce4c4-d640-4ee9-9fb8-c092ce72a22b"
      },
      "execution_count": null,
      "outputs": [
        {
          "output_type": "execute_result",
          "data": {
            "text/plain": [
              "Malibu     40000\n",
              "Lasetti    20000\n",
              "Toyota     45000\n",
              "Mazda      52000\n",
              "Honda      38000\n",
              "dtype: int64"
            ]
          },
          "metadata": {},
          "execution_count": 34
        }
      ]
    },
    {
      "cell_type": "code",
      "source": [
        "obj2 = Series({'A': 6, 'B': 2, 'c': 1, 'd': 1}) # Lugat orqali series yaratish\n",
        "obj2"
      ],
      "metadata": {
        "colab": {
          "base_uri": "https://localhost:8080/"
        },
        "id": "XF7xeKWqEHIo",
        "outputId": "dc5c5764-557f-4669-e220-45d18ff9e0b0"
      },
      "execution_count": null,
      "outputs": [
        {
          "output_type": "execute_result",
          "data": {
            "text/plain": [
              "A    6\n",
              "B    2\n",
              "c    1\n",
              "d    1\n",
              "dtype: int64"
            ]
          },
          "metadata": {},
          "execution_count": 22
        }
      ]
    },
    {
      "cell_type": "code",
      "source": [
        "'Toyota' in  cars_dict # Toyota obj ichida bormi yoqmi tekshirish"
      ],
      "metadata": {
        "colab": {
          "base_uri": "https://localhost:8080/"
        },
        "id": "9MSHMSVzFQ_Q",
        "outputId": "3d8cbfed-77dd-45f8-9252-1ac261486c23"
      },
      "execution_count": null,
      "outputs": [
        {
          "output_type": "execute_result",
          "data": {
            "text/plain": [
              "True"
            ]
          },
          "metadata": {},
          "execution_count": 35
        }
      ]
    },
    {
      "cell_type": "code",
      "source": [
        "'Spark' in  cars_dict # Spark obj ichida bormi yoqmi tekshirish"
      ],
      "metadata": {
        "colab": {
          "base_uri": "https://localhost:8080/"
        },
        "id": "4UDO2_BAFxf8",
        "outputId": "9fea9aac-aee8-4991-cdf6-85c3617426fc"
      },
      "execution_count": null,
      "outputs": [
        {
          "output_type": "execute_result",
          "data": {
            "text/plain": [
              "False"
            ]
          },
          "metadata": {},
          "execution_count": 36
        }
      ]
    },
    {
      "cell_type": "code",
      "source": [
        "models = ['Honda', 'Mazda', 'Lasetti', 'Jaguar', 'Malibu', 'Toyota', 'BMW', \"Mercedes\"]\n",
        "cars_dict"
      ],
      "metadata": {
        "colab": {
          "base_uri": "https://localhost:8080/"
        },
        "id": "rSPeF4_VGFTP",
        "outputId": "fd59c649-e02d-4a78-863a-443e3060eed6"
      },
      "execution_count": null,
      "outputs": [
        {
          "output_type": "execute_result",
          "data": {
            "text/plain": [
              "Malibu     40000\n",
              "Lasetti    20000\n",
              "Toyota     45000\n",
              "Mazda      52000\n",
              "Honda      38000\n",
              "dtype: int64"
            ]
          },
          "metadata": {},
          "execution_count": 37
        }
      ]
    },
    {
      "cell_type": "code",
      "source": [
        "cars_series = Series(cars_dict, index=models) # indeksni biz korsatgan boyicha kritish\n",
        "cars_series"
      ],
      "metadata": {
        "colab": {
          "base_uri": "https://localhost:8080/"
        },
        "id": "VkgpOpD5GzQJ",
        "outputId": "dbde5fb9-29d1-4d81-fbce-7b3628f343cb"
      },
      "execution_count": null,
      "outputs": [
        {
          "output_type": "execute_result",
          "data": {
            "text/plain": [
              "Honda       38000.0\n",
              "Mazda       52000.0\n",
              "Lasetti     20000.0\n",
              "Jaguar          NaN\n",
              "Malibu      40000.0\n",
              "Toyota      45000.0\n",
              "BMW             NaN\n",
              "Mercedes        NaN\n",
              "dtype: float64"
            ]
          },
          "metadata": {},
          "execution_count": 38
        }
      ]
    },
    {
      "cell_type": "markdown",
      "source": [
        "Jaguar lugatimizda mavjud emas edi, shu sabab unga NaN qiymat yuklab ketdi"
      ],
      "metadata": {
        "id": "t5S9-rtwHPlj"
      }
    },
    {
      "cell_type": "markdown",
      "source": [
        "Ko'rib turibsizki biz bu kabi Serieslarni ozimiz yaratyapmiz, odatta qanday bo'ladi? <br>\n",
        "Bizda qandaydir katta malumotlar boladi, bu malumotlar excel korinishida, matn ko'rinishida bo'lishi mumkin va biz bu malumotlar jamlanmasini Seriesga o'tkazamiz, shu holatlarda bizni jadvalimiz to'liq bo'lmasligi mumkin, qayerlaridadir NaN turidagi bo'sh joylar qolib ketadi, NaN larning malumotlarimiz ichida bo'lishi yaxshimas, chunki machine learningimizda bizga bu halaqit berishi mumkin, biz bularning oldini olishda Seriesning bir nechta elementlaridan foydalanishimiz mumkin\n"
      ],
      "metadata": {
        "id": "Jhqx0_yPDcZb"
      }
    },
    {
      "cell_type": "markdown",
      "source": [
        "ISNULL (nullmi, mavjud emasmi)<br>\n",
        "Har bir qiymatni qarab chiqadida Nolga, Nanga teng bolsa, True qaytaradi, mavjud bolmasa False qaytaradi"
      ],
      "metadata": {
        "id": "nfvSPAEIElSK"
      }
    },
    {
      "cell_type": "code",
      "source": [
        "cars_series.isnull()"
      ],
      "metadata": {
        "id": "gZCcZsyAHPIU",
        "colab": {
          "base_uri": "https://localhost:8080/"
        },
        "outputId": "a3abed9c-f3ff-4944-a974-951dd4195ad9"
      },
      "execution_count": null,
      "outputs": [
        {
          "output_type": "execute_result",
          "data": {
            "text/plain": [
              "Honda       False\n",
              "Mazda       False\n",
              "Lasetti     False\n",
              "Jaguar       True\n",
              "Malibu      False\n",
              "Toyota      False\n",
              "BMW          True\n",
              "Mercedes     True\n",
              "dtype: bool"
            ]
          },
          "metadata": {},
          "execution_count": 28
        }
      ]
    },
    {
      "cell_type": "markdown",
      "source": [
        "Hondani qiymati borligi uchun False deyapti, Jaguarni qiymati bolmagani uchun True deyapti"
      ],
      "metadata": {
        "id": "ea_AYvCTFy9a"
      }
    },
    {
      "cell_type": "markdown",
      "source": [
        "NOTNULL (null emasmi) <br>\n",
        "ISNULNI TESKARISI <br>\n",
        "qiymati bor bolsa True, mavjud bolmasa, False\n"
      ],
      "metadata": {
        "id": "CBtKMmnvGBKo"
      }
    },
    {
      "cell_type": "code",
      "source": [
        "cars_series.notnull()"
      ],
      "metadata": {
        "id": "JeyLOmPHHHjr",
        "colab": {
          "base_uri": "https://localhost:8080/"
        },
        "outputId": "18452992-25d9-4633-cae3-1416041ca57f"
      },
      "execution_count": null,
      "outputs": [
        {
          "output_type": "execute_result",
          "data": {
            "text/plain": [
              "Honda        True\n",
              "Mazda        True\n",
              "Lasetti      True\n",
              "Jaguar      False\n",
              "Malibu       True\n",
              "Toyota       True\n",
              "BMW         False\n",
              "Mercedes    False\n",
              "dtype: bool"
            ]
          },
          "metadata": {},
          "execution_count": 31
        }
      ]
    },
    {
      "cell_type": "code",
      "source": [
        "print(cars_series)\n",
        "print()\n",
        "print(cars_dict)"
      ],
      "metadata": {
        "colab": {
          "base_uri": "https://localhost:8080/"
        },
        "id": "8Z7-deqBGRJR",
        "outputId": "ed2b13e2-419c-4280-90ec-07c04a68fadc"
      },
      "execution_count": null,
      "outputs": [
        {
          "output_type": "stream",
          "name": "stdout",
          "text": [
            "Honda       38000.0\n",
            "Mazda       52000.0\n",
            "Lasetti     20000.0\n",
            "Jaguar          NaN\n",
            "Malibu      40000.0\n",
            "Toyota      45000.0\n",
            "BMW             NaN\n",
            "Mercedes        NaN\n",
            "dtype: float64\n",
            "\n",
            "Malibu     40000\n",
            "Lasetti    20000\n",
            "Toyota     45000\n",
            "Mazda      52000\n",
            "Honda      38000\n",
            "dtype: int64\n"
          ]
        }
      ]
    },
    {
      "cell_type": "markdown",
      "source": [
        "Bu serieslar ustida arifmetik amallar ham bajarsak bo'ladi"
      ],
      "metadata": {
        "id": "UL3TNWqBHM6R"
      }
    },
    {
      "cell_type": "code",
      "source": [
        "cars_series + cars_dict"
      ],
      "metadata": {
        "colab": {
          "base_uri": "https://localhost:8080/"
        },
        "id": "CuP4HLCpGilw",
        "outputId": "20541ba3-56c3-4bfa-f91e-23490410ac54"
      },
      "execution_count": null,
      "outputs": [
        {
          "output_type": "execute_result",
          "data": {
            "text/plain": [
              "BMW              NaN\n",
              "Honda        76000.0\n",
              "Jaguar           NaN\n",
              "Lasetti      40000.0\n",
              "Malibu       80000.0\n",
              "Mazda       104000.0\n",
              "Mercedes         NaN\n",
              "Toyota       90000.0\n",
              "dtype: float64"
            ]
          },
          "metadata": {},
          "execution_count": 41
        }
      ]
    },
    {
      "cell_type": "markdown",
      "source": [
        "Etibor bersak, aynan kalitlari yani indekslari boyicha qoshishni bajardi, song Alfabet tartibida chiqardi"
      ],
      "metadata": {
        "id": "-AsTTz7oHeUv"
      }
    },
    {
      "cell_type": "markdown",
      "source": [
        "Biz Serieslarimizga nom bersak boladi"
      ],
      "metadata": {
        "id": "Jmv-ybCCIDbh"
      }
    },
    {
      "cell_type": "code",
      "source": [
        "# Seriesga Nom Berish\n",
        "cars_series.name = 'Avtosalon'\n",
        "\n",
        "# Indekslarga ham Nom berish\n",
        "cars_series.index.name = 'Models'"
      ],
      "metadata": {
        "id": "YevaNbqHHeCR"
      },
      "execution_count": null,
      "outputs": []
    },
    {
      "cell_type": "code",
      "source": [
        "cars_series"
      ],
      "metadata": {
        "colab": {
          "base_uri": "https://localhost:8080/"
        },
        "id": "XntUgRcMHUy2",
        "outputId": "4efd0e4b-f8e8-481a-c814-3c9abccdeebc"
      },
      "execution_count": null,
      "outputs": [
        {
          "output_type": "execute_result",
          "data": {
            "text/plain": [
              "Models\n",
              "Honda       38000.0\n",
              "Mazda       52000.0\n",
              "Lasetti     20000.0\n",
              "Jaguar          NaN\n",
              "Malibu      40000.0\n",
              "Toyota      45000.0\n",
              "BMW             NaN\n",
              "Mercedes        NaN\n",
              "Name: Avtosalon, dtype: float64"
            ]
          },
          "metadata": {},
          "execution_count": 47
        }
      ]
    },
    {
      "cell_type": "code",
      "source": [
        "# HASNANS - NaN bor yoqligini tekshiradi\n",
        "cars_series.hasnans"
      ],
      "metadata": {
        "colab": {
          "base_uri": "https://localhost:8080/"
        },
        "id": "0BSJogOsWQSc",
        "outputId": "c4799c32-f850-4e5a-f210-61066e601933"
      },
      "execution_count": null,
      "outputs": [
        {
          "output_type": "execute_result",
          "data": {
            "text/plain": [
              "True"
            ]
          },
          "metadata": {},
          "execution_count": 49
        }
      ]
    },
    {
      "cell_type": "code",
      "source": [
        "# DTYPE - qiymatlarning malumot turi\n",
        "cars_series.dtype"
      ],
      "metadata": {
        "colab": {
          "base_uri": "https://localhost:8080/"
        },
        "id": "9o3-fPW7WW4u",
        "outputId": "cc9b8c44-0895-4b7f-9832-bbad7c5d1e13"
      },
      "execution_count": null,
      "outputs": [
        {
          "output_type": "execute_result",
          "data": {
            "text/plain": [
              "dtype('float64')"
            ]
          },
          "metadata": {},
          "execution_count": 50
        }
      ]
    },
    {
      "cell_type": "code",
      "source": [
        "# IS_UNIQUE qiymatlar takrorlanmas ekanligini tekshirish\n",
        "cars_series.is_unique"
      ],
      "metadata": {
        "colab": {
          "base_uri": "https://localhost:8080/"
        },
        "id": "6gXXRP64Wn_O",
        "outputId": "38e8323c-efd4-40d6-c3a1-5bef207f272f"
      },
      "execution_count": null,
      "outputs": [
        {
          "output_type": "execute_result",
          "data": {
            "text/plain": [
              "False"
            ]
          },
          "metadata": {},
          "execution_count": 52
        }
      ]
    },
    {
      "cell_type": "code",
      "source": [
        "cars_series['Malibu'] = 4000 # Seriesga yangi malumot qoshish \n",
        "cars_series['Toyota'] = 4000 # Series malumotini ozgartirish"
      ],
      "metadata": {
        "id": "vGWwrZSkW7lC"
      },
      "execution_count": null,
      "outputs": []
    },
    {
      "cell_type": "code",
      "source": [
        "cars_series"
      ],
      "metadata": {
        "colab": {
          "base_uri": "https://localhost:8080/"
        },
        "id": "0kyr-SmfXE3Z",
        "outputId": "9f4cff86-055a-43fe-957f-44f1fd00fc73"
      },
      "execution_count": null,
      "outputs": [
        {
          "output_type": "execute_result",
          "data": {
            "text/plain": [
              "Models\n",
              "Honda       38000.0\n",
              "Mazda       52000.0\n",
              "Lasetti     20000.0\n",
              "Jaguar          NaN\n",
              "Malibu       4000.0\n",
              "Toyota       4000.0\n",
              "BMW             NaN\n",
              "Mercedes        NaN\n",
              "Name: Avtosalon, dtype: float64"
            ]
          },
          "metadata": {},
          "execution_count": 61
        }
      ]
    },
    {
      "cell_type": "code",
      "source": [
        "cars_series.is_unique"
      ],
      "metadata": {
        "colab": {
          "base_uri": "https://localhost:8080/"
        },
        "id": "MEFEfaRvXUhP",
        "outputId": "dff6021b-b53a-4cd6-f352-7ada4a152131"
      },
      "execution_count": null,
      "outputs": [
        {
          "output_type": "execute_result",
          "data": {
            "text/plain": [
              "False"
            ]
          },
          "metadata": {},
          "execution_count": 62
        }
      ]
    },
    {
      "cell_type": "code",
      "source": [
        "obj3 = Series({\n",
        "    'a': 1,\n",
        "    'a': 2,\n",
        "    'a': 3\n",
        "})\n",
        "obj3.values"
      ],
      "metadata": {
        "colab": {
          "base_uri": "https://localhost:8080/"
        },
        "id": "hyV_SFrkX8KT",
        "outputId": "6a721838-89ec-43b9-8bac-b687d4ef1a9b"
      },
      "execution_count": null,
      "outputs": [
        {
          "output_type": "execute_result",
          "data": {
            "text/plain": [
              "array([3])"
            ]
          },
          "metadata": {},
          "execution_count": 65
        }
      ]
    },
    {
      "cell_type": "code",
      "source": [
        "obj3.is_unique"
      ],
      "metadata": {
        "colab": {
          "base_uri": "https://localhost:8080/"
        },
        "id": "HQMQCwQmYLKV",
        "outputId": "edaf9bf4-7ca7-4bfb-fa72-a62846721828"
      },
      "execution_count": null,
      "outputs": [
        {
          "output_type": "execute_result",
          "data": {
            "text/plain": [
              "True"
            ]
          },
          "metadata": {},
          "execution_count": 64
        }
      ]
    },
    {
      "cell_type": "code",
      "source": [
        "# SHAPE - Series shakli\n",
        "cars_series.shape"
      ],
      "metadata": {
        "colab": {
          "base_uri": "https://localhost:8080/"
        },
        "id": "Fbiid-Z6YPZZ",
        "outputId": "5a81f3cf-ee34-4b95-f181-1ab1182f95db"
      },
      "execution_count": null,
      "outputs": [
        {
          "output_type": "execute_result",
          "data": {
            "text/plain": [
              "(8,)"
            ]
          },
          "metadata": {},
          "execution_count": 67
        }
      ]
    },
    {
      "cell_type": "code",
      "source": [
        "# SIZE - Series shakli\n",
        "cars_series.size"
      ],
      "metadata": {
        "colab": {
          "base_uri": "https://localhost:8080/"
        },
        "id": "qhXxD9FtYhBm",
        "outputId": "7853dfdb-90bb-434f-f327-6c9ce0b6074a"
      },
      "execution_count": null,
      "outputs": [
        {
          "output_type": "execute_result",
          "data": {
            "text/plain": [
              "8"
            ]
          },
          "metadata": {},
          "execution_count": 68
        }
      ]
    },
    {
      "cell_type": "code",
      "source": [
        "# ILOC - malumotlarga joylashgan orni tartib raqami boyicha\n",
        "cars_series.iloc[2]"
      ],
      "metadata": {
        "colab": {
          "base_uri": "https://localhost:8080/"
        },
        "id": "bYMMZZO_YoI_",
        "outputId": "a4ef34ca-a1b6-419d-e39a-c35306e974ea"
      },
      "execution_count": null,
      "outputs": [
        {
          "output_type": "execute_result",
          "data": {
            "text/plain": [
              "20000.0"
            ]
          },
          "metadata": {},
          "execution_count": 70
        }
      ]
    },
    {
      "cell_type": "code",
      "source": [
        "cars_series[2]"
      ],
      "metadata": {
        "colab": {
          "base_uri": "https://localhost:8080/"
        },
        "id": "EIDzfjmWYw3U",
        "outputId": "642de092-a179-4cf9-fea7-142daba2f1d6"
      },
      "execution_count": null,
      "outputs": [
        {
          "output_type": "execute_result",
          "data": {
            "text/plain": [
              "20000.0"
            ]
          },
          "metadata": {},
          "execution_count": 71
        }
      ]
    },
    {
      "cell_type": "code",
      "source": [
        "obj4 = Series([4, 5, 6, 7, 8], index=[4, 3, 2, 1, 0])\n",
        "obj4"
      ],
      "metadata": {
        "colab": {
          "base_uri": "https://localhost:8080/"
        },
        "id": "BnjHgKe_Y52b",
        "outputId": "4c7153d0-2b7c-41b1-f2c0-690bc07e3097"
      },
      "execution_count": null,
      "outputs": [
        {
          "output_type": "execute_result",
          "data": {
            "text/plain": [
              "4    4\n",
              "3    5\n",
              "2    6\n",
              "1    7\n",
              "0    8\n",
              "dtype: int64"
            ]
          },
          "metadata": {},
          "execution_count": 75
        }
      ]
    },
    {
      "cell_type": "code",
      "source": [
        "obj4[1] # == obj4.loc[1]"
      ],
      "metadata": {
        "colab": {
          "base_uri": "https://localhost:8080/"
        },
        "id": "NLfyTQJpZiT1",
        "outputId": "b8135568-6bd6-4b24-ed9b-a8d2e4ebe61d"
      },
      "execution_count": null,
      "outputs": [
        {
          "output_type": "execute_result",
          "data": {
            "text/plain": [
              "7"
            ]
          },
          "metadata": {},
          "execution_count": 86
        }
      ]
    },
    {
      "cell_type": "code",
      "source": [
        "obj4.iloc[1]"
      ],
      "metadata": {
        "colab": {
          "base_uri": "https://localhost:8080/"
        },
        "id": "W8lQ9yIaZlhT",
        "outputId": "ba7181de-c6a8-421e-8202-c244add16641"
      },
      "execution_count": null,
      "outputs": [
        {
          "output_type": "execute_result",
          "data": {
            "text/plain": [
              "5"
            ]
          },
          "metadata": {},
          "execution_count": 81
        }
      ]
    },
    {
      "cell_type": "code",
      "source": [
        "obj4.iloc[-1]"
      ],
      "metadata": {
        "colab": {
          "base_uri": "https://localhost:8080/"
        },
        "id": "Oyq9kps7Zn3B",
        "outputId": "6f0c18b2-8378-4c44-da62-ae6e5c1bf023"
      },
      "execution_count": null,
      "outputs": [
        {
          "output_type": "execute_result",
          "data": {
            "text/plain": [
              "8"
            ]
          },
          "metadata": {},
          "execution_count": 83
        }
      ]
    },
    {
      "cell_type": "code",
      "source": [
        "cars_series"
      ],
      "metadata": {
        "colab": {
          "base_uri": "https://localhost:8080/"
        },
        "id": "nVtugxkxaiaP",
        "outputId": "f9a7e8fb-8815-4ae3-e253-e7bd49fdb190"
      },
      "execution_count": null,
      "outputs": [
        {
          "output_type": "execute_result",
          "data": {
            "text/plain": [
              "Models\n",
              "Honda       38000.0\n",
              "Mazda       52000.0\n",
              "Lasetti     20000.0\n",
              "Jaguar          NaN\n",
              "Malibu       4000.0\n",
              "Toyota       4000.0\n",
              "BMW             NaN\n",
              "Mercedes        NaN\n",
              "Name: Avtosalon, dtype: float64"
            ]
          },
          "metadata": {},
          "execution_count": 87
        }
      ]
    },
    {
      "cell_type": "code",
      "source": [
        "cars_series.max() # Series ichidan Maks qiymat qaytaradi"
      ],
      "metadata": {
        "colab": {
          "base_uri": "https://localhost:8080/"
        },
        "id": "9fFx7dUqa1VF",
        "outputId": "79134dd9-85ec-4319-9303-d893e3c77a8d"
      },
      "execution_count": null,
      "outputs": [
        {
          "output_type": "execute_result",
          "data": {
            "text/plain": [
              "52000.0"
            ]
          },
          "metadata": {},
          "execution_count": 89
        }
      ]
    },
    {
      "cell_type": "code",
      "source": [
        "cars_series.min() # Series ichidan Min qiymat qaytaradi"
      ],
      "metadata": {
        "colab": {
          "base_uri": "https://localhost:8080/"
        },
        "id": "R-rTV6HHbEoW",
        "outputId": "531c3655-01fc-4df7-fdbf-00565b8ec7fc"
      },
      "execution_count": null,
      "outputs": [
        {
          "output_type": "execute_result",
          "data": {
            "text/plain": [
              "4000.0"
            ]
          },
          "metadata": {},
          "execution_count": 90
        }
      ]
    },
    {
      "cell_type": "code",
      "source": [
        "cars_series.mean() # Series ichidan Ortacha qiymati qaytaradi"
      ],
      "metadata": {
        "colab": {
          "base_uri": "https://localhost:8080/"
        },
        "id": "5JYC8IEnbPlZ",
        "outputId": "c4f04d4e-f453-466d-ef1a-42329119c985"
      },
      "execution_count": null,
      "outputs": [
        {
          "output_type": "execute_result",
          "data": {
            "text/plain": [
              "23600.0"
            ]
          },
          "metadata": {},
          "execution_count": 91
        }
      ]
    },
    {
      "cell_type": "code",
      "source": [
        "names = {'J': 'Jasur', 'I': 'Ikrom', 'H': 'Habib', 'A': 'Aziz'}\n",
        "names_series = Series(names)\n",
        "names_series"
      ],
      "metadata": {
        "colab": {
          "base_uri": "https://localhost:8080/"
        },
        "id": "ipfwnaTPbW3M",
        "outputId": "33f3ac76-d8b9-43a9-8613-9aa2b48407d7"
      },
      "execution_count": null,
      "outputs": [
        {
          "output_type": "execute_result",
          "data": {
            "text/plain": [
              "J    Jasur\n",
              "I    Ikrom\n",
              "H    Habib\n",
              "A     Aziz\n",
              "dtype: object"
            ]
          },
          "metadata": {},
          "execution_count": 93
        }
      ]
    },
    {
      "cell_type": "code",
      "source": [
        "names_series.dtype"
      ],
      "metadata": {
        "colab": {
          "base_uri": "https://localhost:8080/"
        },
        "id": "fkuKDnXGbvrp",
        "outputId": "045d8ba9-8490-4269-b62d-ec4b263aca07"
      },
      "execution_count": null,
      "outputs": [
        {
          "output_type": "execute_result",
          "data": {
            "text/plain": [
              "dtype('O')"
            ]
          },
          "metadata": {},
          "execution_count": 94
        }
      ]
    },
    {
      "cell_type": "code",
      "source": [
        "names_series.shape"
      ],
      "metadata": {
        "colab": {
          "base_uri": "https://localhost:8080/"
        },
        "id": "Tn4tlP8acKcx",
        "outputId": "c6b1ee25-e408-46a5-f363-d39a50a6eb6e"
      },
      "execution_count": null,
      "outputs": [
        {
          "output_type": "execute_result",
          "data": {
            "text/plain": [
              "(4,)"
            ]
          },
          "metadata": {},
          "execution_count": 95
        }
      ]
    },
    {
      "cell_type": "code",
      "source": [
        "names_series.size"
      ],
      "metadata": {
        "colab": {
          "base_uri": "https://localhost:8080/"
        },
        "id": "XxQaLsU9cR3J",
        "outputId": "5f5db064-ede3-4f1e-f6a3-836878886c32"
      },
      "execution_count": null,
      "outputs": [
        {
          "output_type": "execute_result",
          "data": {
            "text/plain": [
              "4"
            ]
          },
          "metadata": {},
          "execution_count": 96
        }
      ]
    },
    {
      "cell_type": "code",
      "source": [
        "names_series.ndim"
      ],
      "metadata": {
        "colab": {
          "base_uri": "https://localhost:8080/"
        },
        "id": "JTxGkO8BcTWW",
        "outputId": "d94e129c-9d83-43d8-850a-2347267453af"
      },
      "execution_count": null,
      "outputs": [
        {
          "output_type": "execute_result",
          "data": {
            "text/plain": [
              "1"
            ]
          },
          "metadata": {},
          "execution_count": 97
        }
      ]
    },
    {
      "cell_type": "code",
      "source": [
        "names_series2 = Series({'J': 'Jasur', 'I': 'Ikrom', 'H': 'Habib', 'L': 'Laziz'})\n",
        "names_series2"
      ],
      "metadata": {
        "colab": {
          "base_uri": "https://localhost:8080/"
        },
        "id": "bncAghd6cVug",
        "outputId": "89dac379-8cdd-41fd-e924-edb1d9bb817e"
      },
      "execution_count": null,
      "outputs": [
        {
          "output_type": "execute_result",
          "data": {
            "text/plain": [
              "J    Jasur\n",
              "I    Ikrom\n",
              "H    Habib\n",
              "L    Laziz\n",
              "dtype: object"
            ]
          },
          "metadata": {},
          "execution_count": 98
        }
      ]
    },
    {
      "cell_type": "code",
      "source": [
        "names_series2 + names_series"
      ],
      "metadata": {
        "colab": {
          "base_uri": "https://localhost:8080/"
        },
        "id": "1aWZAhrwdg8I",
        "outputId": "4498b998-dd46-414c-e3be-aba069dc6b49"
      },
      "execution_count": null,
      "outputs": [
        {
          "output_type": "execute_result",
          "data": {
            "text/plain": [
              "A           NaN\n",
              "H    HabibHabib\n",
              "I    IkromIkrom\n",
              "J    JasurJasur\n",
              "L           NaN\n",
              "dtype: object"
            ]
          },
          "metadata": {},
          "execution_count": 99
        }
      ]
    },
    {
      "cell_type": "code",
      "source": [],
      "metadata": {
        "id": "27orfQPfdjfH"
      },
      "execution_count": null,
      "outputs": []
    },
    {
      "cell_type": "code",
      "source": [],
      "metadata": {
        "id": "Y3J-PhAKdoKd"
      },
      "execution_count": null,
      "outputs": []
    }
  ]
}
