{
  "nbformat": 4,
  "nbformat_minor": 0,
  "metadata": {
    "colab": {
      "provenance": [],
      "authorship_tag": "ABX9TyNV+p4hUF1HlQP3Ptm7lvMA",
      "include_colab_link": true
    },
    "kernelspec": {
      "name": "python3",
      "display_name": "Python 3"
    },
    "language_info": {
      "name": "python"
    }
  },
  "cells": [
    {
      "cell_type": "markdown",
      "metadata": {
        "id": "view-in-github",
        "colab_type": "text"
      },
      "source": [
        "<a href=\"https://colab.research.google.com/github/jfcoderx/Data-Sciense/blob/main/10_Matemetik_va_Statistik_amallar.ipynb\" target=\"_parent\"><img src=\"https://colab.research.google.com/assets/colab-badge.svg\" alt=\"Open In Colab\"/></a>"
      ]
    },
    {
      "cell_type": "markdown",
      "source": [
        "## Massivga yo'naltirilgan dasturlash\n",
        "\n",
        "### Matematik va Statistik amallarni qo'llash\n",
        "\n"
      ],
      "metadata": {
        "id": "r3xZWeRQTE-U"
      }
    },
    {
      "cell_type": "markdown",
      "source": [
        "### Asosiy statistik metodlar\n",
        "\n",
        "**sum** - Arraydagi barcha elementlar yigindisi <br>\n",
        "**mean** - O'rtacha arifmetik qiymat <br>\n",
        "**std, var** - Standart og'ish va variatsiya <br>\n",
        "**min, max** - Minimum va Maksimum <br>\n",
        "**cumsum** - Yig'ilib boradigan yigindi (cumulative) <br>\n",
        "**cumprod** - Yig'ilib boradigan ko'paytma <br>"
      ],
      "metadata": {
        "id": "ycpj-7ZbTbsT"
      }
    },
    {
      "cell_type": "code",
      "execution_count": 1,
      "metadata": {
        "id": "8ewZsDXQS970"
      },
      "outputs": [],
      "source": [
        "import numpy as np"
      ]
    },
    {
      "cell_type": "code",
      "source": [
        "# data\n",
        "arr = np.random.randn(5, 4) # (5, 4) o'lchamli massiv\n",
        "arr"
      ],
      "metadata": {
        "colab": {
          "base_uri": "https://localhost:8080/"
        },
        "id": "QZamuHVeUTgv",
        "outputId": "abe8919e-534a-4e49-dc0d-5a35ed667055"
      },
      "execution_count": 3,
      "outputs": [
        {
          "output_type": "execute_result",
          "data": {
            "text/plain": [
              "array([[ 1.54887189, -1.02957235, -0.3761213 , -0.14280922],\n",
              "       [ 0.61144131,  1.02822001, -0.23600979,  1.08151442],\n",
              "       [ 1.59284688,  1.64569734,  1.36365157, -0.16787738],\n",
              "       [-0.35715572,  2.14965551, -1.47605998, -0.58187923],\n",
              "       [ 0.49088853, -0.33212645, -0.35700349,  0.90164053]])"
            ]
          },
          "metadata": {},
          "execution_count": 3
        }
      ]
    },
    {
      "cell_type": "markdown",
      "source": [
        "SUM metodi barcha elementlarning yigindisini hisoblaydi"
      ],
      "metadata": {
        "id": "eF8v4AmMUfwx"
      }
    },
    {
      "cell_type": "code",
      "source": [
        "arr.sum()"
      ],
      "metadata": {
        "colab": {
          "base_uri": "https://localhost:8080/"
        },
        "id": "LO_aPljLUW7h",
        "outputId": "e494f055-e6e9-4b79-fce4-73e12d22cf05"
      },
      "execution_count": 7,
      "outputs": [
        {
          "output_type": "execute_result",
          "data": {
            "text/plain": [
              "7.3578130680942895"
            ]
          },
          "metadata": {},
          "execution_count": 7
        }
      ]
    },
    {
      "cell_type": "code",
      "source": [
        "np.sum(arr)"
      ],
      "metadata": {
        "colab": {
          "base_uri": "https://localhost:8080/"
        },
        "id": "vGWryQ0vUxcm",
        "outputId": "97e931a4-0ded-4383-f2b8-a2360a7e5ea7"
      },
      "execution_count": 8,
      "outputs": [
        {
          "output_type": "execute_result",
          "data": {
            "text/plain": [
              "7.3578130680942895"
            ]
          },
          "metadata": {},
          "execution_count": 8
        }
      ]
    },
    {
      "cell_type": "markdown",
      "source": [
        "vertikal oqimiz nolchi oq edi axis0 <br>\n",
        "gorizontal oqimiz birinchi oq edi axis1 <br>"
      ],
      "metadata": {
        "id": "0Ik5LWYDVTPB"
      }
    },
    {
      "cell_type": "markdown",
      "source": [
        "Qatorlarni yigindisini topish kelganda demak axes1 oqidan foydalanamiz"
      ],
      "metadata": {
        "id": "ddroOtb-Vdkg"
      }
    },
    {
      "cell_type": "code",
      "source": [
        "arr.sum(axis=1) # gorizontal oqlardagi elementlar yigindisi (qatorlar yigindi)"
      ],
      "metadata": {
        "colab": {
          "base_uri": "https://localhost:8080/"
        },
        "id": "KsbSJZ92U9Jb",
        "outputId": "952b1843-b9cb-45ea-a271-9181acf0467e"
      },
      "execution_count": 11,
      "outputs": [
        {
          "output_type": "execute_result",
          "data": {
            "text/plain": [
              "array([ 3.69019611e-04,  2.48516594e+00,  4.43431840e+00, -2.65439421e-01,\n",
              "        7.03399128e-01])"
            ]
          },
          "metadata": {},
          "execution_count": 11
        }
      ]
    },
    {
      "cell_type": "markdown",
      "source": [
        "Ustunlar yigindisini topish kelganda demak axes0 oqidan foydalanamiz"
      ],
      "metadata": {
        "id": "v6T-_rPpV6-I"
      }
    },
    {
      "cell_type": "code",
      "source": [
        "arr.sum(axis=0) # vertikal oqlardagi elementlar yigindisi (ustunlar yigindi)"
      ],
      "metadata": {
        "colab": {
          "base_uri": "https://localhost:8080/"
        },
        "id": "KIpseDd-VuBd",
        "outputId": "94e4b39c-9719-43af-f753-3ffde5495f77"
      },
      "execution_count": 12,
      "outputs": [
        {
          "output_type": "execute_result",
          "data": {
            "text/plain": [
              "array([ 3.88689288,  3.46187406, -1.081543  ,  1.09058912])"
            ]
          },
          "metadata": {},
          "execution_count": 12
        }
      ]
    },
    {
      "cell_type": "markdown",
      "source": [
        "MEAN metodi <br>\n",
        "ortacha arifmetik qiymat, barcha elementlarining yigindisini osha elementlar soniga bolinmasi tushuniladi"
      ],
      "metadata": {
        "id": "pEqDK_DzWIDn"
      }
    },
    {
      "cell_type": "code",
      "source": [
        "data = np.arange(5)\n",
        "data"
      ],
      "metadata": {
        "colab": {
          "base_uri": "https://localhost:8080/"
        },
        "id": "tONOJSCFWArO",
        "outputId": "d6a5ff3d-6344-4a0a-eec0-07538d1de3c4"
      },
      "execution_count": 13,
      "outputs": [
        {
          "output_type": "execute_result",
          "data": {
            "text/plain": [
              "array([0, 1, 2, 3, 4])"
            ]
          },
          "metadata": {},
          "execution_count": 13
        }
      ]
    },
    {
      "cell_type": "code",
      "source": [
        "# oddiy arifmetika bilan barajaramiz\n",
        "np.sum(data) / len(data)"
      ],
      "metadata": {
        "colab": {
          "base_uri": "https://localhost:8080/"
        },
        "id": "l5rW9228WdQb",
        "outputId": "dfb6da8d-d3c2-4da0-93df-53e1b0903013"
      },
      "execution_count": 14,
      "outputs": [
        {
          "output_type": "execute_result",
          "data": {
            "text/plain": [
              "2.0"
            ]
          },
          "metadata": {},
          "execution_count": 14
        }
      ]
    },
    {
      "cell_type": "code",
      "source": [
        "# numpy kutubxonasi orqali\n",
        "data.mean()"
      ],
      "metadata": {
        "colab": {
          "base_uri": "https://localhost:8080/"
        },
        "id": "Wj1E1Ge8WrJo",
        "outputId": "51a781c4-8fb2-4f07-ecd3-e625d810f7ac"
      },
      "execution_count": 17,
      "outputs": [
        {
          "output_type": "execute_result",
          "data": {
            "text/plain": [
              "2.0"
            ]
          },
          "metadata": {},
          "execution_count": 17
        }
      ]
    },
    {
      "cell_type": "code",
      "source": [
        "np.mean(data)"
      ],
      "metadata": {
        "colab": {
          "base_uri": "https://localhost:8080/"
        },
        "id": "lj9Kqb4WWwha",
        "outputId": "2e162063-ad7c-406d-84cb-2e64279f070f"
      },
      "execution_count": 18,
      "outputs": [
        {
          "output_type": "execute_result",
          "data": {
            "text/plain": [
              "2.0"
            ]
          },
          "metadata": {},
          "execution_count": 18
        }
      ]
    },
    {
      "cell_type": "code",
      "source": [
        "arr"
      ],
      "metadata": {
        "colab": {
          "base_uri": "https://localhost:8080/"
        },
        "id": "3WkRObvuW4jq",
        "outputId": "eac3ee2e-5b9a-4293-efb7-94c269cec166"
      },
      "execution_count": 19,
      "outputs": [
        {
          "output_type": "execute_result",
          "data": {
            "text/plain": [
              "array([[ 1.54887189, -1.02957235, -0.3761213 , -0.14280922],\n",
              "       [ 0.61144131,  1.02822001, -0.23600979,  1.08151442],\n",
              "       [ 1.59284688,  1.64569734,  1.36365157, -0.16787738],\n",
              "       [-0.35715572,  2.14965551, -1.47605998, -0.58187923],\n",
              "       [ 0.49088853, -0.33212645, -0.35700349,  0.90164053]])"
            ]
          },
          "metadata": {},
          "execution_count": 19
        }
      ]
    },
    {
      "cell_type": "code",
      "source": [
        "np.mean(arr) # arr massimizdagi elementlarimizning ortacha qiymati ekan"
      ],
      "metadata": {
        "colab": {
          "base_uri": "https://localhost:8080/"
        },
        "id": "zMuMQT8lW7X5",
        "outputId": "94dba660-d85b-4ccb-8474-9d1ba23297d8"
      },
      "execution_count": 21,
      "outputs": [
        {
          "output_type": "execute_result",
          "data": {
            "text/plain": [
              "0.3678906534047145"
            ]
          },
          "metadata": {},
          "execution_count": 21
        }
      ]
    },
    {
      "cell_type": "code",
      "source": [
        "arr.mean(axis=1) # gorizontal oqlardagi elementlarning ortacha qiymati"
      ],
      "metadata": {
        "colab": {
          "base_uri": "https://localhost:8080/"
        },
        "id": "h-1gPJ-UW_0D",
        "outputId": "8d0ff89c-0584-4227-ee24-f9db2455288f"
      },
      "execution_count": 22,
      "outputs": [
        {
          "output_type": "execute_result",
          "data": {
            "text/plain": [
              "array([ 9.22549029e-05,  6.21291485e-01,  1.10857960e+00, -6.63598552e-02,\n",
              "        1.75849782e-01])"
            ]
          },
          "metadata": {},
          "execution_count": 22
        }
      ]
    },
    {
      "cell_type": "code",
      "source": [
        "np.mean(arr, axis=1) # gorizontal oqlardagi elementlarning ortacha qiymati (qator boyicha ort qiymat)"
      ],
      "metadata": {
        "colab": {
          "base_uri": "https://localhost:8080/"
        },
        "id": "iuGjj8GkXWty",
        "outputId": "00a078a3-8514-4f39-97ca-9ba21c158ac6"
      },
      "execution_count": 24,
      "outputs": [
        {
          "output_type": "execute_result",
          "data": {
            "text/plain": [
              "array([ 9.22549029e-05,  6.21291485e-01,  1.10857960e+00, -6.63598552e-02,\n",
              "        1.75849782e-01])"
            ]
          },
          "metadata": {},
          "execution_count": 24
        }
      ]
    },
    {
      "cell_type": "code",
      "source": [
        "arr.mean(axis=0) # vertikal oqlardagi elementlarning ortacha qiymati"
      ],
      "metadata": {
        "colab": {
          "base_uri": "https://localhost:8080/"
        },
        "id": "78LOjS0pXS8-",
        "outputId": "a9c485d7-73a5-4704-eba2-6a83b227250b"
      },
      "execution_count": 23,
      "outputs": [
        {
          "output_type": "execute_result",
          "data": {
            "text/plain": [
              "array([ 0.77737858,  0.69237481, -0.2163086 ,  0.21811782])"
            ]
          },
          "metadata": {},
          "execution_count": 23
        }
      ]
    },
    {
      "cell_type": "code",
      "source": [
        "np.mean(arr, axis=0) # vertikal oqlardagi elementlarning ortacha qiymati (ustun boyicha ort qiymat)"
      ],
      "metadata": {
        "colab": {
          "base_uri": "https://localhost:8080/"
        },
        "id": "tdW20rPrXkn7",
        "outputId": "9f694c0c-d098-40cf-fdb2-bb91cc3febb4"
      },
      "execution_count": 25,
      "outputs": [
        {
          "output_type": "execute_result",
          "data": {
            "text/plain": [
              "array([ 0.77737858,  0.69237481, -0.2163086 ,  0.21811782])"
            ]
          },
          "metadata": {},
          "execution_count": 25
        }
      ]
    },
    {
      "cell_type": "markdown",
      "source": [
        "CUMSUM metodi <br>\n",
        "Cumulative Sum <br>\n",
        "Barcha yigindilarni yigib boradigan metod"
      ],
      "metadata": {
        "id": "EZ8BtBc-YDC9"
      }
    },
    {
      "cell_type": "code",
      "source": [
        "data"
      ],
      "metadata": {
        "colab": {
          "base_uri": "https://localhost:8080/"
        },
        "id": "I8exQwNBXx2U",
        "outputId": "9476a31e-e28b-4173-9bd2-901bc5c50f72"
      },
      "execution_count": 26,
      "outputs": [
        {
          "output_type": "execute_result",
          "data": {
            "text/plain": [
              "array([0, 1, 2, 3, 4])"
            ]
          },
          "metadata": {},
          "execution_count": 26
        }
      ]
    },
    {
      "cell_type": "markdown",
      "source": [
        "Bunga CUMSUM metodini qollasak:<br>\n",
        "1-elementimiz 0, undan oldin element yoq shu uchun uning shu nuqtagacha yigindisi ozi bilan 0,<br>\n",
        "2-elementimiz 1, undan oldin element 0, shu uchun uning shu nuqtagacha yigindisi ozi bilan 1,<br>\n",
        "3-elementimiz 2, undan oldin element 0, 1, shu uchun uning shu nuqtagacha yigindisi ozi bilan 3,<br>\n",
        "4-elementimiz 3, undan oldin element 0, 1, 2, shu uchun uning shu nuqtagacha yigindisi ozi bilan 6,<br>\n",
        "4-elementimiz 4, undan oldin element 0, 1, 2, 3, shu uchun uning shu nuqtagacha yigindisi ozi bilan 10<br>"
      ],
      "metadata": {
        "id": "J_Yfk-c2YXve"
      }
    },
    {
      "cell_type": "code",
      "source": [
        "data.cumsum()"
      ],
      "metadata": {
        "colab": {
          "base_uri": "https://localhost:8080/"
        },
        "id": "yc1D2YH8YSqX",
        "outputId": "c6711242-bf9a-4c55-80b3-077b60866c44"
      },
      "execution_count": 27,
      "outputs": [
        {
          "output_type": "execute_result",
          "data": {
            "text/plain": [
              "array([ 0,  1,  3,  6, 10])"
            ]
          },
          "metadata": {},
          "execution_count": 27
        }
      ]
    },
    {
      "cell_type": "code",
      "source": [
        "np.cumsum(data)"
      ],
      "metadata": {
        "colab": {
          "base_uri": "https://localhost:8080/"
        },
        "id": "3Vki1uasZRnW",
        "outputId": "75b5dbc8-15a5-43b2-baea-22e977333481"
      },
      "execution_count": 28,
      "outputs": [
        {
          "output_type": "execute_result",
          "data": {
            "text/plain": [
              "array([ 0,  1,  3,  6, 10])"
            ]
          },
          "metadata": {},
          "execution_count": 28
        }
      ]
    },
    {
      "cell_type": "code",
      "source": [],
      "metadata": {
        "id": "rl2ilPmUZWcv"
      },
      "execution_count": null,
      "outputs": []
    }
  ]
}