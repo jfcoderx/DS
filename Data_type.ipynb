{
  "nbformat": 4,
  "nbformat_minor": 0,
  "metadata": {
    "colab": {
      "provenance": [],
      "authorship_tag": "ABX9TyOaWwSQJLeO8Kc2T7vagrIE",
      "include_colab_link": true
    },
    "kernelspec": {
      "name": "python3",
      "display_name": "Python 3"
    },
    "language_info": {
      "name": "python"
    }
  },
  "cells": [
    {
      "cell_type": "markdown",
      "metadata": {
        "id": "view-in-github",
        "colab_type": "text"
      },
      "source": [
        "<a href=\"https://colab.research.google.com/github/jfcoderx/Data-Sciense/blob/main/Data_type.ipynb\" target=\"_parent\"><img src=\"https://colab.research.google.com/assets/colab-badge.svg\" alt=\"Open In Colab\"/></a>"
      ]
    },
    {
      "cell_type": "markdown",
      "source": [
        "## Malumot Turlari\n",
        "Pythondagi malumot turlari kabi NumPy kutubxonasida ham malumotlar bor\n",
        "\n",
        "**bool** - Boolean (True / False) byte ko`rinishida saqlanadi <br>\n",
        "intc - C dasturlash tilining int malumot turi bilan bir xil (int32 yoki int64) <br>\n",
        "**int8** - byte (-128 dan 127 gacha) <br>\n",
        "**int16** - Integer (-32768 dan 32767 gacha) <br>\n",
        "**int32** - Integer (-2147483648 dan 2147483647 gacha) <br>\n",
        "**int64** - Integer (-9223372036854775808 dan 9223372036854775807 gacha) <br>\n",
        "**uint8** -  Unsigned (musbat) Integer(0 dan 255 gacha) <br>\n",
        "**uint16** - Unsigned (musbat) Integer(0 dan 65535 gacha) <br>\n",
        "**uint32** - Unsigned (musbat) Integer(0 dan 4294967295 gacha) <br>\n",
        "**uint64** - Unsigned (musbat) Integer(0 dan 18446744073709551615 gacha) <br>\n",
        "**float16** - Yarim aniqlikdagi float: sign (ishora) bit, 5bits exponent, 10bits mantissa <br>\n",
        "**float32** - Bir aniqlikdagi float: sign (ishora) bit, 8bits exponent, 23bits mantissa <br>\n",
        "**float64** - Ikki aniqlikdagi float: sign (ishora) bit, 11bits exponent, 52bits mantissa <br>\n",
        "**complex64** - Kompleks raqam, ikkita 32-bitlik floatlar yordamida tashkil topadi <br>\n",
        "**complex128** - Kompleks raqam, ikkita 64-bitlik floatlar yordamida tashkil topadi <br>\n",
        "**string** - ASCII string turi (bitta harakterga 1 byte) <br>"
      ],
      "metadata": {
        "id": "c-XXJQyqzWWv"
      }
    },
    {
      "cell_type": "markdown",
      "source": [
        "Numpy kutubxonasining malumot turlarin bunday bitlarga bo'lishini uning ustunligi sanaladi, bunday ajratilishining sababi, biz NumPy kutubxonasida malumotlar yaratganimizda yoki malumotlar ustida amallar bajarganimizda, shu malumotlarimizni xotiradan egallaydigan joylarini ustidan nazorat ornata olamiz <br>\n",
        "Tasavvur qiling sizning 1mln malumotingiz bor, har bir elementi butun sonlar, va ular (-32768 dan 32767) oraligida, bu holda siz int16 malumot turini belgilab ketadigan bo'lsangiz, siz xotiradan yaxshigina joyni tejab qolgan bo'lasiz\n",
        "<br>\n",
        "Siz NumPyda malumot yaratib uning aniq turini korsatmasangiz u int64 malumot turini defaul malumot turi sifatida qabul qiladi, bu esa xotirada koproq joy olib kelishi mumkin, agar sizning malumotingiz juda kop bolsa malumot turini aniq korsatish kerak, aksariyat hollarda NumPy ni oziga topshirilsa ham boladi"
      ],
      "metadata": {
        "id": "LMPBRBUczSK3"
      }
    },
    {
      "cell_type": "code",
      "execution_count": 1,
      "metadata": {
        "id": "IDgeM7XDzH5n"
      },
      "outputs": [],
      "source": [
        "import numpy as np"
      ]
    },
    {
      "cell_type": "markdown",
      "source": [
        "Massivlar yaratishda ma'lumot turini aniq kiritish, ma'lumot turlarini aniqlash, bir turdan ikkinchi turga ma'lumot turini o'girish <br>\n",
        "array() funksiyasi ichida DTYPE degan parametri ham qabul qiladi, aynan shunga malumot turini korsatib ketishimiz mumkin"
      ],
      "metadata": {
        "id": "DgLDZdWD6Z5r"
      }
    },
    {
      "cell_type": "code",
      "source": [
        "arr_float64 = np.array([1, 2, 3], dtype=np.float64) # float64 malumot turiga ega massiv, arrayni chop qilamiz, integer list kiritsak ham float massiv hosil qiladi\n",
        "arr_float64"
      ],
      "metadata": {
        "colab": {
          "base_uri": "https://localhost:8080/"
        },
        "id": "lYZUPuTA6Qh1",
        "outputId": "854f0816-9bb8-4ed8-c6e7-46bdf23f574f"
      },
      "execution_count": 3,
      "outputs": [
        {
          "output_type": "execute_result",
          "data": {
            "text/plain": [
              "array([1., 2., 3.])"
            ]
          },
          "metadata": {},
          "execution_count": 3
        }
      ]
    },
    {
      "cell_type": "code",
      "source": [
        "arr_int32 = np.array([1, 2, 3], dtype=np.int32) # int32 malumot turiga ega massiv\n",
        "arr_int32"
      ],
      "metadata": {
        "colab": {
          "base_uri": "https://localhost:8080/"
        },
        "id": "ORpYgK707NnN",
        "outputId": "96b3d9f4-9619-4d0c-9bf5-f6bbc8aaffbf"
      },
      "execution_count": 4,
      "outputs": [
        {
          "output_type": "execute_result",
          "data": {
            "text/plain": [
              "array([1, 2, 3], dtype=int32)"
            ]
          },
          "metadata": {},
          "execution_count": 4
        }
      ]
    },
    {
      "cell_type": "markdown",
      "source": [
        ".DTYPE orqali istalgan malumot turimizni tekshira olamiz"
      ],
      "metadata": {
        "id": "dVzPwA867zhP"
      }
    },
    {
      "cell_type": "code",
      "source": [
        "arr_float64.dtype"
      ],
      "metadata": {
        "colab": {
          "base_uri": "https://localhost:8080/"
        },
        "id": "6y-YwPg77oFr",
        "outputId": "5cf73509-bbe3-4d12-cb91-75616b45762e"
      },
      "execution_count": 5,
      "outputs": [
        {
          "output_type": "execute_result",
          "data": {
            "text/plain": [
              "dtype('float64')"
            ]
          },
          "metadata": {},
          "execution_count": 5
        }
      ]
    },
    {
      "cell_type": "markdown",
      "source": [
        "Bir turdagi malumot turidan boshqasiga o'tkazish"
      ],
      "metadata": {
        "id": "E470ZzqT8McO"
      }
    },
    {
      "cell_type": "code",
      "source": [
        "arr_int = np.array([1, 2, 3, 4]) # dtype korsatilmasa va int malumotlar kiritlgan bolsa avtomat int64 oladi\n",
        "arr_int.dtype"
      ],
      "metadata": {
        "colab": {
          "base_uri": "https://localhost:8080/"
        },
        "id": "58hizStk8BFD",
        "outputId": "7752e27a-3ef0-42c3-f938-3c62e84c19fc"
      },
      "execution_count": 7,
      "outputs": [
        {
          "output_type": "execute_result",
          "data": {
            "text/plain": [
              "dtype('int64')"
            ]
          },
          "metadata": {},
          "execution_count": 7
        }
      ]
    },
    {
      "cell_type": "markdown",
      "source": [
        "int64 malumot turimizni float64 ga o'girib ko'raylik <br>\n",
        "astype metodi orqali"
      ],
      "metadata": {
        "id": "WVyWSV1w8sNl"
      }
    },
    {
      "cell_type": "code",
      "source": [
        "arr_float = arr_int.astype(np.float64)\n",
        "arr_float"
      ],
      "metadata": {
        "colab": {
          "base_uri": "https://localhost:8080/"
        },
        "id": "Y4Lf_iPM8n4r",
        "outputId": "5def8408-6005-4fcd-c810-33d78e9d6953"
      },
      "execution_count": 8,
      "outputs": [
        {
          "output_type": "execute_result",
          "data": {
            "text/plain": [
              "array([1., 2., 3., 4.])"
            ]
          },
          "metadata": {},
          "execution_count": 8
        }
      ]
    },
    {
      "cell_type": "code",
      "source": [
        "arr_float32 = arr_int.astype(np.float32)\n",
        "arr_float32"
      ],
      "metadata": {
        "colab": {
          "base_uri": "https://localhost:8080/"
        },
        "id": "nxx23a559NYV",
        "outputId": "e5e9bd30-752a-46cd-9b43-21ed3585f1c2"
      },
      "execution_count": 9,
      "outputs": [
        {
          "output_type": "execute_result",
          "data": {
            "text/plain": [
              "array([1., 2., 3., 4.], dtype=float32)"
            ]
          },
          "metadata": {},
          "execution_count": 9
        }
      ]
    },
    {
      "cell_type": "markdown",
      "source": [
        "### ogohlik\n",
        "float malumot turidan integer malumot turiga o'tayoganimizda biror yuqotish bo'lishi mumkin"
      ],
      "metadata": {
        "id": "yonfw02y9aP1"
      }
    },
    {
      "cell_type": "code",
      "source": [
        "data_float = np.array([1.2, 3.9, 0.4, 7]) # defaul float64\n",
        "data_float"
      ],
      "metadata": {
        "colab": {
          "base_uri": "https://localhost:8080/"
        },
        "id": "6w4UV6xn9U_u",
        "outputId": "49ae145d-8e4e-4e87-aa07-2561986103e2"
      },
      "execution_count": 12,
      "outputs": [
        {
          "output_type": "execute_result",
          "data": {
            "text/plain": [
              "array([1.2, 3.9, 0.4, 7. ])"
            ]
          },
          "metadata": {},
          "execution_count": 12
        }
      ]
    },
    {
      "cell_type": "code",
      "source": [
        "data_int = data_float.astype(np.int64)\n",
        "data_int"
      ],
      "metadata": {
        "colab": {
          "base_uri": "https://localhost:8080/"
        },
        "id": "BJ2J_r2Q95_P",
        "outputId": "476778c7-6096-4bf0-be7c-b81bc6f2f447"
      },
      "execution_count": 13,
      "outputs": [
        {
          "output_type": "execute_result",
          "data": {
            "text/plain": [
              "array([1, 3, 0, 7])"
            ]
          },
          "metadata": {},
          "execution_count": 13
        }
      ]
    },
    {
      "cell_type": "markdown",
      "source": [
        "Demak floatdan integer ga otayogan floatning faqat butun qismini oladi, kasr qismini esa tashlab yuboradi"
      ],
      "metadata": {
        "id": "ExYMf77S-O_1"
      }
    }
  ]
}