{
 "cells": [
  {
   "cell_type": "markdown",
   "source": [
    "## NumPy Array\n",
    "\n",
    "Demak vektorlashgan hisoblashlar massivlar ustida amalga oshirilar ekan"
   ],
   "metadata": {
    "collapsed": false
   }
  },
  {
   "cell_type": "code",
   "execution_count": 1,
   "outputs": [],
   "source": [
    "import numpy as np"
   ],
   "metadata": {
    "collapsed": false
   }
  },
  {
   "cell_type": "markdown",
   "source": [
    "N o'lchamli massiv (array) larga ishlov berish\n",
    "\n",
    "NumPyda massiv yaratishning eng oson yo'llaridan biri ARRAY funksiyasi yordamida bajariladi.\n",
    "Bu funksiya har qanday turdagi ketma ket ma'lumotlarni qabul qilib, uni yangi NumPy ga ogirib beradi"
   ],
   "metadata": {
    "collapsed": false
   }
  }
 ],
 "metadata": {
  "kernelspec": {
   "display_name": "Python 3",
   "language": "python",
   "name": "python3"
  },
  "language_info": {
   "codemirror_mode": {
    "name": "ipython",
    "version": 2
   },
   "file_extension": ".py",
   "mimetype": "text/x-python",
   "name": "python",
   "nbconvert_exporter": "python",
   "pygments_lexer": "ipython2",
   "version": "2.7.6"
  }
 },
 "nbformat": 4,
 "nbformat_minor": 0
}
